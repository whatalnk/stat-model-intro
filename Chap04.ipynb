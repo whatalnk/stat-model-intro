{
 "cells": [
  {
   "cell_type": "markdown",
   "metadata": {},
   "source": [
    "# Chapter 4 GLMのモデル選択 ---AICのモデルの予測と良さ---"
   ]
  },
  {
   "cell_type": "code",
   "execution_count": 1,
   "metadata": {
    "collapsed": false
   },
   "outputs": [
    {
     "data": {
      "text/html": [
       "'Sun Oct 16 21:27:31 2016'"
      ],
      "text/latex": [
       "'Sun Oct 16 21:27:31 2016'"
      ],
      "text/markdown": [
       "'Sun Oct 16 21:27:31 2016'"
      ],
      "text/plain": [
       "[1] \"Sun Oct 16 21:27:31 2016\""
      ]
     },
     "metadata": {},
     "output_type": "display_data"
    }
   ],
   "source": [
    "date()"
   ]
  },
  {
   "cell_type": "markdown",
   "metadata": {},
   "source": [
    "## 4.1 データはひとつ，モデルはたくさん\n",
    "\n",
    "* 一定モデル（$k = 1$）\n",
    "* `f`モデル（$k = 2$）\n",
    "* `x`モデル（$k = 2$）\n",
    "* `x + f` モデル（$k = 3$）"
   ]
  },
  {
   "cell_type": "markdown",
   "metadata": {},
   "source": [
    "## 4.2 統計モデルの当てはまりの悪さ: 逸脱度\n",
    "\n",
    "* 対数尤度: $\\log L$\n",
    "* 最大対数尤度: $\\log L^\\ast$\n",
    "* 逸脱度 $D$\n",
    "\n",
    "$$ D = -2 \\log L^\\ast $$"
   ]
  },
  {
   "cell_type": "code",
   "execution_count": 2,
   "metadata": {
    "collapsed": false
   },
   "outputs": [
    {
     "name": "stderr",
     "output_type": "stream",
     "text": [
      "Loading required package: pipeR\n",
      "Warning message:\n",
      "“package ‘pipeR’ was built under R version 3.2.4”Loading required package: dplyr\n",
      "\n",
      "Attaching package: ‘dplyr’\n",
      "\n",
      " 以下のオブジェクトは ‘package:stats’ からマスクされています: \n",
      "\n",
      "     filter, lag \n",
      "\n",
      " 以下のオブジェクトは ‘package:base’ からマスクされています: \n",
      "\n",
      "     intersect, setdiff, setequal, union \n",
      "\n",
      "Loading required package: tidyr\n",
      "Loading required package: ggplot2\n",
      "Loading required package: readr\n"
     ]
    },
    {
     "data": {
      "text/html": [
       "<dl class=dl-horizontal>\n",
       "\t<dt>pipeR</dt>\n",
       "\t\t<dd>TRUE</dd>\n",
       "\t<dt>dplyr</dt>\n",
       "\t\t<dd>TRUE</dd>\n",
       "\t<dt>tidyr</dt>\n",
       "\t\t<dd>TRUE</dd>\n",
       "\t<dt>ggplot2</dt>\n",
       "\t\t<dd>TRUE</dd>\n",
       "\t<dt>readr</dt>\n",
       "\t\t<dd>TRUE</dd>\n",
       "</dl>\n"
      ],
      "text/latex": [
       "\\begin{description*}\n",
       "\\item[pipeR] TRUE\n",
       "\\item[dplyr] TRUE\n",
       "\\item[tidyr] TRUE\n",
       "\\item[ggplot2] TRUE\n",
       "\\item[readr] TRUE\n",
       "\\end{description*}\n"
      ],
      "text/markdown": [
       "pipeR\n",
       ":   TRUEdplyr\n",
       ":   TRUEtidyr\n",
       ":   TRUEggplot2\n",
       ":   TRUEreadr\n",
       ":   TRUE\n",
       "\n"
      ],
      "text/plain": [
       "  pipeR   dplyr   tidyr ggplot2   readr \n",
       "   TRUE    TRUE    TRUE    TRUE    TRUE "
      ]
     },
     "metadata": {},
     "output_type": "display_data"
    }
   ],
   "source": [
    "sapply(c(\"pipeR\", \"dplyr\", \"tidyr\", \"ggplot2\", \"readr\"), require, character.only = TRUE)"
   ]
  },
  {
   "cell_type": "code",
   "execution_count": 3,
   "metadata": {
    "collapsed": false
   },
   "outputs": [
    {
     "name": "stdout",
     "output_type": "stream",
     "text": [
      "Classes ‘tbl_df’, ‘tbl’ and 'data.frame':\t100 obs. of  3 variables:\n",
      " $ y: int  6 6 6 12 10 4 9 9 9 11 ...\n",
      " $ x: num  8.31 9.44 9.5 9.07 10.16 ...\n",
      " $ f: chr  \"C\" \"C\" \"C\" \"C\" ...\n"
     ]
    }
   ],
   "source": [
    "d <- read_csv(\"data/chap03/data3a.csv\")\n",
    "str(d)"
   ]
  },
  {
   "cell_type": "markdown",
   "metadata": {},
   "source": [
    "一定モデル"
   ]
  },
  {
   "cell_type": "code",
   "execution_count": 8,
   "metadata": {
    "collapsed": false
   },
   "outputs": [],
   "source": [
    "d %>>% mutate(f = factor(f)) -> d"
   ]
  },
  {
   "cell_type": "code",
   "execution_count": 9,
   "metadata": {
    "collapsed": false
   },
   "outputs": [
    {
     "data": {
      "text/plain": [
       "\n",
       "Call:  glm(formula = y ~ 1, family = \"poisson\", data = d)\n",
       "\n",
       "Coefficients:\n",
       "(Intercept)  \n",
       "      2.058  \n",
       "\n",
       "Degrees of Freedom: 99 Total (i.e. Null);  99 Residual\n",
       "Null Deviance:\t    89.51 \n",
       "Residual Deviance: 89.51 \tAIC: 477.3"
      ]
     },
     "metadata": {},
     "output_type": "display_data"
    }
   ],
   "source": [
    "glm(y ~ 1, data = d, family = \"poisson\")"
   ]
  },
  {
   "cell_type": "markdown",
   "metadata": {},
   "source": [
    "fモデル"
   ]
  },
  {
   "cell_type": "code",
   "execution_count": 10,
   "metadata": {
    "collapsed": false
   },
   "outputs": [
    {
     "data": {
      "text/plain": [
       "\n",
       "Call:  glm(formula = y ~ f, family = \"poisson\", data = d)\n",
       "\n",
       "Coefficients:\n",
       "(Intercept)           fT  \n",
       "    2.05156      0.01277  \n",
       "\n",
       "Degrees of Freedom: 99 Total (i.e. Null);  98 Residual\n",
       "Null Deviance:\t    89.51 \n",
       "Residual Deviance: 89.48 \tAIC: 479.3"
      ]
     },
     "metadata": {},
     "output_type": "display_data"
    }
   ],
   "source": [
    "glm(y ~ f, data = d, family = \"poisson\")"
   ]
  },
  {
   "cell_type": "markdown",
   "metadata": {},
   "source": [
    "xモデル"
   ]
  },
  {
   "cell_type": "code",
   "execution_count": 11,
   "metadata": {
    "collapsed": false
   },
   "outputs": [
    {
     "data": {
      "text/plain": [
       "\n",
       "Call:  glm(formula = y ~ x, family = \"poisson\", data = d)\n",
       "\n",
       "Coefficients:\n",
       "(Intercept)            x  \n",
       "    1.29172      0.07566  \n",
       "\n",
       "Degrees of Freedom: 99 Total (i.e. Null);  98 Residual\n",
       "Null Deviance:\t    89.51 \n",
       "Residual Deviance: 84.99 \tAIC: 474.8"
      ]
     },
     "metadata": {},
     "output_type": "display_data"
    }
   ],
   "source": [
    "glm(y ~ x, data = d, family = \"poisson\")"
   ]
  },
  {
   "cell_type": "markdown",
   "metadata": {},
   "source": [
    "x + fモデル"
   ]
  },
  {
   "cell_type": "code",
   "execution_count": 12,
   "metadata": {
    "collapsed": false
   },
   "outputs": [
    {
     "data": {
      "text/plain": [
       "\n",
       "Call:  glm(formula = y ~ x + f, family = \"poisson\", data = d)\n",
       "\n",
       "Coefficients:\n",
       "(Intercept)            x           fT  \n",
       "    1.26311      0.08007     -0.03200  \n",
       "\n",
       "Degrees of Freedom: 99 Total (i.e. Null);  97 Residual\n",
       "Null Deviance:\t    89.51 \n",
       "Residual Deviance: 84.81 \tAIC: 476.6"
      ]
     },
     "metadata": {},
     "output_type": "display_data"
    }
   ],
   "source": [
    "glm(y ~ x + f, data = d, family = \"poisson\")"
   ]
  },
  {
   "cell_type": "markdown",
   "metadata": {},
   "source": [
    "Residual Deviance は $D$ - 最小逸脱度（full model）\n",
    "\n",
    "full model の最大対数尤度$\\log L ^\\ast$は，"
   ]
  },
  {
   "cell_type": "code",
   "execution_count": 13,
   "metadata": {
    "collapsed": false
   },
   "outputs": [
    {
     "data": {
      "text/html": [
       "-192.889752524496"
      ],
      "text/latex": [
       "-192.889752524496"
      ],
      "text/markdown": [
       "-192.889752524496"
      ],
      "text/plain": [
       "[1] -192.8898"
      ]
     },
     "metadata": {},
     "output_type": "display_data"
    }
   ],
   "source": [
    "dpois(d$y, lambda = d$y) %>>% log %>>% sum"
   ]
  },
  {
   "cell_type": "markdown",
   "metadata": {},
   "source": [
    "なので，逸脱度$D$は，"
   ]
  },
  {
   "cell_type": "code",
   "execution_count": 14,
   "metadata": {
    "collapsed": false,
    "scrolled": true
   },
   "outputs": [
    {
     "data": {
      "text/html": [
       "385.779505048992"
      ],
      "text/latex": [
       "385.779505048992"
      ],
      "text/markdown": [
       "385.779505048992"
      ],
      "text/plain": [
       "[1] 385.7795"
      ]
     },
     "metadata": {},
     "output_type": "display_data"
    }
   ],
   "source": [
    "dpois(d$y, lambda = d$y) %>>% log %>>% sum %>>% {(.) * (-2)} -> D.full\n",
    "D.full"
   ]
  },
  {
   "cell_type": "markdown",
   "metadata": {},
   "source": [
    "$D$ - D.full = Resid. Dev. "
   ]
  },
  {
   "cell_type": "code",
   "execution_count": 16,
   "metadata": {
    "collapsed": false
   },
   "outputs": [
    {
     "data": {
      "text/plain": [
       "'log Lik.' -237.6432 (df=1)"
      ]
     },
     "metadata": {},
     "output_type": "display_data"
    }
   ],
   "source": [
    "glm(y ~ 1, data = d, family = \"poisson\") -> fit.c\n",
    "logLik(fit.c)"
   ]
  },
  {
   "cell_type": "code",
   "execution_count": 17,
   "metadata": {
    "collapsed": false
   },
   "outputs": [
    {
     "data": {
      "text/html": [
       "89.506894951008"
      ],
      "text/latex": [
       "89.506894951008"
      ],
      "text/markdown": [
       "89.506894951008"
      ],
      "text/plain": [
       "[1] 89.50689"
      ]
     },
     "metadata": {},
     "output_type": "display_data"
    }
   ],
   "source": [
    "-2 * -237.6432 - D.full"
   ]
  },
  {
   "cell_type": "code",
   "execution_count": 19,
   "metadata": {
    "collapsed": false
   },
   "outputs": [
    {
     "data": {
      "text/html": [
       "89.5069375695814"
      ],
      "text/latex": [
       "89.5069375695814"
      ],
      "text/markdown": [
       "89.5069375695814"
      ],
      "text/plain": [
       "[1] 89.50694"
      ]
     },
     "metadata": {},
     "output_type": "display_data"
    }
   ],
   "source": [
    "fit.c$deviance"
   ]
  },
  {
   "cell_type": "markdown",
   "metadata": {},
   "source": [
    "## 4.3 モデル選択基準 AIC\n",
    "\n",
    "* 予測の良さを重視する\n",
    "* AIC最小が良いモデル\n",
    "\n",
    "$$ \n",
    "\\begin{eqnarray} \n",
    "    \\mathrm{AIC} &=& -2 \\{ \\text{（最大対数尤度）} - \\text{（最尤推定したパラメータ数）}\\} \\\\\n",
    "     &=& -2 (\\log L^\\ast - k) \\\\\n",
    "     &=& D + 2 k\n",
    "\\end{eqnarray}\n",
    "$$\n"
   ]
  },
  {
   "cell_type": "markdown",
   "metadata": {},
   "source": [
    "## 4.4 AICを説明するためのまた別の例題"
   ]
  },
  {
   "cell_type": "markdown",
   "metadata": {},
   "source": [
    "## 4.5 なぜAICでモデル選択してよいのか"
   ]
  },
  {
   "cell_type": "markdown",
   "metadata": {},
   "source": [
    "### 4.5.1 統計モデルの予測の良さ: 平均対数尤度"
   ]
  },
  {
   "cell_type": "markdown",
   "metadata": {},
   "source": [
    "### 4.5.2 最大対数尤度のバイアス補正"
   ]
  },
  {
   "cell_type": "markdown",
   "metadata": {},
   "source": [
    "### 4.5.3 ネストしているGLM間のAIC比較"
   ]
  },
  {
   "cell_type": "markdown",
   "metadata": {},
   "source": [
    "## 4.6 まとめと参考文献"
   ]
  },
  {
   "cell_type": "code",
   "execution_count": 21,
   "metadata": {
    "collapsed": false
   },
   "outputs": [
    {
     "data": {
      "text/html": [
       "<ol class=list-inline>\n",
       "\t<li>'d'</li>\n",
       "\t<li>'D.full'</li>\n",
       "\t<li>'fit.c'</li>\n",
       "</ol>\n"
      ],
      "text/latex": [
       "\\begin{enumerate*}\n",
       "\\item 'd'\n",
       "\\item 'D.full'\n",
       "\\item 'fit.c'\n",
       "\\end{enumerate*}\n"
      ],
      "text/markdown": [
       "1. 'd'\n",
       "2. 'D.full'\n",
       "3. 'fit.c'\n",
       "\n",
       "\n"
      ],
      "text/plain": [
       "[1] \"d\"      \"D.full\" \"fit.c\" "
      ]
     },
     "metadata": {},
     "output_type": "display_data"
    }
   ],
   "source": [
    "ls()"
   ]
  },
  {
   "cell_type": "code",
   "execution_count": 23,
   "metadata": {
    "collapsed": false
   },
   "outputs": [
    {
     "data": {
      "text/html": [
       "<ol class=list-inline>\n",
       "\t<li>'m.data'</li>\n",
       "\t<li>'m.mle'</li>\n",
       "\t<li>'v.ll'</li>\n",
       "\t<li>'v.mean.mle'</li>\n",
       "\t<li>'v.mle'</li>\n",
       "</ol>\n"
      ],
      "text/latex": [
       "\\begin{enumerate*}\n",
       "\\item 'm.data'\n",
       "\\item 'm.mle'\n",
       "\\item 'v.ll'\n",
       "\\item 'v.mean.mle'\n",
       "\\item 'v.mle'\n",
       "\\end{enumerate*}\n"
      ],
      "text/markdown": [
       "1. 'm.data'\n",
       "2. 'm.mle'\n",
       "3. 'v.ll'\n",
       "4. 'v.mean.mle'\n",
       "5. 'v.mle'\n",
       "\n",
       "\n"
      ],
      "text/plain": [
       "[1] \"m.data\"     \"m.mle\"      \"v.ll\"       \"v.mean.mle\" \"v.mle\"     "
      ]
     },
     "metadata": {},
     "output_type": "display_data"
    }
   ],
   "source": [
    "load(\"data/chap04/data.RData\", dum <- new.env())\n",
    "ls(dum)"
   ]
  },
  {
   "cell_type": "code",
   "execution_count": 33,
   "metadata": {
    "collapsed": false
   },
   "outputs": [
    {
     "name": "stdout",
     "output_type": "stream",
     "text": [
      " num [1:50, 1:200] 7 4 7 8 3 7 5 5 4 6 ...\n"
     ]
    }
   ],
   "source": [
    "dum$m.data %>>% str()"
   ]
  },
  {
   "cell_type": "code",
   "execution_count": 38,
   "metadata": {
    "collapsed": false
   },
   "outputs": [
    {
     "data": {
      "text/html": [
       "<ol class=list-inline>\n",
       "\t<li>7</li>\n",
       "\t<li>4</li>\n",
       "\t<li>7</li>\n",
       "\t<li>8</li>\n",
       "\t<li>3</li>\n",
       "\t<li>7</li>\n",
       "\t<li>5</li>\n",
       "\t<li>5</li>\n",
       "\t<li>4</li>\n",
       "\t<li>6</li>\n",
       "\t<li>6</li>\n",
       "\t<li>9</li>\n",
       "\t<li>6</li>\n",
       "\t<li>5</li>\n",
       "\t<li>10</li>\n",
       "\t<li>9</li>\n",
       "\t<li>11</li>\n",
       "\t<li>5</li>\n",
       "\t<li>14</li>\n",
       "\t<li>8</li>\n",
       "\t<li>11</li>\n",
       "\t<li>10</li>\n",
       "\t<li>6</li>\n",
       "\t<li>5</li>\n",
       "\t<li>3</li>\n",
       "\t<li>6</li>\n",
       "\t<li>4</li>\n",
       "\t<li>7</li>\n",
       "\t<li>9</li>\n",
       "\t<li>8</li>\n",
       "\t<li>7</li>\n",
       "\t<li>7</li>\n",
       "\t<li>8</li>\n",
       "\t<li>2</li>\n",
       "\t<li>4</li>\n",
       "\t<li>8</li>\n",
       "\t<li>8</li>\n",
       "\t<li>4</li>\n",
       "\t<li>7</li>\n",
       "\t<li>12</li>\n",
       "\t<li>5</li>\n",
       "\t<li>9</li>\n",
       "\t<li>8</li>\n",
       "\t<li>5</li>\n",
       "\t<li>7</li>\n",
       "\t<li>2</li>\n",
       "\t<li>5</li>\n",
       "\t<li>4</li>\n",
       "\t<li>10</li>\n",
       "\t<li>6</li>\n",
       "</ol>\n"
      ],
      "text/latex": [
       "\\begin{enumerate*}\n",
       "\\item 7\n",
       "\\item 4\n",
       "\\item 7\n",
       "\\item 8\n",
       "\\item 3\n",
       "\\item 7\n",
       "\\item 5\n",
       "\\item 5\n",
       "\\item 4\n",
       "\\item 6\n",
       "\\item 6\n",
       "\\item 9\n",
       "\\item 6\n",
       "\\item 5\n",
       "\\item 10\n",
       "\\item 9\n",
       "\\item 11\n",
       "\\item 5\n",
       "\\item 14\n",
       "\\item 8\n",
       "\\item 11\n",
       "\\item 10\n",
       "\\item 6\n",
       "\\item 5\n",
       "\\item 3\n",
       "\\item 6\n",
       "\\item 4\n",
       "\\item 7\n",
       "\\item 9\n",
       "\\item 8\n",
       "\\item 7\n",
       "\\item 7\n",
       "\\item 8\n",
       "\\item 2\n",
       "\\item 4\n",
       "\\item 8\n",
       "\\item 8\n",
       "\\item 4\n",
       "\\item 7\n",
       "\\item 12\n",
       "\\item 5\n",
       "\\item 9\n",
       "\\item 8\n",
       "\\item 5\n",
       "\\item 7\n",
       "\\item 2\n",
       "\\item 5\n",
       "\\item 4\n",
       "\\item 10\n",
       "\\item 6\n",
       "\\end{enumerate*}\n"
      ],
      "text/markdown": [
       "1. 7\n",
       "2. 4\n",
       "3. 7\n",
       "4. 8\n",
       "5. 3\n",
       "6. 7\n",
       "7. 5\n",
       "8. 5\n",
       "9. 4\n",
       "10. 6\n",
       "11. 6\n",
       "12. 9\n",
       "13. 6\n",
       "14. 5\n",
       "15. 10\n",
       "16. 9\n",
       "17. 11\n",
       "18. 5\n",
       "19. 14\n",
       "20. 8\n",
       "21. 11\n",
       "22. 10\n",
       "23. 6\n",
       "24. 5\n",
       "25. 3\n",
       "26. 6\n",
       "27. 4\n",
       "28. 7\n",
       "29. 9\n",
       "30. 8\n",
       "31. 7\n",
       "32. 7\n",
       "33. 8\n",
       "34. 2\n",
       "35. 4\n",
       "36. 8\n",
       "37. 8\n",
       "38. 4\n",
       "39. 7\n",
       "40. 12\n",
       "41. 5\n",
       "42. 9\n",
       "43. 8\n",
       "44. 5\n",
       "45. 7\n",
       "46. 2\n",
       "47. 5\n",
       "48. 4\n",
       "49. 10\n",
       "50. 6\n",
       "\n",
       "\n"
      ],
      "text/plain": [
       " [1]  7  4  7  8  3  7  5  5  4  6  6  9  6  5 10  9 11  5 14  8 11 10  6  5  3\n",
       "[26]  6  4  7  9  8  7  7  8  2  4  8  8  4  7 12  5  9  8  5  7  2  5  4 10  6"
      ]
     },
     "metadata": {},
     "output_type": "display_data"
    }
   ],
   "source": [
    "dum$m.data[,1]"
   ]
  },
  {
   "cell_type": "code",
   "execution_count": 39,
   "metadata": {
    "collapsed": false
   },
   "outputs": [
    {
     "name": "stderr",
     "output_type": "stream",
     "text": [
      "Session info -------------------------------------------------------------------\n",
      "Packages -----------------------------------------------------------------------\n"
     ]
    },
    {
     "data": {
      "text/plain": [
       " setting  value                       \n",
       " version  R version 3.2.3 (2015-12-10)\n",
       " system   x86_64, darwin13.4.0        \n",
       " ui       X11                         \n",
       " language (EN)                        \n",
       " collate  ja_JP.UTF-8                 \n",
       " tz       Asia/Tokyo                  \n",
       " date     2016-10-16                  \n",
       "\n",
       " package    * version    date       source                            \n",
       " assertthat   0.1        2013-12-06 CRAN (R 3.2.0)                    \n",
       " colorspace   1.2-6      2015-03-11 CRAN (R 3.2.0)                    \n",
       " crayon       1.3.2      2016-06-28 CRAN (R 3.2.5)                    \n",
       " DBI          0.4-1      2016-05-08 CRAN (R 3.2.5)                    \n",
       " devtools     1.12.0     2016-06-24 CRAN (R 3.2.5)                    \n",
       " digest       0.6.10     2016-08-02 CRAN (R 3.2.5)                    \n",
       " dplyr      * 0.4.3      2015-09-01 CRAN (R 3.2.0)                    \n",
       " evaluate     0.9        2016-04-29 CRAN (R 3.2.5)                    \n",
       " ggplot2    * 2.1.0.9001 2016-10-01 Github (hadley/ggplot2@feb3ffd)   \n",
       " gtable       0.2.0      2016-02-26 CRAN (R 3.2.3)                    \n",
       " IRdisplay    0.4.4      2016-08-02 CRAN (R 3.2.5)                    \n",
       " IRkernel     0.7        2016-09-22 Github (IRkernel/IRkernel@16ef3ed)\n",
       " jsonlite     1.1        2016-09-14 cran (@1.1)                       \n",
       " lazyeval     0.2.0      2016-06-12 cran (@0.2.0)                     \n",
       " magrittr     1.5        2014-11-22 CRAN (R 3.2.0)                    \n",
       " memoise      1.0.0      2016-01-29 CRAN (R 3.2.3)                    \n",
       " munsell      0.4.3      2016-02-13 CRAN (R 3.2.3)                    \n",
       " pbdZMQ       0.2-4      2016-09-22 CRAN (R 3.2.3)                    \n",
       " pipeR      * 0.6.1.3    2016-04-04 CRAN (R 3.2.4)                    \n",
       " plyr         1.8.4      2016-06-08 cran (@1.8.4)                     \n",
       " R6           2.1.2      2016-01-26 CRAN (R 3.2.3)                    \n",
       " Rcpp         0.12.7     2016-09-05 cran (@0.12.7)                    \n",
       " readr      * 0.2.2      2015-10-22 CRAN (R 3.2.0)                    \n",
       " repr         0.9        2016-07-24 CRAN (R 3.2.5)                    \n",
       " scales       0.4.0      2016-02-26 CRAN (R 3.2.3)                    \n",
       " stringi      1.0-1      2015-10-22 CRAN (R 3.2.0)                    \n",
       " stringr      1.0.0      2015-04-30 CRAN (R 3.2.0)                    \n",
       " tibble       1.2        2016-08-26 cran (@1.2)                       \n",
       " tidyr      * 0.4.1      2016-02-05 CRAN (R 3.2.3)                    \n",
       " uuid         0.1-2      2015-07-28 CRAN (R 3.2.0)                    \n",
       " withr        1.0.1      2016-02-04 CRAN (R 3.2.3)                    "
      ]
     },
     "metadata": {},
     "output_type": "display_data"
    }
   ],
   "source": [
    "devtools::session_info()"
   ]
  }
 ],
 "metadata": {
  "kernelspec": {
   "display_name": "R 3.2",
   "language": "R",
   "name": "ir32"
  },
  "language_info": {
   "codemirror_mode": "r",
   "file_extension": ".r",
   "mimetype": "text/x-r-source",
   "name": "R",
   "pygments_lexer": "r",
   "version": "3.2.3"
  }
 },
 "nbformat": 4,
 "nbformat_minor": 1
}
