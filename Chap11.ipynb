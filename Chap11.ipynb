{
 "cells": [
  {
   "cell_type": "code",
   "execution_count": 2,
   "metadata": {
    "collapsed": false
   },
   "outputs": [
    {
     "data": {
      "text/html": [
       "'Mon Jan 09 16:59:25 2017'"
      ],
      "text/latex": [
       "'Mon Jan 09 16:59:25 2017'"
      ],
      "text/markdown": [
       "'Mon Jan 09 16:59:25 2017'"
      ],
      "text/plain": [
       "[1] \"Mon Jan 09 16:59:25 2017\""
      ]
     },
     "metadata": {},
     "output_type": "display_data"
    }
   ],
   "source": [
    "date()"
   ]
  },
  {
   "cell_type": "code",
   "execution_count": 3,
   "metadata": {
    "collapsed": false
   },
   "outputs": [
    {
     "name": "stderr",
     "output_type": "stream",
     "text": [
      "Loading required package: pipeR\n",
      "Loading required package: dplyr\n",
      "\n",
      "Attaching package: 'dplyr'\n",
      "\n",
      "The following objects are masked from 'package:stats':\n",
      "\n",
      "    filter, lag\n",
      "\n",
      "The following objects are masked from 'package:base':\n",
      "\n",
      "    intersect, setdiff, setequal, union\n",
      "\n",
      "Loading required package: tidyr\n",
      "Loading required package: purrr\n",
      "\n",
      "Attaching package: 'purrr'\n",
      "\n",
      "The following objects are masked from 'package:dplyr':\n",
      "\n",
      "    contains, order_by\n",
      "\n",
      "Loading required package: ggplot2\n",
      "Loading required package: readr\n"
     ]
    },
    {
     "data": {
      "text/html": [
       "<dl class=dl-horizontal>\n",
       "\t<dt>pipeR</dt>\n",
       "\t\t<dd>TRUE</dd>\n",
       "\t<dt>dplyr</dt>\n",
       "\t\t<dd>TRUE</dd>\n",
       "\t<dt>tidyr</dt>\n",
       "\t\t<dd>TRUE</dd>\n",
       "\t<dt>purrr</dt>\n",
       "\t\t<dd>TRUE</dd>\n",
       "\t<dt>ggplot2</dt>\n",
       "\t\t<dd>TRUE</dd>\n",
       "\t<dt>readr</dt>\n",
       "\t\t<dd>TRUE</dd>\n",
       "</dl>\n"
      ],
      "text/latex": [
       "\\begin{description*}\n",
       "\\item[pipeR] TRUE\n",
       "\\item[dplyr] TRUE\n",
       "\\item[tidyr] TRUE\n",
       "\\item[purrr] TRUE\n",
       "\\item[ggplot2] TRUE\n",
       "\\item[readr] TRUE\n",
       "\\end{description*}\n"
      ],
      "text/markdown": [
       "pipeR\n",
       ":   TRUEdplyr\n",
       ":   TRUEtidyr\n",
       ":   TRUEpurrr\n",
       ":   TRUEggplot2\n",
       ":   TRUEreadr\n",
       ":   TRUE\n",
       "\n"
      ],
      "text/plain": [
       "  pipeR   dplyr   tidyr   purrr ggplot2   readr \n",
       "   TRUE    TRUE    TRUE    TRUE    TRUE    TRUE "
      ]
     },
     "metadata": {},
     "output_type": "display_data"
    }
   ],
   "source": [
    "sapply(c(\"pipeR\", \"dplyr\", \"tidyr\", \"purrr\", \"ggplot2\", \"readr\"), require, character.only= TRUE)"
   ]
  },
  {
   "cell_type": "markdown",
   "metadata": {},
   "source": [
    "# 11章 空間構造のある階層ベイズモデル\n",
    "\n",
    "空間相関\n",
    "\n",
    "* 個体差は独立ではない\n",
    "* 空間上の配置の影響を受ける\n",
    "* 近いところとは似ていて，離れると似ていない"
   ]
  },
  {
   "cell_type": "markdown",
   "metadata": {},
   "source": [
    "## 11.1 例題: 一次元空間上の個体数分布\n",
    "\n",
    "* 調査区画: 50個\n",
    "* とある植物の区画ごとの個体数を数えた\n",
    "* **局所密度** に類似性がある"
   ]
  },
  {
   "cell_type": "code",
   "execution_count": 4,
   "metadata": {
    "collapsed": false
   },
   "outputs": [
    {
     "data": {
      "text/plain": [
       "m :  Named num [1:50] 2.15 3.25 4.63 6.23 7.99 ...\n",
       "Y :  num [1:50] 0 3 2 5 6 16 8 14 11 10 ..."
      ]
     },
     "metadata": {},
     "output_type": "display_data"
    }
   ],
   "source": [
    "load(\"data/chap11/Y.RData\")\n",
    "ls.str()"
   ]
  },
  {
   "cell_type": "code",
   "execution_count": 5,
   "metadata": {
    "collapsed": true
   },
   "outputs": [],
   "source": [
    "options(repr.plot.width = 4,repr.plot.height = 3)"
   ]
  },
  {
   "cell_type": "code",
   "execution_count": 28,
   "metadata": {
    "collapsed": false
   },
   "outputs": [
    {
     "data": {},
     "metadata": {},
     "output_type": "display_data"
    },
    {
     "data": {
      "image/png": "[encoded data removed]",
      "text/plain": [
       "plot without title"
      ]
     },
     "metadata": {},
     "output_type": "display_data"
    }
   ],
   "source": [
    "# Fig. 11.2\n",
    "data_frame(j = seq_along(Y), y = Y) %>>% \n",
    "    ggplot(aes(x = j, y = y)) + \n",
    "    geom_point(shape = 21)+ \n",
    "    theme_bw() +\n",
    "    theme(panel.grid = element_blank()) + \n",
    "    xlab(expression(\"Position \"*italic(\"j\"))) + \n",
    "    ylab(expression(\"Number of individuals  \"*italic(\"y\")[italic(\"j\")])) + \n",
    "    ylim(c(0, 25))"
   ]
  },
  {
   "cell_type": "markdown",
   "metadata": {},
   "source": [
    "## 11.2 階層ベイズモデルに空間構造をくみこむ"
   ]
  },
  {
   "cell_type": "markdown",
   "metadata": {},
   "source": [
    "個体数 $y_j$ がすべての区画で共通の平均値 $\\lambda$ のポアソン分布に従うとする．\n",
    "\n",
    "$$ p(y_j \\mid \\lambda) = \\frac{\\lambda^{y_j}\\exp(-\\lambda)}{y_j!} $$\n",
    "\n",
    "標本平均は，"
   ]
  },
  {
   "cell_type": "code",
   "execution_count": 37,
   "metadata": {
    "collapsed": false
   },
   "outputs": [
    {
     "data": {
      "text/html": [
       "10.88"
      ],
      "text/latex": [
       "10.88"
      ],
      "text/markdown": [
       "10.88"
      ],
      "text/plain": [
       "[1] 10.88"
      ]
     },
     "metadata": {},
     "output_type": "display_data"
    }
   ],
   "source": [
    "mean(Y)"
   ]
  },
  {
   "cell_type": "markdown",
   "metadata": {},
   "source": [
    "10.9 ぐらいなので，分散も同じぐらいになるはずだが，標本分散は，"
   ]
  },
  {
   "cell_type": "code",
   "execution_count": 38,
   "metadata": {
    "collapsed": false
   },
   "outputs": [
    {
     "data": {
      "text/html": [
       "27.3730612244898"
      ],
      "text/latex": [
       "27.3730612244898"
      ],
      "text/markdown": [
       "27.3730612244898"
      ],
      "text/plain": [
       "[1] 27.37306"
      ]
     },
     "metadata": {},
     "output_type": "display_data"
    }
   ],
   "source": [
    "var(Y)"
   ]
  },
  {
   "cell_type": "markdown",
   "metadata": {},
   "source": [
    "27.4 ぐらいなので，過分散が生じている．\n",
    "\n",
    "図 11.2 を見ると，個体数 $y_j$ は位置によって変化しているように見える．\n",
    "\n",
    "区画ごとに異なる $\\lambda_j$ をもつとする．\n",
    "平均個体数 $\\lambda_j$ を線形予測子と対数リンク関数を用いて，以下のようにあらわす．\n",
    "\n",
    "$$\\log \\lambda_j =\\beta + r_j$$\n",
    "\n",
    "ここで，\n",
    "\n",
    "* $\\beta$ は切片で大域的なパラメータ => 無情報事前分布\n",
    "* $r_j$ は場所差で局所的なパラメータ => 階層事前分布"
   ]
  },
  {
   "cell_type": "markdown",
   "metadata": {},
   "source": [
    "### 11.2.1 空間構造のない階層事前分布"
   ]
  },
  {
   "cell_type": "markdown",
   "metadata": {},
   "source": [
    "場所差 $r_j$ の階層事前分布\n",
    "\n",
    "* 10章のようにすると，$r_j$ はどれも独立になる\n",
    "    * 平均0，標準偏差s の正規分布\n",
    "\n",
    "$$ p(r_j \\mid s) = \\frac{1}{\\sqrt{2 \\pi s^2}} \\exp \\left( -\\frac{r_j^2}{2s^2} \\right) $$\n",
    "\n",
    "* "
   ]
  },
  {
   "cell_type": "markdown",
   "metadata": {},
   "source": [
    "### 11.2.2 空間構造のある階層事前分布"
   ]
  },
  {
   "cell_type": "markdown",
   "metadata": {},
   "source": [
    "場所差$r_j$に制約を設ける\n",
    "\n",
    "1. 場所差は「近傍」区画の場所差にしか影響されない\n",
    "1. 区画$j$の近傍の個数 $n_j$ は有限個であり，どの区画が近傍であるかはあらかじめ設定する\n",
    "1. 近傍の直接の影響はどれも等しく，$1 / n_j$\n",
    "\n",
    "簡単のために，近傍数は2とする\n",
    "\n",
    "* 両隣の影響しか受けない\n",
    "* 両端については近傍数1\n",
    "\n",
    "$r_j$ の事前分布を以下のように設定する\n",
    "\n",
    "$$ p(r_j \\mid \\mu_j, s) = \\sqrt{\\frac{n_j}{2 \\pi s^2}} \\exp \\left\\{ -\\frac{(r_j - \\mu_j)^2}{2s^2 / n_j} \\right\\} $$\n",
    "\n",
    "ここで，平均 \n",
    "$\\mu_j$ は近傍の平均値に等しいとする\n",
    "\n",
    "$$ \\mu_j = \\frac{r_{j-1} + r_{j+1}}{2} $$\n",
    "\n",
    "* 両端では，$\\mu_1 = r_2$，$\\mu_{50} = r_49$\n",
    "* 標準偏差は $s / \\sqrt{n_j}$\n",
    "* $s$ はどこでも等しい "
   ]
  },
  {
   "cell_type": "markdown",
   "metadata": {},
   "source": [
    "条件つき自己回帰（Conditional Auto Regressive, CAR）モデル\n",
    "\n",
    "のなかでも\n",
    "\n",
    "**intristic Gaussian CAR** モデルという"
   ]
  },
  {
   "cell_type": "markdown",
   "metadata": {},
   "source": [
    "場所差 $\\{ r_j \\} = \\{ r_1, r_2, \\ldots, r_{50}\\}$ 全体の事前分布である同時分布は，以下のように書ける\n",
    "\n",
    "* $j \\sim j^\\prime$ は$j$と $j^\\prime$ が近傍であるようなすべての $\\{j, j^\\prime\\}$ の組み合わせ\n",
    "\n",
    "$$ p( \\{r_j \\} \\mid s) \\propto \\exp \\left\\{ -\\frac{1}{2s^2} \\sum\\limits_{j \\sim j^\\prime} (r_j - r_{j^\\prime})^2 \\right\\} $$\n",
    "\n",
    "この同時分布において，$r_j$を除くすべての$\\{ r_* \\}$ を定数とおくと，条件つき事前分布 $p(r_j \\mid \\mu_j, s)$ が得られる（Full Conditional 形式）．"
   ]
  },
  {
   "cell_type": "markdown",
   "metadata": {},
   "source": [
    "## 11.3 空間統計モデルをデータにあてはめる\n",
    "\n",
    "事前分布は，\n",
    "\n",
    "$$ p(\\beta, s, \\{ r_j \\} \\mid \\boldsymbol{Y}) \\propto p(\\{ r_j \\} \\mid s) p(s) p(\\beta) \\prod\\limits_j p(y_j \\mid \\lambda_j) $$\n",
    "\n",
    "* データ $y_j$ が得られる確率: 平均 $\\lambda_j = \\exp (\\beta + r_j)$ のポアソン分布\n",
    "    * $\\beta$の事前分布: 無情報事前分布（$p(\\beta)$）\n",
    "    * $r_j$ の事前分布: 空間構造を考慮した階層事前分布（同時分布$p(\\{ r_j \\} \\mid s)$）\n",
    "* 個々の$r_j$ の条件付事前分布: 平均 $\\mu_j$，標準偏差 $s/\\sqrt{n_j}$の正規分布 $p(r_j \\mid \\mu_j, s)$\n",
    "    * $s$ の事前分布: 無情報事前分布（$p(s)$）"
   ]
  },
  {
   "cell_type": "markdown",
   "metadata": {},
   "source": [
    "### WinBUGS を使う場合\n",
    "\n",
    "* `car.normal()` を使うと，Intristic Gaussian CAR モデルを扱える"
   ]
  },
  {
   "cell_type": "code",
   "execution_count": 41,
   "metadata": {
    "collapsed": false
   },
   "outputs": [
    {
     "name": "stdout",
     "output_type": "stream",
     "text": [
      "model\n",
      "{\n",
      "  for (j in 1:N.site) {\n",
      "    Y[j] ~ dpois(mean[j]) # ポアソン分布\n",
      "    log(mean[j]) <- beta + r[j] # （切片） + （場所差）\n",
      "  }\n",
      "  # 場所差 r[j] をCAR model で生成\n",
      "  # car.normal()\n",
      "  ## Adj[]: 隣接する場所の番号\n",
      "  ## Weights[]: Adj[] に対応する重み\n",
      "  ## Num[]: 隣接数 n_j\n",
      "  ## tau: 分散の逆数\n",
      "  r[1:N.site] ~ car.normal(Adj[], Weights[], Num[], tau)\n",
      "  beta ~ dnorm(0, 1.0E-4)\n",
      "  tau <- 1 / (s * s) # tau は分散の逆数\n",
      "  s ~ dunif(0, 1.0E+4)\n",
      "}\n",
      "\n"
     ]
    }
   ],
   "source": [
    "readLines(\"chap11-model.jags\", encoding = \"UTF-8\") %>>% cat(sep = \"\\n\")"
   ]
  },
  {
   "cell_type": "markdown",
   "metadata": {},
   "source": [
    "### JAGS を使う場合\n",
    "\n",
    "`car.normal()` はないので，別の表現に置き換える．\n",
    "\n",
    "時間・空間を含むベイズモデルは，いくつかの形式で表現できる\n",
    "\n",
    "（詳しくは\n",
    "\n",
    "> * 『岩波データサイエンス Vol.1』\n",
    "> * https://www.youtube.com/watch?v=M7rN6paP99g\n",
    "> * http://rion778.hatenablog.com/entry/2016/10/08/220358\n",
    "> * http://statmodeling.hatenablog.com/entry/markov-field-model\n",
    "> * http://ito-hi.blog.so-net.ne.jp/2015-02-15\n",
    "> * http://ito-hi.blog.so-net.ne.jp/2015-02-16\n",
    "> * 『StanとRでベイズ統計モデリング』\n",
    "\n",
    "などを参照．以降の説明は 『岩波データサイエンス Vol.1』 より）\n",
    "\n",
    "岩波データサイエンス Vol.1 では以下の4つが紹介されている．\n",
    "\n",
    "1. 状態空間モデル\n",
    "1. 条件つき分布\n",
    "1. マルコフ場モデル\n",
    "1. Full Conditional\n",
    "\n",
    "今回の\n",
    "\n",
    "$$ p(r_j \\mid r_{-j}) = \\sqrt{\\frac{n_j}{2 \\pi s^2}} \\exp \\left\\{-\\frac{n_j}{2s^2}\\left[ r_j - \\frac{1}{2}(r_{j-1} + r_{j+1}) \\right] \\right\\} $$\n",
    "\n",
    "は，各変数についてそれ以外のすべての変数を固定した条件つき分布であり，（4）Full Conditional な形式である\n",
    "\n",
    "これは，p.248の注釈9にある通り，有向非巡回グラフ（Directed acyclic graph，DAG）ではないので，JAGS で表現できない．\n",
    "\n",
    "Intristic CAR モデル は状態空間モデル の形式で表現することができるので，こちらの形式のものをJAGSで表現することを考える．"
   ]
  },
  {
   "cell_type": "markdown",
   "metadata": {},
   "source": [
    "#### 状態空間モデル\n",
    "\n",
    "ある隠れた状態 $\\{ x_i\\} = \\{x_1, x_2, \\ldots, x_i \\}$ から データ $\\{ y_i\\} = \\{y_1, y_2, \\ldots, y_i \\}$ が観測されるとする．\n",
    "\n",
    "$x_i$ に システム雑音 $\\eta_i$ が加わって $x_{i+1}$ に遷移し，$x_i$ から $y_i$ を観測する際には，観測雑音 $\\epsilon_i$ が加わるとすると，\n",
    "\n",
    "$$\n",
    "\\begin{align}\n",
    "x_{i+1} &= x_i + \\eta_i \\\\ \n",
    "y_i &=  x_i + \\epsilon_i\n",
    "\\end{align}\n",
    "$$\n",
    "\n",
    "となる．\n",
    "\n"
   ]
  },
  {
   "cell_type": "markdown",
   "metadata": {},
   "source": [
    "#### 条件つき分布\n",
    "\n",
    "（1）の状態空間モデルの形式を，\n",
    "状態間の移動をあらわす条件つき密度 $p(x_{i+1} \\mid x_i )$ と\n",
    "測定のときの誤差をあらわす条件つき密度 $p(y_i \\mid x_i)$\n",
    "で表現する．\n",
    "\n",
    "$$\n",
    "\\begin{align}\n",
    "\\eta_i &= x_{i+1} - x_i \\\\ \n",
    "\\epsilon_i &= y_i - x_i\n",
    "\\end{align}\n",
    "$$\n",
    "\n",
    "なので，\n",
    "\n",
    "$$ p(x_{i+1} \\mid x_i ) = \\frac{1}{\\sqrt{2 \\pi s^2}} \\exp \\left( -\\frac{1}{2 s^2} (x_{i+1} - x_i)^2 \\right)$$\n",
    "$$ p(y_i \\mid x_i) = \\frac{1}{\\sqrt{2 \\pi \\sigma^2}} \\exp \\left( -\\frac{1}{2 \\sigma^2} (y_{i} - x_i)^2 \\right) $$\n",
    "\n",
    "また，初期値 $x_1$ の事前密度 $p(x_1)$を，平均0，分散$r^2$の正規分布とし，$s^2$，$\\sigma^2$の事前密度を $p(s^2)$，$p(\\sigma^2)$ とすると，ベイズモデルを定義する同時密度は，次のようになる．\n",
    "\n",
    "$$ p(\\{y_i\\}, \\{x_i\\}, s^2, \\sigma^2) = p(s^2) p(\\sigma^2)p(x_1) \\prod\\limits^{N}_{i=1}p(y_i \\mid x_i)  \\prod\\limits^{N-1}_{i=1}p(x_{i+1} \\mid x_i) $$"
   ]
  },
  {
   "cell_type": "markdown",
   "metadata": {},
   "source": [
    "#### 今回の例題だと\n",
    "\n",
    "* 観測値 $y$ は平均$\\lambda$のポアソン分布に従う\n",
    "    * $\\lambda$ の対数が 状態 $r$ になる\n",
    "* 状態 $r$ は標準偏差 $s$ の正規分布にしたがってランダムウォークする"
   ]
  },
  {
   "cell_type": "code",
   "execution_count": 13,
   "metadata": {
    "collapsed": false
   },
   "outputs": [
    {
     "name": "stdout",
     "output_type": "stream",
     "text": [
      "model {\n",
      "  for (j in 1:N.site){\n",
      "    Y[j] ~ dpois(lambda[j])\n",
      "    lambda[j] <- exp(r[j])\n",
      "  }\n",
      "  for (j in 2:N.site){\n",
      "    r[j] ~ dnorm(r[j - 1], tau)\n",
      "  }\n",
      "  r[1] ~ dunif(0, 10)\n",
      "  tau <- 1 / (s * s)\n",
      "  s ~ dunif(0, 1.0E+4)\n",
      "}\n"
     ]
    }
   ],
   "source": [
    "readLines(\"chap11-model2.jags\", encoding = \"UTF-8\") %>>% cat(sep = \"\\n\")"
   ]
  },
  {
   "cell_type": "markdown",
   "metadata": {},
   "source": [
    "<img src=\"images/chap11/fig1.png\" width = 800></img>"
   ]
  },
  {
   "cell_type": "code",
   "execution_count": 7,
   "metadata": {
    "collapsed": false
   },
   "outputs": [
    {
     "name": "stderr",
     "output_type": "stream",
     "text": [
      "Loading required package: coda\n",
      "Linked to JAGS 4.2.0\n",
      "Loaded modules: basemod,bugs\n"
     ]
    }
   ],
   "source": [
    "library(rjags)"
   ]
  },
  {
   "cell_type": "code",
   "execution_count": 9,
   "metadata": {
    "collapsed": true
   },
   "outputs": [],
   "source": [
    "data.list2 <- list(\n",
    "    N.site = length(Y), \n",
    "    Y = Y\n",
    ")"
   ]
  },
  {
   "cell_type": "code",
   "execution_count": 10,
   "metadata": {
    "collapsed": false
   },
   "outputs": [
    {
     "data": {
      "text/html": [
       "<dl>\n",
       "\t<dt>$N.site</dt>\n",
       "\t\t<dd>50</dd>\n",
       "\t<dt>$Y</dt>\n",
       "\t\t<dd><ol class=list-inline>\n",
       "\t<li>0</li>\n",
       "\t<li>3</li>\n",
       "\t<li>2</li>\n",
       "\t<li>5</li>\n",
       "\t<li>6</li>\n",
       "\t<li>16</li>\n",
       "\t<li>8</li>\n",
       "\t<li>14</li>\n",
       "\t<li>11</li>\n",
       "\t<li>10</li>\n",
       "\t<li>17</li>\n",
       "\t<li>19</li>\n",
       "\t<li>14</li>\n",
       "\t<li>19</li>\n",
       "\t<li>19</li>\n",
       "\t<li>18</li>\n",
       "\t<li>15</li>\n",
       "\t<li>13</li>\n",
       "\t<li>13</li>\n",
       "\t<li>9</li>\n",
       "\t<li>11</li>\n",
       "\t<li>15</li>\n",
       "\t<li>18</li>\n",
       "\t<li>12</li>\n",
       "\t<li>11</li>\n",
       "\t<li>17</li>\n",
       "\t<li>14</li>\n",
       "\t<li>16</li>\n",
       "\t<li>15</li>\n",
       "\t<li>9</li>\n",
       "\t<li>6</li>\n",
       "\t<li>15</li>\n",
       "\t<li>10</li>\n",
       "\t<li>11</li>\n",
       "\t<li>14</li>\n",
       "\t<li>7</li>\n",
       "\t<li>14</li>\n",
       "\t<li>14</li>\n",
       "\t<li>13</li>\n",
       "\t<li>17</li>\n",
       "\t<li>8</li>\n",
       "\t<li>7</li>\n",
       "\t<li>10</li>\n",
       "\t<li>4</li>\n",
       "\t<li>5</li>\n",
       "\t<li>5</li>\n",
       "\t<li>7</li>\n",
       "\t<li>4</li>\n",
       "\t<li>3</li>\n",
       "\t<li>1</li>\n",
       "</ol>\n",
       "</dd>\n",
       "</dl>\n"
      ],
      "text/latex": [
       "\\begin{description}\n",
       "\\item[\\$N.site] 50\n",
       "\\item[\\$Y] \\begin{enumerate*}\n",
       "\\item 0\n",
       "\\item 3\n",
       "\\item 2\n",
       "\\item 5\n",
       "\\item 6\n",
       "\\item 16\n",
       "\\item 8\n",
       "\\item 14\n",
       "\\item 11\n",
       "\\item 10\n",
       "\\item 17\n",
       "\\item 19\n",
       "\\item 14\n",
       "\\item 19\n",
       "\\item 19\n",
       "\\item 18\n",
       "\\item 15\n",
       "\\item 13\n",
       "\\item 13\n",
       "\\item 9\n",
       "\\item 11\n",
       "\\item 15\n",
       "\\item 18\n",
       "\\item 12\n",
       "\\item 11\n",
       "\\item 17\n",
       "\\item 14\n",
       "\\item 16\n",
       "\\item 15\n",
       "\\item 9\n",
       "\\item 6\n",
       "\\item 15\n",
       "\\item 10\n",
       "\\item 11\n",
       "\\item 14\n",
       "\\item 7\n",
       "\\item 14\n",
       "\\item 14\n",
       "\\item 13\n",
       "\\item 17\n",
       "\\item 8\n",
       "\\item 7\n",
       "\\item 10\n",
       "\\item 4\n",
       "\\item 5\n",
       "\\item 5\n",
       "\\item 7\n",
       "\\item 4\n",
       "\\item 3\n",
       "\\item 1\n",
       "\\end{enumerate*}\n",
       "\n",
       "\\end{description}\n"
      ],
      "text/markdown": [
       "$N.site\n",
       ":   50\n",
       "$Y\n",
       ":   1. 0\n",
       "2. 3\n",
       "3. 2\n",
       "4. 5\n",
       "5. 6\n",
       "6. 16\n",
       "7. 8\n",
       "8. 14\n",
       "9. 11\n",
       "10. 10\n",
       "11. 17\n",
       "12. 19\n",
       "13. 14\n",
       "14. 19\n",
       "15. 19\n",
       "16. 18\n",
       "17. 15\n",
       "18. 13\n",
       "19. 13\n",
       "20. 9\n",
       "21. 11\n",
       "22. 15\n",
       "23. 18\n",
       "24. 12\n",
       "25. 11\n",
       "26. 17\n",
       "27. 14\n",
       "28. 16\n",
       "29. 15\n",
       "30. 9\n",
       "31. 6\n",
       "32. 15\n",
       "33. 10\n",
       "34. 11\n",
       "35. 14\n",
       "36. 7\n",
       "37. 14\n",
       "38. 14\n",
       "39. 13\n",
       "40. 17\n",
       "41. 8\n",
       "42. 7\n",
       "43. 10\n",
       "44. 4\n",
       "45. 5\n",
       "46. 5\n",
       "47. 7\n",
       "48. 4\n",
       "49. 3\n",
       "50. 1\n",
       "\n",
       "\n",
       "\n",
       "\n",
       "\n"
      ],
      "text/plain": [
       "$N.site\n",
       "[1] 50\n",
       "\n",
       "$Y\n",
       " [1]  0  3  2  5  6 16  8 14 11 10 17 19 14 19 19 18 15 13 13  9 11 15 18 12 11\n",
       "[26] 17 14 16 15  9  6 15 10 11 14  7 14 14 13 17  8  7 10  4  5  5  7  4  3  1\n"
      ]
     },
     "metadata": {},
     "output_type": "display_data"
    }
   ],
   "source": [
    "data.list2"
   ]
  },
  {
   "cell_type": "code",
   "execution_count": 14,
   "metadata": {
    "collapsed": false
   },
   "outputs": [
    {
     "name": "stdout",
     "output_type": "stream",
     "text": [
      "Compiling model graph\n",
      "   Resolving undeclared variables\n",
      "   Allocating nodes\n",
      "Graph information:\n",
      "   Observed stochastic nodes: 50\n",
      "   Unobserved stochastic nodes: 51\n",
      "   Total graph size: 159\n",
      "\n",
      "Initializing model\n",
      "\n"
     ]
    }
   ],
   "source": [
    "m2 <- jags.model(\n",
    "    file = \"chap11-model2.jags\", \n",
    "    data = data.list,\n",
    "    n.chain = 3, \n",
    "    n.adapt = 100\n",
    ")"
   ]
  },
  {
   "cell_type": "code",
   "execution_count": 17,
   "metadata": {
    "collapsed": false
   },
   "outputs": [],
   "source": [
    "post.jags2 <- coda.samples(m, variable.names = c(\"r\", \"s\"), n.iter = 10000, thin = 10)"
   ]
  },
  {
   "cell_type": "code",
   "execution_count": 18,
   "metadata": {
    "collapsed": true
   },
   "outputs": [],
   "source": [
    "saveRDS(post.jags2, file = \"chap11-post-jags2.rds\")"
   ]
  },
  {
   "cell_type": "code",
   "execution_count": null,
   "metadata": {
    "collapsed": true
   },
   "outputs": [],
   "source": [
    "post.jags2 <- readRDS(file = \"chap11-post-jags2.rds\")"
   ]
  },
  {
   "cell_type": "code",
   "execution_count": 19,
   "metadata": {
    "collapsed": false,
    "scrolled": true
   },
   "outputs": [
    {
     "data": {
      "text/plain": [
       "\n",
       "Iterations = 110:10100\n",
       "Thinning interval = 10 \n",
       "Number of chains = 3 \n",
       "Sample size per chain = 1000 \n",
       "\n",
       "1. Empirical mean and standard deviation for each variable,\n",
       "   plus standard error of the mean:\n",
       "\n",
       "        Mean       SD Naive SE Time-series SE\n",
       "r[1]   1.042   0.3678 0.006716       0.008567\n",
       "r[2]   1.190   0.3141 0.005735       0.006963\n",
       "r[3]   1.360   0.2878 0.005255       0.006663\n",
       "r[4]   1.646   0.2374 0.004335       0.004539\n",
       "r[5]   1.934   0.2144 0.003915       0.004059\n",
       "r[6]   2.287   0.2036 0.003717       0.004316\n",
       "r[7]   2.299   0.1860 0.003397       0.003398\n",
       "r[8]   2.443   0.1848 0.003374       0.003581\n",
       "r[9]   2.455   0.1813 0.003309       0.003389\n",
       "r[10]  2.505   0.1763 0.003219       0.003280\n",
       "r[11]  2.701   0.1675 0.003059       0.002985\n",
       "r[12]  2.798   0.1642 0.002998       0.003046\n",
       "r[13]  2.766   0.1610 0.002939       0.002964\n",
       "r[14]  2.850   0.1592 0.002907       0.002908\n",
       "r[15]  2.869   0.1570 0.002866       0.003029\n",
       "r[16]  2.814   0.1585 0.002893       0.003120\n",
       "r[17]  2.705   0.1640 0.002994       0.003082\n",
       "r[18]  2.595   0.1715 0.003132       0.002979\n",
       "r[19]  2.530   0.1740 0.003177       0.003149\n",
       "r[20]  2.439   0.1865 0.003405       0.003404\n",
       "r[21]  2.495   0.1733 0.003163       0.003164\n",
       "r[22]  2.619   0.1673 0.003055       0.003055\n",
       "r[23]  2.687   0.1703 0.003110       0.003316\n",
       "r[24]  2.585   0.1714 0.003129       0.003234\n",
       "r[25]  2.565   0.1763 0.003220       0.003431\n",
       "r[26]  2.676   0.1647 0.003007       0.003007\n",
       "r[27]  2.648   0.1695 0.003094       0.003098\n",
       "r[28]  2.646   0.1728 0.003155       0.003227\n",
       "r[29]  2.561   0.1761 0.003215       0.003151\n",
       "r[30]  2.376   0.1825 0.003332       0.003461\n",
       "r[31]  2.292   0.1964 0.003585       0.004414\n",
       "r[32]  2.441   0.1788 0.003265       0.003262\n",
       "r[33]  2.397   0.1757 0.003207       0.003206\n",
       "r[34]  2.418   0.1808 0.003300       0.003424\n",
       "r[35]  2.458   0.1774 0.003240       0.003034\n",
       "r[36]  2.367   0.1884 0.003440       0.003614\n",
       "r[37]  2.501   0.1759 0.003211       0.003363\n",
       "r[38]  2.543   0.1737 0.003172       0.002924\n",
       "r[39]  2.529   0.1735 0.003168       0.003244\n",
       "r[40]  2.514   0.1842 0.003364       0.003495\n",
       "r[41]  2.252   0.1905 0.003479       0.003479\n",
       "r[42]  2.095   0.1961 0.003581       0.003579\n",
       "r[43]  2.012   0.2065 0.003770       0.003845\n",
       "r[44]  1.783   0.2243 0.004095       0.004525\n",
       "r[45]  1.689   0.2245 0.004099       0.004378\n",
       "r[46]  1.625   0.2289 0.004178       0.004306\n",
       "r[47]  1.575   0.2315 0.004227       0.004522\n",
       "r[48]  1.403   0.2518 0.004597       0.005027\n",
       "r[49]  1.239   0.2864 0.005229       0.005882\n",
       "r[50]  1.121   0.3644 0.006653       0.009287\n",
       "s     14.527 211.4840 3.861152       8.654847\n",
       "\n",
       "2. Quantiles for each variable:\n",
       "\n",
       "        2.5%    25%    50%   75%  97.5%\n",
       "r[1]  0.2756 0.7881 1.0556 1.315 1.6929\n",
       "r[2]  0.5251 0.9881 1.2104 1.408 1.7512\n",
       "r[3]  0.7697 1.1811 1.3826 1.557 1.8737\n",
       "r[4]  1.1599 1.4888 1.6563 1.816 2.0755\n",
       "r[5]  1.5059 1.7906 1.9444 2.078 2.3425\n",
       "r[6]  1.8931 2.1466 2.2798 2.419 2.6943\n",
       "r[7]  1.9198 2.1777 2.3009 2.429 2.6475\n",
       "r[8]  2.0775 2.3195 2.4435 2.564 2.8101\n",
       "r[9]  2.0861 2.3402 2.4611 2.573 2.8031\n",
       "r[10] 2.1497 2.3964 2.5136 2.624 2.8413\n",
       "r[11] 2.3663 2.5884 2.7011 2.814 3.0317\n",
       "r[12] 2.4680 2.6905 2.8038 2.904 3.1185\n",
       "r[13] 2.4495 2.6587 2.7703 2.875 3.0752\n",
       "r[14] 2.5397 2.7460 2.8479 2.951 3.1672\n",
       "r[15] 2.5553 2.7668 2.8733 2.978 3.1607\n",
       "r[16] 2.4884 2.7107 2.8145 2.922 3.1159\n",
       "r[17] 2.3694 2.5998 2.7044 2.813 3.0247\n",
       "r[18] 2.2427 2.4873 2.5912 2.710 2.9230\n",
       "r[19] 2.1765 2.4211 2.5343 2.648 2.8628\n",
       "r[20] 2.0536 2.3218 2.4423 2.569 2.7827\n",
       "r[21] 2.1392 2.3829 2.5053 2.614 2.8123\n",
       "r[22] 2.2902 2.5066 2.6213 2.731 2.9493\n",
       "r[23] 2.3519 2.5714 2.6886 2.797 3.0289\n",
       "r[24] 2.2382 2.4726 2.5906 2.697 2.9165\n",
       "r[25] 2.2017 2.4485 2.5715 2.689 2.8875\n",
       "r[26] 2.3620 2.5673 2.6749 2.786 3.0121\n",
       "r[27] 2.3123 2.5351 2.6531 2.763 2.9765\n",
       "r[28] 2.3056 2.5296 2.6461 2.762 2.9948\n",
       "r[29] 2.2119 2.4439 2.5619 2.680 2.8991\n",
       "r[30] 1.9898 2.2579 2.3822 2.505 2.7142\n",
       "r[31] 1.8949 2.1691 2.2997 2.426 2.6533\n",
       "r[32] 2.0915 2.3225 2.4379 2.560 2.7761\n",
       "r[33] 2.0502 2.2798 2.3962 2.521 2.7258\n",
       "r[34] 2.0529 2.3013 2.4204 2.536 2.7639\n",
       "r[35] 2.1143 2.3349 2.4521 2.577 2.8087\n",
       "r[36] 1.9935 2.2452 2.3718 2.494 2.7100\n",
       "r[37] 2.1688 2.3819 2.5007 2.621 2.8504\n",
       "r[38] 2.2032 2.4296 2.5388 2.664 2.8875\n",
       "r[39] 2.1843 2.4146 2.5246 2.647 2.8731\n",
       "r[40] 2.1540 2.3937 2.5135 2.634 2.8868\n",
       "r[41] 1.8704 2.1229 2.2563 2.379 2.6131\n",
       "r[42] 1.6951 1.9675 2.1051 2.227 2.4765\n",
       "r[43] 1.5880 1.8834 2.0173 2.151 2.4055\n",
       "r[44] 1.3156 1.6457 1.7900 1.932 2.1991\n",
       "r[45] 1.2309 1.5487 1.6951 1.837 2.1142\n",
       "r[46] 1.1726 1.4729 1.6302 1.780 2.0626\n",
       "r[47] 1.1002 1.4274 1.5784 1.725 2.0302\n",
       "r[48] 0.8991 1.2364 1.4102 1.573 1.8805\n",
       "r[49] 0.6312 1.0608 1.2500 1.435 1.7545\n",
       "r[50] 0.3578 0.9188 1.1444 1.367 1.7330\n",
       "s     0.1420 0.1961 0.2291 0.267 0.3657\n"
      ]
     },
     "metadata": {},
     "output_type": "display_data"
    }
   ],
   "source": [
    "summary(post.jags2)"
   ]
  },
  {
   "cell_type": "code",
   "execution_count": 20,
   "metadata": {
    "collapsed": false,
    "scrolled": true
   },
   "outputs": [
    {
     "data": {
      "text/plain": [
       "Potential scale reduction factors:\n",
       "\n",
       "      Point est. Upper C.I.\n",
       "r[1]       1.000      1.001\n",
       "r[2]       1.001      1.003\n",
       "r[3]       0.999      1.000\n",
       "r[4]       1.001      1.006\n",
       "r[5]       1.000      1.002\n",
       "r[6]       0.999      1.000\n",
       "r[7]       1.000      1.001\n",
       "r[8]       1.001      1.006\n",
       "r[9]       1.000      1.000\n",
       "r[10]      1.003      1.007\n",
       "r[11]      1.003      1.003\n",
       "r[12]      1.000      1.000\n",
       "r[13]      1.007      1.017\n",
       "r[14]      1.001      1.005\n",
       "r[15]      1.003      1.014\n",
       "r[16]      1.001      1.006\n",
       "r[17]      1.001      1.006\n",
       "r[18]      1.000      1.002\n",
       "r[19]      1.004      1.016\n",
       "r[20]      1.007      1.029\n",
       "r[21]      1.001      1.006\n",
       "r[22]      1.002      1.010\n",
       "r[23]      1.000      1.003\n",
       "r[24]      0.999      1.000\n",
       "r[25]      1.002      1.008\n",
       "r[26]      1.001      1.003\n",
       "r[27]      1.001      1.007\n",
       "r[28]      1.001      1.002\n",
       "r[29]      1.000      1.003\n",
       "r[30]      1.001      1.004\n",
       "r[31]      1.000      1.001\n",
       "r[32]      1.003      1.011\n",
       "r[33]      1.004      1.016\n",
       "r[34]      0.999      0.999\n",
       "r[35]      1.000      1.003\n",
       "r[36]      1.002      1.005\n",
       "r[37]      1.000      1.003\n",
       "r[38]      1.001      1.003\n",
       "r[39]      1.002      1.002\n",
       "r[40]      0.999      1.000\n",
       "r[41]      1.003      1.009\n",
       "r[42]      1.004      1.017\n",
       "r[43]      1.000      1.004\n",
       "r[44]      1.000      1.001\n",
       "r[45]      0.999      1.000\n",
       "r[46]      1.001      1.004\n",
       "r[47]      1.001      1.002\n",
       "r[48]      1.001      1.002\n",
       "r[49]      1.004      1.013\n",
       "r[50]      1.004      1.018\n",
       "s          1.000      1.002\n",
       "\n",
       "Multivariate psrf\n",
       "\n",
       "1.04"
      ]
     },
     "metadata": {},
     "output_type": "display_data"
    }
   ],
   "source": [
    "gelman.diag(post.jags2)"
   ]
  },
  {
   "cell_type": "code",
   "execution_count": 22,
   "metadata": {
    "collapsed": false
   },
   "outputs": [
    {
     "data": {
      "text/html": [
       "<ol class=list-inline>\n",
       "\t<li>'r[1]'</li>\n",
       "\t<li>'r[2]'</li>\n",
       "\t<li>'r[3]'</li>\n",
       "\t<li>'r[4]'</li>\n",
       "\t<li>'r[5]'</li>\n",
       "\t<li>'r[6]'</li>\n",
       "\t<li>'r[7]'</li>\n",
       "\t<li>'r[8]'</li>\n",
       "\t<li>'r[9]'</li>\n",
       "\t<li>'r[10]'</li>\n",
       "\t<li>'r[11]'</li>\n",
       "\t<li>'r[12]'</li>\n",
       "\t<li>'r[13]'</li>\n",
       "\t<li>'r[14]'</li>\n",
       "\t<li>'r[15]'</li>\n",
       "\t<li>'r[16]'</li>\n",
       "\t<li>'r[17]'</li>\n",
       "\t<li>'r[18]'</li>\n",
       "\t<li>'r[19]'</li>\n",
       "\t<li>'r[20]'</li>\n",
       "\t<li>'r[21]'</li>\n",
       "\t<li>'r[22]'</li>\n",
       "\t<li>'r[23]'</li>\n",
       "\t<li>'r[24]'</li>\n",
       "\t<li>'r[25]'</li>\n",
       "\t<li>'r[26]'</li>\n",
       "\t<li>'r[27]'</li>\n",
       "\t<li>'r[28]'</li>\n",
       "\t<li>'r[29]'</li>\n",
       "\t<li>'r[30]'</li>\n",
       "\t<li>'r[31]'</li>\n",
       "\t<li>'r[32]'</li>\n",
       "\t<li>'r[33]'</li>\n",
       "\t<li>'r[34]'</li>\n",
       "\t<li>'r[35]'</li>\n",
       "\t<li>'r[36]'</li>\n",
       "\t<li>'r[37]'</li>\n",
       "\t<li>'r[38]'</li>\n",
       "\t<li>'r[39]'</li>\n",
       "\t<li>'r[40]'</li>\n",
       "\t<li>'r[41]'</li>\n",
       "\t<li>'r[42]'</li>\n",
       "\t<li>'r[43]'</li>\n",
       "\t<li>'r[44]'</li>\n",
       "\t<li>'r[45]'</li>\n",
       "\t<li>'r[46]'</li>\n",
       "\t<li>'r[47]'</li>\n",
       "\t<li>'r[48]'</li>\n",
       "\t<li>'r[49]'</li>\n",
       "\t<li>'r[50]'</li>\n",
       "\t<li>'s'</li>\n",
       "</ol>\n"
      ],
      "text/latex": [
       "\\begin{enumerate*}\n",
       "\\item 'r{[}1{]}'\n",
       "\\item 'r{[}2{]}'\n",
       "\\item 'r{[}3{]}'\n",
       "\\item 'r{[}4{]}'\n",
       "\\item 'r{[}5{]}'\n",
       "\\item 'r{[}6{]}'\n",
       "\\item 'r{[}7{]}'\n",
       "\\item 'r{[}8{]}'\n",
       "\\item 'r{[}9{]}'\n",
       "\\item 'r{[}10{]}'\n",
       "\\item 'r{[}11{]}'\n",
       "\\item 'r{[}12{]}'\n",
       "\\item 'r{[}13{]}'\n",
       "\\item 'r{[}14{]}'\n",
       "\\item 'r{[}15{]}'\n",
       "\\item 'r{[}16{]}'\n",
       "\\item 'r{[}17{]}'\n",
       "\\item 'r{[}18{]}'\n",
       "\\item 'r{[}19{]}'\n",
       "\\item 'r{[}20{]}'\n",
       "\\item 'r{[}21{]}'\n",
       "\\item 'r{[}22{]}'\n",
       "\\item 'r{[}23{]}'\n",
       "\\item 'r{[}24{]}'\n",
       "\\item 'r{[}25{]}'\n",
       "\\item 'r{[}26{]}'\n",
       "\\item 'r{[}27{]}'\n",
       "\\item 'r{[}28{]}'\n",
       "\\item 'r{[}29{]}'\n",
       "\\item 'r{[}30{]}'\n",
       "\\item 'r{[}31{]}'\n",
       "\\item 'r{[}32{]}'\n",
       "\\item 'r{[}33{]}'\n",
       "\\item 'r{[}34{]}'\n",
       "\\item 'r{[}35{]}'\n",
       "\\item 'r{[}36{]}'\n",
       "\\item 'r{[}37{]}'\n",
       "\\item 'r{[}38{]}'\n",
       "\\item 'r{[}39{]}'\n",
       "\\item 'r{[}40{]}'\n",
       "\\item 'r{[}41{]}'\n",
       "\\item 'r{[}42{]}'\n",
       "\\item 'r{[}43{]}'\n",
       "\\item 'r{[}44{]}'\n",
       "\\item 'r{[}45{]}'\n",
       "\\item 'r{[}46{]}'\n",
       "\\item 'r{[}47{]}'\n",
       "\\item 'r{[}48{]}'\n",
       "\\item 'r{[}49{]}'\n",
       "\\item 'r{[}50{]}'\n",
       "\\item 's'\n",
       "\\end{enumerate*}\n"
      ],
      "text/markdown": [
       "1. 'r[1]'\n",
       "2. 'r[2]'\n",
       "3. 'r[3]'\n",
       "4. 'r[4]'\n",
       "5. 'r[5]'\n",
       "6. 'r[6]'\n",
       "7. 'r[7]'\n",
       "8. 'r[8]'\n",
       "9. 'r[9]'\n",
       "10. 'r[10]'\n",
       "11. 'r[11]'\n",
       "12. 'r[12]'\n",
       "13. 'r[13]'\n",
       "14. 'r[14]'\n",
       "15. 'r[15]'\n",
       "16. 'r[16]'\n",
       "17. 'r[17]'\n",
       "18. 'r[18]'\n",
       "19. 'r[19]'\n",
       "20. 'r[20]'\n",
       "21. 'r[21]'\n",
       "22. 'r[22]'\n",
       "23. 'r[23]'\n",
       "24. 'r[24]'\n",
       "25. 'r[25]'\n",
       "26. 'r[26]'\n",
       "27. 'r[27]'\n",
       "28. 'r[28]'\n",
       "29. 'r[29]'\n",
       "30. 'r[30]'\n",
       "31. 'r[31]'\n",
       "32. 'r[32]'\n",
       "33. 'r[33]'\n",
       "34. 'r[34]'\n",
       "35. 'r[35]'\n",
       "36. 'r[36]'\n",
       "37. 'r[37]'\n",
       "38. 'r[38]'\n",
       "39. 'r[39]'\n",
       "40. 'r[40]'\n",
       "41. 'r[41]'\n",
       "42. 'r[42]'\n",
       "43. 'r[43]'\n",
       "44. 'r[44]'\n",
       "45. 'r[45]'\n",
       "46. 'r[46]'\n",
       "47. 'r[47]'\n",
       "48. 'r[48]'\n",
       "49. 'r[49]'\n",
       "50. 'r[50]'\n",
       "51. 's'\n",
       "\n",
       "\n"
      ],
      "text/plain": [
       " [1] \"r[1]\"  \"r[2]\"  \"r[3]\"  \"r[4]\"  \"r[5]\"  \"r[6]\"  \"r[7]\"  \"r[8]\"  \"r[9]\" \n",
       "[10] \"r[10]\" \"r[11]\" \"r[12]\" \"r[13]\" \"r[14]\" \"r[15]\" \"r[16]\" \"r[17]\" \"r[18]\"\n",
       "[19] \"r[19]\" \"r[20]\" \"r[21]\" \"r[22]\" \"r[23]\" \"r[24]\" \"r[25]\" \"r[26]\" \"r[27]\"\n",
       "[28] \"r[28]\" \"r[29]\" \"r[30]\" \"r[31]\" \"r[32]\" \"r[33]\" \"r[34]\" \"r[35]\" \"r[36]\"\n",
       "[37] \"r[37]\" \"r[38]\" \"r[39]\" \"r[40]\" \"r[41]\" \"r[42]\" \"r[43]\" \"r[44]\" \"r[45]\"\n",
       "[46] \"r[46]\" \"r[47]\" \"r[48]\" \"r[49]\" \"r[50]\" \"s\"    "
      ]
     },
     "metadata": {},
     "output_type": "display_data"
    }
   ],
   "source": [
    "varnames(post.jags2)"
   ]
  },
  {
   "cell_type": "code",
   "execution_count": 27,
   "metadata": {
    "collapsed": false
   },
   "outputs": [
    {
     "data": {},
     "metadata": {},
     "output_type": "display_data"
    },
    {
     "data": {
      "image/png": "[encoded data removed]",
      "text/plain": [
       "plot without title"
      ]
     },
     "metadata": {},
     "output_type": "display_data"
    }
   ],
   "source": [
    "Y.hat <- exp(summary(post.jags2[, grep(\"r\", varnames(post.jags2))])$statistics[, \"Mean\"])\n",
    "Y.qnt <- exp(summary(post.jags2[, grep(\"r\", varnames(post.jags2))])$quantiles[, c(\"2.5%\", \"97.5%\")])\n",
    "\n",
    "data_frame(site = seq_along(Y), \n",
    "           Y = Y,\n",
    "           Y.hat = Y.hat,\n",
    "           Y.975 = Y.qnt[, 2],\n",
    "           Y.025 = Y.qnt[, 1]) %>>% \n",
    "    ggplot() +\n",
    "        geom_point(aes(x = site, y = Y)) +\n",
    "        geom_line(aes(x = site, y = Y.hat)) +\n",
    "        geom_ribbon(aes(x = site, ymin = Y.025, ymax = Y.975), alpha = 0.3) + \n",
    "        theme_bw() + \n",
    "        theme(\n",
    "            panel.grid = element_blank()\n",
    "        ) + \n",
    "        xlab(expression(\"Position \"*italic(\"j\"))) + \n",
    "        ylab(expression(\"Number of individuals  \"*italic(\"y\")[italic(\"j\")])) + \n",
    "        ylim(c(0, 25))"
   ]
  },
  {
   "cell_type": "markdown",
   "metadata": {},
   "source": [
    "## 11.4 空間統計モデルが作り出す確率場"
   ]
  },
  {
   "cell_type": "markdown",
   "metadata": {},
   "source": [
    "隣と似ている度合いが変わるとどうなるか"
   ]
  },
  {
   "cell_type": "code",
   "execution_count": 34,
   "metadata": {
    "collapsed": false
   },
   "outputs": [],
   "source": [
    "data.list3 <- list(\n",
    "    N.site = length(Y), \n",
    "    Y = matrix(c(Y, Y, Y), length(Y), 3), \n",
    "    Tau = c(1000, 20, 0.01)\n",
    ")"
   ]
  },
  {
   "cell_type": "code",
   "execution_count": 77,
   "metadata": {
    "collapsed": false
   },
   "outputs": [
    {
     "name": "stdout",
     "output_type": "stream",
     "text": [
      "Compiling model graph\n",
      "   Resolving undeclared variables\n",
      "   Allocating nodes\n",
      "Graph information:\n",
      "   Observed stochastic nodes: 150\n",
      "   Unobserved stochastic nodes: 150\n",
      "   Total graph size: 460\n",
      "\n",
      "Initializing model\n",
      "\n"
     ]
    }
   ],
   "source": [
    "m3 <- jags.model(\n",
    "    file = \"chap11-model3.jags\", \n",
    "    data = data.list3,\n",
    "    n.chain = 3, \n",
    "    n.adapt = 100\n",
    ")"
   ]
  },
  {
   "cell_type": "code",
   "execution_count": 78,
   "metadata": {
    "collapsed": true
   },
   "outputs": [],
   "source": [
    "post.jags3 <- coda.samples(m3, variable.names = c(\"r\"), n.iter = 200, thin = 1)"
   ]
  },
  {
   "cell_type": "code",
   "execution_count": 161,
   "metadata": {
    "collapsed": true
   },
   "outputs": [],
   "source": [
    "saveRDS(post.jags3, file = \"chap11-post-jags3.rds\")"
   ]
  },
  {
   "cell_type": "code",
   "execution_count": null,
   "metadata": {
    "collapsed": true
   },
   "outputs": [],
   "source": [
    "post.jags3 <- readRDS(\"chap11-post-jags3.rds\")"
   ]
  },
  {
   "cell_type": "code",
   "execution_count": 79,
   "metadata": {
    "collapsed": false,
    "scrolled": true
   },
   "outputs": [
    {
     "data": {
      "text/plain": [
       "\n",
       "Iterations = 101:300\n",
       "Thinning interval = 1 \n",
       "Number of chains = 3 \n",
       "Sample size per chain = 200 \n",
       "\n",
       "1. Empirical mean and standard deviation for each variable,\n",
       "   plus standard error of the mean:\n",
       "\n",
       "           Mean      SD Naive SE Time-series SE\n",
       "r[1,1]   2.4691 0.13102 0.005349       0.038806\n",
       "r[2,1]   2.4788 0.12626 0.005155       0.041268\n",
       "r[3,1]   2.4943 0.11987 0.004894       0.039448\n",
       "r[4,1]   2.5170 0.11655 0.004758       0.033268\n",
       "r[5,1]   2.5468 0.11249 0.004592       0.033282\n",
       "r[6,1]   2.5777 0.10926 0.004460       0.031284\n",
       "r[7,1]   2.6012 0.10783 0.004402       0.028907\n",
       "r[8,1]   2.6275 0.10954 0.004472       0.029622\n",
       "r[9,1]   2.6485 0.11243 0.004590       0.029293\n",
       "r[10,1]  2.6708 0.11140 0.004548       0.031918\n",
       "r[11,1]  2.6979 0.10777 0.004400       0.034170\n",
       "r[12,1]  2.7200 0.10450 0.004266       0.029612\n",
       "r[13,1]  2.7375 0.09975 0.004072       0.032445\n",
       "r[14,1]  2.7545 0.09858 0.004024       0.029005\n",
       "r[15,1]  2.7630 0.09956 0.004065       0.030960\n",
       "r[16,1]  2.7647 0.10037 0.004097       0.029620\n",
       "r[17,1]  2.7593 0.10176 0.004154       0.030890\n",
       "r[18,1]  2.7528 0.10273 0.004194       0.033609\n",
       "r[19,1]  2.7476 0.10584 0.004321       0.034307\n",
       "r[20,1]  2.7417 0.10528 0.004298       0.034708\n",
       "r[21,1]  2.7413 0.10698 0.004367       0.032518\n",
       "r[22,1]  2.7446 0.10837 0.004424       0.031061\n",
       "r[23,1]  2.7448 0.10925 0.004460       0.028597\n",
       "r[24,1]  2.7423 0.11093 0.004529       0.030290\n",
       "r[25,1]  2.7403 0.11255 0.004595       0.032504\n",
       "r[26,1]  2.7353 0.11564 0.004721       0.033488\n",
       "r[27,1]  2.7278 0.11770 0.004805       0.034830\n",
       "r[28,1]  2.7164 0.11944 0.004876       0.037007\n",
       "r[29,1]  2.6982 0.12188 0.004976       0.031675\n",
       "r[30,1]  2.6782 0.12456 0.005085       0.033578\n",
       "r[31,1]  2.6602 0.12700 0.005185       0.033851\n",
       "r[32,1]  2.6500 0.12583 0.005137       0.032086\n",
       "r[33,1]  2.6379 0.12508 0.005106       0.033979\n",
       "r[34,1]  2.6263 0.12951 0.005287       0.037089\n",
       "r[35,1]  2.6157 0.13431 0.005483       0.043707\n",
       "r[36,1]  2.6031 0.13597 0.005551       0.043217\n",
       "r[37,1]  2.5956 0.13788 0.005629       0.045556\n",
       "r[38,1]  2.5843 0.13984 0.005709       0.043682\n",
       "r[39,1]  2.5720 0.14227 0.005808       0.050131\n",
       "r[40,1]  2.5560 0.14796 0.006041       0.050713\n",
       "r[41,1]  2.5313 0.15188 0.006201       0.057116\n",
       "r[42,1]  2.5094 0.15437 0.006302       0.057638\n",
       "r[43,1]  2.4880 0.15746 0.006428       0.058720\n",
       "r[44,1]  2.4644 0.15937 0.006506       0.062473\n",
       "r[45,1]  2.4438 0.16088 0.006568       0.056637\n",
       "r[46,1]  2.4283 0.15922 0.006500       0.057057\n",
       "r[47,1]  2.4144 0.15475 0.006318       0.056827\n",
       "r[48,1]  2.4005 0.15198 0.006204       0.054796\n",
       "r[49,1]  2.3904 0.15221 0.006214       0.057347\n",
       "r[50,1]  2.3814 0.15453 0.006309       0.056669\n",
       "r[1,2]   1.0211 0.32980 0.013464       0.031923\n",
       "r[2,2]   1.1586 0.27962 0.011416       0.031860\n",
       "r[3,2]   1.3247 0.24108 0.009842       0.028542\n",
       "r[4,2]   1.6109 0.22478 0.009177       0.026278\n",
       "r[5,2]   1.9282 0.20503 0.008370       0.018704\n",
       "r[6,2]   2.2809 0.18733 0.007648       0.014669\n",
       "r[7,2]   2.3056 0.19278 0.007870       0.015474\n",
       "r[8,2]   2.4371 0.17937 0.007323       0.014654\n",
       "r[9,2]   2.4527 0.17298 0.007062       0.013190\n",
       "r[10,2]  2.5064 0.16496 0.006735       0.011080\n",
       "r[11,2]  2.7175 0.16622 0.006786       0.010892\n",
       "r[12,2]  2.8103 0.16224 0.006624       0.010441\n",
       "r[13,2]  2.7833 0.15563 0.006354       0.010512\n",
       "r[14,2]  2.8726 0.15274 0.006236       0.009677\n",
       "r[15,2]  2.8690 0.15943 0.006509       0.010441\n",
       "r[16,2]  2.8173 0.16156 0.006596       0.011684\n",
       "r[17,2]  2.7094 0.17083 0.006974       0.012513\n",
       "r[18,2]  2.6128 0.16223 0.006623       0.010995\n",
       "r[19,2]  2.5492 0.15946 0.006510       0.011973\n",
       "r[20,2]  2.4663 0.16442 0.006712       0.012401\n",
       "r[21,2]  2.5152 0.16674 0.006807       0.013724\n",
       "r[22,2]  2.6376 0.15952 0.006512       0.012957\n",
       "r[23,2]  2.6964 0.17323 0.007072       0.010077\n",
       "r[24,2]  2.5981 0.16965 0.006926       0.012026\n",
       "r[25,2]  2.5691 0.17084 0.006975       0.012561\n",
       "r[26,2]  2.6438 0.16208 0.006617       0.010905\n",
       "r[27,2]  2.6197 0.15941 0.006508       0.010931\n",
       "r[28,2]  2.6324 0.15722 0.006418       0.010486\n",
       "r[29,2]  2.5563 0.17017 0.006947       0.011748\n",
       "r[30,2]  2.3824 0.17274 0.007052       0.012196\n",
       "r[31,2]  2.3045 0.19158 0.007821       0.015382\n",
       "r[32,2]  2.4339 0.16568 0.006764       0.011194\n",
       "r[33,2]  2.3800 0.17492 0.007141       0.016355\n",
       "r[34,2]  2.3901 0.18289 0.007466       0.015365\n",
       "r[35,2]  2.4419 0.17838 0.007282       0.012968\n",
       "r[36,2]  2.3738 0.16461 0.006720       0.013492\n",
       "r[37,2]  2.4978 0.17153 0.007003       0.013062\n",
       "r[38,2]  2.5541 0.17013 0.006946       0.011750\n",
       "r[39,2]  2.5450 0.16399 0.006695       0.012645\n",
       "r[40,2]  2.5281 0.16412 0.006700       0.012569\n",
       "r[41,2]  2.2624 0.17692 0.007223       0.013761\n",
       "r[42,2]  2.0956 0.20027 0.008176       0.016972\n",
       "r[43,2]  1.9962 0.20754 0.008473       0.020070\n",
       "r[44,2]  1.7757 0.20227 0.008258       0.017870\n",
       "r[45,2]  1.6747 0.21587 0.008813       0.023481\n",
       "r[46,2]  1.5950 0.21353 0.008717       0.027501\n",
       "r[47,2]  1.5344 0.22513 0.009191       0.024843\n",
       "r[48,2]  1.3838 0.24417 0.009968       0.027592\n",
       "r[49,2]  1.2506 0.25294 0.010326       0.030001\n",
       "r[50,2]  1.1383 0.29529 0.012055       0.027093\n",
       "r[1,3]   0.4512 0.36119 0.014745       0.027922\n",
       "r[2,3]   0.9724 0.61389 0.025062       0.031433\n",
       "r[3,3]   0.4513 0.80987 0.033063       0.045094\n",
       "r[4,3]   1.4733 0.51054 0.020843       0.030030\n",
       "r[5,3]   1.7509 0.39169 0.015991       0.017463\n",
       "r[6,3]   2.7317 0.23935 0.009771       0.013387\n",
       "r[7,3]   1.9991 0.42953 0.017535       0.030596\n",
       "r[8,3]   2.6152 0.26071 0.010643       0.013688\n",
       "r[9,3]   2.3704 0.33004 0.013474       0.018384\n",
       "r[10,3]  2.2387 0.31872 0.013012       0.016247\n",
       "r[11,3]  2.8068 0.23838 0.009732       0.012437\n",
       "r[12,3]  2.9127 0.21899 0.008940       0.010580\n",
       "r[13,3]  2.5816 0.27358 0.011169       0.013897\n",
       "r[14,3]  2.9188 0.21756 0.008882       0.010071\n",
       "r[15,3]  2.9097 0.22434 0.009159       0.009930\n",
       "r[16,3]  2.8573 0.22964 0.009375       0.012013\n",
       "r[17,3]  2.6814 0.25389 0.010365       0.010837\n",
       "r[18,3]  2.5277 0.27272 0.011134       0.013472\n",
       "r[19,3]  2.5235 0.28503 0.011636       0.013542\n",
       "r[20,3]  2.1341 0.34992 0.014285       0.020740\n",
       "r[21,3]  2.3430 0.30326 0.012380       0.014553\n",
       "r[22,3]  2.6783 0.27348 0.011165       0.017037\n",
       "r[23,3]  2.8592 0.25155 0.010270       0.015613\n",
       "r[24,3]  2.4285 0.29097 0.011879       0.012648\n",
       "r[25,3]  2.3518 0.31959 0.013047       0.017667\n",
       "r[26,3]  2.8008 0.25150 0.010267       0.012798\n",
       "r[27,3]  2.5949 0.27452 0.011207       0.016129\n",
       "r[28,3]  2.7383 0.24109 0.009842       0.014092\n",
       "r[29,3]  2.6844 0.24309 0.009924       0.012079\n",
       "r[30,3]  2.1459 0.34661 0.014150       0.018992\n",
       "r[31,3]  1.7003 0.42952 0.017535       0.024242\n",
       "r[32,3]  2.6625 0.27026 0.011033       0.012743\n",
       "r[33,3]  2.2650 0.34841 0.014224       0.018494\n",
       "r[34,3]  2.3647 0.31543 0.012877       0.012794\n",
       "r[35,3]  2.6049 0.28380 0.011586       0.014191\n",
       "r[36,3]  1.9046 0.39360 0.016069       0.021744\n",
       "r[37,3]  2.5893 0.29389 0.011998       0.016772\n",
       "r[38,3]  2.6044 0.24760 0.010108       0.012164\n",
       "r[39,3]  2.5228 0.28582 0.011669       0.016444\n",
       "r[40,3]  2.8188 0.24244 0.009898       0.010792\n",
       "r[41,3]  2.0494 0.35114 0.014335       0.015164\n",
       "r[42,3]  1.8988 0.38761 0.015824       0.020451\n",
       "r[43,3]  2.2611 0.31494 0.012858       0.016041\n",
       "r[44,3]  1.2757 0.47863 0.019540       0.022441\n",
       "r[45,3]  1.5100 0.45292 0.018490       0.022010\n",
       "r[46,3]  1.4805 0.48352 0.019740       0.024569\n",
       "r[47,3]  1.8623 0.39860 0.016273       0.021479\n",
       "r[48,3]  1.2318 0.53805 0.021966       0.024607\n",
       "r[49,3]  0.9733 0.57356 0.023415       0.028102\n",
       "r[50,3] -0.4327 1.24369 0.050773       0.077326\n",
       "\n",
       "2. Quantiles for each variable:\n",
       "\n",
       "            2.5%       25%     50%    75% 97.5%\n",
       "r[1,1]   2.26427  2.375004  2.4449 2.5625 2.724\n",
       "r[2,1]   2.27242  2.391264  2.4499 2.5679 2.714\n",
       "r[3,1]   2.30188  2.410846  2.4624 2.5707 2.727\n",
       "r[4,1]   2.33000  2.433222  2.4934 2.5848 2.747\n",
       "r[5,1]   2.37737  2.463846  2.5276 2.6209 2.777\n",
       "r[6,1]   2.41026  2.501066  2.5570 2.6497 2.824\n",
       "r[7,1]   2.43961  2.522514  2.5821 2.6639 2.844\n",
       "r[8,1]   2.45014  2.551359  2.6144 2.6817 2.881\n",
       "r[9,1]   2.45751  2.566732  2.6442 2.7092 2.902\n",
       "r[10,1]  2.46843  2.592607  2.6682 2.7333 2.922\n",
       "r[11,1]  2.50324  2.618492  2.6948 2.7642 2.933\n",
       "r[12,1]  2.54115  2.639754  2.7190 2.7834 2.933\n",
       "r[13,1]  2.56801  2.664991  2.7301 2.7976 2.957\n",
       "r[14,1]  2.58998  2.687520  2.7422 2.8184 2.982\n",
       "r[15,1]  2.58872  2.695595  2.7547 2.8252 2.991\n",
       "r[16,1]  2.58538  2.694285  2.7604 2.8254 2.992\n",
       "r[17,1]  2.58376  2.693145  2.7527 2.8216 2.997\n",
       "r[18,1]  2.57405  2.686528  2.7452 2.8143 2.986\n",
       "r[19,1]  2.56513  2.673318  2.7437 2.8043 2.985\n",
       "r[20,1]  2.55729  2.675972  2.7384 2.7991 2.967\n",
       "r[21,1]  2.54883  2.667638  2.7447 2.8000 2.967\n",
       "r[22,1]  2.54214  2.680076  2.7492 2.8087 2.956\n",
       "r[23,1]  2.51868  2.674084  2.7531 2.8104 2.955\n",
       "r[24,1]  2.51005  2.677152  2.7509 2.8123 2.945\n",
       "r[25,1]  2.51332  2.666011  2.7434 2.8218 2.951\n",
       "r[26,1]  2.52197  2.650780  2.7325 2.8281 2.956\n",
       "r[27,1]  2.50617  2.643682  2.7193 2.8276 2.945\n",
       "r[28,1]  2.48178  2.635441  2.7071 2.8113 2.929\n",
       "r[29,1]  2.46824  2.619337  2.6852 2.7931 2.916\n",
       "r[30,1]  2.42951  2.595990  2.6711 2.7735 2.914\n",
       "r[31,1]  2.40223  2.575604  2.6532 2.7448 2.910\n",
       "r[32,1]  2.39520  2.568942  2.6436 2.7409 2.882\n",
       "r[33,1]  2.38279  2.554714  2.6352 2.7335 2.868\n",
       "r[34,1]  2.36923  2.538239  2.6188 2.7234 2.864\n",
       "r[35,1]  2.34758  2.526113  2.6144 2.7183 2.864\n",
       "r[36,1]  2.35144  2.505632  2.6031 2.7112 2.856\n",
       "r[37,1]  2.35175  2.481744  2.5931 2.7044 2.845\n",
       "r[38,1]  2.33861  2.476787  2.5897 2.6848 2.839\n",
       "r[39,1]  2.33886  2.456589  2.5702 2.6691 2.843\n",
       "r[40,1]  2.31094  2.426813  2.5553 2.6585 2.852\n",
       "r[41,1]  2.29299  2.394603  2.5248 2.6469 2.841\n",
       "r[42,1]  2.27279  2.374549  2.4925 2.6283 2.803\n",
       "r[43,1]  2.24985  2.345098  2.4839 2.6076 2.780\n",
       "r[44,1]  2.21604  2.329405  2.4565 2.5734 2.762\n",
       "r[45,1]  2.18028  2.310629  2.4439 2.5584 2.732\n",
       "r[46,1]  2.15395  2.297922  2.4285 2.5489 2.719\n",
       "r[47,1]  2.13478  2.283969  2.4118 2.5376 2.697\n",
       "r[48,1]  2.12505  2.276914  2.4060 2.5247 2.685\n",
       "r[49,1]  2.11383  2.271531  2.3906 2.5163 2.676\n",
       "r[50,1]  2.10536  2.254919  2.3795 2.5030 2.656\n",
       "r[1,2]   0.37400  0.790960  1.0445 1.2390 1.663\n",
       "r[2,2]   0.62826  0.955698  1.1628 1.3642 1.660\n",
       "r[3,2]   0.87280  1.149268  1.3425 1.5043 1.752\n",
       "r[4,2]   1.19534  1.452331  1.6062 1.7825 2.036\n",
       "r[5,2]   1.51557  1.799726  1.9259 2.0798 2.322\n",
       "r[6,2]   1.93839  2.146329  2.2866 2.4102 2.645\n",
       "r[7,2]   1.93263  2.174531  2.3074 2.4367 2.679\n",
       "r[8,2]   2.09906  2.317223  2.4402 2.5531 2.791\n",
       "r[9,2]   2.12638  2.332174  2.4511 2.5604 2.787\n",
       "r[10,2]  2.19668  2.387461  2.5075 2.6271 2.815\n",
       "r[11,2]  2.41074  2.599513  2.7162 2.8269 3.049\n",
       "r[12,2]  2.51282  2.694501  2.8018 2.9207 3.121\n",
       "r[13,2]  2.47432  2.680641  2.7854 2.8927 3.084\n",
       "r[14,2]  2.56671  2.767821  2.8740 2.9696 3.186\n",
       "r[15,2]  2.53630  2.762121  2.8772 2.9730 3.178\n",
       "r[16,2]  2.49630  2.708321  2.8078 2.9186 3.156\n",
       "r[17,2]  2.34157  2.601873  2.7168 2.8268 3.009\n",
       "r[18,2]  2.26847  2.511582  2.6143 2.7178 2.928\n",
       "r[19,2]  2.26370  2.435516  2.5345 2.6465 2.894\n",
       "r[20,2]  2.14521  2.359870  2.4671 2.5746 2.793\n",
       "r[21,2]  2.18682  2.410462  2.5139 2.6230 2.846\n",
       "r[22,2]  2.33035  2.531855  2.6422 2.7492 2.945\n",
       "r[23,2]  2.37207  2.582067  2.6943 2.8065 3.038\n",
       "r[24,2]  2.26037  2.481945  2.5997 2.7188 2.927\n",
       "r[25,2]  2.22652  2.464514  2.5723 2.6748 2.877\n",
       "r[26,2]  2.32158  2.529840  2.6421 2.7467 2.982\n",
       "r[27,2]  2.31704  2.509374  2.6111 2.7452 2.891\n",
       "r[28,2]  2.31602  2.522210  2.6258 2.7366 2.940\n",
       "r[29,2]  2.23990  2.437673  2.5647 2.6770 2.870\n",
       "r[30,2]  2.06316  2.255724  2.3867 2.4898 2.749\n",
       "r[31,2]  1.90548  2.181131  2.3027 2.4355 2.656\n",
       "r[32,2]  2.11039  2.320847  2.4358 2.5497 2.735\n",
       "r[33,2]  2.03614  2.265291  2.3906 2.5055 2.705\n",
       "r[34,2]  2.01420  2.264861  2.3928 2.5137 2.756\n",
       "r[35,2]  2.06063  2.327310  2.4466 2.5626 2.813\n",
       "r[36,2]  2.04822  2.263163  2.3708 2.4852 2.698\n",
       "r[37,2]  2.13816  2.383380  2.4960 2.6121 2.827\n",
       "r[38,2]  2.21455  2.438351  2.5672 2.6678 2.871\n",
       "r[39,2]  2.19255  2.443432  2.5571 2.6532 2.854\n",
       "r[40,2]  2.21402  2.412126  2.5244 2.6505 2.844\n",
       "r[41,2]  1.91826  2.136334  2.2685 2.3902 2.571\n",
       "r[42,2]  1.68177  1.962573  2.1098 2.2410 2.451\n",
       "r[43,2]  1.57374  1.852981  2.0059 2.1403 2.386\n",
       "r[44,2]  1.32132  1.659975  1.7827 1.9214 2.144\n",
       "r[45,2]  1.17519  1.539002  1.6912 1.8213 2.058\n",
       "r[46,2]  1.17682  1.439849  1.6057 1.7363 2.019\n",
       "r[47,2]  1.12119  1.370183  1.5321 1.6933 1.952\n",
       "r[48,2]  0.92634  1.211281  1.3945 1.5531 1.825\n",
       "r[49,2]  0.79653  1.059335  1.2518 1.4365 1.710\n",
       "r[50,2]  0.49398  0.958271  1.1469 1.3500 1.640\n",
       "r[1,3]   0.01694  0.166207  0.3660 0.6708 1.364\n",
       "r[2,3]  -0.33334  0.630872  1.0149 1.4098 2.032\n",
       "r[3,3]  -1.42702  0.001718  0.5439 1.0688 1.695\n",
       "r[4,3]   0.28366  1.183866  1.4850 1.8558 2.320\n",
       "r[5,3]   0.91515  1.516488  1.7723 2.0237 2.456\n",
       "r[6,3]   2.20184  2.605403  2.7341 2.8869 3.165\n",
       "r[7,3]   1.09074  1.740259  2.0372 2.2914 2.726\n",
       "r[8,3]   2.09071  2.441803  2.6346 2.7965 3.099\n",
       "r[9,3]   1.74438  2.151759  2.3853 2.6097 2.937\n",
       "r[10,3]  1.59082  2.027779  2.2628 2.4607 2.839\n",
       "r[11,3]  2.28521  2.657943  2.8180 2.9624 3.266\n",
       "r[12,3]  2.47936  2.767161  2.9145 3.0651 3.325\n",
       "r[13,3]  2.05098  2.407055  2.5806 2.7565 3.119\n",
       "r[14,3]  2.44437  2.775383  2.9230 3.0799 3.291\n",
       "r[15,3]  2.44750  2.763918  2.9180 3.0709 3.331\n",
       "r[16,3]  2.37466  2.703323  2.8687 3.0241 3.260\n",
       "r[17,3]  2.11774  2.524234  2.6990 2.8498 3.168\n",
       "r[18,3]  1.98536  2.340738  2.5265 2.7195 3.070\n",
       "r[19,3]  1.89037  2.340266  2.5427 2.7273 2.995\n",
       "r[20,3]  1.40109  1.892902  2.1748 2.3860 2.708\n",
       "r[21,3]  1.71940  2.141158  2.3536 2.5610 2.900\n",
       "r[22,3]  2.06816  2.536258  2.6982 2.8639 3.146\n",
       "r[23,3]  2.31378  2.703453  2.8703 3.0198 3.346\n",
       "r[24,3]  1.82012  2.234814  2.4430 2.6400 2.976\n",
       "r[25,3]  1.60711  2.183546  2.3936 2.5680 2.899\n",
       "r[26,3]  2.30932  2.641676  2.8173 2.9664 3.263\n",
       "r[27,3]  1.99863  2.403971  2.6164 2.7934 3.058\n",
       "r[28,3]  2.25099  2.583310  2.7470 2.9043 3.157\n",
       "r[29,3]  2.21766  2.504615  2.6790 2.8736 3.145\n",
       "r[30,3]  1.42554  1.920676  2.1595 2.3819 2.771\n",
       "r[31,3]  0.79257  1.438935  1.7290 1.9998 2.425\n",
       "r[32,3]  2.08592  2.484983  2.6754 2.8556 3.122\n",
       "r[33,3]  1.45559  2.069549  2.2939 2.4915 2.873\n",
       "r[34,3]  1.69462  2.182015  2.3819 2.5894 2.918\n",
       "r[35,3]  1.93215  2.447831  2.6370 2.8083 3.099\n",
       "r[36,3]  1.14870  1.613097  1.9293 2.2036 2.600\n",
       "r[37,3]  1.98218  2.391876  2.6080 2.7907 3.146\n",
       "r[38,3]  2.14420  2.433259  2.6074 2.7812 3.045\n",
       "r[39,3]  1.92614  2.332414  2.5308 2.7299 3.024\n",
       "r[40,3]  2.33517  2.656807  2.8152 2.9791 3.282\n",
       "r[41,3]  1.33788  1.824892  2.0739 2.2929 2.699\n",
       "r[42,3]  1.08462  1.663369  1.9216 2.1718 2.576\n",
       "r[43,3]  1.61817  2.066047  2.2749 2.4727 2.839\n",
       "r[44,3]  0.30324  0.955577  1.3059 1.6237 2.129\n",
       "r[45,3]  0.57475  1.184529  1.5343 1.8230 2.308\n",
       "r[46,3]  0.44526  1.177770  1.5187 1.8193 2.321\n",
       "r[47,3]  0.99517  1.601522  1.8911 2.1582 2.572\n",
       "r[48,3]  0.05575  0.899836  1.2746 1.5951 2.141\n",
       "r[49,3] -0.24277  0.618720  1.0308 1.3555 1.947\n",
       "r[50,3] -3.70011 -1.054762 -0.2910 0.4579 1.320\n"
      ]
     },
     "metadata": {},
     "output_type": "display_data"
    }
   ],
   "source": [
    "summary(post.jags3)"
   ]
  },
  {
   "cell_type": "code",
   "execution_count": 80,
   "metadata": {
    "collapsed": false
   },
   "outputs": [
    {
     "name": "stdout",
     "output_type": "stream",
     "text": [
      "List of 3\n",
      " $ : mcmc [1:200, 1:150] 2.58 2.55 2.51 2.54 2.53 ...\n",
      "  ..- attr(*, \"dimnames\")=List of 2\n",
      "  .. ..$ : NULL\n",
      "  .. ..$ : chr [1:150] \"r[1,1]\" \"r[2,1]\" \"r[3,1]\" \"r[4,1]\" ...\n",
      "  ..- attr(*, \"mcpar\")= num [1:3] 101 300 1\n",
      " $ : mcmc [1:200, 1:150] 2.74 2.85 2.85 2.82 2.83 ...\n",
      "  ..- attr(*, \"dimnames\")=List of 2\n",
      "  .. ..$ : NULL\n",
      "  .. ..$ : chr [1:150] \"r[1,1]\" \"r[2,1]\" \"r[3,1]\" \"r[4,1]\" ...\n",
      "  ..- attr(*, \"mcpar\")= num [1:3] 101 300 1\n",
      " $ : mcmc [1:200, 1:150] 2.6 2.61 2.66 2.67 2.68 ...\n",
      "  ..- attr(*, \"dimnames\")=List of 2\n",
      "  .. ..$ : NULL\n",
      "  .. ..$ : chr [1:150] \"r[1,1]\" \"r[2,1]\" \"r[3,1]\" \"r[4,1]\" ...\n",
      "  ..- attr(*, \"mcpar\")= num [1:3] 101 300 1\n",
      " - attr(*, \"class\")= chr \"mcmc.list\"\n"
     ]
    }
   ],
   "source": [
    "str(post.jags3)"
   ]
  },
  {
   "cell_type": "markdown",
   "metadata": {},
   "source": [
    "* s = 0.0316"
   ]
  },
  {
   "cell_type": "code",
   "execution_count": 156,
   "metadata": {
    "collapsed": false,
    "scrolled": true
   },
   "outputs": [
    {
     "data": {},
     "metadata": {},
     "output_type": "display_data"
    },
    {
     "data": {
      "image/png": "[encoded data removed]",
      "text/plain": [
       "plot without title"
      ]
     },
     "metadata": {},
     "output_type": "display_data"
    }
   ],
   "source": [
    "post.jags3 %>>% purrr::map_df(function(x){as_data_frame(x)}) %>>% dplyr::sample_n(3) %>>% \n",
    "    select(ends_with(\"1]\")) %>>% t() %>>% as_data_frame() %>>% \n",
    "    purrr::dmap(function(x){exp(x)}) %>>% \n",
    "    mutate(site = seq_along(Y), Y = Y) %>>% \n",
    "    ggplot() + \n",
    "        geom_point(aes(x = site, y = Y)) + \n",
    "        geom_line(aes(x = site, y = V1), colour = gray(0.6)) + \n",
    "        geom_line(aes(x = site, y = V2), colour = gray(0.65)) + \n",
    "        geom_line(aes(x = site, y = V3), colour = gray(0.7)) + \n",
    "        theme_bw() + theme(panel.grid = element_blank()) + \n",
    "        xlab(expression(\"Position \"*italic(\"j\"))) + \n",
    "        ylab(expression(\"Number of individuals  \"*italic(\"y\")[italic(\"j\")])) + \n",
    "        ylim(c(0, 25))"
   ]
  },
  {
   "cell_type": "markdown",
   "metadata": {},
   "source": [
    "* s = 0.224"
   ]
  },
  {
   "cell_type": "code",
   "execution_count": 157,
   "metadata": {
    "collapsed": false,
    "scrolled": true
   },
   "outputs": [
    {
     "data": {},
     "metadata": {},
     "output_type": "display_data"
    },
    {
     "data": {
      "image/png": "[encoded data removed]",
      "text/plain": [
       "plot without title"
      ]
     },
     "metadata": {},
     "output_type": "display_data"
    }
   ],
   "source": [
    "post.jags3 %>>% purrr::map_df(function(x){as_data_frame(x)}) %>>% dplyr::sample_n(3) %>>% \n",
    "    select(ends_with(\"2]\")) %>>% t() %>>% as_data_frame() %>>% \n",
    "    purrr::dmap(function(x){exp(x)}) %>>% \n",
    "    mutate(site = seq_along(Y), Y = Y) %>>% \n",
    "    ggplot() + \n",
    "        geom_point(aes(x = site, y = Y)) + \n",
    "        geom_line(aes(x = site, y = V1), colour = gray(0.6)) + \n",
    "        geom_line(aes(x = site, y = V2), colour = gray(0.65)) + \n",
    "        geom_line(aes(x = site, y = V3), colour = gray(0.7)) + \n",
    "        theme_bw() + theme(panel.grid = element_blank()) + \n",
    "        xlab(expression(\"Position \"*italic(\"j\"))) + \n",
    "        ylab(expression(\"Number of individuals  \"*italic(\"y\")[italic(\"j\")])) + \n",
    "        ylim(c(0, 25))"
   ]
  },
  {
   "cell_type": "markdown",
   "metadata": {},
   "source": [
    "* s = 10.0"
   ]
  },
  {
   "cell_type": "code",
   "execution_count": 158,
   "metadata": {
    "collapsed": false,
    "scrolled": true
   },
   "outputs": [
    {
     "data": {},
     "metadata": {},
     "output_type": "display_data"
    },
    {
     "data": {
      "image/png": "[encoded data removed]",
      "text/plain": [
       "plot without title"
      ]
     },
     "metadata": {},
     "output_type": "display_data"
    }
   ],
   "source": [
    "post.jags3 %>>% purrr::map_df(function(x){as_data_frame(x)}) %>>% dplyr::sample_n(3) %>>% \n",
    "    select(ends_with(\"3]\")) %>>% t() %>>% as_data_frame() %>>% \n",
    "    purrr::dmap(function(x){exp(x)}) %>>% \n",
    "    mutate(site = seq_along(Y), Y = Y) %>>% \n",
    "    ggplot() + \n",
    "        geom_point(aes(x = site, y = Y)) + \n",
    "        geom_line(aes(x = site, y = V1), colour = gray(0.6)) + \n",
    "        geom_line(aes(x = site, y = V2), colour = gray(0.65)) + \n",
    "        geom_line(aes(x = site, y = V3), colour = gray(0.7)) + \n",
    "        theme_bw() + theme(panel.grid = element_blank()) + \n",
    "        xlab(expression(\"Position \"*italic(\"j\"))) + \n",
    "        ylab(expression(\"Number of individuals  \"*italic(\"y\")[italic(\"j\")])) + \n",
    "        ylim(c(0, 25))"
   ]
  },
  {
   "cell_type": "markdown",
   "metadata": {},
   "source": [
    "## 11.5 空間相関モデルと欠測のあるデータ"
   ]
  },
  {
   "cell_type": "markdown",
   "metadata": {},
   "source": [
    "状態空間モデルの場合は，モデルを少し書き換える必要がある\n",
    "（どこが欠測かを明示する必要がある）"
   ]
  },
  {
   "cell_type": "markdown",
   "metadata": {},
   "source": [
    "空間相関あり"
   ]
  },
  {
   "cell_type": "code",
   "execution_count": 183,
   "metadata": {
    "collapsed": false
   },
   "outputs": [],
   "source": [
    "Idx.obs <- c(1:50)[-c(6, 9, 12, 13, 26:30)]\n",
    "Y.obs <- Y[Idx.obs]\n",
    "data.list4 <- list(\n",
    "    N.site = length(Y), \n",
    "    Idx.obs = Idx.obs, \n",
    "    Y.obs = Y.obs, \n",
    "    N.obs = length(Y.obs)\n",
    ")"
   ]
  },
  {
   "cell_type": "code",
   "execution_count": 184,
   "metadata": {
    "collapsed": false
   },
   "outputs": [
    {
     "name": "stdout",
     "output_type": "stream",
     "text": [
      "Compiling model graph\n",
      "   Resolving undeclared variables\n",
      "   Allocating nodes\n",
      "Graph information:\n",
      "   Observed stochastic nodes: 41\n",
      "   Unobserved stochastic nodes: 51\n",
      "   Total graph size: 183\n",
      "\n",
      "Initializing model\n",
      "\n"
     ]
    }
   ],
   "source": [
    "m4 <- jags.model(\n",
    "    file = \"chap11-model4.jags\", \n",
    "    data = data.list4,\n",
    "    n.chain = 3, \n",
    "    n.adapt = 100\n",
    ")"
   ]
  },
  {
   "cell_type": "code",
   "execution_count": 185,
   "metadata": {
    "collapsed": true
   },
   "outputs": [],
   "source": [
    "post.jags4 <- coda.samples(\n",
    "    m2, \n",
    "    c(\"r\", \"s\"), \n",
    "    n.iter = 10000, \n",
    "    thin = 10\n",
    ")"
   ]
  },
  {
   "cell_type": "code",
   "execution_count": 194,
   "metadata": {
    "collapsed": false
   },
   "outputs": [
    {
     "data": {},
     "metadata": {},
     "output_type": "display_data"
    },
    {
     "data": {
      "image/png": "[encoded data removed]",
      "text/plain": [
       "plot without title"
      ]
     },
     "metadata": {},
     "output_type": "display_data"
    }
   ],
   "source": [
    "(function(){\n",
    "    Y.hat <- exp(summary(post.jags4[, grep(\"r\", varnames(post.jags4))])$statistics[, \"Mean\"])\n",
    "    Y.qnt <- exp(summary(post.jags4[, grep(\"r\", varnames(post.jags4))])$quantiles[, c(\"2.5%\", \"97.5%\")])\n",
    "    p.fill <- rep(\"black\", 50)\n",
    "    p.fill[Idx.obs] <- \"white\"\n",
    "    data_frame(site = seq_along(Y), \n",
    "           Y = Y,\n",
    "           Y.hat = Y.hat,\n",
    "           Y.975 = Y.qnt[, 2],\n",
    "           Y.025 = Y.qnt[, 1]) %>>% \n",
    "    ggplot() +\n",
    "        geom_point(aes(x = site, y = Y), shape = 21, fill = p.fill) +\n",
    "        geom_line(aes(x = site, y = Y.hat)) +\n",
    "        geom_ribbon(aes(x = site, ymin = Y.025, ymax = Y.975), alpha = 0.3) + \n",
    "        theme_bw() + \n",
    "        theme(\n",
    "            panel.grid = element_blank()\n",
    "        ) + \n",
    "        xlab(expression(\"Position \"*italic(\"j\"))) + \n",
    "        ylab(expression(\"Number of individuals  \"*italic(\"y\")[italic(\"j\")])) + \n",
    "        scale_y_continuous(breaks = seq(0, 25, 5), limits = c(0, 27))\n",
    "})()"
   ]
  },
  {
   "cell_type": "markdown",
   "metadata": {},
   "source": [
    "空間相関なし"
   ]
  },
  {
   "cell_type": "code",
   "execution_count": 226,
   "metadata": {
    "collapsed": false
   },
   "outputs": [
    {
     "name": "stdout",
     "output_type": "stream",
     "text": [
      "Compiling model graph\n",
      "   Resolving undeclared variables\n",
      "   Allocating nodes\n",
      "Graph information:\n",
      "   Observed stochastic nodes: 41\n",
      "   Unobserved stochastic nodes: 52\n",
      "   Total graph size: 275\n",
      "\n",
      "Initializing model\n",
      "\n"
     ]
    }
   ],
   "source": [
    "m5 <- jags.model(\n",
    "    file = \"chap11-model5.jags\", \n",
    "    data = data.list4,\n",
    "    n.chain = 3, \n",
    "    n.adapt = 100\n",
    ")"
   ]
  },
  {
   "cell_type": "code",
   "execution_count": 227,
   "metadata": {
    "collapsed": true
   },
   "outputs": [],
   "source": [
    "post.jags5 <- coda.samples(\n",
    "    m5, \n",
    "    c(\"r\", \"beta\", \"s\"), \n",
    "    n.iter = 10000,\n",
    "    thin = 10\n",
    ")"
   ]
  },
  {
   "cell_type": "code",
   "execution_count": 228,
   "metadata": {
    "collapsed": false,
    "scrolled": true
   },
   "outputs": [
    {
     "data": {
      "text/plain": [
       "Potential scale reduction factors:\n",
       "\n",
       "      Point est. Upper C.I.\n",
       "beta       1.004      1.015\n",
       "r[1]       1.000      1.000\n",
       "r[2]       1.002      1.003\n",
       "r[3]       1.001      1.002\n",
       "r[4]       1.001      1.002\n",
       "r[5]       1.001      1.006\n",
       "r[6]       0.999      0.999\n",
       "r[7]       1.002      1.002\n",
       "r[8]       1.010      1.038\n",
       "r[9]       1.000      1.003\n",
       "r[10]      1.001      1.005\n",
       "r[11]      1.002      1.007\n",
       "r[12]      1.001      1.007\n",
       "r[13]      1.001      1.006\n",
       "r[14]      1.000      1.000\n",
       "r[15]      1.001      1.003\n",
       "r[16]      1.003      1.009\n",
       "r[17]      1.000      1.001\n",
       "r[18]      1.000      1.000\n",
       "r[19]      1.001      1.003\n",
       "r[20]      1.000      1.001\n",
       "r[21]      1.001      1.004\n",
       "r[22]      1.007      1.024\n",
       "r[23]      1.002      1.007\n",
       "r[24]      1.001      1.003\n",
       "r[25]      1.001      1.005\n",
       "r[26]      0.999      0.999\n",
       "r[27]      1.000      1.001\n",
       "r[28]      1.001      1.004\n",
       "r[29]      1.001      1.004\n",
       "r[30]      0.999      1.000\n",
       "r[31]      1.001      1.003\n",
       "r[32]      1.005      1.021\n",
       "r[33]      1.000      1.002\n",
       "r[34]      1.001      1.005\n",
       "r[35]      1.002      1.008\n",
       "r[36]      1.000      1.001\n",
       "r[37]      0.999      0.999\n",
       "r[38]      1.000      1.003\n",
       "r[39]      1.002      1.010\n",
       "r[40]      1.000      1.001\n",
       "r[41]      1.002      1.009\n",
       "r[42]      1.002      1.006\n",
       "r[43]      0.999      1.000\n",
       "r[44]      1.001      1.005\n",
       "r[45]      1.005      1.014\n",
       "r[46]      0.999      1.000\n",
       "r[47]      1.001      1.004\n",
       "r[48]      1.004      1.014\n",
       "r[49]      1.000      1.001\n",
       "r[50]      1.000      1.001\n",
       "s          1.001      1.004\n",
       "\n",
       "Multivariate psrf\n",
       "\n",
       "1.03"
      ]
     },
     "metadata": {},
     "output_type": "display_data"
    }
   ],
   "source": [
    "gelman.diag(post.jags5)"
   ]
  },
  {
   "cell_type": "code",
   "execution_count": 225,
   "metadata": {
    "collapsed": false,
    "scrolled": true
   },
   "outputs": [
    {
     "data": {
      "text/plain": [
       "\n",
       "Iterations = 10110:20100\n",
       "Thinning interval = 10 \n",
       "Number of chains = 3 \n",
       "Sample size per chain = 1000 \n",
       "\n",
       "1. Empirical mean and standard deviation for each variable,\n",
       "   plus standard error of the mean:\n",
       "\n",
       "           Mean      SD Naive SE Time-series SE\n",
       "beta   2.194261 0.09978 0.001822       0.002274\n",
       "r[1]  -0.945356 0.41808 0.007633       0.007798\n",
       "r[2]  -0.578535 0.35221 0.006431       0.006430\n",
       "r[3]  -0.699867 0.37076 0.006769       0.006445\n",
       "r[4]  -0.371389 0.32156 0.005871       0.005780\n",
       "r[5]  -0.271246 0.30845 0.005631       0.005632\n",
       "r[6]   0.009398 0.53501 0.009768       0.009487\n",
       "r[7]  -0.106109 0.29469 0.005380       0.005295\n",
       "r[8]   0.317402 0.26937 0.004918       0.004920\n",
       "r[9]   0.021335 0.52676 0.009617       0.009620\n",
       "r[10]  0.051228 0.28460 0.005196       0.005195\n",
       "r[11]  0.480604 0.24998 0.004564       0.004953\n",
       "r[12]  0.013790 0.52775 0.009635       0.009633\n",
       "r[13] -0.007827 0.52739 0.009629       0.009505\n",
       "r[14]  0.584996 0.24027 0.004387       0.004624\n",
       "r[15]  0.584400 0.24815 0.004531       0.004929\n",
       "r[16]  0.542859 0.24625 0.004496       0.004858\n",
       "r[17]  0.383522 0.25371 0.004632       0.004742\n",
       "r[18]  0.258252 0.25466 0.004649       0.004806\n",
       "r[19]  0.250528 0.26740 0.004882       0.004882\n",
       "r[20] -0.031056 0.28889 0.005274       0.005504\n",
       "r[21]  0.121802 0.27624 0.005043       0.005001\n",
       "r[22]  0.373497 0.25634 0.004680       0.004892\n",
       "r[23]  0.538151 0.24005 0.004383       0.004617\n",
       "r[24]  0.192198 0.26545 0.004847       0.005111\n",
       "r[25]  0.126781 0.27293 0.004983       0.005043\n",
       "r[26] -0.003264 0.52356 0.009559       0.009747\n",
       "r[27] -0.004397 0.53878 0.009837       0.009897\n",
       "r[28]  0.006010 0.51985 0.009491       0.009264\n",
       "r[29]  0.001002 0.50892 0.009292       0.009248\n",
       "r[30]  0.002261 0.51877 0.009471       0.009340\n",
       "r[31] -0.275148 0.31144 0.005686       0.005716\n",
       "r[32]  0.376062 0.25589 0.004672       0.004672\n",
       "r[33]  0.058099 0.27830 0.005081       0.005151\n",
       "r[34]  0.124905 0.28214 0.005151       0.005153\n",
       "r[35]  0.326393 0.25867 0.004723       0.004723\n",
       "r[36] -0.195220 0.30054 0.005487       0.005600\n",
       "r[37]  0.325841 0.25190 0.004599       0.004674\n",
       "r[38]  0.322327 0.25643 0.004682       0.004682\n",
       "r[39]  0.260485 0.25448 0.004646       0.004912\n",
       "r[40]  0.485061 0.24925 0.004551       0.004646\n",
       "r[41] -0.105948 0.29719 0.005426       0.005538\n",
       "r[42] -0.190565 0.30170 0.005508       0.005510\n",
       "r[43]  0.047372 0.27669 0.005052       0.004944\n",
       "r[44] -0.469425 0.33436 0.006104       0.006062\n",
       "r[45] -0.364475 0.31644 0.005777       0.005173\n",
       "r[46] -0.380764 0.31810 0.005808       0.005936\n",
       "r[47] -0.183485 0.30041 0.005485       0.005486\n",
       "r[48] -0.462309 0.33503 0.006117       0.006119\n",
       "r[49] -0.570708 0.34541 0.006306       0.006279\n",
       "r[50] -0.821982 0.39057 0.007131       0.007127\n",
       "s      0.512223 0.09884 0.001805       0.001960\n",
       "\n",
       "2. Quantiles for each variable:\n",
       "\n",
       "          2.5%       25%       50%       75%    97.5%\n",
       "beta   1.98176  2.131016  2.199419  2.262669  2.37961\n",
       "r[1]  -1.86538 -1.195810 -0.917569 -0.655564 -0.22214\n",
       "r[2]  -1.31904 -0.796417 -0.561690 -0.337024  0.07981\n",
       "r[3]  -1.50441 -0.926092 -0.675145 -0.446648 -0.04576\n",
       "r[4]  -1.03945 -0.575596 -0.350974 -0.147863  0.20512\n",
       "r[5]  -0.90381 -0.465750 -0.259153 -0.060285  0.29911\n",
       "r[6]  -1.02274 -0.348054  0.013178  0.348997  1.07412\n",
       "r[7]  -0.69376 -0.302970 -0.103252  0.100044  0.45021\n",
       "r[8]  -0.20841  0.136102  0.318033  0.501823  0.83887\n",
       "r[9]  -1.04612 -0.307904  0.016115  0.360816  1.08020\n",
       "r[10] -0.52684 -0.136568  0.059637  0.248631  0.57398\n",
       "r[11] -0.01620  0.312276  0.485490  0.650293  0.97308\n",
       "r[12] -1.02364 -0.326826  0.018026  0.354669  1.08681\n",
       "r[13] -1.06235 -0.334087 -0.004900  0.330523  1.02357\n",
       "r[14]  0.11949  0.421683  0.588828  0.748372  1.05923\n",
       "r[15]  0.09715  0.418342  0.589350  0.751098  1.04865\n",
       "r[16]  0.05825  0.375688  0.541628  0.712179  1.01411\n",
       "r[17] -0.11857  0.214361  0.390121  0.557365  0.87686\n",
       "r[18] -0.24316  0.085405  0.259936  0.433692  0.73319\n",
       "r[19] -0.27565  0.064784  0.260289  0.431168  0.77296\n",
       "r[20] -0.60092 -0.228135 -0.023485  0.169500  0.51004\n",
       "r[21] -0.43028 -0.065007  0.130568  0.311027  0.65593\n",
       "r[22] -0.13870  0.207244  0.377073  0.546498  0.87639\n",
       "r[23]  0.06080  0.377292  0.542778  0.704004  1.00337\n",
       "r[24] -0.33318  0.009396  0.196646  0.372383  0.70497\n",
       "r[25] -0.43632 -0.047023  0.130415  0.310970  0.67076\n",
       "r[26] -1.04259 -0.335940 -0.010359  0.328435  1.03026\n",
       "r[27] -1.01119 -0.365534 -0.007939  0.335947  1.08689\n",
       "r[28] -1.01192 -0.337842  0.008656  0.336312  1.06025\n",
       "r[29] -0.96566 -0.331413  0.002889  0.330598  1.00424\n",
       "r[30] -1.05110 -0.319599 -0.003276  0.327542  1.05927\n",
       "r[31] -0.91671 -0.465447 -0.269753 -0.058195  0.29482\n",
       "r[32] -0.12073  0.203254  0.381411  0.546781  0.86023\n",
       "r[33] -0.49667 -0.132047  0.065196  0.250196  0.58439\n",
       "r[34] -0.41504 -0.069218  0.126681  0.326854  0.65441\n",
       "r[35] -0.16866  0.150871  0.335046  0.502131  0.82389\n",
       "r[36] -0.82104 -0.390335 -0.184355  0.009901  0.37145\n",
       "r[37] -0.16525  0.154264  0.329445  0.494577  0.81351\n",
       "r[38] -0.19241  0.149113  0.324074  0.498081  0.82411\n",
       "r[39] -0.24939  0.091048  0.264151  0.426782  0.76286\n",
       "r[40] -0.03575  0.316283  0.491671  0.658771  0.94529\n",
       "r[41] -0.71421 -0.299245 -0.101966  0.098414  0.43822\n",
       "r[42] -0.81703 -0.385653 -0.182804  0.012650  0.37429\n",
       "r[43] -0.50583 -0.137667  0.051584  0.237361  0.56202\n",
       "r[44] -1.18491 -0.683132 -0.456037 -0.236853  0.13142\n",
       "r[45] -1.00475 -0.567430 -0.348247 -0.137073  0.20692\n",
       "r[46] -1.03465 -0.579552 -0.366838 -0.164255  0.21733\n",
       "r[47] -0.81774 -0.376191 -0.177141  0.020805  0.37772\n",
       "r[48] -1.17023 -0.670011 -0.445972 -0.231739  0.14698\n",
       "r[49] -1.30781 -0.786567 -0.566544 -0.327986  0.05519\n",
       "r[50] -1.67798 -1.065525 -0.799220 -0.553870 -0.12591\n",
       "s      0.33680  0.442703  0.504233  0.575436  0.72497\n"
      ]
     },
     "metadata": {},
     "output_type": "display_data"
    }
   ],
   "source": [
    "summary(post.jags5)"
   ]
  },
  {
   "cell_type": "code",
   "execution_count": 239,
   "metadata": {
    "collapsed": false
   },
   "outputs": [
    {
     "data": {},
     "metadata": {},
     "output_type": "display_data"
    },
    {
     "data": {
      "image/png": "[encoded data removed]",
      "text/plain": [
       "plot without title"
      ]
     },
     "metadata": {},
     "output_type": "display_data"
    }
   ],
   "source": [
    "(function(){\n",
    "    beta <- summary(post.jags5[, \"beta\"])$statistics[[\"Mean\"]]\n",
    "    Y.hat <- exp(beta + summary(post.jags5[, grep(\"r\", varnames(post.jags5))])$statistics[, \"Mean\"])\n",
    "    Y.qnt <- exp(beta + summary(post.jags5[, grep(\"r\", varnames(post.jags5))])$quantiles[, c(\"2.5%\", \"97.5%\")])\n",
    "    p.fill <- rep(\"black\", 50)\n",
    "    p.fill[Idx.obs] <- \"white\"\n",
    "    data_frame(site = seq_along(Y), \n",
    "           Y = Y,\n",
    "           Y.hat = Y.hat,\n",
    "           Y.975 = Y.qnt[, 2],\n",
    "           Y.025 = Y.qnt[, 1]) %>>% \n",
    "    ggplot() +\n",
    "        geom_point(aes(x = site, y = Y), shape = 21, fill = p.fill) +\n",
    "        geom_line(aes(x = site, y = Y.hat)) +\n",
    "        geom_ribbon(aes(x = site, ymin = Y.025, ymax = Y.975), alpha = 0.3) + \n",
    "        theme_bw() + \n",
    "        theme(\n",
    "            panel.grid = element_blank()\n",
    "        ) + \n",
    "        xlab(expression(\"Position \"*italic(\"j\"))) + \n",
    "        ylab(expression(\"Number of individuals  \"*italic(\"y\")[italic(\"j\")])) + \n",
    "        scale_y_continuous(breaks = seq(0, 25, 5), limits = c(0, 28))\n",
    "})()"
   ]
  },
  {
   "cell_type": "markdown",
   "metadata": {},
   "source": [
    "すこしおかしい気がする"
   ]
  },
  {
   "cell_type": "markdown",
   "metadata": {},
   "source": [
    "## 11.6 まとめ"
   ]
  },
  {
   "cell_type": "code",
   "execution_count": 29,
   "metadata": {
    "collapsed": false
   },
   "outputs": [
    {
     "name": "stderr",
     "output_type": "stream",
     "text": [
      "Session info -------------------------------------------------------------------\n",
      "Packages -----------------------------------------------------------------------\n"
     ]
    },
    {
     "data": {
      "text/plain": [
       " setting  value                       \n",
       " version  R version 3.3.2 (2016-10-31)\n",
       " system   x86_64, mingw32             \n",
       " ui       RTerm                       \n",
       " language (EN)                        \n",
       " collate  Japanese_Japan.932          \n",
       " tz       Asia/Tokyo                  \n",
       " date     2017-01-09                  \n",
       "\n",
       " package    * version date       source                            \n",
       " assertthat   0.1     2013-12-06 CRAN (R 3.2.1)                    \n",
       " Cairo        1.5-9   2015-09-26 CRAN (R 3.2.2)                    \n",
       " coda       * 0.18-1  2015-10-16 CRAN (R 3.2.3)                    \n",
       " colorspace   1.2-7   2016-10-11 CRAN (R 3.3.2)                    \n",
       " crayon       1.3.2   2016-06-28 CRAN (R 3.3.1)                    \n",
       " DBI          0.5-1   2016-09-10 CRAN (R 3.2.5)                    \n",
       " devtools     1.12.0  2016-06-24 CRAN (R 3.3.1)                    \n",
       " digest       0.6.10  2016-08-02 CRAN (R 3.3.1)                    \n",
       " dplyr      * 0.5.0   2016-06-24 CRAN (R 3.2.5)                    \n",
       " evaluate     0.10    2016-10-11 CRAN (R 3.3.2)                    \n",
       " ggplot2    * 2.2.0   2016-11-11 CRAN (R 3.3.2)                    \n",
       " gtable       0.2.0   2016-02-26 CRAN (R 3.2.5)                    \n",
       " IRdisplay    0.4.4   2016-08-02 CRAN (R 3.3.1)                    \n",
       " IRkernel     0.7     2016-11-03 Github (IRkernel/IRkernel@6e6c2ec)\n",
       " jsonlite     1.1     2016-09-14 CRAN (R 3.2.5)                    \n",
       " labeling     0.3     2014-08-23 CRAN (R 3.2.1)                    \n",
       " lattice      0.20-34 2016-09-06 CRAN (R 3.3.2)                    \n",
       " lazyeval     0.2.0   2016-06-12 CRAN (R 3.2.5)                    \n",
       " magrittr     1.5     2014-11-22 CRAN (R 3.2.1)                    \n",
       " memoise      1.0.0   2016-01-29 CRAN (R 3.2.3)                    \n",
       " munsell      0.4.3   2016-02-13 CRAN (R 3.2.5)                    \n",
       " pbdZMQ       0.2-4   2016-09-22 CRAN (R 3.3.1)                    \n",
       " pipeR      * 0.6.1.3 2016-04-04 CRAN (R 3.3.1)                    \n",
       " plyr         1.8.4   2016-06-08 CRAN (R 3.2.5)                    \n",
       " purrr      * 0.2.2   2016-06-18 CRAN (R 3.2.5)                    \n",
       " R6           2.2.0   2016-10-05 CRAN (R 3.3.2)                    \n",
       " Rcpp         0.12.7  2016-09-05 CRAN (R 3.2.5)                    \n",
       " readr      * 1.0.0   2016-08-03 CRAN (R 3.2.5)                    \n",
       " repr         0.9     2016-07-24 CRAN (R 3.3.1)                    \n",
       " rjags      * 4-6     2016-02-19 CRAN (R 3.3.2)                    \n",
       " scales       0.4.1   2016-11-09 CRAN (R 3.3.2)                    \n",
       " stringi      1.1.2   2016-10-01 CRAN (R 3.3.2)                    \n",
       " stringr      1.1.0   2016-08-19 CRAN (R 3.2.5)                    \n",
       " tibble       1.2     2016-08-26 CRAN (R 3.2.5)                    \n",
       " tidyr      * 0.6.0   2016-08-12 CRAN (R 3.2.5)                    \n",
       " uuid         0.1-2   2015-07-28 CRAN (R 3.3.1)                    \n",
       " withr        1.0.2   2016-06-20 CRAN (R 3.2.5)                    "
      ]
     },
     "metadata": {},
     "output_type": "display_data"
    }
   ],
   "source": [
    "devtools::session_info()"
   ]
  }
 ],
 "metadata": {
  "anaconda-cloud": {},
  "kernelspec": {
   "display_name": "R",
   "language": "R",
   "name": "ir33"
  },
  "language_info": {
   "codemirror_mode": "r",
   "file_extension": ".r",
   "mimetype": "text/x-r-source",
   "name": "R",
   "pygments_lexer": "r",
   "version": "3.3.2"
  }
 },
 "nbformat": 4,
 "nbformat_minor": 0
}
