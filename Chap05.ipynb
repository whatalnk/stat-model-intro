{
 "cells": [
  {
   "cell_type": "markdown",
   "metadata": {},
   "source": [
    "# 5章 GLMの尤度比検定と検定の非対称性\n",
    "\n",
    "[HOME](https://whatalnk.github.io/stat-model-intro)\n",
    "\n",
    "スクリプト: [Chap05.r](https://raw.githubusercontent.com/whatalnk/stat-model-intro/master/Chap05.r)\n",
    "\n"
   ]
  },
  {
   "cell_type": "markdown",
   "metadata": {},
   "source": [
    "* 尤度比検定\n",
    "    * 逸脱度の差に注目\n",
    "    * ネストしているモデルたちを比較できる\n",
    "* パラメトリック\n",
    "* ノンパラメトリック"
   ]
  },
  {
   "cell_type": "markdown",
   "metadata": {},
   "source": [
    "## 5.1 統計学的な検定のわくぐみ\n",
    "\n",
    "__Neyman-Pearsonの検定のわくぐみ__（AICによるモデル選択との比較，図5.1）\n",
    "\n",
    "1. 使用するデータを決める\n",
    "1. 適切な統計モデルの設定，パラメータの最尤推定\n",
    "    * 帰無仮説と対立仮設\n",
    "1. 帰無仮説棄却の危険率を評価\n",
    "    * 検定統計量を決める\n",
    "    * 帰無仮説が成り立つと仮定した場合の検定統計量の値が発生しても珍しくない範囲を定める（95%なら有意水準5%）\n",
    "1. 帰無仮説が棄却できるかを判定    "
   ]
  },
  {
   "cell_type": "markdown",
   "metadata": {},
   "source": [
    "## 5.2 尤度比検定の例題: 逸脱度の差を調べる\n",
    "\n",
    "* 3章データ（種子数）\n",
    "* 平均が $\\lambda = \\exp(\\beta_1 + \\beta_2 x_i)$ のポアソン分布のGLM\n",
    "* 一定モデルとxモデルを比較，一定モデルが棄却できるかどうかを調べる\n"
   ]
  },
  {
   "cell_type": "code",
   "execution_count": 1,
   "metadata": {
    "collapsed": false
   },
   "outputs": [],
   "source": [
    "if (interactive()) {\n",
    "    (function(x){\n",
    "        notinstalled <- x[!(x %in% installed.packages()[, \"Package\"])]\n",
    "        if (length(notinstalled) > 0) {\n",
    "            cat(sprintf(\"Install %d packages: %s \\n\", length(notinstalled), notinstalled))\n",
    "            install.packages(notinstalled)\n",
    "        } else {\n",
    "            cat(\"Already installed\\n\")\n",
    "           installed.packages()[, \"Version\"][x] \n",
    "        }\n",
    "    })(c(\"pipeR\", \"dplyr\", \"tidyr\", \"ggplot2\", \"readr\", \"knitr\", \"devtools\"))\n",
    "}"
   ]
  },
  {
   "cell_type": "code",
   "execution_count": 2,
   "metadata": {
    "collapsed": false
   },
   "outputs": [
    {
     "name": "stderr",
     "output_type": "stream",
     "text": [
      "Loading required package: pipeR\n",
      "Loading required package: dplyr\n",
      "\n",
      "Attaching package: 'dplyr'\n",
      "\n",
      "The following objects are masked from 'package:stats':\n",
      "\n",
      "    filter, lag\n",
      "\n",
      "The following objects are masked from 'package:base':\n",
      "\n",
      "    intersect, setdiff, setequal, union\n",
      "\n",
      "Loading required package: tidyr\n",
      "Loading required package: ggplot2\n",
      "Loading required package: readr\n"
     ]
    },
    {
     "data": {
      "text/html": [
       "<dl class=dl-horizontal>\n",
       "\t<dt>pipeR</dt>\n",
       "\t\t<dd>TRUE</dd>\n",
       "\t<dt>dplyr</dt>\n",
       "\t\t<dd>TRUE</dd>\n",
       "\t<dt>tidyr</dt>\n",
       "\t\t<dd>TRUE</dd>\n",
       "\t<dt>ggplot2</dt>\n",
       "\t\t<dd>TRUE</dd>\n",
       "\t<dt>readr</dt>\n",
       "\t\t<dd>TRUE</dd>\n",
       "</dl>\n"
      ],
      "text/latex": [
       "\\begin{description*}\n",
       "\\item[pipeR] TRUE\n",
       "\\item[dplyr] TRUE\n",
       "\\item[tidyr] TRUE\n",
       "\\item[ggplot2] TRUE\n",
       "\\item[readr] TRUE\n",
       "\\end{description*}\n"
      ],
      "text/markdown": [
       "pipeR\n",
       ":   TRUEdplyr\n",
       ":   TRUEtidyr\n",
       ":   TRUEggplot2\n",
       ":   TRUEreadr\n",
       ":   TRUE\n",
       "\n"
      ],
      "text/plain": [
       "  pipeR   dplyr   tidyr ggplot2   readr \n",
       "   TRUE    TRUE    TRUE    TRUE    TRUE "
      ]
     },
     "metadata": {},
     "output_type": "display_data"
    }
   ],
   "source": [
    "sapply(c(\"pipeR\", \"dplyr\", \"tidyr\", \"ggplot2\", \"readr\"), require, character.only = TRUE)"
   ]
  },
  {
   "cell_type": "code",
   "execution_count": 3,
   "metadata": {
    "collapsed": false,
    "scrolled": true
   },
   "outputs": [
    {
     "name": "stderr",
     "output_type": "stream",
     "text": [
      "Parsed with column specification:\n",
      "cols(\n",
      "  y = col_integer(),\n",
      "  x = col_double(),\n",
      "  f = col_character()\n",
      ")\n"
     ]
    },
    {
     "name": "stdout",
     "output_type": "stream",
     "text": [
      "Classes 'tbl_df', 'tbl' and 'data.frame':\t100 obs. of  3 variables:\n",
      " $ y: int  6 6 6 12 10 4 9 9 9 11 ...\n",
      " $ x: num  8.31 9.44 9.5 9.07 10.16 ...\n",
      " $ f: chr  \"C\" \"C\" \"C\" \"C\" ...\n",
      " - attr(*, \"spec\")=List of 2\n",
      "  ..$ cols   :List of 3\n",
      "  .. ..$ y: list()\n",
      "  .. .. ..- attr(*, \"class\")= chr  \"collector_integer\" \"collector\"\n",
      "  .. ..$ x: list()\n",
      "  .. .. ..- attr(*, \"class\")= chr  \"collector_double\" \"collector\"\n",
      "  .. ..$ f: list()\n",
      "  .. .. ..- attr(*, \"class\")= chr  \"collector_character\" \"collector\"\n",
      "  ..$ default: list()\n",
      "  .. ..- attr(*, \"class\")= chr  \"collector_guess\" \"collector\"\n",
      "  ..- attr(*, \"class\")= chr \"col_spec\"\n"
     ]
    }
   ],
   "source": [
    "d <- read_csv(\"data/chap03/data3a.csv\")\n",
    "str(d)"
   ]
  },
  {
   "cell_type": "markdown",
   "metadata": {},
   "source": [
    "一定モデル"
   ]
  },
  {
   "cell_type": "code",
   "execution_count": 4,
   "metadata": {
    "collapsed": false
   },
   "outputs": [
    {
     "data": {
      "text/plain": [
       "\n",
       "Call:  glm(formula = y ~ 1, family = \"poisson\", data = d)\n",
       "\n",
       "Coefficients:\n",
       "(Intercept)  \n",
       "      2.058  \n",
       "\n",
       "Degrees of Freedom: 99 Total (i.e. Null);  99 Residual\n",
       "Null Deviance:\t    89.51 \n",
       "Residual Deviance: 89.51 \tAIC: 477.3"
      ]
     },
     "metadata": {},
     "output_type": "display_data"
    }
   ],
   "source": [
    "fit.null <- glm(y ~ 1, data = d, family = \"poisson\")\n",
    "fit.null"
   ]
  },
  {
   "cell_type": "code",
   "execution_count": 5,
   "metadata": {
    "collapsed": false
   },
   "outputs": [
    {
     "data": {
      "text/plain": [
       "'log Lik.' -237.6432 (df=1)"
      ]
     },
     "metadata": {},
     "output_type": "display_data"
    }
   ],
   "source": [
    "logLik(fit.null)"
   ]
  },
  {
   "cell_type": "markdown",
   "metadata": {},
   "source": [
    "xモデル"
   ]
  },
  {
   "cell_type": "code",
   "execution_count": 6,
   "metadata": {
    "collapsed": false
   },
   "outputs": [
    {
     "data": {
      "text/plain": [
       "\n",
       "Call:  glm(formula = y ~ x, family = \"poisson\", data = d)\n",
       "\n",
       "Coefficients:\n",
       "(Intercept)            x  \n",
       "    1.29172      0.07566  \n",
       "\n",
       "Degrees of Freedom: 99 Total (i.e. Null);  98 Residual\n",
       "Null Deviance:\t    89.51 \n",
       "Residual Deviance: 84.99 \tAIC: 474.8"
      ]
     },
     "metadata": {},
     "output_type": "display_data"
    }
   ],
   "source": [
    "fit.x <- glm(y ~ x, data = d, family = \"poisson\")\n",
    "fit.x"
   ]
  },
  {
   "cell_type": "code",
   "execution_count": 7,
   "metadata": {
    "collapsed": false
   },
   "outputs": [
    {
     "data": {
      "text/plain": [
       "'log Lik.' -235.3863 (df=2)"
      ]
     },
     "metadata": {},
     "output_type": "display_data"
    }
   ],
   "source": [
    "logLik(fit.x)"
   ]
  },
  {
   "cell_type": "markdown",
   "metadata": {},
   "source": [
    "フルモデルの最大対数尤度，逸脱度，AIC"
   ]
  },
  {
   "cell_type": "code",
   "execution_count": 8,
   "metadata": {
    "collapsed": false
   },
   "outputs": [
    {
     "data": {
      "text/html": [
       "<dl>\n",
       "\t<dt>$maxLogLik</dt>\n",
       "\t\t<dd>-192.889752524496</dd>\n",
       "\t<dt>$dev</dt>\n",
       "\t\t<dd>385.779505048992</dd>\n",
       "\t<dt>$aic</dt>\n",
       "\t\t<dd>585.779505048992</dd>\n",
       "</dl>\n"
      ],
      "text/latex": [
       "\\begin{description}\n",
       "\\item[\\$maxLogLik] -192.889752524496\n",
       "\\item[\\$dev] 385.779505048992\n",
       "\\item[\\$aic] 585.779505048992\n",
       "\\end{description}\n"
      ],
      "text/markdown": [
       "$maxLogLik\n",
       ":   -192.889752524496\n",
       "$dev\n",
       ":   385.779505048992\n",
       "$aic\n",
       ":   585.779505048992\n",
       "\n",
       "\n"
      ],
      "text/plain": [
       "$maxLogLik\n",
       "[1] -192.8898\n",
       "\n",
       "$dev\n",
       "[1] 385.7795\n",
       "\n",
       "$aic\n",
       "[1] 585.7795\n"
      ]
     },
     "metadata": {},
     "output_type": "display_data"
    }
   ],
   "source": [
    "fit.full <- list()\n",
    "fit.full$maxLogLik <- dpois(d$y, lambda = d$y) %>>% log() %>>% sum()\n",
    "fit.full$dev <- -2 * fit.full$maxLogLik\n",
    "fit.full$aic <- -2 * (fit.full$maxLogLik - length(d$y))\n",
    "fit.full"
   ]
  },
  {
   "cell_type": "code",
   "execution_count": 9,
   "metadata": {
    "collapsed": true
   },
   "outputs": [],
   "source": [
    "options(repr.plot.width = 4, repr.plot.height = 4)"
   ]
  },
  {
   "cell_type": "code",
   "execution_count": 10,
   "metadata": {
    "collapsed": false
   },
   "outputs": [
    {
     "data": {},
     "metadata": {},
     "output_type": "display_data"
    },
    {
     "data": {
      "image/png": "[encoded data removed]",
      "text/plain": [
       "plot without title"
      ]
     },
     "metadata": {},
     "output_type": "display_data"
    }
   ],
   "source": [
    "ggplot(aes(x = x, y = y), data = d) + \n",
    "    geom_point() + \n",
    "    stat_smooth(formula = y ~ 1, method=\"glm\", method.args = list(family = \"poisson\"), se = FALSE, size = 0.5, linetype = \"dashed\") + \n",
    "    stat_smooth(formula = y ~ x, method=\"glm\", method.args = list(family = \"poisson\"), se = FALSE, size = 0.5) + \n",
    "    xlab(expression(\"Body size\"~italic(x)[i])) + \n",
    "    ylab(expression(\"Number of seeds\"~italic(y)[i]))"
   ]
  },
  {
   "cell_type": "code",
   "execution_count": 11,
   "metadata": {
    "collapsed": false
   },
   "outputs": [
    {
     "data": {
      "text/plain": [
       "\n",
       "\n",
       "|model |   k| max.log.L| deviance| resd.dev.|   aic|\n",
       "|:-----|---:|---------:|--------:|---------:|-----:|\n",
       "|Null  |   1|    -237.6|    475.3|      89.5| 477.3|\n",
       "|x     |   2|    -235.4|    470.8|      85.0| 474.8|\n",
       "|Full  | 100|    -192.9|    385.8|       0.0| 585.8|"
      ]
     },
     "metadata": {},
     "output_type": "display_data"
    }
   ],
   "source": [
    "data.frame(\n",
    "    \"model\" = c(\"Null\", \"x\", \"Full\"), \n",
    "    \"k\" = c(1, 2, 100), \n",
    "    \"max.log.L\" = c(logLik(fit.null), logLik(fit.x), fit.full$maxLogLik), \n",
    "    \"deviance\" = c(fit.null$deviance, fit.x$deviance, 0) + fit.full$dev, \n",
    "    \"resd.dev.\" = c(fit.null$deviance, fit.x$deviance, 0), \n",
    "    \"aic\" = c(fit.null$aic, fit.x$aic, fit.full$aic)\n",
    ") %>>% mutate_each(funs(round(., 1)), max.log.L:aic) %>>% knitr::kable()"
   ]
  },
  {
   "cell_type": "markdown",
   "metadata": {
    "collapsed": true
   },
   "source": [
    "尤度比: \n",
    "\n",
    "$$\\frac{L_1^\\ast}{L_2^\\ast} = \\frac{\\text{Max. likelyhood of Null model}}{\\text{Max. likelyhood of x model}}$$\n",
    "\n",
    "尤度比検定の検定統計量: 逸脱度の差（尤度比の対数 × -2）\n",
    "\n",
    "$$\\Delta D_{1, 2} = -2 \\times (\\log L_1^\\ast - \\log L_2^\\ast)$$\n",
    "\n",
    "例題の場合だと，約4.5の改善"
   ]
  },
  {
   "cell_type": "code",
   "execution_count": 12,
   "metadata": {
    "collapsed": false
   },
   "outputs": [
    {
     "data": {
      "text/html": [
       "4.51394107885181"
      ],
      "text/latex": [
       "4.51394107885181"
      ],
      "text/markdown": [
       "4.51394107885181"
      ],
      "text/plain": [
       "[1] 4.513941"
      ]
     },
     "metadata": {},
     "output_type": "display_data"
    }
   ],
   "source": [
    "(fit.null$deviance - fit.x$deviance)"
   ]
  },
  {
   "cell_type": "markdown",
   "metadata": {},
   "source": [
    "## 5.3 2種類の過誤と統計学的な検定の非対称性\n",
    "統計学的な検定\n",
    "* 帰無仮説: Null model\n",
    "* 対立仮設: x model\n",
    "\n",
    "2種類の過誤\n",
    "* Type I error: 真のモデルは Null model なのに 観測データが Null model からではなく x model から生じたと判断する（帰無仮説を棄却）\n",
    "* Type II error: 真のモデルはNull model ではないのに，観測データが Null model から生じたと判断する（帰無仮説を棄却できない）\n",
    "\n",
    "Type I error を検討\n",
    "1. 帰無仮説が正しいとする（$\\hat{\\beta}_1 = 2.06$ を得る）\n",
    "1. $\\hat{\\beta}_1 = 2.06$ のモデルからいくつもデータを生成して，$\\Delta D_{1,2}$ の分布を得る\n",
    "1. $\\Delta D_{1,2} \\ge 4.5$ なる確率 $P$ を計算する\n",
    "1. $P$ を検討"
   ]
  },
  {
   "cell_type": "markdown",
   "metadata": {},
   "source": [
    "## 5.4 帰無仮説を棄却するための有意水準\n",
    "\n",
    "有意水準$\\alpha$を設定しておいて，\n",
    "\n",
    "* $P \\ge \\alpha$: 帰無仮説を棄却できない\n",
    "* $P \\lt \\alpha$: 帰無仮説を棄却\n",
    "\n",
    "とする（$\\alpha = 0.05$ が多い）．\n",
    "\n",
    "以下では2種類の方法で$P$値を計算する "
   ]
  },
  {
   "cell_type": "markdown",
   "metadata": {},
   "source": [
    "### 5.4.1 方法（1）汎用性のあるパラメトリックブートストラップ法\n",
    "\n",
    "1. 平均 `mean(d$y)` のポアソン乱数を生成\n",
    "    * Null model で推定した平均種子数: $\\exp(\\beta_1)$\n",
    "1. 生成した乱数から $\\Delta D_{1,2}$ を計算"
   ]
  },
  {
   "cell_type": "code",
   "execution_count": 13,
   "metadata": {
    "collapsed": false
   },
   "outputs": [
    {
     "name": "stdout",
     "output_type": "stream",
     "text": [
      "get.dd <- function(d) # データの生成と逸脱度差の評価\n",
      "{\n",
      "  n.sample <- nrow(d) # データ数\n",
      "  y.mean <- mean(d$y) # 標本平均\n",
      "  d$y.rnd <- rpois(n.sample, lambda = y.mean)\n",
      "  fit1 <- glm(y.rnd ~ 1, data = d, family = poisson)\n",
      "  fit2 <- glm(y.rnd ~ x, data = d, family = poisson)\n",
      "  fit1$deviance - fit2$deviance # 逸脱度の差を返す\n",
      "}\n",
      "\n",
      "pb <- function(d, n.bootstrap)\n",
      "{\n",
      "  replicate(n.bootstrap, get.dd(d))\n",
      "}\n"
     ]
    }
   ],
   "source": [
    "readLines(\"Data/chap05/pbnew.R\", encoding = \"UTF-8\") %>>% cat(sep=\"\\n\")"
   ]
  },
  {
   "cell_type": "code",
   "execution_count": 14,
   "metadata": {
    "collapsed": false
   },
   "outputs": [
    {
     "name": "stdout",
     "output_type": "stream",
     "text": [
      "pb <- function(d, n.bootstrap)\n",
      "{\n",
      "\tn.sample <- nrow(d)\n",
      "\ty.mean <- mean(d$y)\n",
      "\tcat(\"# \")\n",
      "\tv.d.dev12 <- sapply(\n",
      "\t\t1:n.bootstrap,\n",
      "\t\tfunction(i) {\n",
      "\t\t\tcat(\".\")\n",
      "\t\t\tif (i %% 50 == 0) cat(\"\\n# \")\n",
      "\t\t\td$y.rnd <- rpois(n.sample, lambda = y.mean)\n",
      "\t\t\tfit1 <- glm(y.rnd ~ 1, data = d, family = poisson)\n",
      "\t\t\tfit2 <- glm(y.rnd ~ x, data = d, family = poisson)\n",
      "\t\t\tfit1$deviance - fit2$deviance\n",
      "\t\t}\n",
      "\t)\n",
      "\tcat(\"\\n\")\n",
      "\tv.d.dev12\n",
      "}\n"
     ]
    }
   ],
   "source": [
    "readLines(\"Data/chap05/pb.R\", encoding = \"UTF-8\") %>>% cat(sep=\"\\n\")"
   ]
  },
  {
   "cell_type": "code",
   "execution_count": 15,
   "metadata": {
    "collapsed": false
   },
   "outputs": [
    {
     "data": {
      "text/html": [
       "<pre class=language-r><code>function (d, n.bootstrap) \n",
       "{\n",
       "<span style=white-space:pre-wrap>    n.sample &lt;- nrow(d)</span>\n",
       "<span style=white-space:pre-wrap>    y.mean &lt;- mean(d$y)</span>\n",
       "<span style=white-space:pre-wrap>    cat(\"# \")</span>\n",
       "<span style=white-space:pre-wrap>    v.d.dev12 &lt;- sapply(1:n.bootstrap, function(i) {</span>\n",
       "<span style=white-space:pre-wrap>        cat(\".\")</span>\n",
       "<span style=white-space:pre-wrap>        if (i%%50 == 0) </span>\n",
       "<span style=white-space:pre-wrap>            cat(\"\\n# \")</span>\n",
       "<span style=white-space:pre-wrap>        d$y.rnd &lt;- rpois(n.sample, lambda = y.mean)</span>\n",
       "<span style=white-space:pre-wrap>        fit1 &lt;- glm(y.rnd ~ 1, data = d, family = poisson)</span>\n",
       "<span style=white-space:pre-wrap>        fit2 &lt;- glm(y.rnd ~ x, data = d, family = poisson)</span>\n",
       "<span style=white-space:pre-wrap>        fit1$deviance - fit2$deviance</span>\n",
       "<span style=white-space:pre-wrap>    })</span>\n",
       "<span style=white-space:pre-wrap>    cat(\"\\n\")</span>\n",
       "<span style=white-space:pre-wrap>    v.d.dev12</span>\n",
       "}</code></pre>"
      ],
      "text/latex": [
       "\\begin{minted}{r}\n",
       "function (d, n.bootstrap) \n",
       "\\{\n",
       "    n.sample <- nrow(d)\n",
       "    y.mean <- mean(d\\$y)\n",
       "    cat(\"\\# \")\n",
       "    v.d.dev12 <- sapply(1:n.bootstrap, function(i) \\{\n",
       "        cat(\".\")\n",
       "        if (i\\%\\%50 == 0) \n",
       "            cat(\"\\textbackslash{}n\\# \")\n",
       "        d\\$y.rnd <- rpois(n.sample, lambda = y.mean)\n",
       "        fit1 <- glm(y.rnd \\textasciitilde{} 1, data = d, family = poisson)\n",
       "        fit2 <- glm(y.rnd \\textasciitilde{} x, data = d, family = poisson)\n",
       "        fit1\\$deviance - fit2\\$deviance\n",
       "    \\})\n",
       "    cat(\"\\textbackslash{}n\")\n",
       "    v.d.dev12\n",
       "\\}\n",
       "\\end{minted}"
      ],
      "text/markdown": [
       "```r\n",
       "function (d, n.bootstrap) \n",
       "{\n",
       "    n.sample <- nrow(d)\n",
       "    y.mean <- mean(d$y)\n",
       "    cat(\"# \")\n",
       "    v.d.dev12 <- sapply(1:n.bootstrap, function(i) {\n",
       "        cat(\".\")\n",
       "        if (i%%50 == 0) \n",
       "            cat(\"\\n# \")\n",
       "        d$y.rnd <- rpois(n.sample, lambda = y.mean)\n",
       "        fit1 <- glm(y.rnd ~ 1, data = d, family = poisson)\n",
       "        fit2 <- glm(y.rnd ~ x, data = d, family = poisson)\n",
       "        fit1$deviance - fit2$deviance\n",
       "    })\n",
       "    cat(\"\\n\")\n",
       "    v.d.dev12\n",
       "}\n",
       "```"
      ],
      "text/plain": [
       "function (d, n.bootstrap) \n",
       "{\n",
       "    n.sample <- nrow(d)\n",
       "    y.mean <- mean(d$y)\n",
       "    cat(\"# \")\n",
       "    v.d.dev12 <- sapply(1:n.bootstrap, function(i) {\n",
       "        cat(\".\")\n",
       "        if (i%%50 == 0) \n",
       "            cat(\"\\n# \")\n",
       "        d$y.rnd <- rpois(n.sample, lambda = y.mean)\n",
       "        fit1 <- glm(y.rnd ~ 1, data = d, family = poisson)\n",
       "        fit2 <- glm(y.rnd ~ x, data = d, family = poisson)\n",
       "        fit1$deviance - fit2$deviance\n",
       "    })\n",
       "    cat(\"\\n\")\n",
       "    v.d.dev12\n",
       "}"
      ]
     },
     "metadata": {},
     "output_type": "display_data"
    }
   ],
   "source": [
    "source(\"Data/chap05/pb.R\")\n",
    "# or\n",
    "# source(\"http://hosho.ees.hokudai.ac.jp/~kubo/stat/iwanamibook/fig/lrtest/pb.R\")\n",
    "pb"
   ]
  },
  {
   "cell_type": "code",
   "execution_count": 16,
   "metadata": {
    "collapsed": false
   },
   "outputs": [
    {
     "name": "stdout",
     "output_type": "stream",
     "text": [
      "# ..................................................\n",
      "# ..................................................\n",
      "# ..................................................\n",
      "# ..................................................\n",
      "# ..................................................\n",
      "# ..................................................\n",
      "# ..................................................\n",
      "# ..................................................\n",
      "# ..................................................\n",
      "# ..................................................\n",
      "# ..................................................\n",
      "# ..................................................\n",
      "# ..................................................\n",
      "# ..................................................\n",
      "# ..................................................\n",
      "# ..................................................\n",
      "# ..................................................\n",
      "# ..................................................\n",
      "# ..................................................\n",
      "# ..................................................\n",
      "# \n"
     ]
    }
   ],
   "source": [
    "dd12 <- pb(d, n.bootstrap = 1000)"
   ]
  },
  {
   "cell_type": "code",
   "execution_count": 17,
   "metadata": {
    "collapsed": false
   },
   "outputs": [
    {
     "data": {
      "text/plain": [
       "     Min.   1st Qu.    Median      Mean   3rd Qu.      Max. \n",
       " 0.000002  0.090930  0.439600  1.020000  1.363000 12.900000 "
      ]
     },
     "metadata": {},
     "output_type": "display_data"
    }
   ],
   "source": [
    "summary(dd12)"
   ]
  },
  {
   "cell_type": "code",
   "execution_count": 18,
   "metadata": {
    "collapsed": true
   },
   "outputs": [],
   "source": [
    "options(repr.plot.width = 4, repr.plot.height = 4)"
   ]
  },
  {
   "cell_type": "code",
   "execution_count": 19,
   "metadata": {
    "collapsed": false
   },
   "outputs": [
    {
     "data": {},
     "metadata": {},
     "output_type": "display_data"
    },
    {
     "data": {
      "image/png": "[encoded data removed]",
      "text/plain": [
       "plot without title"
      ]
     },
     "metadata": {},
     "output_type": "display_data"
    }
   ],
   "source": [
    "data.frame(x = dd12) %>>% \n",
    "    ggplot(aes(x = x)) + \n",
    "    geom_histogram(bins = 100, colour = \"black\", fill = \"white\", size = 0.3) + \n",
    "    scale_x_continuous(limits = c(0, 20), breaks = seq(0, 20, 5)) + \n",
    "    theme_bw() + \n",
    "    geom_vline(xintercept = 4.5, size = 0.5, linetype = \"dotted\") + \n",
    "    xlab(expression(Delta~italic(D)[`1,2`]))"
   ]
  },
  {
   "cell_type": "markdown",
   "metadata": {},
   "source": [
    "$\\Delta D_{1,2} \\ge 4.5$ となった個数"
   ]
  },
  {
   "cell_type": "code",
   "execution_count": 20,
   "metadata": {
    "collapsed": false
   },
   "outputs": [
    {
     "data": {
      "text/html": [
       "38"
      ],
      "text/latex": [
       "38"
      ],
      "text/markdown": [
       "38"
      ],
      "text/plain": [
       "[1] 38"
      ]
     },
     "metadata": {},
     "output_type": "display_data"
    }
   ],
   "source": [
    "sum(dd12 >= 4.5)"
   ]
  },
  {
   "cell_type": "code",
   "execution_count": 21,
   "metadata": {
    "collapsed": false
   },
   "outputs": [
    {
     "data": {
      "text/html": [
       "<ol class=list-inline>\n",
       "\t<li>1</li>\n",
       "\t<li>0</li>\n",
       "</ol>\n"
      ],
      "text/latex": [
       "\\begin{enumerate*}\n",
       "\\item 1\n",
       "\\item 0\n",
       "\\end{enumerate*}\n"
      ],
      "text/markdown": [
       "1. 1\n",
       "2. 0\n",
       "\n",
       "\n"
      ],
      "text/plain": [
       "[1] 1 0"
      ]
     },
     "metadata": {},
     "output_type": "display_data"
    }
   ],
   "source": [
    "as.numeric(c(TRUE, FALSE))"
   ]
  },
  {
   "cell_type": "markdown",
   "metadata": {},
   "source": [
    "$P$ 値は"
   ]
  },
  {
   "cell_type": "code",
   "execution_count": 22,
   "metadata": {
    "collapsed": false
   },
   "outputs": [
    {
     "data": {
      "text/html": [
       "0.026"
      ],
      "text/latex": [
       "0.026"
      ],
      "text/markdown": [
       "0.026"
      ],
      "text/plain": [
       "[1] 0.026"
      ]
     },
     "metadata": {},
     "output_type": "display_data"
    }
   ],
   "source": [
    "26 / 1000"
   ]
  },
  {
   "cell_type": "markdown",
   "metadata": {},
   "source": [
    "$P = 0.05$ となる$\\Delta D_{1,2}$は"
   ]
  },
  {
   "cell_type": "code",
   "execution_count": 23,
   "metadata": {
    "collapsed": false
   },
   "outputs": [
    {
     "data": {
      "text/html": [
       "<strong>95%:</strong> 3.91758983599133"
      ],
      "text/latex": [
       "\\textbf{95\\textbackslash{}\\%:} 3.91758983599133"
      ],
      "text/markdown": [
       "**95%:** 3.91758983599133"
      ],
      "text/plain": [
       "    95% \n",
       "3.91759 "
      ]
     },
     "metadata": {},
     "output_type": "display_data"
    }
   ],
   "source": [
    "quantile(dd12, 0.95)"
   ]
  },
  {
   "cell_type": "markdown",
   "metadata": {},
   "source": [
    "$\\Delta D_{1,2} = 4.5$ の $P$値は0.026で，これは有意水準 0.05 より小さいので，帰無仮説を棄却"
   ]
  },
  {
   "cell_type": "markdown",
   "metadata": {},
   "source": [
    "### 5.4.2 方法（2）$\\chi^2$分布を使った近似計算法"
   ]
  },
  {
   "cell_type": "markdown",
   "metadata": {},
   "source": [
    "$\\Delta D_{1,2}$ の確率分布は自由度1の$\\chi^2$分布で近似できる場合がある\n",
    "\n",
    "* サンプルサイズが大きい場合に有効な近似計算"
   ]
  },
  {
   "cell_type": "code",
   "execution_count": 24,
   "metadata": {
    "collapsed": false
   },
   "outputs": [
    {
     "name": "stdout",
     "output_type": "stream",
     "text": [
      "Analysis of Deviance Table\n",
      "\n",
      "Model 1: y ~ 1\n",
      "Model 2: y ~ x\n",
      "  Resid. Df Resid. Dev Df Deviance Pr(>Chi)  \n",
      "1        99     89.507                       \n",
      "2        98     84.993  1   4.5139  0.03362 *\n",
      "---\n",
      "Signif. codes:  0 '***' 0.001 '**' 0.01 '*' 0.05 '.' 0.1 ' ' 1\n"
     ]
    }
   ],
   "source": [
    "anova(fit.null, fit.x, test = \"Chisq\") %>>% print()"
   ]
  },
  {
   "cell_type": "markdown",
   "metadata": {},
   "source": [
    "$P = 0.034$ で帰無仮説は棄却される"
   ]
  },
  {
   "cell_type": "markdown",
   "metadata": {},
   "source": [
    "## 5.5 「帰無仮説を棄却できない」は「差がない」ではない"
   ]
  },
  {
   "cell_type": "markdown",
   "metadata": {},
   "source": [
    "## 5.6 検定とモデル選択，そして推定された統計モデルの解釈"
   ]
  },
  {
   "cell_type": "markdown",
   "metadata": {},
   "source": [
    "## 5.7 まとめ\n",
    "* 尤度比検定: 逸脱度の差を調べる\n",
    "* Neyman-Pearson のわくぐみ\n",
    "    * Type I error に注目\n",
    "        * 検出力（1 - Type II error の確率）を話題にすることもある\n",
    "    * 有意水準の決め方に根拠はない\n",
    "    * 帰無仮説が棄却できない場合は何も言えない\n",
    "* 検定やモデル選択の結果だけでなく，推定されたモデルが現象をどのように予測するのかも確認すべき"
   ]
  },
  {
   "cell_type": "code",
   "execution_count": 25,
   "metadata": {
    "collapsed": false
   },
   "outputs": [
    {
     "name": "stderr",
     "output_type": "stream",
     "text": [
      "Session info -------------------------------------------------------------------\n",
      "Packages -----------------------------------------------------------------------\n"
     ]
    },
    {
     "data": {
      "text/plain": [
       " setting  value                       \n",
       " version  R version 3.3.1 (2016-06-21)\n",
       " system   x86_64, mingw32             \n",
       " ui       RTerm                       \n",
       " language en                          \n",
       " collate  Japanese_Japan.932          \n",
       " tz       Asia/Tokyo                  \n",
       " date     2016-10-22                  \n",
       "\n",
       " package    * version date       source                            \n",
       " assertthat   0.1     2013-12-06 CRAN (R 3.2.1)                    \n",
       " Cairo        1.5-9   2015-09-26 CRAN (R 3.2.2)                    \n",
       " colorspace   1.2-6   2015-03-11 CRAN (R 3.2.1)                    \n",
       " crayon       1.3.2   2016-06-28 CRAN (R 3.3.1)                    \n",
       " DBI          0.5-1   2016-09-10 CRAN (R 3.2.5)                    \n",
       " devtools     1.12.0  2016-06-24 CRAN (R 3.3.1)                    \n",
       " digest       0.6.10  2016-08-02 CRAN (R 3.3.1)                    \n",
       " dplyr      * 0.5.0   2016-06-24 CRAN (R 3.2.5)                    \n",
       " evaluate     0.9     2016-04-29 CRAN (R 3.3.1)                    \n",
       " ggplot2    * 2.1.0   2016-03-01 CRAN (R 3.2.5)                    \n",
       " gtable       0.2.0   2016-02-26 CRAN (R 3.2.5)                    \n",
       " highr        0.6     2016-05-09 CRAN (R 3.2.5)                    \n",
       " IRdisplay    0.4.4   2016-08-02 CRAN (R 3.3.1)                    \n",
       " IRkernel     0.7     2016-10-05 Github (IRkernel/IRkernel@16ef3ed)\n",
       " jsonlite     1.1     2016-09-14 CRAN (R 3.2.5)                    \n",
       " knitr        1.14    2016-08-13 CRAN (R 3.2.5)                    \n",
       " labeling     0.3     2014-08-23 CRAN (R 3.2.1)                    \n",
       " lazyeval     0.2.0   2016-06-12 CRAN (R 3.2.5)                    \n",
       " magrittr     1.5     2014-11-22 CRAN (R 3.2.1)                    \n",
       " memoise      1.0.0   2016-01-29 CRAN (R 3.2.3)                    \n",
       " munsell      0.4.3   2016-02-13 CRAN (R 3.2.5)                    \n",
       " pbdZMQ       0.2-4   2016-09-22 CRAN (R 3.3.1)                    \n",
       " pipeR      * 0.6.1.3 2016-04-04 CRAN (R 3.3.1)                    \n",
       " plyr         1.8.4   2016-06-08 CRAN (R 3.2.5)                    \n",
       " R6           2.1.3   2016-08-19 CRAN (R 3.2.5)                    \n",
       " Rcpp         0.12.7  2016-09-05 CRAN (R 3.2.5)                    \n",
       " readr      * 1.0.0   2016-08-03 CRAN (R 3.2.5)                    \n",
       " repr         0.9     2016-07-24 CRAN (R 3.3.1)                    \n",
       " scales       0.4.0   2016-02-26 CRAN (R 3.2.5)                    \n",
       " stringi      1.1.1   2016-05-27 CRAN (R 3.2.5)                    \n",
       " stringr      1.1.0   2016-08-19 CRAN (R 3.2.5)                    \n",
       " tibble       1.2     2016-08-26 CRAN (R 3.2.5)                    \n",
       " tidyr      * 0.6.0   2016-08-12 CRAN (R 3.2.5)                    \n",
       " uuid         0.1-2   2015-07-28 CRAN (R 3.3.1)                    \n",
       " withr        1.0.2   2016-06-20 CRAN (R 3.2.5)                    "
      ]
     },
     "metadata": {},
     "output_type": "display_data"
    }
   ],
   "source": [
    "devtools::session_info()"
   ]
  }
 ],
 "metadata": {
  "kernelspec": {
   "display_name": "R 3.3",
   "language": "R",
   "name": "ir33"
  },
  "language_info": {
   "codemirror_mode": "r",
   "file_extension": ".r",
   "mimetype": "text/x-r-source",
   "name": "R",
   "pygments_lexer": "r",
   "version": "3.3.1"
  }
 },
 "nbformat": 4,
 "nbformat_minor": 0
}
