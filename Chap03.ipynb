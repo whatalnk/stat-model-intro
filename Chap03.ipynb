{
 "cells": [
  {
   "cell_type": "markdown",
   "metadata": {},
   "source": [
    "# 3章\n",
    "## 3.2"
   ]
  },
  {
   "cell_type": "code",
   "execution_count": 1,
   "metadata": {
    "collapsed": false
   },
   "outputs": [
    {
     "name": "stderr",
     "output_type": "stream",
     "text": [
      "Loading required package: pipeR\n",
      "Warning message:\n",
      ": package ‘pipeR’ was built under R version 3.2.4Loading required package: ggplot2\n",
      "Warning message:\n",
      ": package ‘ggplot2’ was built under R version 3.2.4Loading required package: dplyr\n",
      "\n",
      "Attaching package: ‘dplyr’\n",
      "\n",
      " 以下のオブジェクトは ‘package:stats’ からマスクされています: \n",
      "\n",
      "     filter, lag \n",
      "\n",
      " 以下のオブジェクトは ‘package:base’ からマスクされています: \n",
      "\n",
      "     intersect, setdiff, setequal, union \n",
      "\n",
      "Loading required package: tidyr\n",
      "Loading required package: readr\n"
     ]
    },
    {
     "data": {
      "text/html": [
       "<dl class=dl-horizontal>\n",
       "\t<dt>pipeR</dt>\n",
       "\t\t<dd>TRUE</dd>\n",
       "\t<dt>ggplot2</dt>\n",
       "\t\t<dd>TRUE</dd>\n",
       "\t<dt>dplyr</dt>\n",
       "\t\t<dd>TRUE</dd>\n",
       "\t<dt>tidyr</dt>\n",
       "\t\t<dd>TRUE</dd>\n",
       "\t<dt>readr</dt>\n",
       "\t\t<dd>TRUE</dd>\n",
       "</dl>\n"
      ],
      "text/latex": [
       "\\begin{description*}\n",
       "\\item[pipeR] TRUE\n",
       "\\item[ggplot2] TRUE\n",
       "\\item[dplyr] TRUE\n",
       "\\item[tidyr] TRUE\n",
       "\\item[readr] TRUE\n",
       "\\end{description*}\n"
      ],
      "text/markdown": [
       "pipeR\n",
       ":   TRUEggplot2\n",
       ":   TRUEdplyr\n",
       ":   TRUEtidyr\n",
       ":   TRUEreadr\n",
       ":   TRUE\n",
       "\n"
      ],
      "text/plain": [
       "  pipeR ggplot2   dplyr   tidyr   readr \n",
       "   TRUE    TRUE    TRUE    TRUE    TRUE "
      ]
     },
     "execution_count": 1,
     "metadata": {},
     "output_type": "execute_result"
    }
   ],
   "source": [
    "sapply(c(\"pipeR\", \"ggplot2\", \"dplyr\", \"tidyr\", \"readr\"), require, character.only = TRUE)"
   ]
  },
  {
   "cell_type": "code",
   "execution_count": 2,
   "metadata": {
    "collapsed": false
   },
   "outputs": [],
   "source": [
    "d <- read_csv(\"data/chap03/data3a.csv\")"
   ]
  },
  {
   "cell_type": "code",
   "execution_count": 3,
   "metadata": {
    "collapsed": false
   },
   "outputs": [
    {
     "data": {
      "text/html": [
       "<table>\n",
       "<thead><tr><th></th><th scope=col>y</th><th scope=col>x</th><th scope=col>f</th></tr></thead>\n",
       "<tbody>\n",
       "\t<tr><th scope=row>1</th><td>6   </td><td>8.31</td><td>C   </td></tr>\n",
       "\t<tr><th scope=row>2</th><td>6   </td><td>9.44</td><td>C   </td></tr>\n",
       "\t<tr><th scope=row>3</th><td>6  </td><td>9.5</td><td>C  </td></tr>\n",
       "\t<tr><th scope=row>4</th><td>12  </td><td>9.07</td><td>C   </td></tr>\n",
       "\t<tr><th scope=row>5</th><td>10   </td><td>10.16</td><td>C    </td></tr>\n",
       "\t<tr><th scope=row>6</th><td>4   </td><td>8.32</td><td>C   </td></tr>\n",
       "</tbody>\n",
       "</table>\n"
      ],
      "text/latex": [
       "\\begin{tabular}{r|lll}\n",
       "  & y & x & f\\\\\n",
       "\\hline\n",
       "\t1 & 6    & 8.31 & C   \\\\\n",
       "\t2 & 6    & 9.44 & C   \\\\\n",
       "\t3 & 6   & 9.5 & C  \\\\\n",
       "\t4 & 12   & 9.07 & C   \\\\\n",
       "\t5 & 10    & 10.16 & C    \\\\\n",
       "\t6 & 4    & 8.32 & C   \\\\\n",
       "\\end{tabular}\n"
      ],
      "text/plain": [
       "Source: local data frame [6 x 3]\n",
       "\n",
       "      y     x     f\n",
       "  (int) (dbl) (chr)\n",
       "1     6  8.31     C\n",
       "2     6  9.44     C\n",
       "3     6  9.50     C\n",
       "4    12  9.07     C\n",
       "5    10 10.16     C\n",
       "6     4  8.32     C"
      ]
     },
     "execution_count": 3,
     "metadata": {},
     "output_type": "execute_result"
    }
   ],
   "source": [
    "head(d)"
   ]
  },
  {
   "cell_type": "markdown",
   "metadata": {},
   "source": [
    "`readr` では`factor`ではなく`character`"
   ]
  },
  {
   "cell_type": "code",
   "execution_count": 4,
   "metadata": {
    "collapsed": false
   },
   "outputs": [
    {
     "name": "stdout",
     "output_type": "stream",
     "text": [
      "Classes ‘tbl_df’, ‘tbl’ and 'data.frame':\t100 obs. of  3 variables:\n",
      " $ y: int  6 6 6 12 10 4 9 9 9 11 ...\n",
      " $ x: num  8.31 9.44 9.5 9.07 10.16 ...\n",
      " $ f: chr  \"C\" \"C\" \"C\" \"C\" ...\n"
     ]
    }
   ],
   "source": [
    "str(d)"
   ]
  },
  {
   "cell_type": "code",
   "execution_count": 5,
   "metadata": {
    "collapsed": false
   },
   "outputs": [
    {
     "name": "stdout",
     "output_type": "stream",
     "text": [
      "Classes ‘tbl_df’, ‘tbl’ and 'data.frame':\t100 obs. of  3 variables:\n",
      " $ y: int  6 6 6 12 10 4 9 9 9 11 ...\n",
      " $ x: num  8.31 9.44 9.5 9.07 10.16 ...\n",
      " $ f: Factor w/ 2 levels \"C\",\"T\": 1 1 1 1 1 1 1 1 1 1 ...\n"
     ]
    }
   ],
   "source": [
    "d <- d %>>% mutate(f = factor(f))\n",
    "str(d)"
   ]
  },
  {
   "cell_type": "code",
   "execution_count": 6,
   "metadata": {
    "collapsed": false,
    "scrolled": true
   },
   "outputs": [
    {
     "data": {
      "text/html": [
       "<ol class=list-inline>\n",
       "\t<li>'tbl_df'</li>\n",
       "\t<li>'tbl'</li>\n",
       "\t<li>'data.frame'</li>\n",
       "</ol>\n"
      ],
      "text/latex": [
       "\\begin{enumerate*}\n",
       "\\item 'tbl\\_df'\n",
       "\\item 'tbl'\n",
       "\\item 'data.frame'\n",
       "\\end{enumerate*}\n"
      ],
      "text/markdown": [
       "1. 'tbl_df'\n",
       "2. 'tbl'\n",
       "3. 'data.frame'\n",
       "\n",
       "\n"
      ],
      "text/plain": [
       "[1] \"tbl_df\"     \"tbl\"        \"data.frame\""
      ]
     },
     "execution_count": 6,
     "metadata": {},
     "output_type": "execute_result"
    }
   ],
   "source": [
    "class(d)"
   ]
  },
  {
   "cell_type": "code",
   "execution_count": 7,
   "metadata": {
    "collapsed": false
   },
   "outputs": [
    {
     "data": {
      "text/plain": [
       "       y               x          f     \n",
       " Min.   : 2.00   Min.   : 7.190   C:50  \n",
       " 1st Qu.: 6.00   1st Qu.: 9.428   T:50  \n",
       " Median : 8.00   Median :10.155         \n",
       " Mean   : 7.83   Mean   :10.089         \n",
       " 3rd Qu.:10.00   3rd Qu.:10.685         \n",
       " Max.   :15.00   Max.   :12.400         "
      ]
     },
     "execution_count": 7,
     "metadata": {},
     "output_type": "execute_result"
    }
   ],
   "source": [
    "summary(d)"
   ]
  },
  {
   "cell_type": "markdown",
   "metadata": {},
   "source": [
    "## 3.3"
   ]
  },
  {
   "cell_type": "code",
   "execution_count": 8,
   "metadata": {
    "collapsed": true
   },
   "outputs": [],
   "source": [
    "options(repr.plot.width = 4, repr.plot.height = 4)"
   ]
  },
  {
   "cell_type": "code",
   "execution_count": 9,
   "metadata": {
    "collapsed": false
   },
   "outputs": [
    {
     "data": {
      "image/png": "[encoded data removed]",
      "image/svg+xml": [
       "<?xml version=\"1.0\" encoding=\"UTF-8\"?>\n",
       "<svg xmlns=\"http://www.w3.org/2000/svg\" xmlns:xlink=\"http://www.w3.org/1999/xlink\" width=\"288pt\" height=\"288pt\" viewBox=\"0 0 288 288\" version=\"1.1\">\n",
       "<defs>\n",
       "<g>\n",
       "<symbol overflow=\"visible\" id=\"glyph0-0\">\n",
       "<path style=\"stroke:none;\" d=\"M 0.296875 0 L 0.296875 -6.671875 L 5.59375 -6.671875 L 5.59375 0 Z M 4.75 -0.828125 L 4.75 -5.828125 L 1.140625 -5.828125 L 1.140625 -0.828125 Z \"/>\n",
       "</symbol>\n",
       "<symbol overflow=\"visible\" id=\"glyph0-1\">\n",
       "<path style=\"stroke:none;\" d=\"M 3.078125 -2.296875 L 3.078125 -5.25 L 0.984375 -2.296875 Z M 3.09375 0 L 3.09375 -1.59375 L 0.234375 -1.59375 L 0.234375 -2.390625 L 3.21875 -6.515625 L 3.90625 -6.515625 L 3.90625 -2.296875 L 4.859375 -2.296875 L 4.859375 -1.59375 L 3.90625 -1.59375 L 3.90625 0 Z \"/>\n",
       "</symbol>\n",
       "<symbol overflow=\"visible\" id=\"glyph0-2\">\n",
       "<path style=\"stroke:none;\" d=\"M 2.53125 -3.78125 C 2.882812 -3.78125 3.160156 -3.878906 3.359375 -4.078125 C 3.566406 -4.273438 3.671875 -4.515625 3.671875 -4.796875 C 3.671875 -5.035156 3.570312 -5.253906 3.375 -5.453125 C 3.1875 -5.660156 2.894531 -5.765625 2.5 -5.765625 C 2.101562 -5.765625 1.816406 -5.660156 1.640625 -5.453125 C 1.472656 -5.253906 1.390625 -5.019531 1.390625 -4.75 C 1.390625 -4.445312 1.5 -4.207031 1.71875 -4.03125 C 1.945312 -3.863281 2.21875 -3.78125 2.53125 -3.78125 Z M 2.578125 -0.5625 C 2.953125 -0.5625 3.265625 -0.660156 3.515625 -0.859375 C 3.765625 -1.066406 3.890625 -1.375 3.890625 -1.78125 C 3.890625 -2.195312 3.757812 -2.515625 3.5 -2.734375 C 3.25 -2.953125 2.921875 -3.0625 2.515625 -3.0625 C 2.128906 -3.0625 1.8125 -2.945312 1.5625 -2.71875 C 1.3125 -2.5 1.1875 -2.195312 1.1875 -1.8125 C 1.1875 -1.46875 1.300781 -1.171875 1.53125 -0.921875 C 1.757812 -0.679688 2.109375 -0.5625 2.578125 -0.5625 Z M 1.421875 -3.46875 C 1.191406 -3.5625 1.015625 -3.671875 0.890625 -3.796875 C 0.648438 -4.046875 0.53125 -4.363281 0.53125 -4.75 C 0.53125 -5.226562 0.703125 -5.640625 1.046875 -5.984375 C 1.398438 -6.335938 1.898438 -6.515625 2.546875 -6.515625 C 3.171875 -6.515625 3.660156 -6.347656 4.015625 -6.015625 C 4.367188 -5.691406 4.546875 -5.3125 4.546875 -4.875 C 4.546875 -4.46875 4.441406 -4.140625 4.234375 -3.890625 C 4.117188 -3.742188 3.941406 -3.601562 3.703125 -3.46875 C 3.972656 -3.34375 4.179688 -3.203125 4.328125 -3.046875 C 4.617188 -2.742188 4.765625 -2.347656 4.765625 -1.859375 C 4.765625 -1.285156 4.570312 -0.800781 4.1875 -0.40625 C 3.800781 -0.0078125 3.257812 0.1875 2.5625 0.1875 C 1.925781 0.1875 1.390625 0.015625 0.953125 -0.328125 C 0.515625 -0.671875 0.296875 -1.171875 0.296875 -1.828125 C 0.296875 -2.210938 0.390625 -2.539062 0.578125 -2.8125 C 0.765625 -3.09375 1.046875 -3.3125 1.421875 -3.46875 Z \"/>\n",
       "</symbol>\n",
       "<symbol overflow=\"visible\" id=\"glyph0-3\">\n",
       "<path style=\"stroke:none;\" d=\"M 0.890625 -4.609375 L 0.890625 -5.234375 C 1.484375 -5.285156 1.894531 -5.378906 2.125 -5.515625 C 2.351562 -5.648438 2.523438 -5.96875 2.640625 -6.46875 L 3.296875 -6.46875 L 3.296875 0 L 2.421875 0 L 2.421875 -4.609375 Z \"/>\n",
       "</symbol>\n",
       "<symbol overflow=\"visible\" id=\"glyph0-4\">\n",
       "<path style=\"stroke:none;\" d=\"M 0.296875 0 C 0.316406 -0.5625 0.425781 -1.046875 0.625 -1.453125 C 0.832031 -1.867188 1.226562 -2.25 1.8125 -2.59375 L 2.6875 -3.09375 C 3.070312 -3.320312 3.347656 -3.515625 3.515625 -3.671875 C 3.753906 -3.921875 3.875 -4.210938 3.875 -4.546875 C 3.875 -4.921875 3.757812 -5.21875 3.53125 -5.4375 C 3.3125 -5.664062 3.015625 -5.78125 2.640625 -5.78125 C 2.078125 -5.78125 1.6875 -5.566406 1.46875 -5.140625 C 1.351562 -4.910156 1.289062 -4.59375 1.28125 -4.1875 L 0.453125 -4.1875 C 0.460938 -4.757812 0.566406 -5.222656 0.765625 -5.578125 C 1.117188 -6.203125 1.742188 -6.515625 2.640625 -6.515625 C 3.378906 -6.515625 3.921875 -6.3125 4.265625 -5.90625 C 4.609375 -5.507812 4.78125 -5.066406 4.78125 -4.578125 C 4.78125 -4.054688 4.597656 -3.609375 4.234375 -3.234375 C 4.023438 -3.023438 3.644531 -2.765625 3.09375 -2.453125 L 2.46875 -2.109375 C 2.175781 -1.953125 1.945312 -1.796875 1.78125 -1.640625 C 1.476562 -1.378906 1.285156 -1.085938 1.203125 -0.765625 L 4.75 -0.765625 L 4.75 0 Z \"/>\n",
       "</symbol>\n",
       "<symbol overflow=\"visible\" id=\"glyph0-5\">\n",
       "<path style=\"stroke:none;\" d=\"M 4.859375 -6.390625 L 4.859375 -5.671875 C 4.648438 -5.472656 4.375 -5.125 4.03125 -4.625 C 3.6875 -4.125 3.378906 -3.582031 3.109375 -3 C 2.847656 -2.425781 2.648438 -1.910156 2.515625 -1.453125 C 2.421875 -1.148438 2.304688 -0.664062 2.171875 0 L 1.265625 0 C 1.472656 -1.238281 1.925781 -2.472656 2.625 -3.703125 C 3.039062 -4.421875 3.476562 -5.039062 3.9375 -5.5625 L 0.34375 -5.5625 L 0.34375 -6.390625 Z \"/>\n",
       "</symbol>\n",
       "<symbol overflow=\"visible\" id=\"glyph0-6\">\n",
       "<path style=\"stroke:none;\" d=\"M 1.234375 -1.578125 C 1.253906 -1.117188 1.425781 -0.804688 1.75 -0.640625 C 1.914062 -0.546875 2.101562 -0.5 2.3125 -0.5 C 2.707031 -0.5 3.039062 -0.660156 3.3125 -0.984375 C 3.59375 -1.304688 3.789062 -1.96875 3.90625 -2.96875 C 3.71875 -2.675781 3.488281 -2.472656 3.21875 -2.359375 C 2.957031 -2.242188 2.671875 -2.1875 2.359375 -2.1875 C 1.734375 -2.1875 1.238281 -2.378906 0.875 -2.765625 C 0.507812 -3.160156 0.328125 -3.664062 0.328125 -4.28125 C 0.328125 -4.875 0.503906 -5.394531 0.859375 -5.84375 C 1.222656 -6.289062 1.757812 -6.515625 2.46875 -6.515625 C 3.414062 -6.515625 4.066406 -6.085938 4.421875 -5.234375 C 4.617188 -4.765625 4.71875 -4.175781 4.71875 -3.46875 C 4.71875 -2.675781 4.597656 -1.972656 4.359375 -1.359375 C 3.960938 -0.328125 3.289062 0.1875 2.34375 0.1875 C 1.707031 0.1875 1.222656 0.0195312 0.890625 -0.3125 C 0.566406 -0.644531 0.40625 -1.066406 0.40625 -1.578125 Z M 2.46875 -2.90625 C 2.789062 -2.90625 3.085938 -3.007812 3.359375 -3.21875 C 3.628906 -3.4375 3.765625 -3.8125 3.765625 -4.34375 C 3.765625 -4.820312 3.644531 -5.175781 3.40625 -5.40625 C 3.164062 -5.644531 2.859375 -5.765625 2.484375 -5.765625 C 2.085938 -5.765625 1.769531 -5.628906 1.53125 -5.359375 C 1.300781 -5.097656 1.1875 -4.742188 1.1875 -4.296875 C 1.1875 -3.867188 1.285156 -3.53125 1.484375 -3.28125 C 1.691406 -3.03125 2.019531 -2.90625 2.46875 -2.90625 Z \"/>\n",
       "</symbol>\n",
       "<symbol overflow=\"visible\" id=\"glyph0-7\">\n",
       "<path style=\"stroke:none;\" d=\"M 2.515625 -6.5 C 3.359375 -6.5 3.96875 -6.15625 4.34375 -5.46875 C 4.632812 -4.925781 4.78125 -4.191406 4.78125 -3.265625 C 4.78125 -2.378906 4.644531 -1.644531 4.375 -1.0625 C 4 -0.238281 3.378906 0.171875 2.515625 0.171875 C 1.734375 0.171875 1.148438 -0.164062 0.765625 -0.84375 C 0.453125 -1.40625 0.296875 -2.164062 0.296875 -3.125 C 0.296875 -3.851562 0.390625 -4.484375 0.578125 -5.015625 C 0.929688 -6.003906 1.578125 -6.5 2.515625 -6.5 Z M 2.5 -0.5625 C 2.925781 -0.5625 3.265625 -0.75 3.515625 -1.125 C 3.765625 -1.5 3.890625 -2.203125 3.890625 -3.234375 C 3.890625 -3.960938 3.796875 -4.566406 3.609375 -5.046875 C 3.429688 -5.523438 3.082031 -5.765625 2.5625 -5.765625 C 2.082031 -5.765625 1.726562 -5.535156 1.5 -5.078125 C 1.28125 -4.628906 1.171875 -3.96875 1.171875 -3.09375 C 1.171875 -2.425781 1.242188 -1.890625 1.390625 -1.484375 C 1.609375 -0.867188 1.976562 -0.5625 2.5 -0.5625 Z \"/>\n",
       "</symbol>\n",
       "<symbol overflow=\"visible\" id=\"glyph0-8\">\n",
       "<path style=\"stroke:none;\" d=\"M 3.515625 -6.84375 C 4.359375 -6.84375 5.015625 -6.617188 5.484375 -6.171875 C 5.953125 -5.734375 6.210938 -5.234375 6.265625 -4.671875 L 5.375 -4.671875 C 5.28125 -5.097656 5.082031 -5.4375 4.78125 -5.6875 C 4.476562 -5.9375 4.0625 -6.0625 3.53125 -6.0625 C 2.875 -6.0625 2.34375 -5.832031 1.9375 -5.375 C 1.53125 -4.914062 1.328125 -4.207031 1.328125 -3.25 C 1.328125 -2.46875 1.507812 -1.832031 1.875 -1.34375 C 2.238281 -0.863281 2.785156 -0.625 3.515625 -0.625 C 4.171875 -0.625 4.675781 -0.878906 5.03125 -1.390625 C 5.21875 -1.660156 5.351562 -2.015625 5.4375 -2.453125 L 6.328125 -2.453125 C 6.242188 -1.742188 5.984375 -1.15625 5.546875 -0.6875 C 5.015625 -0.113281 4.300781 0.171875 3.40625 0.171875 C 2.625 0.171875 1.972656 -0.0625 1.453125 -0.53125 C 0.753906 -1.15625 0.40625 -2.113281 0.40625 -3.40625 C 0.40625 -4.382812 0.664062 -5.191406 1.1875 -5.828125 C 1.75 -6.503906 2.523438 -6.84375 3.515625 -6.84375 Z M 3.34375 -6.84375 Z \"/>\n",
       "</symbol>\n",
       "<symbol overflow=\"visible\" id=\"glyph0-9\">\n",
       "<path style=\"stroke:none;\" d=\"M 5.5625 -6.671875 L 5.5625 -5.875 L 3.3125 -5.875 L 3.3125 0 L 2.390625 0 L 2.390625 -5.875 L 0.15625 -5.875 L 0.15625 -6.671875 Z \"/>\n",
       "</symbol>\n",
       "<symbol overflow=\"visible\" id=\"glyph1-0\">\n",
       "<path style=\"stroke:none;\" d=\"M 0.375 0 L 0.375 -8.25 L 6.921875 -8.25 L 6.921875 0 Z M 5.890625 -1.03125 L 5.890625 -7.21875 L 1.40625 -7.21875 L 1.40625 -1.03125 Z \"/>\n",
       "</symbol>\n",
       "<symbol overflow=\"visible\" id=\"glyph1-1\">\n",
       "<path style=\"stroke:none;\" d=\"M 0.171875 -6.015625 L 1.484375 -6.015625 L 2.859375 -3.890625 L 4.25 -6.015625 L 5.484375 -5.984375 L 3.453125 -3.078125 L 5.578125 0 L 4.28125 0 L 2.796875 -2.25 L 1.34375 0 L 0.0625 0 L 2.171875 -3.078125 Z \"/>\n",
       "</symbol>\n",
       "<symbol overflow=\"visible\" id=\"glyph1-2\">\n",
       "<path style=\"stroke:none;\" d=\"M 1 -6.921875 C 1.007812 -7.347656 1.082031 -7.65625 1.21875 -7.84375 C 1.445312 -8.1875 1.898438 -8.359375 2.578125 -8.359375 C 2.640625 -8.359375 2.703125 -8.359375 2.765625 -8.359375 C 2.835938 -8.359375 2.914062 -8.351562 3 -8.34375 L 3 -7.421875 C 2.894531 -7.429688 2.816406 -7.4375 2.765625 -7.4375 C 2.722656 -7.4375 2.679688 -7.4375 2.640625 -7.4375 C 2.335938 -7.4375 2.15625 -7.359375 2.09375 -7.203125 C 2.03125 -7.046875 2 -6.640625 2 -5.984375 L 3 -5.984375 L 3 -5.1875 L 2 -5.1875 L 2 0 L 1 0 L 1 -5.1875 L 0.15625 -5.1875 L 0.15625 -5.984375 L 1 -5.984375 Z \"/>\n",
       "</symbol>\n",
       "<symbol overflow=\"visible\" id=\"glyph2-0\">\n",
       "<path style=\"stroke:none;\" d=\"M 0 -0.375 L -8.25 -0.375 L -8.25 -6.921875 L 0 -6.921875 Z M -1.03125 -5.890625 L -7.21875 -5.890625 L -7.21875 -1.40625 L -1.03125 -1.40625 Z \"/>\n",
       "</symbol>\n",
       "<symbol overflow=\"visible\" id=\"glyph2-1\">\n",
       "<path style=\"stroke:none;\" d=\"M -6.015625 -4.5 L -6.015625 -5.609375 C -5.628906 -5.472656 -4.75 -5.160156 -3.375 -4.671875 C -2.34375 -4.296875 -1.5 -3.988281 -0.84375 -3.75 C 0.6875 -3.164062 1.617188 -2.753906 1.953125 -2.515625 C 2.296875 -2.273438 2.46875 -1.863281 2.46875 -1.28125 C 2.46875 -1.132812 2.460938 -1.019531 2.453125 -0.9375 C 2.441406 -0.863281 2.421875 -0.769531 2.390625 -0.65625 L 1.46875 -0.65625 C 1.507812 -0.832031 1.535156 -0.957031 1.546875 -1.03125 C 1.566406 -1.113281 1.578125 -1.1875 1.578125 -1.25 C 1.578125 -1.4375 1.546875 -1.570312 1.484375 -1.65625 C 1.421875 -1.75 1.34375 -1.828125 1.25 -1.890625 C 1.21875 -1.910156 1.0625 -1.976562 0.78125 -2.09375 C 0.507812 -2.207031 0.304688 -2.289062 0.171875 -2.34375 L -6.015625 -0.125 L -6.015625 -1.265625 L -1.125 -2.875 Z M -6.15625 -2.875 Z \"/>\n",
       "</symbol>\n",
       "</g>\n",
       "<clipPath id=\"clip1\">\n",
       "  <path d=\"M 35.578125 5.480469 L 283 5.480469 L 283 257 L 35.578125 257 Z \"/>\n",
       "</clipPath>\n",
       "<clipPath id=\"clip2\">\n",
       "  <path d=\"M 35.578125 244 L 283 244 L 283 246 L 35.578125 246 Z \"/>\n",
       "</clipPath>\n",
       "<clipPath id=\"clip3\">\n",
       "  <path d=\"M 35.578125 174 L 283 174 L 283 175 L 35.578125 175 Z \"/>\n",
       "</clipPath>\n",
       "<clipPath id=\"clip4\">\n",
       "  <path d=\"M 35.578125 104 L 283 104 L 283 105 L 35.578125 105 Z \"/>\n",
       "</clipPath>\n",
       "<clipPath id=\"clip5\">\n",
       "  <path d=\"M 35.578125 34 L 283 34 L 283 35 L 35.578125 35 Z \"/>\n",
       "</clipPath>\n",
       "<clipPath id=\"clip6\">\n",
       "  <path d=\"M 59 5.480469 L 61 5.480469 L 61 257 L 59 257 Z \"/>\n",
       "</clipPath>\n",
       "<clipPath id=\"clip7\">\n",
       "  <path d=\"M 102 5.480469 L 104 5.480469 L 104 257 L 102 257 Z \"/>\n",
       "</clipPath>\n",
       "<clipPath id=\"clip8\">\n",
       "  <path d=\"M 145 5.480469 L 147 5.480469 L 147 257 L 145 257 Z \"/>\n",
       "</clipPath>\n",
       "<clipPath id=\"clip9\">\n",
       "  <path d=\"M 189 5.480469 L 190 5.480469 L 190 257 L 189 257 Z \"/>\n",
       "</clipPath>\n",
       "<clipPath id=\"clip10\">\n",
       "  <path d=\"M 232 5.480469 L 233 5.480469 L 233 257 L 232 257 Z \"/>\n",
       "</clipPath>\n",
       "<clipPath id=\"clip11\">\n",
       "  <path d=\"M 275 5.480469 L 276 5.480469 L 276 257 L 275 257 Z \"/>\n",
       "</clipPath>\n",
       "<clipPath id=\"clip12\">\n",
       "  <path d=\"M 35.578125 208 L 283.519531 208 L 283.519531 211 L 35.578125 211 Z \"/>\n",
       "</clipPath>\n",
       "<clipPath id=\"clip13\">\n",
       "  <path d=\"M 35.578125 138 L 283.519531 138 L 283.519531 141 L 35.578125 141 Z \"/>\n",
       "</clipPath>\n",
       "<clipPath id=\"clip14\">\n",
       "  <path d=\"M 35.578125 68 L 283.519531 68 L 283.519531 71 L 35.578125 71 Z \"/>\n",
       "</clipPath>\n",
       "<clipPath id=\"clip15\">\n",
       "  <path d=\"M 37 5.480469 L 40 5.480469 L 40 257 L 37 257 Z \"/>\n",
       "</clipPath>\n",
       "<clipPath id=\"clip16\">\n",
       "  <path d=\"M 80 5.480469 L 83 5.480469 L 83 257 L 80 257 Z \"/>\n",
       "</clipPath>\n",
       "<clipPath id=\"clip17\">\n",
       "  <path d=\"M 124 5.480469 L 126 5.480469 L 126 257 L 124 257 Z \"/>\n",
       "</clipPath>\n",
       "<clipPath id=\"clip18\">\n",
       "  <path d=\"M 167 5.480469 L 169 5.480469 L 169 257 L 167 257 Z \"/>\n",
       "</clipPath>\n",
       "<clipPath id=\"clip19\">\n",
       "  <path d=\"M 210 5.480469 L 212 5.480469 L 212 257 L 210 257 Z \"/>\n",
       "</clipPath>\n",
       "<clipPath id=\"clip20\">\n",
       "  <path d=\"M 253 5.480469 L 255 5.480469 L 255 257 L 253 257 Z \"/>\n",
       "</clipPath>\n",
       "</defs>\n",
       "<g id=\"surface28\">\n",
       "<rect x=\"0\" y=\"0\" width=\"288\" height=\"288\" style=\"fill:rgb(100%,100%,100%);fill-opacity:1;stroke:none;\"/>\n",
       "<rect x=\"0\" y=\"0\" width=\"288\" height=\"288\" style=\"fill:rgb(100%,100%,100%);fill-opacity:1;stroke:none;\"/>\n",
       "<path style=\"fill:none;stroke-width:1.422638;stroke-linecap:round;stroke-linejoin:round;stroke:rgb(100%,100%,100%);stroke-opacity:1;stroke-miterlimit:10;\" d=\"M 0 0 L 288 0 L 288 288 L 0 288 Z \"/>\n",
       "<g clip-path=\"url(#clip1)\" clip-rule=\"nonzero\">\n",
       "<path style=\" stroke:none;fill-rule:nonzero;fill:rgb(92.156863%,92.156863%,92.156863%);fill-opacity:1;\" d=\"M 35.578125 5.480469 L 282.519531 5.480469 L 282.519531 256.09375 L 35.578125 256.09375 Z \"/>\n",
       "</g>\n",
       "<g clip-path=\"url(#clip2)\" clip-rule=\"nonzero\">\n",
       "<path style=\"fill:none;stroke-width:0.711319;stroke-linecap:butt;stroke-linejoin:round;stroke:rgb(100%,100%,100%);stroke-opacity:1;stroke-miterlimit:10;\" d=\"M 35.578125 244.699219 L 282.519531 244.699219 \"/>\n",
       "</g>\n",
       "<g clip-path=\"url(#clip3)\" clip-rule=\"nonzero\">\n",
       "<path style=\"fill:none;stroke-width:0.711319;stroke-linecap:butt;stroke-linejoin:round;stroke:rgb(100%,100%,100%);stroke-opacity:1;stroke-miterlimit:10;\" d=\"M 35.578125 174.597656 L 282.519531 174.597656 \"/>\n",
       "</g>\n",
       "<g clip-path=\"url(#clip4)\" clip-rule=\"nonzero\">\n",
       "<path style=\"fill:none;stroke-width:0.711319;stroke-linecap:butt;stroke-linejoin:round;stroke:rgb(100%,100%,100%);stroke-opacity:1;stroke-miterlimit:10;\" d=\"M 35.578125 104.496094 L 282.519531 104.496094 \"/>\n",
       "</g>\n",
       "<g clip-path=\"url(#clip5)\" clip-rule=\"nonzero\">\n",
       "<path style=\"fill:none;stroke-width:0.711319;stroke-linecap:butt;stroke-linejoin:round;stroke:rgb(100%,100%,100%);stroke-opacity:1;stroke-miterlimit:10;\" d=\"M 35.578125 34.394531 L 282.519531 34.394531 \"/>\n",
       "</g>\n",
       "<g clip-path=\"url(#clip6)\" clip-rule=\"nonzero\">\n",
       "<path style=\"fill:none;stroke-width:0.711319;stroke-linecap:butt;stroke-linejoin:round;stroke:rgb(100%,100%,100%);stroke-opacity:1;stroke-miterlimit:10;\" d=\"M 60.160156 256.09375 L 60.160156 5.480469 \"/>\n",
       "</g>\n",
       "<g clip-path=\"url(#clip7)\" clip-rule=\"nonzero\">\n",
       "<path style=\"fill:none;stroke-width:0.711319;stroke-linecap:butt;stroke-linejoin:round;stroke:rgb(100%,100%,100%);stroke-opacity:1;stroke-miterlimit:10;\" d=\"M 103.25 256.09375 L 103.25 5.480469 \"/>\n",
       "</g>\n",
       "<g clip-path=\"url(#clip8)\" clip-rule=\"nonzero\">\n",
       "<path style=\"fill:none;stroke-width:0.711319;stroke-linecap:butt;stroke-linejoin:round;stroke:rgb(100%,100%,100%);stroke-opacity:1;stroke-miterlimit:10;\" d=\"M 146.335938 256.09375 L 146.335938 5.480469 \"/>\n",
       "</g>\n",
       "<g clip-path=\"url(#clip9)\" clip-rule=\"nonzero\">\n",
       "<path style=\"fill:none;stroke-width:0.711319;stroke-linecap:butt;stroke-linejoin:round;stroke:rgb(100%,100%,100%);stroke-opacity:1;stroke-miterlimit:10;\" d=\"M 189.425781 256.09375 L 189.425781 5.480469 \"/>\n",
       "</g>\n",
       "<g clip-path=\"url(#clip10)\" clip-rule=\"nonzero\">\n",
       "<path style=\"fill:none;stroke-width:0.711319;stroke-linecap:butt;stroke-linejoin:round;stroke:rgb(100%,100%,100%);stroke-opacity:1;stroke-miterlimit:10;\" d=\"M 232.515625 256.09375 L 232.515625 5.480469 \"/>\n",
       "</g>\n",
       "<g clip-path=\"url(#clip11)\" clip-rule=\"nonzero\">\n",
       "<path style=\"fill:none;stroke-width:0.711319;stroke-linecap:butt;stroke-linejoin:round;stroke:rgb(100%,100%,100%);stroke-opacity:1;stroke-miterlimit:10;\" d=\"M 275.605469 256.09375 L 275.605469 5.480469 \"/>\n",
       "</g>\n",
       "<g clip-path=\"url(#clip12)\" clip-rule=\"nonzero\">\n",
       "<path style=\"fill:none;stroke-width:1.422638;stroke-linecap:butt;stroke-linejoin:round;stroke:rgb(100%,100%,100%);stroke-opacity:1;stroke-miterlimit:10;\" d=\"M 35.578125 209.648438 L 282.519531 209.648438 \"/>\n",
       "</g>\n",
       "<g clip-path=\"url(#clip13)\" clip-rule=\"nonzero\">\n",
       "<path style=\"fill:none;stroke-width:1.422638;stroke-linecap:butt;stroke-linejoin:round;stroke:rgb(100%,100%,100%);stroke-opacity:1;stroke-miterlimit:10;\" d=\"M 35.578125 139.546875 L 282.519531 139.546875 \"/>\n",
       "</g>\n",
       "<g clip-path=\"url(#clip14)\" clip-rule=\"nonzero\">\n",
       "<path style=\"fill:none;stroke-width:1.422638;stroke-linecap:butt;stroke-linejoin:round;stroke:rgb(100%,100%,100%);stroke-opacity:1;stroke-miterlimit:10;\" d=\"M 35.578125 69.445312 L 282.519531 69.445312 \"/>\n",
       "</g>\n",
       "<g clip-path=\"url(#clip15)\" clip-rule=\"nonzero\">\n",
       "<path style=\"fill:none;stroke-width:1.422638;stroke-linecap:butt;stroke-linejoin:round;stroke:rgb(100%,100%,100%);stroke-opacity:1;stroke-miterlimit:10;\" d=\"M 38.613281 256.09375 L 38.613281 5.480469 \"/>\n",
       "</g>\n",
       "<g clip-path=\"url(#clip16)\" clip-rule=\"nonzero\">\n",
       "<path style=\"fill:none;stroke-width:1.422638;stroke-linecap:butt;stroke-linejoin:round;stroke:rgb(100%,100%,100%);stroke-opacity:1;stroke-miterlimit:10;\" d=\"M 81.703125 256.09375 L 81.703125 5.480469 \"/>\n",
       "</g>\n",
       "<g clip-path=\"url(#clip17)\" clip-rule=\"nonzero\">\n",
       "<path style=\"fill:none;stroke-width:1.422638;stroke-linecap:butt;stroke-linejoin:round;stroke:rgb(100%,100%,100%);stroke-opacity:1;stroke-miterlimit:10;\" d=\"M 124.792969 256.09375 L 124.792969 5.480469 \"/>\n",
       "</g>\n",
       "<g clip-path=\"url(#clip18)\" clip-rule=\"nonzero\">\n",
       "<path style=\"fill:none;stroke-width:1.422638;stroke-linecap:butt;stroke-linejoin:round;stroke:rgb(100%,100%,100%);stroke-opacity:1;stroke-miterlimit:10;\" d=\"M 167.882812 256.09375 L 167.882812 5.480469 \"/>\n",
       "</g>\n",
       "<g clip-path=\"url(#clip19)\" clip-rule=\"nonzero\">\n",
       "<path style=\"fill:none;stroke-width:1.422638;stroke-linecap:butt;stroke-linejoin:round;stroke:rgb(100%,100%,100%);stroke-opacity:1;stroke-miterlimit:10;\" d=\"M 210.972656 256.09375 L 210.972656 5.480469 \"/>\n",
       "</g>\n",
       "<g clip-path=\"url(#clip20)\" clip-rule=\"nonzero\">\n",
       "<path style=\"fill:none;stroke-width:1.422638;stroke-linecap:butt;stroke-linejoin:round;stroke:rgb(100%,100%,100%);stroke-opacity:1;stroke-miterlimit:10;\" d=\"M 254.058594 256.09375 L 254.058594 5.480469 \"/>\n",
       "</g>\n",
       "<path style=\"fill:none;stroke-width:0.944882;stroke-linecap:round;stroke-linejoin:round;stroke:rgb(0%,0%,0%);stroke-opacity:1;stroke-miterlimit:10;\" d=\"M 97.515625 174.597656 C 97.515625 177.871094 92.605469 177.871094 92.605469 174.597656 C 92.605469 171.324219 97.515625 171.324219 97.515625 174.597656 \"/>\n",
       "<path style=\"fill:none;stroke-width:0.944882;stroke-linecap:round;stroke-linejoin:round;stroke:rgb(0%,0%,0%);stroke-opacity:1;stroke-miterlimit:10;\" d=\"M 146.207031 174.597656 C 146.207031 177.871094 141.296875 177.871094 141.296875 174.597656 C 141.296875 171.324219 146.207031 171.324219 146.207031 174.597656 \"/>\n",
       "<path style=\"fill:none;stroke-width:0.944882;stroke-linecap:round;stroke-linejoin:round;stroke:rgb(0%,0%,0%);stroke-opacity:1;stroke-miterlimit:10;\" d=\"M 148.792969 174.597656 C 148.792969 177.871094 143.882812 177.871094 143.882812 174.597656 C 143.882812 171.324219 148.792969 171.324219 148.792969 174.597656 \"/>\n",
       "<path style=\"fill:none;stroke-width:0.944882;stroke-linecap:round;stroke-linejoin:round;stroke:rgb(0%,0%,0%);stroke-opacity:1;stroke-miterlimit:10;\" d=\"M 130.265625 69.445312 C 130.265625 72.71875 125.355469 72.71875 125.355469 69.445312 C 125.355469 66.175781 130.265625 66.175781 130.265625 69.445312 \"/>\n",
       "<path style=\"fill:none;stroke-width:0.944882;stroke-linecap:round;stroke-linejoin:round;stroke:rgb(0%,0%,0%);stroke-opacity:1;stroke-miterlimit:10;\" d=\"M 177.230469 104.496094 C 177.230469 107.769531 172.320312 107.769531 172.320312 104.496094 C 172.320312 101.222656 177.230469 101.222656 177.230469 104.496094 \"/>\n",
       "<path style=\"fill:none;stroke-width:0.944882;stroke-linecap:round;stroke-linejoin:round;stroke:rgb(0%,0%,0%);stroke-opacity:1;stroke-miterlimit:10;\" d=\"M 97.949219 209.648438 C 97.949219 212.921875 93.039062 212.921875 93.039062 209.648438 C 93.039062 206.375 97.949219 206.375 97.949219 209.648438 \"/>\n",
       "<path style=\"fill:none;stroke-width:0.944882;stroke-linecap:round;stroke-linejoin:round;stroke:rgb(0%,0%,0%);stroke-opacity:1;stroke-miterlimit:10;\" d=\"M 196.621094 122.023438 C 196.621094 125.296875 191.710938 125.296875 191.710938 122.023438 C 191.710938 118.75 196.621094 118.75 196.621094 122.023438 \"/>\n",
       "<path style=\"fill:none;stroke-width:0.944882;stroke-linecap:round;stroke-linejoin:round;stroke:rgb(0%,0%,0%);stroke-opacity:1;stroke-miterlimit:10;\" d=\"M 172.921875 122.023438 C 172.921875 125.296875 168.011719 125.296875 168.011719 122.023438 C 168.011719 118.75 172.921875 118.75 172.921875 122.023438 \"/>\n",
       "<path style=\"fill:none;stroke-width:0.944882;stroke-linecap:round;stroke-linejoin:round;stroke:rgb(0%,0%,0%);stroke-opacity:1;stroke-miterlimit:10;\" d=\"M 167.320312 122.023438 C 167.320312 125.296875 162.410156 125.296875 162.410156 122.023438 C 162.410156 118.75 167.320312 118.75 167.320312 122.023438 \"/>\n",
       "<path style=\"fill:none;stroke-width:0.944882;stroke-linecap:round;stroke-linejoin:round;stroke:rgb(0%,0%,0%);stroke-opacity:1;stroke-miterlimit:10;\" d=\"M 188.867188 86.972656 C 188.867188 90.246094 183.957031 90.246094 183.957031 86.972656 C 183.957031 83.699219 188.867188 83.699219 188.867188 86.972656 \"/>\n",
       "<path style=\"fill:none;stroke-width:0.944882;stroke-linecap:round;stroke-linejoin:round;stroke:rgb(0%,0%,0%);stroke-opacity:1;stroke-miterlimit:10;\" d=\"M 185.847656 174.597656 C 185.847656 177.871094 180.9375 177.871094 180.9375 174.597656 C 180.9375 171.324219 185.847656 171.324219 185.847656 174.597656 \"/>\n",
       "<path style=\"fill:none;stroke-width:0.944882;stroke-linecap:round;stroke-linejoin:round;stroke:rgb(0%,0%,0%);stroke-opacity:1;stroke-miterlimit:10;\" d=\"M 176.800781 104.496094 C 176.800781 107.769531 171.890625 107.769531 171.890625 104.496094 C 171.890625 101.222656 176.800781 101.222656 176.800781 104.496094 \"/>\n",
       "<path style=\"fill:none;stroke-width:0.944882;stroke-linecap:round;stroke-linejoin:round;stroke:rgb(0%,0%,0%);stroke-opacity:1;stroke-miterlimit:10;\" d=\"M 209.980469 174.597656 C 209.980469 177.871094 205.070312 177.871094 205.070312 174.597656 C 205.070312 171.324219 209.980469 171.324219 209.980469 174.597656 \"/>\n",
       "<path style=\"fill:none;stroke-width:0.944882;stroke-linecap:round;stroke-linejoin:round;stroke:rgb(0%,0%,0%);stroke-opacity:1;stroke-miterlimit:10;\" d=\"M 120.785156 104.496094 C 120.785156 107.769531 115.875 107.769531 115.875 104.496094 C 115.875 101.222656 120.785156 101.222656 120.785156 104.496094 \"/>\n",
       "<path style=\"fill:none;stroke-width:0.944882;stroke-linecap:round;stroke-linejoin:round;stroke:rgb(0%,0%,0%);stroke-opacity:1;stroke-miterlimit:10;\" d=\"M 145.34375 86.972656 C 145.34375 90.246094 140.4375 90.246094 140.4375 86.972656 C 140.4375 83.699219 145.34375 83.699219 145.34375 86.972656 \"/>\n",
       "<path style=\"fill:none;stroke-width:0.944882;stroke-linecap:round;stroke-linejoin:round;stroke:rgb(0%,0%,0%);stroke-opacity:1;stroke-miterlimit:10;\" d=\"M 218.164062 139.546875 C 218.164062 142.820312 213.257812 142.820312 213.257812 139.546875 C 213.257812 136.273438 218.164062 136.273438 218.164062 139.546875 \"/>\n",
       "<path style=\"fill:none;stroke-width:0.944882;stroke-linecap:round;stroke-linejoin:round;stroke:rgb(0%,0%,0%);stroke-opacity:1;stroke-miterlimit:10;\" d=\"M 85.019531 227.175781 C 85.019531 230.449219 80.109375 230.449219 80.109375 227.175781 C 80.109375 223.902344 85.019531 223.902344 85.019531 227.175781 \"/>\n",
       "<path style=\"fill:none;stroke-width:0.944882;stroke-linecap:round;stroke-linejoin:round;stroke:rgb(0%,0%,0%);stroke-opacity:1;stroke-miterlimit:10;\" d=\"M 253.5 139.546875 C 253.5 142.820312 248.589844 142.820312 248.589844 139.546875 C 248.589844 136.273438 253.5 136.273438 253.5 139.546875 \"/>\n",
       "<path style=\"fill:none;stroke-width:0.944882;stroke-linecap:round;stroke-linejoin:round;stroke:rgb(0%,0%,0%);stroke-opacity:1;stroke-miterlimit:10;\" d=\"M 107.859375 192.125 C 107.859375 195.398438 102.949219 195.398438 102.949219 192.125 C 102.949219 188.851562 107.859375 188.851562 107.859375 192.125 \"/>\n",
       "<path style=\"fill:none;stroke-width:0.944882;stroke-linecap:round;stroke-linejoin:round;stroke:rgb(0%,0%,0%);stroke-opacity:1;stroke-miterlimit:10;\" d=\"M 49.257812 192.125 C 49.257812 195.398438 44.347656 195.398438 44.347656 192.125 C 44.347656 188.851562 49.257812 188.851562 49.257812 192.125 \"/>\n",
       "<path style=\"fill:none;stroke-width:0.944882;stroke-linecap:round;stroke-linejoin:round;stroke:rgb(0%,0%,0%);stroke-opacity:1;stroke-miterlimit:10;\" d=\"M 163.011719 209.648438 C 163.011719 212.921875 158.101562 212.921875 158.101562 209.648438 C 158.101562 206.375 163.011719 206.375 163.011719 209.648438 \"/>\n",
       "<path style=\"fill:none;stroke-width:0.944882;stroke-linecap:round;stroke-linejoin:round;stroke:rgb(0%,0%,0%);stroke-opacity:1;stroke-miterlimit:10;\" d=\"M 204.378906 86.972656 C 204.378906 90.246094 199.46875 90.246094 199.46875 86.972656 C 199.46875 83.699219 204.378906 83.699219 204.378906 86.972656 \"/>\n",
       "<path style=\"fill:none;stroke-width:0.944882;stroke-linecap:round;stroke-linejoin:round;stroke:rgb(0%,0%,0%);stroke-opacity:1;stroke-miterlimit:10;\" d=\"M 122.507812 192.125 C 122.507812 195.398438 117.597656 195.398438 117.597656 192.125 C 117.597656 188.851562 122.507812 188.851562 122.507812 192.125 \"/>\n",
       "<path style=\"fill:none;stroke-width:0.944882;stroke-linecap:round;stroke-linejoin:round;stroke:rgb(0%,0%,0%);stroke-opacity:1;stroke-miterlimit:10;\" d=\"M 174.214844 104.496094 C 174.214844 107.769531 169.304688 107.769531 169.304688 104.496094 C 169.304688 101.222656 174.214844 101.222656 174.214844 104.496094 \"/>\n",
       "<path style=\"fill:none;stroke-width:0.944882;stroke-linecap:round;stroke-linejoin:round;stroke:rgb(0%,0%,0%);stroke-opacity:1;stroke-miterlimit:10;\" d=\"M 240.570312 174.597656 C 240.570312 177.871094 235.664062 177.871094 235.664062 174.597656 C 235.664062 171.324219 240.570312 171.324219 240.570312 174.597656 \"/>\n",
       "<path style=\"fill:none;stroke-width:0.944882;stroke-linecap:round;stroke-linejoin:round;stroke:rgb(0%,0%,0%);stroke-opacity:1;stroke-miterlimit:10;\" d=\"M 179.386719 174.597656 C 179.386719 177.871094 174.476562 177.871094 174.476562 174.597656 C 174.476562 171.324219 179.386719 171.324219 179.386719 174.597656 \"/>\n",
       "<path style=\"fill:none;stroke-width:0.944882;stroke-linecap:round;stroke-linejoin:round;stroke:rgb(0%,0%,0%);stroke-opacity:1;stroke-miterlimit:10;\" d=\"M 146.636719 157.074219 C 146.636719 160.347656 141.726562 160.347656 141.726562 157.074219 C 141.726562 153.800781 146.636719 153.800781 146.636719 157.074219 \"/>\n",
       "<path style=\"fill:none;stroke-width:0.944882;stroke-linecap:round;stroke-linejoin:round;stroke:rgb(0%,0%,0%);stroke-opacity:1;stroke-miterlimit:10;\" d=\"M 189.296875 122.023438 C 189.296875 125.296875 184.386719 125.296875 184.386719 122.023438 C 184.386719 118.75 189.296875 118.75 189.296875 122.023438 \"/>\n",
       "<path style=\"fill:none;stroke-width:0.944882;stroke-linecap:round;stroke-linejoin:round;stroke:rgb(0%,0%,0%);stroke-opacity:1;stroke-miterlimit:10;\" d=\"M 146.207031 227.175781 C 146.207031 230.449219 141.296875 230.449219 141.296875 227.175781 C 141.296875 223.902344 146.207031 223.902344 146.207031 227.175781 \"/>\n",
       "<path style=\"fill:none;stroke-width:0.944882;stroke-linecap:round;stroke-linejoin:round;stroke:rgb(0%,0%,0%);stroke-opacity:1;stroke-miterlimit:10;\" d=\"M 191.019531 104.496094 C 191.019531 107.769531 186.109375 107.769531 186.109375 104.496094 C 186.109375 101.222656 191.019531 101.222656 191.019531 104.496094 \"/>\n",
       "<path style=\"fill:none;stroke-width:0.944882;stroke-linecap:round;stroke-linejoin:round;stroke:rgb(0%,0%,0%);stroke-opacity:1;stroke-miterlimit:10;\" d=\"M 145.777344 244.699219 C 145.777344 247.972656 140.867188 247.972656 140.867188 244.699219 C 140.867188 241.425781 145.777344 241.425781 145.777344 244.699219 \"/>\n",
       "<path style=\"fill:none;stroke-width:0.944882;stroke-linecap:round;stroke-linejoin:round;stroke:rgb(0%,0%,0%);stroke-opacity:1;stroke-miterlimit:10;\" d=\"M 184.125 122.023438 C 184.125 125.296875 179.214844 125.296875 179.214844 122.023438 C 179.214844 118.75 184.125 118.75 184.125 122.023438 \"/>\n",
       "<path style=\"fill:none;stroke-width:0.944882;stroke-linecap:round;stroke-linejoin:round;stroke:rgb(0%,0%,0%);stroke-opacity:1;stroke-miterlimit:10;\" d=\"M 184.554688 104.496094 C 184.554688 107.769531 179.648438 107.769531 179.648438 104.496094 C 179.648438 101.222656 184.554688 101.222656 184.554688 104.496094 \"/>\n",
       "<path style=\"fill:none;stroke-width:0.944882;stroke-linecap:round;stroke-linejoin:round;stroke:rgb(0%,0%,0%);stroke-opacity:1;stroke-miterlimit:10;\" d=\"M 105.703125 192.125 C 105.703125 195.398438 100.792969 195.398438 100.792969 192.125 C 100.792969 188.851562 105.703125 188.851562 105.703125 192.125 \"/>\n",
       "<path style=\"fill:none;stroke-width:0.944882;stroke-linecap:round;stroke-linejoin:round;stroke:rgb(0%,0%,0%);stroke-opacity:1;stroke-miterlimit:10;\" d=\"M 144.914062 86.972656 C 144.914062 90.246094 140.003906 90.246094 140.003906 86.972656 C 140.003906 83.699219 144.914062 83.699219 144.914062 86.972656 \"/>\n",
       "<path style=\"fill:none;stroke-width:0.944882;stroke-linecap:round;stroke-linejoin:round;stroke:rgb(0%,0%,0%);stroke-opacity:1;stroke-miterlimit:10;\" d=\"M 125.523438 104.496094 C 125.523438 107.769531 120.613281 107.769531 120.613281 104.496094 C 120.613281 101.222656 125.523438 101.222656 125.523438 104.496094 \"/>\n",
       "<path style=\"fill:none;stroke-width:0.944882;stroke-linecap:round;stroke-linejoin:round;stroke:rgb(0%,0%,0%);stroke-opacity:1;stroke-miterlimit:10;\" d=\"M 156.117188 209.648438 C 156.117188 212.921875 151.207031 212.921875 151.207031 209.648438 C 151.207031 206.375 156.117188 206.375 156.117188 209.648438 \"/>\n",
       "<path style=\"fill:none;stroke-width:0.944882;stroke-linecap:round;stroke-linejoin:round;stroke:rgb(0%,0%,0%);stroke-opacity:1;stroke-miterlimit:10;\" d=\"M 181.539062 139.546875 C 181.539062 142.820312 176.628906 142.820312 176.628906 139.546875 C 176.628906 136.273438 181.539062 136.273438 181.539062 139.546875 \"/>\n",
       "<path style=\"fill:none;stroke-width:0.944882;stroke-linecap:round;stroke-linejoin:round;stroke:rgb(0%,0%,0%);stroke-opacity:1;stroke-miterlimit:10;\" d=\"M 185.847656 122.023438 C 185.847656 125.296875 180.9375 125.296875 180.9375 122.023438 C 180.9375 118.75 185.847656 118.75 185.847656 122.023438 \"/>\n",
       "<path style=\"fill:none;stroke-width:0.944882;stroke-linecap:round;stroke-linejoin:round;stroke:rgb(0%,0%,0%);stroke-opacity:1;stroke-miterlimit:10;\" d=\"M 247.898438 69.445312 C 247.898438 72.71875 242.988281 72.71875 242.988281 69.445312 C 242.988281 66.175781 247.898438 66.175781 247.898438 69.445312 \"/>\n",
       "<path style=\"fill:none;stroke-width:0.944882;stroke-linecap:round;stroke-linejoin:round;stroke:rgb(0%,0%,0%);stroke-opacity:1;stroke-miterlimit:10;\" d=\"M 210.839844 139.546875 C 210.839844 142.820312 205.929688 142.820312 205.929688 139.546875 C 205.929688 136.273438 210.839844 136.273438 210.839844 139.546875 \"/>\n",
       "<path style=\"fill:none;stroke-width:0.944882;stroke-linecap:round;stroke-linejoin:round;stroke:rgb(0%,0%,0%);stroke-opacity:1;stroke-miterlimit:10;\" d=\"M 181.109375 122.023438 C 181.109375 125.296875 176.199219 125.296875 176.199219 122.023438 C 176.199219 118.75 181.109375 118.75 181.109375 122.023438 \"/>\n",
       "<path style=\"fill:none;stroke-width:0.944882;stroke-linecap:round;stroke-linejoin:round;stroke:rgb(0%,0%,0%);stroke-opacity:1;stroke-miterlimit:10;\" d=\"M 116.042969 139.546875 C 116.042969 142.820312 111.136719 142.820312 111.136719 139.546875 C 111.136719 136.273438 116.042969 136.273438 116.042969 139.546875 \"/>\n",
       "<path style=\"fill:none;stroke-width:0.944882;stroke-linecap:round;stroke-linejoin:round;stroke:rgb(0%,0%,0%);stroke-opacity:1;stroke-miterlimit:10;\" d=\"M 190.15625 174.597656 C 190.15625 177.871094 185.25 177.871094 185.25 174.597656 C 185.25 171.324219 190.15625 171.324219 190.15625 174.597656 \"/>\n",
       "<path style=\"fill:none;stroke-width:0.944882;stroke-linecap:round;stroke-linejoin:round;stroke:rgb(0%,0%,0%);stroke-opacity:1;stroke-miterlimit:10;\" d=\"M 143.191406 174.597656 C 143.191406 177.871094 138.28125 177.871094 138.28125 174.597656 C 138.28125 171.324219 143.191406 171.324219 143.191406 174.597656 \"/>\n",
       "<path style=\"fill:none;stroke-width:0.944882;stroke-linecap:round;stroke-linejoin:round;stroke:rgb(0%,0%,0%);stroke-opacity:1;stroke-miterlimit:10;\" d=\"M 159.132812 104.496094 C 159.132812 107.769531 154.222656 107.769531 154.222656 104.496094 C 154.222656 101.222656 159.132812 101.222656 159.132812 104.496094 \"/>\n",
       "<path style=\"fill:none;stroke-width:0.944882;stroke-linecap:round;stroke-linejoin:round;stroke:rgb(0%,0%,0%);stroke-opacity:1;stroke-miterlimit:10;\" d=\"M 125.09375 104.496094 C 125.09375 107.769531 120.183594 107.769531 120.183594 104.496094 C 120.183594 101.222656 125.09375 101.222656 125.09375 104.496094 \"/>\n",
       "<path style=\"fill:none;stroke-width:0.944882;stroke-linecap:round;stroke-linejoin:round;stroke:rgb(0%,0%,0%);stroke-opacity:1;stroke-miterlimit:10;\" d=\"M 116.042969 122.023438 C 116.042969 125.296875 111.136719 125.296875 111.136719 122.023438 C 111.136719 118.75 116.042969 118.75 116.042969 122.023438 \"/>\n",
       "<path style=\"fill:none;stroke-width:0.944882;stroke-linecap:round;stroke-linejoin:round;stroke:rgb(0%,0%,0%);stroke-opacity:1;stroke-miterlimit:10;\" d=\"M 227.214844 69.445312 C 227.214844 72.71875 222.304688 72.71875 222.304688 69.445312 C 222.304688 66.175781 227.214844 66.175781 227.214844 69.445312 \"/>\n",
       "<path style=\"fill:none;stroke-width:0.944882;stroke-linecap:round;stroke-linejoin:round;stroke:rgb(0%,0%,0%);stroke-opacity:1;stroke-miterlimit:10;\" d=\"M 138.019531 174.597656 C 138.019531 177.871094 133.109375 177.871094 133.109375 174.597656 C 133.109375 171.324219 138.019531 171.324219 138.019531 174.597656 \"/>\n",
       "<path style=\"fill-rule:nonzero;fill:rgb(0%,0%,0%);fill-opacity:1;stroke-width:0.944882;stroke-linecap:round;stroke-linejoin:round;stroke:rgb(0%,0%,0%);stroke-opacity:1;stroke-miterlimit:10;\" d=\"M 176.371094 34.394531 C 176.371094 37.667969 171.460938 37.667969 171.460938 34.394531 C 171.460938 31.125 176.371094 31.125 176.371094 34.394531 \"/>\n",
       "<path style=\"fill-rule:nonzero;fill:rgb(0%,0%,0%);fill-opacity:1;stroke-width:0.944882;stroke-linecap:round;stroke-linejoin:round;stroke:rgb(0%,0%,0%);stroke-opacity:1;stroke-miterlimit:10;\" d=\"M 129.402344 174.597656 C 129.402344 177.871094 124.492188 177.871094 124.492188 174.597656 C 124.492188 171.324219 129.402344 171.324219 129.402344 174.597656 \"/>\n",
       "<path style=\"fill-rule:nonzero;fill:rgb(0%,0%,0%);fill-opacity:1;stroke-width:0.944882;stroke-linecap:round;stroke-linejoin:round;stroke:rgb(0%,0%,0%);stroke-opacity:1;stroke-miterlimit:10;\" d=\"M 165.597656 157.074219 C 165.597656 160.347656 160.6875 160.347656 160.6875 157.074219 C 160.6875 153.800781 165.597656 153.800781 165.597656 157.074219 \"/>\n",
       "<path style=\"fill-rule:nonzero;fill:rgb(0%,0%,0%);fill-opacity:1;stroke-width:0.944882;stroke-linecap:round;stroke-linejoin:round;stroke:rgb(0%,0%,0%);stroke-opacity:1;stroke-miterlimit:10;\" d=\"M 116.90625 122.023438 C 116.90625 125.296875 111.996094 125.296875 111.996094 122.023438 C 111.996094 118.75 116.90625 118.75 116.90625 122.023438 \"/>\n",
       "<path style=\"fill-rule:nonzero;fill:rgb(0%,0%,0%);fill-opacity:1;stroke-width:0.944882;stroke-linecap:round;stroke-linejoin:round;stroke:rgb(0%,0%,0%);stroke-opacity:1;stroke-miterlimit:10;\" d=\"M 258.238281 174.597656 C 258.238281 177.871094 253.328125 177.871094 253.328125 174.597656 C 253.328125 171.324219 258.238281 171.324219 258.238281 174.597656 \"/>\n",
       "<path style=\"fill-rule:nonzero;fill:rgb(0%,0%,0%);fill-opacity:1;stroke-width:0.944882;stroke-linecap:round;stroke-linejoin:round;stroke:rgb(0%,0%,0%);stroke-opacity:1;stroke-miterlimit:10;\" d=\"M 166.457031 157.074219 C 166.457031 160.347656 161.550781 160.347656 161.550781 157.074219 C 161.550781 153.800781 166.457031 153.800781 166.457031 157.074219 \"/>\n",
       "<path style=\"fill-rule:nonzero;fill:rgb(0%,0%,0%);fill-opacity:1;stroke-width:0.944882;stroke-linecap:round;stroke-linejoin:round;stroke:rgb(0%,0%,0%);stroke-opacity:1;stroke-miterlimit:10;\" d=\"M 163.441406 122.023438 C 163.441406 125.296875 158.53125 125.296875 158.53125 122.023438 C 158.53125 118.75 163.441406 118.75 163.441406 122.023438 \"/>\n",
       "<path style=\"fill-rule:nonzero;fill:rgb(0%,0%,0%);fill-opacity:1;stroke-width:0.944882;stroke-linecap:round;stroke-linejoin:round;stroke:rgb(0%,0%,0%);stroke-opacity:1;stroke-miterlimit:10;\" d=\"M 250.914062 51.921875 C 250.914062 55.195312 246.003906 55.195312 246.003906 51.921875 C 246.003906 48.648438 250.914062 48.648438 250.914062 51.921875 \"/>\n",
       "<path style=\"fill-rule:nonzero;fill:rgb(0%,0%,0%);fill-opacity:1;stroke-width:0.944882;stroke-linecap:round;stroke-linejoin:round;stroke:rgb(0%,0%,0%);stroke-opacity:1;stroke-miterlimit:10;\" d=\"M 177.230469 122.023438 C 177.230469 125.296875 172.320312 125.296875 172.320312 122.023438 C 172.320312 118.75 177.230469 118.75 177.230469 122.023438 \"/>\n",
       "<path style=\"fill-rule:nonzero;fill:rgb(0%,0%,0%);fill-opacity:1;stroke-width:0.944882;stroke-linecap:round;stroke-linejoin:round;stroke:rgb(0%,0%,0%);stroke-opacity:1;stroke-miterlimit:10;\" d=\"M 141.898438 51.921875 C 141.898438 55.195312 136.988281 55.195312 136.988281 51.921875 C 136.988281 48.648438 141.898438 48.648438 141.898438 51.921875 \"/>\n",
       "<path style=\"fill-rule:nonzero;fill:rgb(0%,0%,0%);fill-opacity:1;stroke-width:0.944882;stroke-linecap:round;stroke-linejoin:round;stroke:rgb(0%,0%,0%);stroke-opacity:1;stroke-miterlimit:10;\" d=\"M 177.660156 157.074219 C 177.660156 160.347656 172.753906 160.347656 172.753906 157.074219 C 172.753906 153.800781 177.660156 153.800781 177.660156 157.074219 \"/>\n",
       "<path style=\"fill-rule:nonzero;fill:rgb(0%,0%,0%);fill-opacity:1;stroke-width:0.944882;stroke-linecap:round;stroke-linejoin:round;stroke:rgb(0%,0%,0%);stroke-opacity:1;stroke-miterlimit:10;\" d=\"M 212.996094 139.546875 C 212.996094 142.820312 208.085938 142.820312 208.085938 139.546875 C 208.085938 136.273438 212.996094 136.273438 212.996094 139.546875 \"/>\n",
       "<path style=\"fill-rule:nonzero;fill:rgb(0%,0%,0%);fill-opacity:1;stroke-width:0.944882;stroke-linecap:round;stroke-linejoin:round;stroke:rgb(0%,0%,0%);stroke-opacity:1;stroke-miterlimit:10;\" d=\"M 135.433594 104.496094 C 135.433594 107.769531 130.523438 107.769531 130.523438 104.496094 C 130.523438 101.222656 135.433594 101.222656 135.433594 104.496094 \"/>\n",
       "<path style=\"fill-rule:nonzero;fill:rgb(0%,0%,0%);fill-opacity:1;stroke-width:0.944882;stroke-linecap:round;stroke-linejoin:round;stroke:rgb(0%,0%,0%);stroke-opacity:1;stroke-miterlimit:10;\" d=\"M 199.207031 157.074219 C 199.207031 160.347656 194.296875 160.347656 194.296875 157.074219 C 194.296875 153.800781 199.207031 153.800781 199.207031 157.074219 \"/>\n",
       "<path style=\"fill-rule:nonzero;fill:rgb(0%,0%,0%);fill-opacity:1;stroke-width:0.944882;stroke-linecap:round;stroke-linejoin:round;stroke:rgb(0%,0%,0%);stroke-opacity:1;stroke-miterlimit:10;\" d=\"M 211.703125 69.445312 C 211.703125 72.71875 206.792969 72.71875 206.792969 69.445312 C 206.792969 66.175781 211.703125 66.175781 211.703125 69.445312 \"/>\n",
       "<path style=\"fill-rule:nonzero;fill:rgb(0%,0%,0%);fill-opacity:1;stroke-width:0.944882;stroke-linecap:round;stroke-linejoin:round;stroke:rgb(0%,0%,0%);stroke-opacity:1;stroke-miterlimit:10;\" d=\"M 194.035156 174.597656 C 194.035156 177.871094 189.125 177.871094 189.125 174.597656 C 189.125 171.324219 194.035156 171.324219 194.035156 174.597656 \"/>\n",
       "<path style=\"fill-rule:nonzero;fill:rgb(0%,0%,0%);fill-opacity:1;stroke-width:0.944882;stroke-linecap:round;stroke-linejoin:round;stroke:rgb(0%,0%,0%);stroke-opacity:1;stroke-miterlimit:10;\" d=\"M 156.980469 16.871094 C 156.980469 20.144531 152.070312 20.144531 152.070312 16.871094 C 152.070312 13.597656 156.980469 13.597656 156.980469 16.871094 \"/>\n",
       "<path style=\"fill-rule:nonzero;fill:rgb(0%,0%,0%);fill-opacity:1;stroke-width:0.944882;stroke-linecap:round;stroke-linejoin:round;stroke:rgb(0%,0%,0%);stroke-opacity:1;stroke-miterlimit:10;\" d=\"M 209.546875 227.175781 C 209.546875 230.449219 204.636719 230.449219 204.636719 227.175781 C 204.636719 223.902344 209.546875 223.902344 209.546875 227.175781 \"/>\n",
       "<path style=\"fill-rule:nonzero;fill:rgb(0%,0%,0%);fill-opacity:1;stroke-width:0.944882;stroke-linecap:round;stroke-linejoin:round;stroke:rgb(0%,0%,0%);stroke-opacity:1;stroke-miterlimit:10;\" d=\"M 153.101562 209.648438 C 153.101562 212.921875 148.191406 212.921875 148.191406 209.648438 C 148.191406 206.375 153.101562 206.375 153.101562 209.648438 \"/>\n",
       "<path style=\"fill-rule:nonzero;fill:rgb(0%,0%,0%);fill-opacity:1;stroke-width:0.944882;stroke-linecap:round;stroke-linejoin:round;stroke:rgb(0%,0%,0%);stroke-opacity:1;stroke-miterlimit:10;\" d=\"M 272.457031 174.597656 C 272.457031 177.871094 267.546875 177.871094 267.546875 174.597656 C 267.546875 171.324219 272.457031 171.324219 272.457031 174.597656 \"/>\n",
       "<path style=\"fill-rule:nonzero;fill:rgb(0%,0%,0%);fill-opacity:1;stroke-width:0.944882;stroke-linecap:round;stroke-linejoin:round;stroke:rgb(0%,0%,0%);stroke-opacity:1;stroke-miterlimit:10;\" d=\"M 193.605469 104.496094 C 193.605469 107.769531 188.695312 107.769531 188.695312 104.496094 C 188.695312 101.222656 193.605469 101.222656 193.605469 104.496094 \"/>\n",
       "<path style=\"fill-rule:nonzero;fill:rgb(0%,0%,0%);fill-opacity:1;stroke-width:0.944882;stroke-linecap:round;stroke-linejoin:round;stroke:rgb(0%,0%,0%);stroke-opacity:1;stroke-miterlimit:10;\" d=\"M 226.351562 139.546875 C 226.351562 142.820312 221.441406 142.820312 221.441406 139.546875 C 221.441406 136.273438 226.351562 136.273438 226.351562 139.546875 \"/>\n",
       "<path style=\"fill-rule:nonzero;fill:rgb(0%,0%,0%);fill-opacity:1;stroke-width:0.944882;stroke-linecap:round;stroke-linejoin:round;stroke:rgb(0%,0%,0%);stroke-opacity:1;stroke-miterlimit:10;\" d=\"M 273.75 139.546875 C 273.75 142.820312 268.839844 142.820312 268.839844 139.546875 C 268.839844 136.273438 273.75 136.273438 273.75 139.546875 \"/>\n",
       "<path style=\"fill-rule:nonzero;fill:rgb(0%,0%,0%);fill-opacity:1;stroke-width:0.944882;stroke-linecap:round;stroke-linejoin:round;stroke:rgb(0%,0%,0%);stroke-opacity:1;stroke-miterlimit:10;\" d=\"M 178.09375 157.074219 C 178.09375 160.347656 173.183594 160.347656 173.183594 157.074219 C 173.183594 153.800781 178.09375 153.800781 178.09375 157.074219 \"/>\n",
       "<path style=\"fill-rule:nonzero;fill:rgb(0%,0%,0%);fill-opacity:1;stroke-width:0.944882;stroke-linecap:round;stroke-linejoin:round;stroke:rgb(0%,0%,0%);stroke-opacity:1;stroke-miterlimit:10;\" d=\"M 150.085938 192.125 C 150.085938 195.398438 145.175781 195.398438 145.175781 192.125 C 145.175781 188.851562 150.085938 188.851562 150.085938 192.125 \"/>\n",
       "<path style=\"fill-rule:nonzero;fill:rgb(0%,0%,0%);fill-opacity:1;stroke-width:0.944882;stroke-linecap:round;stroke-linejoin:round;stroke:rgb(0%,0%,0%);stroke-opacity:1;stroke-miterlimit:10;\" d=\"M 180.679688 174.597656 C 180.679688 177.871094 175.769531 177.871094 175.769531 174.597656 C 175.769531 171.324219 180.679688 171.324219 180.679688 174.597656 \"/>\n",
       "<path style=\"fill-rule:nonzero;fill:rgb(0%,0%,0%);fill-opacity:1;stroke-width:0.944882;stroke-linecap:round;stroke-linejoin:round;stroke:rgb(0%,0%,0%);stroke-opacity:1;stroke-miterlimit:10;\" d=\"M 246.171875 139.546875 C 246.171875 142.820312 241.265625 142.820312 241.265625 139.546875 C 241.265625 136.273438 246.171875 136.273438 246.171875 139.546875 \"/>\n",
       "<path style=\"fill-rule:nonzero;fill:rgb(0%,0%,0%);fill-opacity:1;stroke-width:0.944882;stroke-linecap:round;stroke-linejoin:round;stroke:rgb(0%,0%,0%);stroke-opacity:1;stroke-miterlimit:10;\" d=\"M 149.652344 122.023438 C 149.652344 125.296875 144.746094 125.296875 144.746094 122.023438 C 144.746094 118.75 149.652344 118.75 149.652344 122.023438 \"/>\n",
       "<path style=\"fill-rule:nonzero;fill:rgb(0%,0%,0%);fill-opacity:1;stroke-width:0.944882;stroke-linecap:round;stroke-linejoin:round;stroke:rgb(0%,0%,0%);stroke-opacity:1;stroke-miterlimit:10;\" d=\"M 187.574219 122.023438 C 187.574219 125.296875 182.664062 125.296875 182.664062 122.023438 C 182.664062 118.75 187.574219 118.75 187.574219 122.023438 \"/>\n",
       "<path style=\"fill-rule:nonzero;fill:rgb(0%,0%,0%);fill-opacity:1;stroke-width:0.944882;stroke-linecap:round;stroke-linejoin:round;stroke:rgb(0%,0%,0%);stroke-opacity:1;stroke-miterlimit:10;\" d=\"M 168.613281 174.597656 C 168.613281 177.871094 163.703125 177.871094 163.703125 174.597656 C 163.703125 171.324219 168.613281 171.324219 168.613281 174.597656 \"/>\n",
       "<path style=\"fill-rule:nonzero;fill:rgb(0%,0%,0%);fill-opacity:1;stroke-width:0.944882;stroke-linecap:round;stroke-linejoin:round;stroke:rgb(0%,0%,0%);stroke-opacity:1;stroke-miterlimit:10;\" d=\"M 183.265625 157.074219 C 183.265625 160.347656 178.355469 160.347656 178.355469 157.074219 C 178.355469 153.800781 183.265625 153.800781 183.265625 157.074219 \"/>\n",
       "<path style=\"fill-rule:nonzero;fill:rgb(0%,0%,0%);fill-opacity:1;stroke-width:0.944882;stroke-linecap:round;stroke-linejoin:round;stroke:rgb(0%,0%,0%);stroke-opacity:1;stroke-miterlimit:10;\" d=\"M 236.695312 104.496094 C 236.695312 107.769531 231.785156 107.769531 231.785156 104.496094 C 231.785156 101.222656 236.695312 101.222656 236.695312 104.496094 \"/>\n",
       "<path style=\"fill-rule:nonzero;fill:rgb(0%,0%,0%);fill-opacity:1;stroke-width:0.944882;stroke-linecap:round;stroke-linejoin:round;stroke:rgb(0%,0%,0%);stroke-opacity:1;stroke-miterlimit:10;\" d=\"M 145.34375 174.597656 C 145.34375 177.871094 140.4375 177.871094 140.4375 174.597656 C 140.4375 171.324219 145.34375 171.324219 145.34375 174.597656 \"/>\n",
       "<path style=\"fill-rule:nonzero;fill:rgb(0%,0%,0%);fill-opacity:1;stroke-width:0.944882;stroke-linecap:round;stroke-linejoin:round;stroke:rgb(0%,0%,0%);stroke-opacity:1;stroke-miterlimit:10;\" d=\"M 225.492188 86.972656 C 225.492188 90.246094 220.582031 90.246094 220.582031 86.972656 C 220.582031 83.699219 225.492188 83.699219 225.492188 86.972656 \"/>\n",
       "<path style=\"fill-rule:nonzero;fill:rgb(0%,0%,0%);fill-opacity:1;stroke-width:0.944882;stroke-linecap:round;stroke-linejoin:round;stroke:rgb(0%,0%,0%);stroke-opacity:1;stroke-miterlimit:10;\" d=\"M 158.703125 86.972656 C 158.703125 90.246094 153.792969 90.246094 153.792969 86.972656 C 153.792969 83.699219 158.703125 83.699219 158.703125 86.972656 \"/>\n",
       "<path style=\"fill-rule:nonzero;fill:rgb(0%,0%,0%);fill-opacity:1;stroke-width:0.944882;stroke-linecap:round;stroke-linejoin:round;stroke:rgb(0%,0%,0%);stroke-opacity:1;stroke-miterlimit:10;\" d=\"M 203.945312 86.972656 C 203.945312 90.246094 199.035156 90.246094 199.035156 86.972656 C 199.035156 83.699219 203.945312 83.699219 203.945312 86.972656 \"/>\n",
       "<path style=\"fill-rule:nonzero;fill:rgb(0%,0%,0%);fill-opacity:1;stroke-width:0.944882;stroke-linecap:round;stroke-linejoin:round;stroke:rgb(0%,0%,0%);stroke-opacity:1;stroke-miterlimit:10;\" d=\"M 179.386719 192.125 C 179.386719 195.398438 174.476562 195.398438 174.476562 192.125 C 174.476562 188.851562 179.386719 188.851562 179.386719 192.125 \"/>\n",
       "<path style=\"fill-rule:nonzero;fill:rgb(0%,0%,0%);fill-opacity:1;stroke-width:0.944882;stroke-linecap:round;stroke-linejoin:round;stroke:rgb(0%,0%,0%);stroke-opacity:1;stroke-miterlimit:10;\" d=\"M 192.3125 174.597656 C 192.3125 177.871094 187.402344 177.871094 187.402344 174.597656 C 187.402344 171.324219 192.3125 171.324219 192.3125 174.597656 \"/>\n",
       "<path style=\"fill-rule:nonzero;fill:rgb(0%,0%,0%);fill-opacity:1;stroke-width:0.944882;stroke-linecap:round;stroke-linejoin:round;stroke:rgb(0%,0%,0%);stroke-opacity:1;stroke-miterlimit:10;\" d=\"M 201.792969 209.648438 C 201.792969 212.921875 196.882812 212.921875 196.882812 209.648438 C 196.882812 206.375 201.792969 206.375 201.792969 209.648438 \"/>\n",
       "<path style=\"fill-rule:nonzero;fill:rgb(0%,0%,0%);fill-opacity:1;stroke-width:0.944882;stroke-linecap:round;stroke-linejoin:round;stroke:rgb(0%,0%,0%);stroke-opacity:1;stroke-miterlimit:10;\" d=\"M 120.785156 192.125 C 120.785156 195.398438 115.875 195.398438 115.875 192.125 C 115.875 188.851562 120.785156 188.851562 120.785156 192.125 \"/>\n",
       "<path style=\"fill-rule:nonzero;fill:rgb(0%,0%,0%);fill-opacity:1;stroke-width:0.944882;stroke-linecap:round;stroke-linejoin:round;stroke:rgb(0%,0%,0%);stroke-opacity:1;stroke-miterlimit:10;\" d=\"M 222.042969 174.597656 C 222.042969 177.871094 217.132812 177.871094 217.132812 174.597656 C 217.132812 171.324219 222.042969 171.324219 222.042969 174.597656 \"/>\n",
       "<path style=\"fill-rule:nonzero;fill:rgb(0%,0%,0%);fill-opacity:1;stroke-width:0.944882;stroke-linecap:round;stroke-linejoin:round;stroke:rgb(0%,0%,0%);stroke-opacity:1;stroke-miterlimit:10;\" d=\"M 164.304688 192.125 C 164.304688 195.398438 159.394531 195.398438 159.394531 192.125 C 159.394531 188.851562 164.304688 188.851562 164.304688 192.125 \"/>\n",
       "<path style=\"fill-rule:nonzero;fill:rgb(0%,0%,0%);fill-opacity:1;stroke-width:0.944882;stroke-linecap:round;stroke-linejoin:round;stroke:rgb(0%,0%,0%);stroke-opacity:1;stroke-miterlimit:10;\" d=\"M 236.695312 139.546875 C 236.695312 142.820312 231.785156 142.820312 231.785156 139.546875 C 231.785156 136.273438 236.695312 136.273438 236.695312 139.546875 \"/>\n",
       "<path style=\"fill-rule:nonzero;fill:rgb(0%,0%,0%);fill-opacity:1;stroke-width:0.944882;stroke-linecap:round;stroke-linejoin:round;stroke:rgb(0%,0%,0%);stroke-opacity:1;stroke-miterlimit:10;\" d=\"M 171.628906 192.125 C 171.628906 195.398438 166.71875 195.398438 166.71875 192.125 C 166.71875 188.851562 171.628906 188.851562 171.628906 192.125 \"/>\n",
       "<path style=\"fill-rule:nonzero;fill:rgb(0%,0%,0%);fill-opacity:1;stroke-width:0.944882;stroke-linecap:round;stroke-linejoin:round;stroke:rgb(0%,0%,0%);stroke-opacity:1;stroke-miterlimit:10;\" d=\"M 251.34375 122.023438 C 251.34375 125.296875 246.433594 125.296875 246.433594 122.023438 C 246.433594 118.75 251.34375 118.75 251.34375 122.023438 \"/>\n",
       "<path style=\"fill-rule:nonzero;fill:rgb(0%,0%,0%);fill-opacity:1;stroke-width:0.944882;stroke-linecap:round;stroke-linejoin:round;stroke:rgb(0%,0%,0%);stroke-opacity:1;stroke-miterlimit:10;\" d=\"M 133.710938 139.546875 C 133.710938 142.820312 128.800781 142.820312 128.800781 139.546875 C 128.800781 136.273438 133.710938 136.273438 133.710938 139.546875 \"/>\n",
       "<path style=\"fill-rule:nonzero;fill:rgb(0%,0%,0%);fill-opacity:1;stroke-width:0.944882;stroke-linecap:round;stroke-linejoin:round;stroke:rgb(0%,0%,0%);stroke-opacity:1;stroke-miterlimit:10;\" d=\"M 106.566406 174.597656 C 106.566406 177.871094 101.65625 177.871094 101.65625 174.597656 C 101.65625 171.324219 106.566406 171.324219 106.566406 174.597656 \"/>\n",
       "<path style=\"fill-rule:nonzero;fill:rgb(0%,0%,0%);fill-opacity:1;stroke-width:0.944882;stroke-linecap:round;stroke-linejoin:round;stroke:rgb(0%,0%,0%);stroke-opacity:1;stroke-miterlimit:10;\" d=\"M 180.679688 139.546875 C 180.679688 142.820312 175.769531 142.820312 175.769531 139.546875 C 175.769531 136.273438 180.679688 136.273438 180.679688 139.546875 \"/>\n",
       "<path style=\"fill-rule:nonzero;fill:rgb(0%,0%,0%);fill-opacity:1;stroke-width:0.944882;stroke-linecap:round;stroke-linejoin:round;stroke:rgb(0%,0%,0%);stroke-opacity:1;stroke-miterlimit:10;\" d=\"M 207.394531 157.074219 C 207.394531 160.347656 202.484375 160.347656 202.484375 157.074219 C 202.484375 153.800781 207.394531 153.800781 207.394531 157.074219 \"/>\n",
       "<path style=\"fill-rule:nonzero;fill:rgb(0%,0%,0%);fill-opacity:1;stroke-width:0.944882;stroke-linecap:round;stroke-linejoin:round;stroke:rgb(0%,0%,0%);stroke-opacity:1;stroke-miterlimit:10;\" d=\"M 169.042969 122.023438 C 169.042969 125.296875 164.132812 125.296875 164.132812 122.023438 C 164.132812 118.75 169.042969 118.75 169.042969 122.023438 \"/>\n",
       "<g style=\"fill:rgb(30.196078%,30.196078%,30.196078%);fill-opacity:1;\">\n",
       "  <use xlink:href=\"#glyph0-1\" x=\"25.472656\" y=\"212.984375\"/>\n",
       "</g>\n",
       "<g style=\"fill:rgb(30.196078%,30.196078%,30.196078%);fill-opacity:1;\">\n",
       "  <use xlink:href=\"#glyph0-2\" x=\"25.472656\" y=\"142.882812\"/>\n",
       "</g>\n",
       "<g style=\"fill:rgb(30.196078%,30.196078%,30.196078%);fill-opacity:1;\">\n",
       "  <use xlink:href=\"#glyph0-3\" x=\"20.304688\" y=\"72.78125\"/>\n",
       "  <use xlink:href=\"#glyph0-4\" x=\"25.475174\" y=\"72.78125\"/>\n",
       "</g>\n",
       "<path style=\"fill:none;stroke-width:1.422638;stroke-linecap:butt;stroke-linejoin:round;stroke:rgb(20%,20%,20%);stroke-opacity:1;stroke-miterlimit:10;\" d=\"M 32.835938 209.648438 L 35.578125 209.648438 \"/>\n",
       "<path style=\"fill:none;stroke-width:1.422638;stroke-linecap:butt;stroke-linejoin:round;stroke:rgb(20%,20%,20%);stroke-opacity:1;stroke-miterlimit:10;\" d=\"M 32.835938 139.546875 L 35.578125 139.546875 \"/>\n",
       "<path style=\"fill:none;stroke-width:1.422638;stroke-linecap:butt;stroke-linejoin:round;stroke:rgb(20%,20%,20%);stroke-opacity:1;stroke-miterlimit:10;\" d=\"M 32.835938 69.445312 L 35.578125 69.445312 \"/>\n",
       "<path style=\"fill:none;stroke-width:1.422638;stroke-linecap:butt;stroke-linejoin:round;stroke:rgb(20%,20%,20%);stroke-opacity:1;stroke-miterlimit:10;\" d=\"M 38.613281 258.832031 L 38.613281 256.09375 \"/>\n",
       "<path style=\"fill:none;stroke-width:1.422638;stroke-linecap:butt;stroke-linejoin:round;stroke:rgb(20%,20%,20%);stroke-opacity:1;stroke-miterlimit:10;\" d=\"M 81.703125 258.832031 L 81.703125 256.09375 \"/>\n",
       "<path style=\"fill:none;stroke-width:1.422638;stroke-linecap:butt;stroke-linejoin:round;stroke:rgb(20%,20%,20%);stroke-opacity:1;stroke-miterlimit:10;\" d=\"M 124.792969 258.832031 L 124.792969 256.09375 \"/>\n",
       "<path style=\"fill:none;stroke-width:1.422638;stroke-linecap:butt;stroke-linejoin:round;stroke:rgb(20%,20%,20%);stroke-opacity:1;stroke-miterlimit:10;\" d=\"M 167.882812 258.832031 L 167.882812 256.09375 \"/>\n",
       "<path style=\"fill:none;stroke-width:1.422638;stroke-linecap:butt;stroke-linejoin:round;stroke:rgb(20%,20%,20%);stroke-opacity:1;stroke-miterlimit:10;\" d=\"M 210.972656 258.832031 L 210.972656 256.09375 \"/>\n",
       "<path style=\"fill:none;stroke-width:1.422638;stroke-linecap:butt;stroke-linejoin:round;stroke:rgb(20%,20%,20%);stroke-opacity:1;stroke-miterlimit:10;\" d=\"M 254.058594 258.832031 L 254.058594 256.09375 \"/>\n",
       "<g style=\"fill:rgb(30.196078%,30.196078%,30.196078%);fill-opacity:1;\">\n",
       "  <use xlink:href=\"#glyph0-5\" x=\"36.027344\" y=\"267.695312\"/>\n",
       "</g>\n",
       "<g style=\"fill:rgb(30.196078%,30.196078%,30.196078%);fill-opacity:1;\">\n",
       "  <use xlink:href=\"#glyph0-2\" x=\"79.117188\" y=\"267.695312\"/>\n",
       "</g>\n",
       "<g style=\"fill:rgb(30.196078%,30.196078%,30.196078%);fill-opacity:1;\">\n",
       "  <use xlink:href=\"#glyph0-6\" x=\"122.207031\" y=\"267.695312\"/>\n",
       "</g>\n",
       "<g style=\"fill:rgb(30.196078%,30.196078%,30.196078%);fill-opacity:1;\">\n",
       "  <use xlink:href=\"#glyph0-3\" x=\"162.710938\" y=\"267.695312\"/>\n",
       "  <use xlink:href=\"#glyph0-7\" x=\"167.881424\" y=\"267.695312\"/>\n",
       "</g>\n",
       "<g style=\"fill:rgb(30.196078%,30.196078%,30.196078%);fill-opacity:1;\">\n",
       "  <use xlink:href=\"#glyph0-3\" x=\"205.800781\" y=\"267.695312\"/>\n",
       "  <use xlink:href=\"#glyph0-3\" x=\"210.971268\" y=\"267.695312\"/>\n",
       "</g>\n",
       "<g style=\"fill:rgb(30.196078%,30.196078%,30.196078%);fill-opacity:1;\">\n",
       "  <use xlink:href=\"#glyph0-3\" x=\"248.886719\" y=\"267.695312\"/>\n",
       "  <use xlink:href=\"#glyph0-4\" x=\"254.057205\" y=\"267.695312\"/>\n",
       "</g>\n",
       "<g style=\"fill:rgb(0%,0%,0%);fill-opacity:1;\">\n",
       "  <use xlink:href=\"#glyph1-1\" x=\"156.175781\" y=\"280.328125\"/>\n",
       "</g>\n",
       "<g style=\"fill:rgb(0%,0%,0%);fill-opacity:1;\">\n",
       "  <use xlink:href=\"#glyph2-1\" x=\"15.921875\" y=\"133.660156\"/>\n",
       "</g>\n",
       "<path style=\" stroke:none;fill-rule:nonzero;fill:rgb(100%,100%,100%);fill-opacity:1;\" d=\"M 43.050781 15.429688 L 77.492188 15.429688 L 77.492188 70.710938 L 43.050781 70.710938 Z \"/>\n",
       "<g style=\"fill:rgb(0%,0%,0%);fill-opacity:1;\">\n",
       "  <use xlink:href=\"#glyph1-2\" x=\"47.300781\" y=\"27.757812\"/>\n",
       "</g>\n",
       "<path style=\"fill-rule:nonzero;fill:rgb(94.901961%,94.901961%,94.901961%);fill-opacity:1;stroke-width:1.422638;stroke-linecap:round;stroke-linejoin:round;stroke:rgb(100%,100%,100%);stroke-opacity:1;stroke-miterlimit:10;\" d=\"M 47.300781 31.898438 L 64.582031 31.898438 L 64.582031 49.179688 L 47.300781 49.179688 Z \"/>\n",
       "<path style=\"fill:none;stroke-width:0.944882;stroke-linecap:round;stroke-linejoin:round;stroke:rgb(0%,0%,0%);stroke-opacity:1;stroke-miterlimit:10;\" d=\"M 58.398438 40.539062 C 58.398438 43.8125 53.488281 43.8125 53.488281 40.539062 C 53.488281 37.265625 58.398438 37.265625 58.398438 40.539062 \"/>\n",
       "<path style=\"fill-rule:nonzero;fill:rgb(94.901961%,94.901961%,94.901961%);fill-opacity:1;stroke-width:1.422638;stroke-linecap:round;stroke-linejoin:round;stroke:rgb(100%,100%,100%);stroke-opacity:1;stroke-miterlimit:10;\" d=\"M 47.300781 49.179688 L 64.582031 49.179688 L 64.582031 66.460938 L 47.300781 66.460938 Z \"/>\n",
       "<path style=\"fill-rule:nonzero;fill:rgb(0%,0%,0%);fill-opacity:1;stroke-width:0.944882;stroke-linecap:round;stroke-linejoin:round;stroke:rgb(0%,0%,0%);stroke-opacity:1;stroke-miterlimit:10;\" d=\"M 58.398438 57.820312 C 58.398438 61.09375 53.488281 61.09375 53.488281 57.820312 C 53.488281 54.546875 58.398438 54.546875 58.398438 57.820312 \"/>\n",
       "<g style=\"fill:rgb(0%,0%,0%);fill-opacity:1;\">\n",
       "  <use xlink:href=\"#glyph0-8\" x=\"66.742188\" y=\"43.875\"/>\n",
       "</g>\n",
       "<g style=\"fill:rgb(0%,0%,0%);fill-opacity:1;\">\n",
       "  <use xlink:href=\"#glyph0-9\" x=\"66.742188\" y=\"61.15625\"/>\n",
       "</g>\n",
       "</g>\n",
       "</svg>\n"
      ],
      "text/plain": [
       "plot without title"
      ]
     },
     "metadata": {
      "image/svg+xml": {
       "isolated": true
      }
     },
     "output_type": "display_data"
    }
   ],
   "source": [
    "d %>>% \n",
    "    ggplot(aes(x = x, y = y, shape = f)) + \n",
    "    geom_point() + \n",
    "    scale_shape_manual(values = c(21, 19)) + \n",
    "    theme(legend.position=c(.1, .85))"
   ]
  },
  {
   "cell_type": "code",
   "execution_count": 10,
   "metadata": {
    "collapsed": false
   },
   "outputs": [
    {
     "data": {
      "image/png": "[encoded data removed]",
      "image/svg+xml": [
       "<?xml version=\"1.0\" encoding=\"UTF-8\"?>\n",
       "<svg xmlns=\"http://www.w3.org/2000/svg\" xmlns:xlink=\"http://www.w3.org/1999/xlink\" width=\"288pt\" height=\"288pt\" viewBox=\"0 0 288 288\" version=\"1.1\">\n",
       "<defs>\n",
       "<g>\n",
       "<symbol overflow=\"visible\" id=\"glyph0-0\">\n",
       "<path style=\"stroke:none;\" d=\"M 0.296875 0 L 0.296875 -6.671875 L 5.59375 -6.671875 L 5.59375 0 Z M 4.75 -0.828125 L 4.75 -5.828125 L 1.140625 -5.828125 L 1.140625 -0.828125 Z \"/>\n",
       "</symbol>\n",
       "<symbol overflow=\"visible\" id=\"glyph0-1\">\n",
       "<path style=\"stroke:none;\" d=\"M 3.078125 -2.296875 L 3.078125 -5.25 L 0.984375 -2.296875 Z M 3.09375 0 L 3.09375 -1.59375 L 0.234375 -1.59375 L 0.234375 -2.390625 L 3.21875 -6.515625 L 3.90625 -6.515625 L 3.90625 -2.296875 L 4.859375 -2.296875 L 4.859375 -1.59375 L 3.90625 -1.59375 L 3.90625 0 Z \"/>\n",
       "</symbol>\n",
       "<symbol overflow=\"visible\" id=\"glyph0-2\">\n",
       "<path style=\"stroke:none;\" d=\"M 2.53125 -3.78125 C 2.882812 -3.78125 3.160156 -3.878906 3.359375 -4.078125 C 3.566406 -4.273438 3.671875 -4.515625 3.671875 -4.796875 C 3.671875 -5.035156 3.570312 -5.253906 3.375 -5.453125 C 3.1875 -5.660156 2.894531 -5.765625 2.5 -5.765625 C 2.101562 -5.765625 1.816406 -5.660156 1.640625 -5.453125 C 1.472656 -5.253906 1.390625 -5.019531 1.390625 -4.75 C 1.390625 -4.445312 1.5 -4.207031 1.71875 -4.03125 C 1.945312 -3.863281 2.21875 -3.78125 2.53125 -3.78125 Z M 2.578125 -0.5625 C 2.953125 -0.5625 3.265625 -0.660156 3.515625 -0.859375 C 3.765625 -1.066406 3.890625 -1.375 3.890625 -1.78125 C 3.890625 -2.195312 3.757812 -2.515625 3.5 -2.734375 C 3.25 -2.953125 2.921875 -3.0625 2.515625 -3.0625 C 2.128906 -3.0625 1.8125 -2.945312 1.5625 -2.71875 C 1.3125 -2.5 1.1875 -2.195312 1.1875 -1.8125 C 1.1875 -1.46875 1.300781 -1.171875 1.53125 -0.921875 C 1.757812 -0.679688 2.109375 -0.5625 2.578125 -0.5625 Z M 1.421875 -3.46875 C 1.191406 -3.5625 1.015625 -3.671875 0.890625 -3.796875 C 0.648438 -4.046875 0.53125 -4.363281 0.53125 -4.75 C 0.53125 -5.226562 0.703125 -5.640625 1.046875 -5.984375 C 1.398438 -6.335938 1.898438 -6.515625 2.546875 -6.515625 C 3.171875 -6.515625 3.660156 -6.347656 4.015625 -6.015625 C 4.367188 -5.691406 4.546875 -5.3125 4.546875 -4.875 C 4.546875 -4.46875 4.441406 -4.140625 4.234375 -3.890625 C 4.117188 -3.742188 3.941406 -3.601562 3.703125 -3.46875 C 3.972656 -3.34375 4.179688 -3.203125 4.328125 -3.046875 C 4.617188 -2.742188 4.765625 -2.347656 4.765625 -1.859375 C 4.765625 -1.285156 4.570312 -0.800781 4.1875 -0.40625 C 3.800781 -0.0078125 3.257812 0.1875 2.5625 0.1875 C 1.925781 0.1875 1.390625 0.015625 0.953125 -0.328125 C 0.515625 -0.671875 0.296875 -1.171875 0.296875 -1.828125 C 0.296875 -2.210938 0.390625 -2.539062 0.578125 -2.8125 C 0.765625 -3.09375 1.046875 -3.3125 1.421875 -3.46875 Z \"/>\n",
       "</symbol>\n",
       "<symbol overflow=\"visible\" id=\"glyph0-3\">\n",
       "<path style=\"stroke:none;\" d=\"M 0.890625 -4.609375 L 0.890625 -5.234375 C 1.484375 -5.285156 1.894531 -5.378906 2.125 -5.515625 C 2.351562 -5.648438 2.523438 -5.96875 2.640625 -6.46875 L 3.296875 -6.46875 L 3.296875 0 L 2.421875 0 L 2.421875 -4.609375 Z \"/>\n",
       "</symbol>\n",
       "<symbol overflow=\"visible\" id=\"glyph0-4\">\n",
       "<path style=\"stroke:none;\" d=\"M 0.296875 0 C 0.316406 -0.5625 0.425781 -1.046875 0.625 -1.453125 C 0.832031 -1.867188 1.226562 -2.25 1.8125 -2.59375 L 2.6875 -3.09375 C 3.070312 -3.320312 3.347656 -3.515625 3.515625 -3.671875 C 3.753906 -3.921875 3.875 -4.210938 3.875 -4.546875 C 3.875 -4.921875 3.757812 -5.21875 3.53125 -5.4375 C 3.3125 -5.664062 3.015625 -5.78125 2.640625 -5.78125 C 2.078125 -5.78125 1.6875 -5.566406 1.46875 -5.140625 C 1.351562 -4.910156 1.289062 -4.59375 1.28125 -4.1875 L 0.453125 -4.1875 C 0.460938 -4.757812 0.566406 -5.222656 0.765625 -5.578125 C 1.117188 -6.203125 1.742188 -6.515625 2.640625 -6.515625 C 3.378906 -6.515625 3.921875 -6.3125 4.265625 -5.90625 C 4.609375 -5.507812 4.78125 -5.066406 4.78125 -4.578125 C 4.78125 -4.054688 4.597656 -3.609375 4.234375 -3.234375 C 4.023438 -3.023438 3.644531 -2.765625 3.09375 -2.453125 L 2.46875 -2.109375 C 2.175781 -1.953125 1.945312 -1.796875 1.78125 -1.640625 C 1.476562 -1.378906 1.285156 -1.085938 1.203125 -0.765625 L 4.75 -0.765625 L 4.75 0 Z \"/>\n",
       "</symbol>\n",
       "<symbol overflow=\"visible\" id=\"glyph0-5\">\n",
       "<path style=\"stroke:none;\" d=\"M 3.515625 -6.84375 C 4.359375 -6.84375 5.015625 -6.617188 5.484375 -6.171875 C 5.953125 -5.734375 6.210938 -5.234375 6.265625 -4.671875 L 5.375 -4.671875 C 5.28125 -5.097656 5.082031 -5.4375 4.78125 -5.6875 C 4.476562 -5.9375 4.0625 -6.0625 3.53125 -6.0625 C 2.875 -6.0625 2.34375 -5.832031 1.9375 -5.375 C 1.53125 -4.914062 1.328125 -4.207031 1.328125 -3.25 C 1.328125 -2.46875 1.507812 -1.832031 1.875 -1.34375 C 2.238281 -0.863281 2.785156 -0.625 3.515625 -0.625 C 4.171875 -0.625 4.675781 -0.878906 5.03125 -1.390625 C 5.21875 -1.660156 5.351562 -2.015625 5.4375 -2.453125 L 6.328125 -2.453125 C 6.242188 -1.742188 5.984375 -1.15625 5.546875 -0.6875 C 5.015625 -0.113281 4.300781 0.171875 3.40625 0.171875 C 2.625 0.171875 1.972656 -0.0625 1.453125 -0.53125 C 0.753906 -1.15625 0.40625 -2.113281 0.40625 -3.40625 C 0.40625 -4.382812 0.664062 -5.191406 1.1875 -5.828125 C 1.75 -6.503906 2.523438 -6.84375 3.515625 -6.84375 Z M 3.34375 -6.84375 Z \"/>\n",
       "</symbol>\n",
       "<symbol overflow=\"visible\" id=\"glyph0-6\">\n",
       "<path style=\"stroke:none;\" d=\"M 5.5625 -6.671875 L 5.5625 -5.875 L 3.3125 -5.875 L 3.3125 0 L 2.390625 0 L 2.390625 -5.875 L 0.15625 -5.875 L 0.15625 -6.671875 Z \"/>\n",
       "</symbol>\n",
       "<symbol overflow=\"visible\" id=\"glyph1-0\">\n",
       "<path style=\"stroke:none;\" d=\"M 0.375 0 L 0.375 -8.25 L 6.921875 -8.25 L 6.921875 0 Z M 5.890625 -1.03125 L 5.890625 -7.21875 L 1.40625 -7.21875 L 1.40625 -1.03125 Z \"/>\n",
       "</symbol>\n",
       "<symbol overflow=\"visible\" id=\"glyph1-1\">\n",
       "<path style=\"stroke:none;\" d=\"M 1 -6.921875 C 1.007812 -7.347656 1.082031 -7.65625 1.21875 -7.84375 C 1.445312 -8.1875 1.898438 -8.359375 2.578125 -8.359375 C 2.640625 -8.359375 2.703125 -8.359375 2.765625 -8.359375 C 2.835938 -8.359375 2.914062 -8.351562 3 -8.34375 L 3 -7.421875 C 2.894531 -7.429688 2.816406 -7.4375 2.765625 -7.4375 C 2.722656 -7.4375 2.679688 -7.4375 2.640625 -7.4375 C 2.335938 -7.4375 2.15625 -7.359375 2.09375 -7.203125 C 2.03125 -7.046875 2 -6.640625 2 -5.984375 L 3 -5.984375 L 3 -5.1875 L 2 -5.1875 L 2 0 L 1 0 L 1 -5.1875 L 0.15625 -5.1875 L 0.15625 -5.984375 L 1 -5.984375 Z \"/>\n",
       "</symbol>\n",
       "<symbol overflow=\"visible\" id=\"glyph2-0\">\n",
       "<path style=\"stroke:none;\" d=\"M 0 -0.375 L -8.25 -0.375 L -8.25 -6.921875 L 0 -6.921875 Z M -1.03125 -5.890625 L -7.21875 -5.890625 L -7.21875 -1.40625 L -1.03125 -1.40625 Z \"/>\n",
       "</symbol>\n",
       "<symbol overflow=\"visible\" id=\"glyph2-1\">\n",
       "<path style=\"stroke:none;\" d=\"M -6.015625 -4.5 L -6.015625 -5.609375 C -5.628906 -5.472656 -4.75 -5.160156 -3.375 -4.671875 C -2.34375 -4.296875 -1.5 -3.988281 -0.84375 -3.75 C 0.6875 -3.164062 1.617188 -2.753906 1.953125 -2.515625 C 2.296875 -2.273438 2.46875 -1.863281 2.46875 -1.28125 C 2.46875 -1.132812 2.460938 -1.019531 2.453125 -0.9375 C 2.441406 -0.863281 2.421875 -0.769531 2.390625 -0.65625 L 1.46875 -0.65625 C 1.507812 -0.832031 1.535156 -0.957031 1.546875 -1.03125 C 1.566406 -1.113281 1.578125 -1.1875 1.578125 -1.25 C 1.578125 -1.4375 1.546875 -1.570312 1.484375 -1.65625 C 1.421875 -1.75 1.34375 -1.828125 1.25 -1.890625 C 1.21875 -1.910156 1.0625 -1.976562 0.78125 -2.09375 C 0.507812 -2.207031 0.304688 -2.289062 0.171875 -2.34375 L -6.015625 -0.125 L -6.015625 -1.265625 L -1.125 -2.875 Z M -6.15625 -2.875 Z \"/>\n",
       "</symbol>\n",
       "</g>\n",
       "<clipPath id=\"clip1\">\n",
       "  <path d=\"M 35.578125 5.480469 L 283 5.480469 L 283 257 L 35.578125 257 Z \"/>\n",
       "</clipPath>\n",
       "<clipPath id=\"clip2\">\n",
       "  <path d=\"M 35.578125 244 L 283 244 L 283 246 L 35.578125 246 Z \"/>\n",
       "</clipPath>\n",
       "<clipPath id=\"clip3\">\n",
       "  <path d=\"M 35.578125 174 L 283 174 L 283 175 L 35.578125 175 Z \"/>\n",
       "</clipPath>\n",
       "<clipPath id=\"clip4\">\n",
       "  <path d=\"M 35.578125 104 L 283 104 L 283 105 L 35.578125 105 Z \"/>\n",
       "</clipPath>\n",
       "<clipPath id=\"clip5\">\n",
       "  <path d=\"M 35.578125 34 L 283 34 L 283 35 L 35.578125 35 Z \"/>\n",
       "</clipPath>\n",
       "<clipPath id=\"clip6\">\n",
       "  <path d=\"M 35.578125 208 L 283.519531 208 L 283.519531 211 L 35.578125 211 Z \"/>\n",
       "</clipPath>\n",
       "<clipPath id=\"clip7\">\n",
       "  <path d=\"M 35.578125 138 L 283.519531 138 L 283.519531 141 L 35.578125 141 Z \"/>\n",
       "</clipPath>\n",
       "<clipPath id=\"clip8\">\n",
       "  <path d=\"M 35.578125 68 L 283.519531 68 L 283.519531 71 L 35.578125 71 Z \"/>\n",
       "</clipPath>\n",
       "<clipPath id=\"clip9\">\n",
       "  <path d=\"M 102 5.480469 L 104 5.480469 L 104 257 L 102 257 Z \"/>\n",
       "</clipPath>\n",
       "<clipPath id=\"clip10\">\n",
       "  <path d=\"M 214 5.480469 L 216 5.480469 L 216 257 L 214 257 Z \"/>\n",
       "</clipPath>\n",
       "</defs>\n",
       "<g id=\"surface41\">\n",
       "<rect x=\"0\" y=\"0\" width=\"288\" height=\"288\" style=\"fill:rgb(100%,100%,100%);fill-opacity:1;stroke:none;\"/>\n",
       "<rect x=\"0\" y=\"0\" width=\"288\" height=\"288\" style=\"fill:rgb(100%,100%,100%);fill-opacity:1;stroke:none;\"/>\n",
       "<path style=\"fill:none;stroke-width:1.422638;stroke-linecap:round;stroke-linejoin:round;stroke:rgb(100%,100%,100%);stroke-opacity:1;stroke-miterlimit:10;\" d=\"M 0 0 L 288 0 L 288 288 L 0 288 Z \"/>\n",
       "<g clip-path=\"url(#clip1)\" clip-rule=\"nonzero\">\n",
       "<path style=\" stroke:none;fill-rule:nonzero;fill:rgb(92.156863%,92.156863%,92.156863%);fill-opacity:1;\" d=\"M 35.578125 5.480469 L 282.519531 5.480469 L 282.519531 256.09375 L 35.578125 256.09375 Z \"/>\n",
       "</g>\n",
       "<g clip-path=\"url(#clip2)\" clip-rule=\"nonzero\">\n",
       "<path style=\"fill:none;stroke-width:0.711319;stroke-linecap:butt;stroke-linejoin:round;stroke:rgb(100%,100%,100%);stroke-opacity:1;stroke-miterlimit:10;\" d=\"M 35.578125 244.699219 L 282.519531 244.699219 \"/>\n",
       "</g>\n",
       "<g clip-path=\"url(#clip3)\" clip-rule=\"nonzero\">\n",
       "<path style=\"fill:none;stroke-width:0.711319;stroke-linecap:butt;stroke-linejoin:round;stroke:rgb(100%,100%,100%);stroke-opacity:1;stroke-miterlimit:10;\" d=\"M 35.578125 174.597656 L 282.519531 174.597656 \"/>\n",
       "</g>\n",
       "<g clip-path=\"url(#clip4)\" clip-rule=\"nonzero\">\n",
       "<path style=\"fill:none;stroke-width:0.711319;stroke-linecap:butt;stroke-linejoin:round;stroke:rgb(100%,100%,100%);stroke-opacity:1;stroke-miterlimit:10;\" d=\"M 35.578125 104.496094 L 282.519531 104.496094 \"/>\n",
       "</g>\n",
       "<g clip-path=\"url(#clip5)\" clip-rule=\"nonzero\">\n",
       "<path style=\"fill:none;stroke-width:0.711319;stroke-linecap:butt;stroke-linejoin:round;stroke:rgb(100%,100%,100%);stroke-opacity:1;stroke-miterlimit:10;\" d=\"M 35.578125 34.394531 L 282.519531 34.394531 \"/>\n",
       "</g>\n",
       "<g clip-path=\"url(#clip6)\" clip-rule=\"nonzero\">\n",
       "<path style=\"fill:none;stroke-width:1.422638;stroke-linecap:butt;stroke-linejoin:round;stroke:rgb(100%,100%,100%);stroke-opacity:1;stroke-miterlimit:10;\" d=\"M 35.578125 209.648438 L 282.519531 209.648438 \"/>\n",
       "</g>\n",
       "<g clip-path=\"url(#clip7)\" clip-rule=\"nonzero\">\n",
       "<path style=\"fill:none;stroke-width:1.422638;stroke-linecap:butt;stroke-linejoin:round;stroke:rgb(100%,100%,100%);stroke-opacity:1;stroke-miterlimit:10;\" d=\"M 35.578125 139.546875 L 282.519531 139.546875 \"/>\n",
       "</g>\n",
       "<g clip-path=\"url(#clip8)\" clip-rule=\"nonzero\">\n",
       "<path style=\"fill:none;stroke-width:1.422638;stroke-linecap:butt;stroke-linejoin:round;stroke:rgb(100%,100%,100%);stroke-opacity:1;stroke-miterlimit:10;\" d=\"M 35.578125 69.445312 L 282.519531 69.445312 \"/>\n",
       "</g>\n",
       "<g clip-path=\"url(#clip9)\" clip-rule=\"nonzero\">\n",
       "<path style=\"fill:none;stroke-width:1.422638;stroke-linecap:butt;stroke-linejoin:round;stroke:rgb(100%,100%,100%);stroke-opacity:1;stroke-miterlimit:10;\" d=\"M 102.925781 256.09375 L 102.925781 5.480469 \"/>\n",
       "</g>\n",
       "<g clip-path=\"url(#clip10)\" clip-rule=\"nonzero\">\n",
       "<path style=\"fill:none;stroke-width:1.422638;stroke-linecap:butt;stroke-linejoin:round;stroke:rgb(100%,100%,100%);stroke-opacity:1;stroke-miterlimit:10;\" d=\"M 215.171875 256.09375 L 215.171875 5.480469 \"/>\n",
       "</g>\n",
       "<path style=\"fill:none;stroke-width:1.422638;stroke-linecap:butt;stroke-linejoin:round;stroke:rgb(20%,20%,20%);stroke-opacity:1;stroke-miterlimit:10;\" d=\"M 102.925781 104.496094 L 102.925781 69.445312 \"/>\n",
       "<path style=\"fill:none;stroke-width:1.422638;stroke-linecap:butt;stroke-linejoin:round;stroke:rgb(20%,20%,20%);stroke-opacity:1;stroke-miterlimit:10;\" d=\"M 102.925781 174.597656 L 102.925781 244.699219 \"/>\n",
       "<path style=\"fill-rule:nonzero;fill:rgb(100%,100%,100%);fill-opacity:1;stroke-width:1.422638;stroke-linecap:round;stroke-linejoin:round;stroke:rgb(20%,20%,20%);stroke-opacity:1;stroke-miterlimit:10;\" d=\"M 60.832031 104.496094 L 60.832031 174.597656 L 145.019531 174.597656 L 145.019531 104.496094 Z \"/>\n",
       "<path style=\"fill:none;stroke-width:2.845276;stroke-linecap:butt;stroke-linejoin:round;stroke:rgb(20%,20%,20%);stroke-opacity:1;stroke-miterlimit:10;\" d=\"M 60.832031 139.546875 L 145.019531 139.546875 \"/>\n",
       "<path style=\"fill-rule:nonzero;fill:rgb(20%,20%,20%);fill-opacity:1;stroke-width:0.944882;stroke-linecap:round;stroke-linejoin:round;stroke:rgb(20%,20%,20%);stroke-opacity:1;stroke-miterlimit:10;\" d=\"M 217.628906 34.394531 C 217.628906 37.667969 212.71875 37.667969 212.71875 34.394531 C 212.71875 31.125 217.628906 31.125 217.628906 34.394531 \"/>\n",
       "<path style=\"fill-rule:nonzero;fill:rgb(20%,20%,20%);fill-opacity:1;stroke-width:0.944882;stroke-linecap:round;stroke-linejoin:round;stroke:rgb(20%,20%,20%);stroke-opacity:1;stroke-miterlimit:10;\" d=\"M 217.628906 16.871094 C 217.628906 20.144531 212.71875 20.144531 212.71875 16.871094 C 212.71875 13.597656 217.628906 13.597656 217.628906 16.871094 \"/>\n",
       "<path style=\"fill:none;stroke-width:1.422638;stroke-linecap:butt;stroke-linejoin:round;stroke:rgb(20%,20%,20%);stroke-opacity:1;stroke-miterlimit:10;\" d=\"M 215.171875 122.023438 L 215.171875 51.921875 \"/>\n",
       "<path style=\"fill:none;stroke-width:1.422638;stroke-linecap:butt;stroke-linejoin:round;stroke:rgb(20%,20%,20%);stroke-opacity:1;stroke-miterlimit:10;\" d=\"M 215.171875 174.597656 L 215.171875 227.175781 \"/>\n",
       "<path style=\"fill-rule:nonzero;fill:rgb(100%,100%,100%);fill-opacity:1;stroke-width:1.422638;stroke-linecap:round;stroke-linejoin:round;stroke:rgb(20%,20%,20%);stroke-opacity:1;stroke-miterlimit:10;\" d=\"M 173.078125 122.023438 L 173.078125 174.597656 L 257.265625 174.597656 L 257.265625 122.023438 Z \"/>\n",
       "<path style=\"fill:none;stroke-width:2.845276;stroke-linecap:butt;stroke-linejoin:round;stroke:rgb(20%,20%,20%);stroke-opacity:1;stroke-miterlimit:10;\" d=\"M 173.078125 148.3125 L 257.265625 148.3125 \"/>\n",
       "<g style=\"fill:rgb(30.196078%,30.196078%,30.196078%);fill-opacity:1;\">\n",
       "  <use xlink:href=\"#glyph0-1\" x=\"25.472656\" y=\"212.984375\"/>\n",
       "</g>\n",
       "<g style=\"fill:rgb(30.196078%,30.196078%,30.196078%);fill-opacity:1;\">\n",
       "  <use xlink:href=\"#glyph0-2\" x=\"25.472656\" y=\"142.882812\"/>\n",
       "</g>\n",
       "<g style=\"fill:rgb(30.196078%,30.196078%,30.196078%);fill-opacity:1;\">\n",
       "  <use xlink:href=\"#glyph0-3\" x=\"20.304688\" y=\"72.78125\"/>\n",
       "  <use xlink:href=\"#glyph0-4\" x=\"25.475174\" y=\"72.78125\"/>\n",
       "</g>\n",
       "<path style=\"fill:none;stroke-width:1.422638;stroke-linecap:butt;stroke-linejoin:round;stroke:rgb(20%,20%,20%);stroke-opacity:1;stroke-miterlimit:10;\" d=\"M 32.835938 209.648438 L 35.578125 209.648438 \"/>\n",
       "<path style=\"fill:none;stroke-width:1.422638;stroke-linecap:butt;stroke-linejoin:round;stroke:rgb(20%,20%,20%);stroke-opacity:1;stroke-miterlimit:10;\" d=\"M 32.835938 139.546875 L 35.578125 139.546875 \"/>\n",
       "<path style=\"fill:none;stroke-width:1.422638;stroke-linecap:butt;stroke-linejoin:round;stroke:rgb(20%,20%,20%);stroke-opacity:1;stroke-miterlimit:10;\" d=\"M 32.835938 69.445312 L 35.578125 69.445312 \"/>\n",
       "<path style=\"fill:none;stroke-width:1.422638;stroke-linecap:butt;stroke-linejoin:round;stroke:rgb(20%,20%,20%);stroke-opacity:1;stroke-miterlimit:10;\" d=\"M 102.925781 258.832031 L 102.925781 256.09375 \"/>\n",
       "<path style=\"fill:none;stroke-width:1.422638;stroke-linecap:butt;stroke-linejoin:round;stroke:rgb(20%,20%,20%);stroke-opacity:1;stroke-miterlimit:10;\" d=\"M 215.171875 258.832031 L 215.171875 256.09375 \"/>\n",
       "<g style=\"fill:rgb(30.196078%,30.196078%,30.196078%);fill-opacity:1;\">\n",
       "  <use xlink:href=\"#glyph0-5\" x=\"99.570312\" y=\"267.695312\"/>\n",
       "</g>\n",
       "<g style=\"fill:rgb(30.196078%,30.196078%,30.196078%);fill-opacity:1;\">\n",
       "  <use xlink:href=\"#glyph0-6\" x=\"212.332031\" y=\"267.695312\"/>\n",
       "</g>\n",
       "<g style=\"fill:rgb(0%,0%,0%);fill-opacity:1;\">\n",
       "  <use xlink:href=\"#glyph1-1\" x=\"157.453125\" y=\"280.328125\"/>\n",
       "</g>\n",
       "<g style=\"fill:rgb(0%,0%,0%);fill-opacity:1;\">\n",
       "  <use xlink:href=\"#glyph2-1\" x=\"15.921875\" y=\"133.660156\"/>\n",
       "</g>\n",
       "</g>\n",
       "</svg>\n"
      ],
      "text/plain": [
       "plot without title"
      ]
     },
     "metadata": {
      "image/svg+xml": {
       "isolated": true
      }
     },
     "output_type": "display_data"
    }
   ],
   "source": [
    "d %>>% \n",
    "    ggplot(aes(x = f, y = y)) + \n",
    "    geom_boxplot()"
   ]
  },
  {
   "cell_type": "markdown",
   "metadata": {},
   "source": [
    "* ある個体$i$において種子数が$y_i$である確率$p(y_i | \\lambda_i)$ はポアソン分布に従うとする\n",
    "\n",
    "$$p(y_i | \\lambda_i) = \\frac{\\lambda^{y_i}_i \\exp(-\\lambda_i)}{y_i}$$"
   ]
  },
  {
   "cell_type": "markdown",
   "metadata": {},
   "source": [
    "### 3.4.1 線形予測子とリンク関数"
   ]
  },
  {
   "cell_type": "markdown",
   "metadata": {},
   "source": [
    "ある個体$i$の平均種子数$\\lambda_i$は以下の式で表されるとする．\n",
    "\n",
    "$$\\lambda_i = \\exp(\\beta_1 + \\beta_2 x_i)$$"
   ]
  },
  {
   "cell_type": "code",
   "execution_count": 11,
   "metadata": {
    "collapsed": false
   },
   "outputs": [
    {
     "data": {
      "image/png": "[encoded data removed]",
      "image/svg+xml": [
       "<?xml version=\"1.0\" encoding=\"UTF-8\"?>\n",
       "<svg xmlns=\"http://www.w3.org/2000/svg\" xmlns:xlink=\"http://www.w3.org/1999/xlink\" width=\"288pt\" height=\"288pt\" viewBox=\"0 0 288 288\" version=\"1.1\">\n",
       "<defs>\n",
       "<g>\n",
       "<symbol overflow=\"visible\" id=\"glyph0-0\">\n",
       "<path style=\"stroke:none;\" d=\"M 0.375 0 L 0.375 -8.28125 L 6.953125 -8.28125 L 6.953125 0 Z M 5.90625 -1.03125 L 5.90625 -7.25 L 1.40625 -7.25 L 1.40625 -1.03125 Z \"/>\n",
       "</symbol>\n",
       "<symbol overflow=\"visible\" id=\"glyph0-1\">\n",
       "<path style=\"stroke:none;\" d=\"M 2.203125 0.03125 C 2.203125 0.601562 2.347656 1.015625 2.640625 1.265625 C 2.929688 1.515625 3.253906 1.660156 3.609375 1.703125 L 3.609375 2.359375 C 2.941406 2.285156 2.390625 2.085938 1.953125 1.765625 C 1.515625 1.441406 1.296875 0.90625 1.296875 0.15625 L 1.296875 -1 C 1.296875 -1.40625 1.226562 -1.726562 1.09375 -1.96875 C 0.863281 -2.394531 0.414062 -2.644531 -0.25 -2.71875 L -0.25 -3.359375 C 0.414062 -3.441406 0.863281 -3.691406 1.09375 -4.109375 C 1.226562 -4.335938 1.296875 -4.664062 1.296875 -5.09375 L 1.296875 -6.015625 C 1.296875 -6.710938 1.445312 -7.269531 1.75 -7.6875 C 2.050781 -8.101562 2.671875 -8.347656 3.609375 -8.421875 L 3.609375 -7.78125 C 3.003906 -7.726562 2.59375 -7.460938 2.375 -6.984375 C 2.257812 -6.722656 2.203125 -6.359375 2.203125 -5.890625 L 2.203125 -5.265625 C 2.203125 -4.703125 2.132812 -4.269531 2 -3.96875 C 1.75 -3.414062 1.257812 -3.109375 0.53125 -3.046875 C 1.25 -2.984375 1.738281 -2.664062 2 -2.09375 C 2.132812 -1.78125 2.203125 -1.359375 2.203125 -0.828125 Z \"/>\n",
       "</symbol>\n",
       "<symbol overflow=\"visible\" id=\"glyph0-2\">\n",
       "<path style=\"stroke:none;\" d=\"M 0.953125 1.171875 C 1.210938 1.128906 1.394531 0.945312 1.5 0.625 C 1.5625 0.457031 1.59375 0.296875 1.59375 0.140625 C 1.59375 0.109375 1.585938 0.0820312 1.578125 0.0625 C 1.578125 0.0507812 1.578125 0.03125 1.578125 0 L 0.953125 0 L 0.953125 -1.234375 L 2.171875 -1.234375 L 2.171875 -0.09375 C 2.171875 0.351562 2.078125 0.742188 1.890625 1.078125 C 1.710938 1.421875 1.398438 1.632812 0.953125 1.71875 Z \"/>\n",
       "</symbol>\n",
       "<symbol overflow=\"visible\" id=\"glyph0-3\">\n",
       "<path style=\"stroke:none;\" d=\"\"/>\n",
       "</symbol>\n",
       "<symbol overflow=\"visible\" id=\"glyph0-4\">\n",
       "<path style=\"stroke:none;\" d=\"M 3.3125 -3.046875 C 2.59375 -3.109375 2.101562 -3.410156 1.84375 -3.953125 C 1.707031 -4.253906 1.640625 -4.691406 1.640625 -5.265625 L 1.640625 -5.890625 C 1.640625 -6.390625 1.582031 -6.765625 1.46875 -7.015625 C 1.257812 -7.472656 0.847656 -7.726562 0.234375 -7.78125 L 0.234375 -8.421875 C 1.203125 -8.347656 1.859375 -8.050781 2.203125 -7.53125 C 2.429688 -7.195312 2.546875 -6.691406 2.546875 -6.015625 L 2.546875 -5.09375 C 2.546875 -4.664062 2.609375 -4.335938 2.734375 -4.109375 C 2.972656 -3.679688 3.425781 -3.429688 4.09375 -3.359375 L 4.09375 -2.71875 C 3.425781 -2.65625 2.972656 -2.40625 2.734375 -1.96875 C 2.609375 -1.71875 2.546875 -1.394531 2.546875 -1 L 2.546875 0.15625 C 2.546875 0.914062 2.328125 1.453125 1.890625 1.765625 C 1.453125 2.085938 0.898438 2.285156 0.234375 2.359375 L 0.234375 1.703125 C 0.640625 1.648438 0.972656 1.488281 1.234375 1.21875 C 1.503906 0.945312 1.640625 0.550781 1.640625 0.03125 L 1.640625 -0.828125 C 1.640625 -1.367188 1.707031 -1.789062 1.84375 -2.09375 C 2.101562 -2.664062 2.59375 -2.984375 3.3125 -3.046875 Z \"/>\n",
       "</symbol>\n",
       "<symbol overflow=\"visible\" id=\"glyph0-5\">\n",
       "<path style=\"stroke:none;\" d=\"M 6.40625 -4.640625 L 6.40625 -3.6875 L 0.515625 -3.6875 L 0.515625 -4.640625 Z M 6.40625 -2.21875 L 6.40625 -1.25 L 0.515625 -1.25 L 0.515625 -2.21875 Z \"/>\n",
       "</symbol>\n",
       "<symbol overflow=\"visible\" id=\"glyph0-6\">\n",
       "<path style=\"stroke:none;\" d=\"M 0.484375 -3.734375 L 3.3125 -3.734375 L 3.3125 -2.6875 L 0.484375 -2.6875 Z \"/>\n",
       "</symbol>\n",
       "<symbol overflow=\"visible\" id=\"glyph0-7\">\n",
       "<path style=\"stroke:none;\" d=\"M 0.359375 0 C 0.398438 -0.695312 0.546875 -1.300781 0.796875 -1.8125 C 1.046875 -2.332031 1.53125 -2.800781 2.25 -3.21875 L 3.34375 -3.84375 C 3.820312 -4.125 4.160156 -4.363281 4.359375 -4.5625 C 4.671875 -4.875 4.828125 -5.234375 4.828125 -5.640625 C 4.828125 -6.109375 4.679688 -6.476562 4.390625 -6.75 C 4.109375 -7.03125 3.734375 -7.171875 3.265625 -7.171875 C 2.578125 -7.171875 2.097656 -6.90625 1.828125 -6.375 C 1.679688 -6.09375 1.601562 -5.703125 1.59375 -5.203125 L 0.5625 -5.203125 C 0.570312 -5.910156 0.703125 -6.484375 0.953125 -6.921875 C 1.390625 -7.710938 2.164062 -8.109375 3.28125 -8.109375 C 4.195312 -8.109375 4.867188 -7.859375 5.296875 -7.359375 C 5.722656 -6.859375 5.9375 -6.300781 5.9375 -5.6875 C 5.9375 -5.039062 5.710938 -4.488281 5.265625 -4.03125 C 4.992188 -3.757812 4.519531 -3.4375 3.84375 -3.0625 L 3.078125 -2.625 C 2.703125 -2.425781 2.410156 -2.234375 2.203125 -2.046875 C 1.828125 -1.722656 1.59375 -1.359375 1.5 -0.953125 L 5.90625 -0.953125 L 5.90625 0 Z \"/>\n",
       "</symbol>\n",
       "<symbol overflow=\"visible\" id=\"glyph0-8\">\n",
       "<path style=\"stroke:none;\" d=\"M 3.125 -8.078125 C 4.164062 -8.078125 4.921875 -7.644531 5.390625 -6.78125 C 5.753906 -6.113281 5.9375 -5.203125 5.9375 -4.046875 C 5.9375 -2.953125 5.769531 -2.046875 5.4375 -1.328125 C 4.96875 -0.296875 4.195312 0.21875 3.125 0.21875 C 2.144531 0.21875 1.421875 -0.203125 0.953125 -1.046875 C 0.554688 -1.742188 0.359375 -2.6875 0.359375 -3.875 C 0.359375 -4.789062 0.476562 -5.578125 0.71875 -6.234375 C 1.15625 -7.460938 1.957031 -8.078125 3.125 -8.078125 Z M 3.109375 -0.703125 C 3.640625 -0.703125 4.0625 -0.9375 4.375 -1.40625 C 4.6875 -1.875 4.84375 -2.742188 4.84375 -4.015625 C 4.84375 -4.929688 4.726562 -5.679688 4.5 -6.265625 C 4.269531 -6.859375 3.832031 -7.15625 3.1875 -7.15625 C 2.59375 -7.15625 2.15625 -6.875 1.875 -6.3125 C 1.59375 -5.75 1.453125 -4.921875 1.453125 -3.828125 C 1.453125 -3.003906 1.539062 -2.34375 1.71875 -1.84375 C 1.988281 -1.082031 2.453125 -0.703125 3.109375 -0.703125 Z \"/>\n",
       "</symbol>\n",
       "<symbol overflow=\"visible\" id=\"glyph0-9\">\n",
       "<path style=\"stroke:none;\" d=\"M 0.984375 -1.234375 L 2.171875 -1.234375 L 2.171875 0 L 0.984375 0 Z \"/>\n",
       "</symbol>\n",
       "<symbol overflow=\"visible\" id=\"glyph0-10\">\n",
       "<path style=\"stroke:none;\" d=\"M 3.140625 -4.6875 C 3.585938 -4.6875 3.9375 -4.8125 4.1875 -5.0625 C 4.4375 -5.3125 4.5625 -5.609375 4.5625 -5.953125 C 4.5625 -6.253906 4.441406 -6.53125 4.203125 -6.78125 C 3.960938 -7.039062 3.597656 -7.171875 3.109375 -7.171875 C 2.617188 -7.171875 2.265625 -7.039062 2.046875 -6.78125 C 1.828125 -6.53125 1.71875 -6.238281 1.71875 -5.90625 C 1.71875 -5.519531 1.859375 -5.21875 2.140625 -5 C 2.421875 -4.789062 2.753906 -4.6875 3.140625 -4.6875 Z M 3.203125 -0.6875 C 3.671875 -0.6875 4.0625 -0.8125 4.375 -1.0625 C 4.6875 -1.320312 4.84375 -1.703125 4.84375 -2.203125 C 4.84375 -2.734375 4.679688 -3.132812 4.359375 -3.40625 C 4.035156 -3.675781 3.625 -3.8125 3.125 -3.8125 C 2.644531 -3.8125 2.25 -3.671875 1.9375 -3.390625 C 1.632812 -3.117188 1.484375 -2.738281 1.484375 -2.25 C 1.484375 -1.820312 1.625 -1.453125 1.90625 -1.140625 C 2.1875 -0.835938 2.617188 -0.6875 3.203125 -0.6875 Z M 1.765625 -4.296875 C 1.484375 -4.421875 1.257812 -4.5625 1.09375 -4.71875 C 0.800781 -5.019531 0.65625 -5.410156 0.65625 -5.890625 C 0.65625 -6.492188 0.875 -7.007812 1.3125 -7.4375 C 1.75 -7.875 2.363281 -8.09375 3.15625 -8.09375 C 3.9375 -8.09375 4.546875 -7.890625 4.984375 -7.484375 C 5.421875 -7.078125 5.640625 -6.601562 5.640625 -6.0625 C 5.640625 -5.550781 5.515625 -5.140625 5.265625 -4.828125 C 5.117188 -4.648438 4.894531 -4.476562 4.59375 -4.3125 C 4.925781 -4.15625 5.191406 -3.976562 5.390625 -3.78125 C 5.742188 -3.40625 5.921875 -2.914062 5.921875 -2.3125 C 5.921875 -1.601562 5.679688 -1 5.203125 -0.5 C 4.722656 -0.0078125 4.050781 0.234375 3.1875 0.234375 C 2.394531 0.234375 1.726562 0.0195312 1.1875 -0.40625 C 0.644531 -0.832031 0.375 -1.453125 0.375 -2.265625 C 0.375 -2.742188 0.488281 -3.15625 0.71875 -3.5 C 0.957031 -3.851562 1.304688 -4.117188 1.765625 -4.296875 Z \"/>\n",
       "</symbol>\n",
       "<symbol overflow=\"visible\" id=\"glyph0-11\">\n",
       "<path style=\"stroke:none;\" d=\"M 1.109375 -5.71875 L 1.109375 -6.5 C 1.835938 -6.570312 2.347656 -6.691406 2.640625 -6.859375 C 2.929688 -7.023438 3.144531 -7.421875 3.28125 -8.046875 L 4.09375 -8.046875 L 4.09375 0 L 3 0 L 3 -5.71875 Z \"/>\n",
       "</symbol>\n",
       "<symbol overflow=\"visible\" id=\"glyph0-12\">\n",
       "<path style=\"stroke:none;\" d=\"M 3.8125 -2.859375 L 3.8125 -6.515625 L 1.234375 -2.859375 Z M 3.828125 0 L 3.828125 -1.96875 L 0.296875 -1.96875 L 0.296875 -2.96875 L 3.984375 -8.09375 L 4.84375 -8.09375 L 4.84375 -2.859375 L 6.03125 -2.859375 L 6.03125 -1.96875 L 4.84375 -1.96875 L 4.84375 0 Z \"/>\n",
       "</symbol>\n",
       "<symbol overflow=\"visible\" id=\"glyph1-0\">\n",
       "<path style=\"stroke:none;\" d=\"M 0.59375 2.125 L 0.59375 -8.46875 L 6.59375 -8.46875 L 6.59375 2.125 Z M 1.265625 1.453125 L 5.9375 1.453125 L 5.9375 -7.78125 L 1.265625 -7.78125 Z \"/>\n",
       "</symbol>\n",
       "<symbol overflow=\"visible\" id=\"glyph1-1\">\n",
       "<path style=\"stroke:none;\" d=\"M 2.4375 -0.96875 C 2.488281 -0.738281 2.617188 -0.550781 2.828125 -0.40625 C 3.035156 -0.257812 3.273438 -0.1875 3.546875 -0.1875 C 3.953125 -0.1875 4.273438 -0.367188 4.515625 -0.734375 C 4.753906 -1.109375 4.875 -1.609375 4.875 -2.234375 C 4.875 -2.867188 4.757812 -3.378906 4.53125 -3.765625 C 4.300781 -4.160156 3.957031 -4.429688 3.5 -4.578125 C 3.476562 -4.578125 3.441406 -4.5625 3.390625 -4.53125 C 3.085938 -4.40625 2.863281 -4.34375 2.71875 -4.34375 C 2.601562 -4.34375 2.515625 -4.375 2.453125 -4.4375 C 2.390625 -4.507812 2.359375 -4.609375 2.359375 -4.734375 C 2.359375 -4.847656 2.390625 -4.929688 2.453125 -4.984375 C 2.515625 -5.046875 2.613281 -5.078125 2.75 -5.078125 C 2.851562 -5.078125 3.066406 -5.019531 3.390625 -4.90625 C 3.460938 -4.875 3.515625 -4.847656 3.546875 -4.828125 C 3.804688 -4.941406 4 -5.117188 4.125 -5.359375 C 4.25 -5.597656 4.3125 -5.910156 4.3125 -6.296875 C 4.3125 -6.796875 4.203125 -7.191406 3.984375 -7.484375 C 3.765625 -7.773438 3.472656 -7.921875 3.109375 -7.921875 C 2.660156 -7.921875 2.335938 -7.75 2.140625 -7.40625 C 1.953125 -7.0625 1.859375 -6.476562 1.859375 -5.65625 L 1.859375 2.546875 L 0.796875 2.546875 L 0.796875 -4.53125 C 0.796875 -5.726562 1.007812 -6.648438 1.4375 -7.296875 C 1.875 -7.941406 2.488281 -8.265625 3.28125 -8.265625 C 3.925781 -8.265625 4.441406 -8.097656 4.828125 -7.765625 C 5.222656 -7.429688 5.421875 -6.992188 5.421875 -6.453125 C 5.421875 -6.078125 5.28125 -5.738281 5 -5.4375 C 4.726562 -5.144531 4.332031 -4.910156 3.8125 -4.734375 C 4.539062 -4.546875 5.09375 -4.253906 5.46875 -3.859375 C 5.84375 -3.472656 6.03125 -2.992188 6.03125 -2.421875 C 6.03125 -1.679688 5.804688 -1.070312 5.359375 -0.59375 C 4.910156 -0.113281 4.359375 0.125 3.703125 0.125 C 3.265625 0.125 2.898438 0.0234375 2.609375 -0.171875 C 2.328125 -0.367188 2.164062 -0.632812 2.125 -0.96875 Z \"/>\n",
       "</symbol>\n",
       "<symbol overflow=\"visible\" id=\"glyph2-0\">\n",
       "<path style=\"stroke:none;\" d=\"M 0.265625 0 L 0.265625 -5.90625 L 4.953125 -5.90625 L 4.953125 0 Z M 4.21875 -0.734375 L 4.21875 -5.171875 L 1 -5.171875 L 1 -0.734375 Z \"/>\n",
       "</symbol>\n",
       "<symbol overflow=\"visible\" id=\"glyph2-1\">\n",
       "<path style=\"stroke:none;\" d=\"M 0.78125 -4.078125 L 0.78125 -4.625 C 1.3125 -4.675781 1.675781 -4.757812 1.875 -4.875 C 2.082031 -5 2.238281 -5.285156 2.34375 -5.734375 L 2.921875 -5.734375 L 2.921875 0 L 2.140625 0 L 2.140625 -4.078125 Z \"/>\n",
       "</symbol>\n",
       "<symbol overflow=\"visible\" id=\"glyph2-2\">\n",
       "<path style=\"stroke:none;\" d=\"M 0.25 0 C 0.28125 -0.5 0.382812 -0.929688 0.5625 -1.296875 C 0.738281 -1.660156 1.085938 -1.992188 1.609375 -2.296875 L 2.375 -2.734375 C 2.726562 -2.941406 2.972656 -3.113281 3.109375 -3.25 C 3.328125 -3.476562 3.4375 -3.734375 3.4375 -4.015625 C 3.4375 -4.347656 3.332031 -4.613281 3.125 -4.8125 C 2.925781 -5.007812 2.660156 -5.109375 2.328125 -5.109375 C 1.835938 -5.109375 1.492188 -4.921875 1.296875 -4.546875 C 1.203125 -4.347656 1.148438 -4.070312 1.140625 -3.71875 L 0.390625 -3.71875 C 0.398438 -4.21875 0.492188 -4.625 0.671875 -4.9375 C 0.984375 -5.5 1.539062 -5.78125 2.34375 -5.78125 C 3 -5.78125 3.476562 -5.597656 3.78125 -5.234375 C 4.082031 -4.878906 4.234375 -4.484375 4.234375 -4.046875 C 4.234375 -3.585938 4.070312 -3.195312 3.75 -2.875 C 3.5625 -2.675781 3.222656 -2.441406 2.734375 -2.171875 L 2.1875 -1.875 C 1.925781 -1.726562 1.722656 -1.585938 1.578125 -1.453125 C 1.304688 -1.222656 1.132812 -0.96875 1.0625 -0.6875 L 4.203125 -0.6875 L 4.203125 0 Z \"/>\n",
       "</symbol>\n",
       "<symbol overflow=\"visible\" id=\"glyph3-0\">\n",
       "<path style=\"stroke:none;\" d=\"M 0.296875 0 L 0.296875 -6.671875 L 5.59375 -6.671875 L 5.59375 0 Z M 4.75 -0.828125 L 4.75 -5.828125 L 1.140625 -5.828125 L 1.140625 -0.828125 Z \"/>\n",
       "</symbol>\n",
       "<symbol overflow=\"visible\" id=\"glyph3-1\">\n",
       "<path style=\"stroke:none;\" d=\"M 2.515625 -6.5 C 3.359375 -6.5 3.96875 -6.15625 4.34375 -5.46875 C 4.632812 -4.925781 4.78125 -4.191406 4.78125 -3.265625 C 4.78125 -2.378906 4.644531 -1.644531 4.375 -1.0625 C 4 -0.238281 3.378906 0.171875 2.515625 0.171875 C 1.734375 0.171875 1.148438 -0.164062 0.765625 -0.84375 C 0.453125 -1.40625 0.296875 -2.164062 0.296875 -3.125 C 0.296875 -3.851562 0.390625 -4.484375 0.578125 -5.015625 C 0.929688 -6.003906 1.578125 -6.5 2.515625 -6.5 Z M 2.5 -0.5625 C 2.925781 -0.5625 3.265625 -0.75 3.515625 -1.125 C 3.765625 -1.5 3.890625 -2.203125 3.890625 -3.234375 C 3.890625 -3.960938 3.796875 -4.566406 3.609375 -5.046875 C 3.429688 -5.523438 3.082031 -5.765625 2.5625 -5.765625 C 2.082031 -5.765625 1.726562 -5.535156 1.5 -5.078125 C 1.28125 -4.628906 1.171875 -3.96875 1.171875 -3.09375 C 1.171875 -2.425781 1.242188 -1.890625 1.390625 -1.484375 C 1.609375 -0.867188 1.976562 -0.5625 2.5 -0.5625 Z \"/>\n",
       "</symbol>\n",
       "<symbol overflow=\"visible\" id=\"glyph3-2\">\n",
       "<path style=\"stroke:none;\" d=\"M 0.890625 -4.609375 L 0.890625 -5.234375 C 1.484375 -5.285156 1.894531 -5.378906 2.125 -5.515625 C 2.351562 -5.648438 2.523438 -5.96875 2.640625 -6.46875 L 3.296875 -6.46875 L 3.296875 0 L 2.421875 0 L 2.421875 -4.609375 Z \"/>\n",
       "</symbol>\n",
       "<symbol overflow=\"visible\" id=\"glyph3-3\">\n",
       "<path style=\"stroke:none;\" d=\"M 0.296875 0 C 0.316406 -0.5625 0.425781 -1.046875 0.625 -1.453125 C 0.832031 -1.867188 1.226562 -2.25 1.8125 -2.59375 L 2.6875 -3.09375 C 3.070312 -3.320312 3.347656 -3.515625 3.515625 -3.671875 C 3.753906 -3.921875 3.875 -4.210938 3.875 -4.546875 C 3.875 -4.921875 3.757812 -5.21875 3.53125 -5.4375 C 3.3125 -5.664062 3.015625 -5.78125 2.640625 -5.78125 C 2.078125 -5.78125 1.6875 -5.566406 1.46875 -5.140625 C 1.351562 -4.910156 1.289062 -4.59375 1.28125 -4.1875 L 0.453125 -4.1875 C 0.460938 -4.757812 0.566406 -5.222656 0.765625 -5.578125 C 1.117188 -6.203125 1.742188 -6.515625 2.640625 -6.515625 C 3.378906 -6.515625 3.921875 -6.3125 4.265625 -5.90625 C 4.609375 -5.507812 4.78125 -5.066406 4.78125 -4.578125 C 4.78125 -4.054688 4.597656 -3.609375 4.234375 -3.234375 C 4.023438 -3.023438 3.644531 -2.765625 3.09375 -2.453125 L 2.46875 -2.109375 C 2.175781 -1.953125 1.945312 -1.796875 1.78125 -1.640625 C 1.476562 -1.378906 1.285156 -1.085938 1.203125 -0.765625 L 4.75 -0.765625 L 4.75 0 Z \"/>\n",
       "</symbol>\n",
       "<symbol overflow=\"visible\" id=\"glyph3-4\">\n",
       "<path style=\"stroke:none;\" d=\"M 2.421875 0.171875 C 1.648438 0.171875 1.085938 -0.0351562 0.734375 -0.453125 C 0.390625 -0.878906 0.21875 -1.394531 0.21875 -2 L 1.078125 -2 C 1.109375 -1.570312 1.1875 -1.265625 1.3125 -1.078125 C 1.519531 -0.734375 1.898438 -0.5625 2.453125 -0.5625 C 2.890625 -0.5625 3.238281 -0.675781 3.5 -0.90625 C 3.757812 -1.132812 3.890625 -1.429688 3.890625 -1.796875 C 3.890625 -2.242188 3.75 -2.554688 3.46875 -2.734375 C 3.195312 -2.921875 2.816406 -3.015625 2.328125 -3.015625 C 2.273438 -3.015625 2.21875 -3.007812 2.15625 -3 C 2.101562 -3 2.050781 -3 2 -3 L 2 -3.71875 C 2.082031 -3.707031 2.148438 -3.703125 2.203125 -3.703125 C 2.265625 -3.703125 2.328125 -3.703125 2.390625 -3.703125 C 2.703125 -3.703125 2.957031 -3.75 3.15625 -3.84375 C 3.5 -4.007812 3.671875 -4.3125 3.671875 -4.75 C 3.671875 -5.070312 3.554688 -5.320312 3.328125 -5.5 C 3.097656 -5.675781 2.828125 -5.765625 2.515625 -5.765625 C 1.972656 -5.765625 1.597656 -5.582031 1.390625 -5.21875 C 1.273438 -5.019531 1.207031 -4.734375 1.1875 -4.359375 L 0.390625 -4.359375 C 0.390625 -4.847656 0.484375 -5.265625 0.671875 -5.609375 C 1.003906 -6.210938 1.59375 -6.515625 2.4375 -6.515625 C 3.09375 -6.515625 3.601562 -6.363281 3.96875 -6.0625 C 4.332031 -5.769531 4.515625 -5.34375 4.515625 -4.78125 C 4.515625 -4.382812 4.40625 -4.0625 4.1875 -3.8125 C 4.0625 -3.65625 3.890625 -3.535156 3.671875 -3.453125 C 4.015625 -3.359375 4.28125 -3.175781 4.46875 -2.90625 C 4.664062 -2.632812 4.765625 -2.304688 4.765625 -1.921875 C 4.765625 -1.304688 4.5625 -0.800781 4.15625 -0.40625 C 3.75 -0.0195312 3.171875 0.171875 2.421875 0.171875 Z \"/>\n",
       "</symbol>\n",
       "<symbol overflow=\"visible\" id=\"glyph3-5\">\n",
       "<path style=\"stroke:none;\" d=\"M 0.390625 -3.015625 L 2.671875 -3.015625 L 2.671875 -2.171875 L 0.390625 -2.171875 Z \"/>\n",
       "</symbol>\n",
       "<symbol overflow=\"visible\" id=\"glyph3-6\">\n",
       "<path style=\"stroke:none;\" d=\"M 3.078125 -2.296875 L 3.078125 -5.25 L 0.984375 -2.296875 Z M 3.09375 0 L 3.09375 -1.59375 L 0.234375 -1.59375 L 0.234375 -2.390625 L 3.21875 -6.515625 L 3.90625 -6.515625 L 3.90625 -2.296875 L 4.859375 -2.296875 L 4.859375 -1.59375 L 3.90625 -1.59375 L 3.90625 0 Z \"/>\n",
       "</symbol>\n",
       "<symbol overflow=\"visible\" id=\"glyph4-0\">\n",
       "<path style=\"stroke:none;\" d=\"M 0.375 0 L 0.375 -8.25 L 6.921875 -8.25 L 6.921875 0 Z M 5.890625 -1.03125 L 5.890625 -7.21875 L 1.40625 -7.21875 L 1.40625 -1.03125 Z \"/>\n",
       "</symbol>\n",
       "<symbol overflow=\"visible\" id=\"glyph4-1\">\n",
       "<path style=\"stroke:none;\" d=\"M 0.171875 -6.015625 L 1.484375 -6.015625 L 2.859375 -3.890625 L 4.25 -6.015625 L 5.484375 -5.984375 L 3.453125 -3.078125 L 5.578125 0 L 4.28125 0 L 2.796875 -2.25 L 1.34375 0 L 0.0625 0 L 2.171875 -3.078125 Z \"/>\n",
       "</symbol>\n",
       "<symbol overflow=\"visible\" id=\"glyph5-0\">\n",
       "<path style=\"stroke:none;\" d=\"M 0 -0.375 L -8.25 -0.375 L -8.25 -6.921875 L 0 -6.921875 Z M -1.03125 -5.890625 L -7.21875 -5.890625 L -7.21875 -1.40625 L -1.03125 -1.40625 Z \"/>\n",
       "</symbol>\n",
       "<symbol overflow=\"visible\" id=\"glyph5-1\">\n",
       "<path style=\"stroke:none;\" d=\"M -6.015625 -4.5 L -6.015625 -5.609375 C -5.628906 -5.472656 -4.75 -5.160156 -3.375 -4.671875 C -2.34375 -4.296875 -1.5 -3.988281 -0.84375 -3.75 C 0.6875 -3.164062 1.617188 -2.753906 1.953125 -2.515625 C 2.296875 -2.273438 2.46875 -1.863281 2.46875 -1.28125 C 2.46875 -1.132812 2.460938 -1.019531 2.453125 -0.9375 C 2.441406 -0.863281 2.421875 -0.769531 2.390625 -0.65625 L 1.46875 -0.65625 C 1.507812 -0.832031 1.535156 -0.957031 1.546875 -1.03125 C 1.566406 -1.113281 1.578125 -1.1875 1.578125 -1.25 C 1.578125 -1.4375 1.546875 -1.570312 1.484375 -1.65625 C 1.421875 -1.75 1.34375 -1.828125 1.25 -1.890625 C 1.21875 -1.910156 1.0625 -1.976562 0.78125 -2.09375 C 0.507812 -2.207031 0.304688 -2.289062 0.171875 -2.34375 L -6.015625 -0.125 L -6.015625 -1.265625 L -1.125 -2.875 Z M -6.15625 -2.875 Z \"/>\n",
       "</symbol>\n",
       "</g>\n",
       "<clipPath id=\"clip1\">\n",
       "  <path d=\"M 30.40625 5.480469 L 283 5.480469 L 283 257 L 30.40625 257 Z \"/>\n",
       "</clipPath>\n",
       "<clipPath id=\"clip2\">\n",
       "  <path d=\"M 30.40625 210 L 283 210 L 283 212 L 30.40625 212 Z \"/>\n",
       "</clipPath>\n",
       "<clipPath id=\"clip3\">\n",
       "  <path d=\"M 30.40625 141 L 283 141 L 283 143 L 30.40625 143 Z \"/>\n",
       "</clipPath>\n",
       "<clipPath id=\"clip4\">\n",
       "  <path d=\"M 30.40625 72 L 283 72 L 283 74 L 30.40625 74 Z \"/>\n",
       "</clipPath>\n",
       "<clipPath id=\"clip5\">\n",
       "  <path d=\"M 70 5.480469 L 71 5.480469 L 71 257 L 70 257 Z \"/>\n",
       "</clipPath>\n",
       "<clipPath id=\"clip6\">\n",
       "  <path d=\"M 127 5.480469 L 129 5.480469 L 129 257 L 127 257 Z \"/>\n",
       "</clipPath>\n",
       "<clipPath id=\"clip7\">\n",
       "  <path d=\"M 184 5.480469 L 186 5.480469 L 186 257 L 184 257 Z \"/>\n",
       "</clipPath>\n",
       "<clipPath id=\"clip8\">\n",
       "  <path d=\"M 242 5.480469 L 243 5.480469 L 243 257 L 242 257 Z \"/>\n",
       "</clipPath>\n",
       "<clipPath id=\"clip9\">\n",
       "  <path d=\"M 30.40625 244 L 283.519531 244 L 283.519531 246 L 30.40625 246 Z \"/>\n",
       "</clipPath>\n",
       "<clipPath id=\"clip10\">\n",
       "  <path d=\"M 30.40625 175 L 283.519531 175 L 283.519531 178 L 30.40625 178 Z \"/>\n",
       "</clipPath>\n",
       "<clipPath id=\"clip11\">\n",
       "  <path d=\"M 30.40625 106 L 283.519531 106 L 283.519531 109 L 30.40625 109 Z \"/>\n",
       "</clipPath>\n",
       "<clipPath id=\"clip12\">\n",
       "  <path d=\"M 30.40625 38 L 283.519531 38 L 283.519531 40 L 30.40625 40 Z \"/>\n",
       "</clipPath>\n",
       "<clipPath id=\"clip13\">\n",
       "  <path d=\"M 41 5.480469 L 43 5.480469 L 43 257 L 41 257 Z \"/>\n",
       "</clipPath>\n",
       "<clipPath id=\"clip14\">\n",
       "  <path d=\"M 98 5.480469 L 100 5.480469 L 100 257 L 98 257 Z \"/>\n",
       "</clipPath>\n",
       "<clipPath id=\"clip15\">\n",
       "  <path d=\"M 155 5.480469 L 158 5.480469 L 158 257 L 155 257 Z \"/>\n",
       "</clipPath>\n",
       "<clipPath id=\"clip16\">\n",
       "  <path d=\"M 213 5.480469 L 215 5.480469 L 215 257 L 213 257 Z \"/>\n",
       "</clipPath>\n",
       "<clipPath id=\"clip17\">\n",
       "  <path d=\"M 270 5.480469 L 272 5.480469 L 272 257 L 270 257 Z \"/>\n",
       "</clipPath>\n",
       "</defs>\n",
       "<g id=\"surface91\">\n",
       "<rect x=\"0\" y=\"0\" width=\"288\" height=\"288\" style=\"fill:rgb(100%,100%,100%);fill-opacity:1;stroke:none;\"/>\n",
       "<rect x=\"0\" y=\"0\" width=\"288\" height=\"288\" style=\"fill:rgb(100%,100%,100%);fill-opacity:1;stroke:none;\"/>\n",
       "<path style=\"fill:none;stroke-width:1.422638;stroke-linecap:round;stroke-linejoin:round;stroke:rgb(100%,100%,100%);stroke-opacity:1;stroke-miterlimit:10;\" d=\"M 0 0 L 288 0 L 288 288 L 0 288 Z \"/>\n",
       "<g clip-path=\"url(#clip1)\" clip-rule=\"nonzero\">\n",
       "<path style=\" stroke:none;fill-rule:nonzero;fill:rgb(92.156863%,92.156863%,92.156863%);fill-opacity:1;\" d=\"M 30.40625 5.480469 L 282.519531 5.480469 L 282.519531 256.09375 L 30.40625 256.09375 Z \"/>\n",
       "</g>\n",
       "<g clip-path=\"url(#clip2)\" clip-rule=\"nonzero\">\n",
       "<path style=\"fill:none;stroke-width:0.711319;stroke-linecap:butt;stroke-linejoin:round;stroke:rgb(100%,100%,100%);stroke-opacity:1;stroke-miterlimit:10;\" d=\"M 30.40625 210.710938 L 282.519531 210.710938 \"/>\n",
       "</g>\n",
       "<g clip-path=\"url(#clip3)\" clip-rule=\"nonzero\">\n",
       "<path style=\"fill:none;stroke-width:0.711319;stroke-linecap:butt;stroke-linejoin:round;stroke:rgb(100%,100%,100%);stroke-opacity:1;stroke-miterlimit:10;\" d=\"M 30.40625 141.976562 L 282.519531 141.976562 \"/>\n",
       "</g>\n",
       "<g clip-path=\"url(#clip4)\" clip-rule=\"nonzero\">\n",
       "<path style=\"fill:none;stroke-width:0.711319;stroke-linecap:butt;stroke-linejoin:round;stroke:rgb(100%,100%,100%);stroke-opacity:1;stroke-miterlimit:10;\" d=\"M 30.40625 73.242188 L 282.519531 73.242188 \"/>\n",
       "</g>\n",
       "<g clip-path=\"url(#clip5)\" clip-rule=\"nonzero\">\n",
       "<path style=\"fill:none;stroke-width:0.711319;stroke-linecap:butt;stroke-linejoin:round;stroke:rgb(100%,100%,100%);stroke-opacity:1;stroke-miterlimit:10;\" d=\"M 70.515625 256.09375 L 70.515625 5.480469 \"/>\n",
       "</g>\n",
       "<g clip-path=\"url(#clip6)\" clip-rule=\"nonzero\">\n",
       "<path style=\"fill:none;stroke-width:0.711319;stroke-linecap:butt;stroke-linejoin:round;stroke:rgb(100%,100%,100%);stroke-opacity:1;stroke-miterlimit:10;\" d=\"M 127.8125 256.09375 L 127.8125 5.480469 \"/>\n",
       "</g>\n",
       "<g clip-path=\"url(#clip7)\" clip-rule=\"nonzero\">\n",
       "<path style=\"fill:none;stroke-width:0.711319;stroke-linecap:butt;stroke-linejoin:round;stroke:rgb(100%,100%,100%);stroke-opacity:1;stroke-miterlimit:10;\" d=\"M 185.113281 256.09375 L 185.113281 5.480469 \"/>\n",
       "</g>\n",
       "<g clip-path=\"url(#clip8)\" clip-rule=\"nonzero\">\n",
       "<path style=\"fill:none;stroke-width:0.711319;stroke-linecap:butt;stroke-linejoin:round;stroke:rgb(100%,100%,100%);stroke-opacity:1;stroke-miterlimit:10;\" d=\"M 242.410156 256.09375 L 242.410156 5.480469 \"/>\n",
       "</g>\n",
       "<g clip-path=\"url(#clip9)\" clip-rule=\"nonzero\">\n",
       "<path style=\"fill:none;stroke-width:1.422638;stroke-linecap:butt;stroke-linejoin:round;stroke:rgb(100%,100%,100%);stroke-opacity:1;stroke-miterlimit:10;\" d=\"M 30.40625 245.078125 L 282.519531 245.078125 \"/>\n",
       "</g>\n",
       "<g clip-path=\"url(#clip10)\" clip-rule=\"nonzero\">\n",
       "<path style=\"fill:none;stroke-width:1.422638;stroke-linecap:butt;stroke-linejoin:round;stroke:rgb(100%,100%,100%);stroke-opacity:1;stroke-miterlimit:10;\" d=\"M 30.40625 176.34375 L 282.519531 176.34375 \"/>\n",
       "</g>\n",
       "<g clip-path=\"url(#clip11)\" clip-rule=\"nonzero\">\n",
       "<path style=\"fill:none;stroke-width:1.422638;stroke-linecap:butt;stroke-linejoin:round;stroke:rgb(100%,100%,100%);stroke-opacity:1;stroke-miterlimit:10;\" d=\"M 30.40625 107.609375 L 282.519531 107.609375 \"/>\n",
       "</g>\n",
       "<g clip-path=\"url(#clip12)\" clip-rule=\"nonzero\">\n",
       "<path style=\"fill:none;stroke-width:1.422638;stroke-linecap:butt;stroke-linejoin:round;stroke:rgb(100%,100%,100%);stroke-opacity:1;stroke-miterlimit:10;\" d=\"M 30.40625 38.875 L 282.519531 38.875 \"/>\n",
       "</g>\n",
       "<g clip-path=\"url(#clip13)\" clip-rule=\"nonzero\">\n",
       "<path style=\"fill:none;stroke-width:1.422638;stroke-linecap:butt;stroke-linejoin:round;stroke:rgb(100%,100%,100%);stroke-opacity:1;stroke-miterlimit:10;\" d=\"M 41.867188 256.09375 L 41.867188 5.480469 \"/>\n",
       "</g>\n",
       "<g clip-path=\"url(#clip14)\" clip-rule=\"nonzero\">\n",
       "<path style=\"fill:none;stroke-width:1.422638;stroke-linecap:butt;stroke-linejoin:round;stroke:rgb(100%,100%,100%);stroke-opacity:1;stroke-miterlimit:10;\" d=\"M 99.164062 256.09375 L 99.164062 5.480469 \"/>\n",
       "</g>\n",
       "<g clip-path=\"url(#clip15)\" clip-rule=\"nonzero\">\n",
       "<path style=\"fill:none;stroke-width:1.422638;stroke-linecap:butt;stroke-linejoin:round;stroke:rgb(100%,100%,100%);stroke-opacity:1;stroke-miterlimit:10;\" d=\"M 156.464844 256.09375 L 156.464844 5.480469 \"/>\n",
       "</g>\n",
       "<g clip-path=\"url(#clip16)\" clip-rule=\"nonzero\">\n",
       "<path style=\"fill:none;stroke-width:1.422638;stroke-linecap:butt;stroke-linejoin:round;stroke:rgb(100%,100%,100%);stroke-opacity:1;stroke-miterlimit:10;\" d=\"M 213.761719 256.09375 L 213.761719 5.480469 \"/>\n",
       "</g>\n",
       "<g clip-path=\"url(#clip17)\" clip-rule=\"nonzero\">\n",
       "<path style=\"fill:none;stroke-width:1.422638;stroke-linecap:butt;stroke-linejoin:round;stroke:rgb(100%,100%,100%);stroke-opacity:1;stroke-miterlimit:10;\" d=\"M 271.0625 256.09375 L 271.0625 5.480469 \"/>\n",
       "</g>\n",
       "<path style=\"fill:none;stroke-width:1.422638;stroke-linecap:butt;stroke-linejoin:round;stroke:rgb(0%,0%,0%);stroke-opacity:1;stroke-miterlimit:10;\" d=\"M 41.867188 239.972656 L 44.160156 239.808594 L 46.449219 239.636719 L 48.742188 239.460938 L 51.035156 239.277344 L 53.328125 239.089844 L 55.617188 238.894531 L 57.910156 238.691406 L 60.203125 238.484375 L 62.492188 238.269531 L 64.785156 238.050781 L 67.078125 237.820312 L 69.371094 237.585938 L 71.660156 237.339844 L 73.953125 237.089844 L 76.246094 236.828125 L 78.539062 236.5625 L 80.828125 236.285156 L 83.121094 235.996094 L 85.414062 235.703125 L 87.707031 235.398438 L 89.996094 235.082031 L 92.289062 234.757812 L 94.582031 234.421875 L 96.875 234.074219 L 99.164062 233.71875 L 101.457031 233.347656 L 103.75 232.964844 L 106.039062 232.574219 L 108.332031 232.167969 L 110.625 231.746094 L 112.917969 231.3125 L 115.207031 230.863281 L 117.5 230.402344 L 119.792969 229.925781 L 122.085938 229.433594 L 124.375 228.925781 L 126.667969 228.398438 L 128.960938 227.855469 L 131.253906 227.296875 L 133.542969 226.71875 L 135.835938 226.121094 L 138.128906 225.503906 L 140.421875 224.867188 L 142.710938 224.210938 L 145.003906 223.53125 L 147.296875 222.832031 L 149.585938 222.109375 L 151.878906 221.359375 L 154.171875 220.589844 L 156.464844 219.792969 L 158.753906 218.972656 L 161.046875 218.121094 L 163.339844 217.246094 L 165.632812 216.339844 L 167.921875 215.40625 L 170.214844 214.441406 L 172.507812 213.445312 L 174.800781 212.414062 L 177.089844 211.355469 L 179.382812 210.257812 L 181.675781 209.125 L 183.96875 207.957031 L 186.257812 206.75 L 188.550781 205.503906 L 190.84375 204.214844 L 193.132812 202.886719 L 195.425781 201.515625 L 197.71875 200.097656 L 200.011719 198.636719 L 202.300781 197.125 L 204.59375 195.566406 L 206.886719 193.957031 L 209.179688 192.292969 L 211.46875 190.578125 L 213.761719 188.804688 L 216.054688 186.972656 L 218.347656 185.085938 L 220.636719 183.132812 L 222.929688 181.121094 L 225.222656 179.039062 L 227.515625 176.890625 L 229.804688 174.675781 L 232.097656 172.386719 L 234.390625 170.023438 L 236.683594 167.582031 L 238.972656 165.0625 L 241.265625 162.457031 L 243.558594 159.773438 L 245.847656 157 L 248.140625 154.132812 L 250.433594 151.175781 L 252.726562 148.125 L 255.015625 144.96875 L 257.308594 141.714844 L 259.601562 138.355469 L 261.894531 134.882812 L 264.183594 131.300781 L 266.476562 127.601562 L 268.769531 123.78125 L 271.0625 119.835938 \"/>\n",
       "<g style=\"fill:rgb(0%,0%,0%);fill-opacity:1;\">\n",
       "  <use xlink:href=\"#glyph0-1\" x=\"72.972656\" y=\"17.402344\"/>\n",
       "</g>\n",
       "<g style=\"fill:rgb(0%,0%,0%);fill-opacity:1;\">\n",
       "  <use xlink:href=\"#glyph1-1\" x=\"76.832031\" y=\"17.402344\"/>\n",
       "</g>\n",
       "<g style=\"fill:rgb(0%,0%,0%);fill-opacity:1;\">\n",
       "  <use xlink:href=\"#glyph2-1\" x=\"81.832031\" y=\"19.511719\"/>\n",
       "</g>\n",
       "<g style=\"fill:rgb(0%,0%,0%);fill-opacity:1;\">\n",
       "  <use xlink:href=\"#glyph0-2\" x=\"86.410156\" y=\"17.402344\"/>\n",
       "  <use xlink:href=\"#glyph0-3\" x=\"89.618256\" y=\"17.402344\"/>\n",
       "</g>\n",
       "<g style=\"fill:rgb(0%,0%,0%);fill-opacity:1;\">\n",
       "  <use xlink:href=\"#glyph1-1\" x=\"92.824219\" y=\"17.402344\"/>\n",
       "</g>\n",
       "<g style=\"fill:rgb(0%,0%,0%);fill-opacity:1;\">\n",
       "  <use xlink:href=\"#glyph2-2\" x=\"97.824219\" y=\"19.511719\"/>\n",
       "</g>\n",
       "<g style=\"fill:rgb(0%,0%,0%);fill-opacity:1;\">\n",
       "  <use xlink:href=\"#glyph0-4\" x=\"102.40625\" y=\"17.402344\"/>\n",
       "  <use xlink:href=\"#glyph0-3\" x=\"106.262726\" y=\"17.402344\"/>\n",
       "  <use xlink:href=\"#glyph0-3\" x=\"109.470825\" y=\"17.402344\"/>\n",
       "  <use xlink:href=\"#glyph0-3\" x=\"112.678925\" y=\"17.402344\"/>\n",
       "  <use xlink:href=\"#glyph0-3\" x=\"115.887024\" y=\"17.402344\"/>\n",
       "  <use xlink:href=\"#glyph0-3\" x=\"119.095123\" y=\"17.402344\"/>\n",
       "  <use xlink:href=\"#glyph0-3\" x=\"122.303223\" y=\"17.402344\"/>\n",
       "</g>\n",
       "<g style=\"fill:rgb(0%,0%,0%);fill-opacity:1;\">\n",
       "  <use xlink:href=\"#glyph0-3\" x=\"70.515625\" y=\"36.515625\"/>\n",
       "  <use xlink:href=\"#glyph0-5\" x=\"73.723724\" y=\"36.515625\"/>\n",
       "  <use xlink:href=\"#glyph0-3\" x=\"80.466919\" y=\"36.515625\"/>\n",
       "  <use xlink:href=\"#glyph0-1\" x=\"83.675018\" y=\"36.515625\"/>\n",
       "  <use xlink:href=\"#glyph0-6\" x=\"87.531494\" y=\"36.515625\"/>\n",
       "  <use xlink:href=\"#glyph0-7\" x=\"91.376694\" y=\"36.515625\"/>\n",
       "  <use xlink:href=\"#glyph0-2\" x=\"97.798523\" y=\"36.515625\"/>\n",
       "  <use xlink:href=\"#glyph0-3\" x=\"101.006622\" y=\"36.515625\"/>\n",
       "  <use xlink:href=\"#glyph0-6\" x=\"104.214722\" y=\"36.515625\"/>\n",
       "  <use xlink:href=\"#glyph0-8\" x=\"108.059921\" y=\"36.515625\"/>\n",
       "  <use xlink:href=\"#glyph0-9\" x=\"114.48175\" y=\"36.515625\"/>\n",
       "  <use xlink:href=\"#glyph0-10\" x=\"117.68985\" y=\"36.515625\"/>\n",
       "  <use xlink:href=\"#glyph0-4\" x=\"124.111679\" y=\"36.515625\"/>\n",
       "</g>\n",
       "<path style=\"fill:none;stroke-width:1.422638;stroke-linecap:butt;stroke-linejoin:round;stroke:rgb(0%,0%,0%);stroke-opacity:1;stroke-dasharray:4,4;stroke-miterlimit:10;\" d=\"M 41.867188 16.871094 L 44.160156 31.019531 L 46.449219 44.289062 L 48.742188 56.738281 L 51.035156 68.414062 L 53.328125 79.367188 L 55.617188 89.640625 L 57.910156 99.277344 L 60.203125 108.316406 L 62.492188 116.792969 L 64.785156 124.746094 L 67.078125 132.207031 L 69.371094 139.203125 L 71.660156 145.769531 L 73.953125 151.925781 L 76.246094 157.699219 L 78.539062 163.117188 L 80.828125 168.199219 L 83.121094 172.964844 L 85.414062 177.433594 L 87.707031 181.628906 L 89.996094 185.5625 L 92.289062 189.253906 L 94.582031 192.714844 L 96.875 195.960938 L 99.164062 199.003906 L 101.457031 201.863281 L 103.75 204.539062 L 106.039062 207.054688 L 108.332031 209.410156 L 110.625 211.621094 L 112.917969 213.695312 L 115.207031 215.640625 L 117.5 217.46875 L 119.792969 219.179688 L 122.085938 220.785156 L 124.375 222.289062 L 126.667969 223.703125 L 128.960938 225.027344 L 131.253906 226.273438 L 133.542969 227.4375 L 135.835938 228.53125 L 138.128906 229.558594 L 140.421875 230.519531 L 142.710938 231.421875 L 145.003906 232.269531 L 147.296875 233.0625 L 149.585938 233.808594 L 151.878906 234.507812 L 154.171875 235.164062 L 156.464844 235.777344 L 158.753906 236.355469 L 161.046875 236.894531 L 163.339844 237.402344 L 165.632812 237.878906 L 167.921875 238.324219 L 170.214844 238.742188 L 172.507812 239.136719 L 174.800781 239.503906 L 177.089844 239.851562 L 179.382812 240.175781 L 181.675781 240.480469 L 183.96875 240.765625 L 186.257812 241.03125 L 188.550781 241.28125 L 190.84375 241.519531 L 193.132812 241.738281 L 195.425781 241.945312 L 197.71875 242.140625 L 200.011719 242.320312 L 202.300781 242.492188 L 204.59375 242.652344 L 206.886719 242.804688 L 209.179688 242.945312 L 211.46875 243.078125 L 213.761719 243.203125 L 216.054688 243.316406 L 218.347656 243.425781 L 220.636719 243.53125 L 222.929688 243.625 L 225.222656 243.714844 L 227.515625 243.800781 L 229.804688 243.878906 L 232.097656 243.953125 L 234.390625 244.023438 L 236.683594 244.089844 L 238.972656 244.152344 L 243.558594 244.261719 L 245.847656 244.3125 L 250.433594 244.40625 L 252.726562 244.445312 L 255.015625 244.484375 L 257.308594 244.523438 L 259.601562 244.558594 L 261.894531 244.589844 L 264.183594 244.621094 L 268.769531 244.675781 L 271.0625 244.699219 \"/>\n",
       "<g style=\"fill:rgb(0%,0%,0%);fill-opacity:1;\">\n",
       "  <use xlink:href=\"#glyph0-1\" x=\"214.296875\" y=\"86.136719\"/>\n",
       "</g>\n",
       "<g style=\"fill:rgb(0%,0%,0%);fill-opacity:1;\">\n",
       "  <use xlink:href=\"#glyph1-1\" x=\"218.152344\" y=\"86.136719\"/>\n",
       "</g>\n",
       "<g style=\"fill:rgb(0%,0%,0%);fill-opacity:1;\">\n",
       "  <use xlink:href=\"#glyph2-1\" x=\"223.152344\" y=\"88.246094\"/>\n",
       "</g>\n",
       "<g style=\"fill:rgb(0%,0%,0%);fill-opacity:1;\">\n",
       "  <use xlink:href=\"#glyph0-2\" x=\"227.734375\" y=\"86.136719\"/>\n",
       "  <use xlink:href=\"#glyph0-3\" x=\"230.942474\" y=\"86.136719\"/>\n",
       "</g>\n",
       "<g style=\"fill:rgb(0%,0%,0%);fill-opacity:1;\">\n",
       "  <use xlink:href=\"#glyph1-1\" x=\"234.148438\" y=\"86.136719\"/>\n",
       "</g>\n",
       "<g style=\"fill:rgb(0%,0%,0%);fill-opacity:1;\">\n",
       "  <use xlink:href=\"#glyph2-2\" x=\"239.148438\" y=\"88.246094\"/>\n",
       "</g>\n",
       "<g style=\"fill:rgb(0%,0%,0%);fill-opacity:1;\">\n",
       "  <use xlink:href=\"#glyph0-4\" x=\"243.730469\" y=\"86.136719\"/>\n",
       "  <use xlink:href=\"#glyph0-3\" x=\"247.586945\" y=\"86.136719\"/>\n",
       "  <use xlink:href=\"#glyph0-3\" x=\"250.795044\" y=\"86.136719\"/>\n",
       "  <use xlink:href=\"#glyph0-3\" x=\"254.003143\" y=\"86.136719\"/>\n",
       "  <use xlink:href=\"#glyph0-3\" x=\"257.211243\" y=\"86.136719\"/>\n",
       "  <use xlink:href=\"#glyph0-3\" x=\"260.419342\" y=\"86.136719\"/>\n",
       "  <use xlink:href=\"#glyph0-3\" x=\"263.627441\" y=\"86.136719\"/>\n",
       "</g>\n",
       "<g style=\"fill:rgb(0%,0%,0%);fill-opacity:1;\">\n",
       "  <use xlink:href=\"#glyph0-3\" x=\"213.761719\" y=\"105.25\"/>\n",
       "  <use xlink:href=\"#glyph0-5\" x=\"216.969818\" y=\"105.25\"/>\n",
       "  <use xlink:href=\"#glyph0-3\" x=\"223.713013\" y=\"105.25\"/>\n",
       "  <use xlink:href=\"#glyph0-1\" x=\"226.921112\" y=\"105.25\"/>\n",
       "  <use xlink:href=\"#glyph0-6\" x=\"230.777588\" y=\"105.25\"/>\n",
       "  <use xlink:href=\"#glyph0-11\" x=\"234.622787\" y=\"105.25\"/>\n",
       "  <use xlink:href=\"#glyph0-2\" x=\"241.044617\" y=\"105.25\"/>\n",
       "  <use xlink:href=\"#glyph0-3\" x=\"244.252716\" y=\"105.25\"/>\n",
       "  <use xlink:href=\"#glyph0-8\" x=\"247.460815\" y=\"105.25\"/>\n",
       "  <use xlink:href=\"#glyph0-9\" x=\"253.882645\" y=\"105.25\"/>\n",
       "  <use xlink:href=\"#glyph0-12\" x=\"257.090744\" y=\"105.25\"/>\n",
       "  <use xlink:href=\"#glyph0-4\" x=\"263.512573\" y=\"105.25\"/>\n",
       "</g>\n",
       "<g style=\"fill:rgb(30.196078%,30.196078%,30.196078%);fill-opacity:1;\">\n",
       "  <use xlink:href=\"#glyph3-1\" x=\"20.304688\" y=\"248.414062\"/>\n",
       "</g>\n",
       "<g style=\"fill:rgb(30.196078%,30.196078%,30.196078%);fill-opacity:1;\">\n",
       "  <use xlink:href=\"#glyph3-2\" x=\"20.304688\" y=\"179.679688\"/>\n",
       "</g>\n",
       "<g style=\"fill:rgb(30.196078%,30.196078%,30.196078%);fill-opacity:1;\">\n",
       "  <use xlink:href=\"#glyph3-3\" x=\"20.304688\" y=\"110.945312\"/>\n",
       "</g>\n",
       "<g style=\"fill:rgb(30.196078%,30.196078%,30.196078%);fill-opacity:1;\">\n",
       "  <use xlink:href=\"#glyph3-4\" x=\"20.304688\" y=\"42.210938\"/>\n",
       "</g>\n",
       "<path style=\"fill:none;stroke-width:1.422638;stroke-linecap:butt;stroke-linejoin:round;stroke:rgb(20%,20%,20%);stroke-opacity:1;stroke-miterlimit:10;\" d=\"M 27.667969 245.078125 L 30.40625 245.078125 \"/>\n",
       "<path style=\"fill:none;stroke-width:1.422638;stroke-linecap:butt;stroke-linejoin:round;stroke:rgb(20%,20%,20%);stroke-opacity:1;stroke-miterlimit:10;\" d=\"M 27.667969 176.34375 L 30.40625 176.34375 \"/>\n",
       "<path style=\"fill:none;stroke-width:1.422638;stroke-linecap:butt;stroke-linejoin:round;stroke:rgb(20%,20%,20%);stroke-opacity:1;stroke-miterlimit:10;\" d=\"M 27.667969 107.609375 L 30.40625 107.609375 \"/>\n",
       "<path style=\"fill:none;stroke-width:1.422638;stroke-linecap:butt;stroke-linejoin:round;stroke:rgb(20%,20%,20%);stroke-opacity:1;stroke-miterlimit:10;\" d=\"M 27.667969 38.875 L 30.40625 38.875 \"/>\n",
       "<path style=\"fill:none;stroke-width:1.422638;stroke-linecap:butt;stroke-linejoin:round;stroke:rgb(20%,20%,20%);stroke-opacity:1;stroke-miterlimit:10;\" d=\"M 41.867188 258.832031 L 41.867188 256.09375 \"/>\n",
       "<path style=\"fill:none;stroke-width:1.422638;stroke-linecap:butt;stroke-linejoin:round;stroke:rgb(20%,20%,20%);stroke-opacity:1;stroke-miterlimit:10;\" d=\"M 99.164062 258.832031 L 99.164062 256.09375 \"/>\n",
       "<path style=\"fill:none;stroke-width:1.422638;stroke-linecap:butt;stroke-linejoin:round;stroke:rgb(20%,20%,20%);stroke-opacity:1;stroke-miterlimit:10;\" d=\"M 156.464844 258.832031 L 156.464844 256.09375 \"/>\n",
       "<path style=\"fill:none;stroke-width:1.422638;stroke-linecap:butt;stroke-linejoin:round;stroke:rgb(20%,20%,20%);stroke-opacity:1;stroke-miterlimit:10;\" d=\"M 213.761719 258.832031 L 213.761719 256.09375 \"/>\n",
       "<path style=\"fill:none;stroke-width:1.422638;stroke-linecap:butt;stroke-linejoin:round;stroke:rgb(20%,20%,20%);stroke-opacity:1;stroke-miterlimit:10;\" d=\"M 271.0625 258.832031 L 271.0625 256.09375 \"/>\n",
       "<g style=\"fill:rgb(30.196078%,30.196078%,30.196078%);fill-opacity:1;\">\n",
       "  <use xlink:href=\"#glyph3-5\" x=\"37.734375\" y=\"267.695312\"/>\n",
       "  <use xlink:href=\"#glyph3-6\" x=\"40.830307\" y=\"267.695312\"/>\n",
       "</g>\n",
       "<g style=\"fill:rgb(30.196078%,30.196078%,30.196078%);fill-opacity:1;\">\n",
       "  <use xlink:href=\"#glyph3-5\" x=\"95.03125\" y=\"267.695312\"/>\n",
       "  <use xlink:href=\"#glyph3-3\" x=\"98.127182\" y=\"267.695312\"/>\n",
       "</g>\n",
       "<g style=\"fill:rgb(30.196078%,30.196078%,30.196078%);fill-opacity:1;\">\n",
       "  <use xlink:href=\"#glyph3-1\" x=\"153.878906\" y=\"267.695312\"/>\n",
       "</g>\n",
       "<g style=\"fill:rgb(30.196078%,30.196078%,30.196078%);fill-opacity:1;\">\n",
       "  <use xlink:href=\"#glyph3-3\" x=\"211.175781\" y=\"267.695312\"/>\n",
       "</g>\n",
       "<g style=\"fill:rgb(30.196078%,30.196078%,30.196078%);fill-opacity:1;\">\n",
       "  <use xlink:href=\"#glyph3-6\" x=\"268.476562\" y=\"267.695312\"/>\n",
       "</g>\n",
       "<g style=\"fill:rgb(0%,0%,0%);fill-opacity:1;\">\n",
       "  <use xlink:href=\"#glyph4-1\" x=\"153.589844\" y=\"280.328125\"/>\n",
       "</g>\n",
       "<g style=\"fill:rgb(0%,0%,0%);fill-opacity:1;\">\n",
       "  <use xlink:href=\"#glyph5-1\" x=\"15.921875\" y=\"133.660156\"/>\n",
       "</g>\n",
       "</g>\n",
       "</svg>\n"
      ],
      "text/plain": [
       "plot without title"
      ]
     },
     "metadata": {
      "image/svg+xml": {
       "isolated": true
      }
     },
     "output_type": "display_data"
    }
   ],
   "source": [
    "ggplot(data_frame(x = c(-4, 4)), aes(x)) + \n",
    "    stat_function(fun = function(x, beta1, beta2){exp(-1 + 0.4 * x)}) + \n",
    "    annotate(\"text\", x = -3, y = 3, label = 'atop(\"{\"*beta[1]*\", \"*beta[2]*\"}      \", \" = {-2, -0.8}\")', parse = TRUE, hjust = 0, vjust = 0) + \n",
    "    stat_function(fun = function(x, beta1, beta2){exp(-2 + -0.8 * x)}, linetype = 2) +\n",
    "    annotate(\"text\", x = 2, y = 2, label = 'atop(\"{\"*beta[1]*\", \"*beta[2]*\"}      \", \" = {-1, 0.4}\")', parse = TRUE, hjust = 0, vjust = 0)"
   ]
  },
  {
   "cell_type": "markdown",
   "metadata": {},
   "source": [
    "### 3.4.2\n",
    "\n",
    "対数尤度\n",
    "\n",
    "$$ \\log L(\\beta_1, \\beta_2) = \\sum_i \\log \\frac{\\lambda^{y_i}_i \\exp(-\\lambda_i)}{y_i!} $$"
   ]
  },
  {
   "cell_type": "code",
   "execution_count": 12,
   "metadata": {
    "collapsed": false
   },
   "outputs": [],
   "source": [
    "fit <- glm(y ~ x, data = d, family = poisson(link = \"log\"))"
   ]
  },
  {
   "cell_type": "code",
   "execution_count": 13,
   "metadata": {
    "collapsed": false
   },
   "outputs": [
    {
     "data": {
      "text/plain": [
       "\n",
       "Call:  glm(formula = y ~ x, family = poisson(link = \"log\"), data = d)\n",
       "\n",
       "Coefficients:\n",
       "(Intercept)            x  \n",
       "    1.29172      0.07566  \n",
       "\n",
       "Degrees of Freedom: 99 Total (i.e. Null);  98 Residual\n",
       "Null Deviance:\t    89.51 \n",
       "Residual Deviance: 84.99 \tAIC: 474.8"
      ]
     },
     "execution_count": 13,
     "metadata": {},
     "output_type": "execute_result"
    }
   ],
   "source": [
    "fit"
   ]
  },
  {
   "cell_type": "code",
   "execution_count": 14,
   "metadata": {
    "collapsed": false
   },
   "outputs": [
    {
     "data": {
      "text/plain": [
       "\n",
       "Call:\n",
       "glm(formula = y ~ x, family = poisson(link = \"log\"), data = d)\n",
       "\n",
       "Deviance Residuals: \n",
       "    Min       1Q   Median       3Q      Max  \n",
       "-2.3679  -0.7348  -0.1775   0.6987   2.3760  \n",
       "\n",
       "Coefficients:\n",
       "            Estimate Std. Error z value Pr(>|z|)    \n",
       "(Intercept)  1.29172    0.36369   3.552 0.000383 ***\n",
       "x            0.07566    0.03560   2.125 0.033580 *  \n",
       "---\n",
       "Signif. codes:  0 ‘***’ 0.001 ‘**’ 0.01 ‘*’ 0.05 ‘.’ 0.1 ‘ ’ 1\n",
       "\n",
       "(Dispersion parameter for poisson family taken to be 1)\n",
       "\n",
       "    Null deviance: 89.507  on 99  degrees of freedom\n",
       "Residual deviance: 84.993  on 98  degrees of freedom\n",
       "AIC: 474.77\n",
       "\n",
       "Number of Fisher Scoring iterations: 4\n"
      ]
     },
     "execution_count": 14,
     "metadata": {},
     "output_type": "execute_result"
    }
   ],
   "source": [
    "summary(fit)"
   ]
  },
  {
   "cell_type": "code",
   "execution_count": 15,
   "metadata": {
    "collapsed": false
   },
   "outputs": [
    {
     "data": {
      "text/plain": [
       "'log Lik.' -235.3863 (df=2)"
      ]
     },
     "execution_count": 15,
     "metadata": {},
     "output_type": "execute_result"
    }
   ],
   "source": [
    "logLik(fit)"
   ]
  },
  {
   "cell_type": "markdown",
   "metadata": {},
   "source": [
    "### 3.4.3"
   ]
  },
  {
   "cell_type": "code",
   "execution_count": 16,
   "metadata": {
    "collapsed": false
   },
   "outputs": [
    {
     "data": {
      "text/html": [
       "1.2917208386552"
      ],
      "text/latex": [
       "1.2917208386552"
      ],
      "text/markdown": [
       "1.2917208386552"
      ],
      "text/plain": [
       "[1] 1.291721"
      ]
     },
     "execution_count": 16,
     "metadata": {},
     "output_type": "execute_result"
    }
   ],
   "source": [
    "fit$coefficients[[\"(Intercept)\"]]"
   ]
  },
  {
   "cell_type": "code",
   "execution_count": 17,
   "metadata": {
    "collapsed": false
   },
   "outputs": [
    {
     "data": {
      "image/png": "[encoded data removed]",
      "image/svg+xml": [
       "<?xml version=\"1.0\" encoding=\"UTF-8\"?>\n",
       "<svg xmlns=\"http://www.w3.org/2000/svg\" xmlns:xlink=\"http://www.w3.org/1999/xlink\" width=\"288pt\" height=\"288pt\" viewBox=\"0 0 288 288\" version=\"1.1\">\n",
       "<defs>\n",
       "<g>\n",
       "<symbol overflow=\"visible\" id=\"glyph0-0\">\n",
       "<path style=\"stroke:none;\" d=\"M 0.296875 0 L 0.296875 -6.671875 L 5.59375 -6.671875 L 5.59375 0 Z M 4.75 -0.828125 L 4.75 -5.828125 L 1.140625 -5.828125 L 1.140625 -0.828125 Z \"/>\n",
       "</symbol>\n",
       "<symbol overflow=\"visible\" id=\"glyph0-1\">\n",
       "<path style=\"stroke:none;\" d=\"M 3.078125 -2.296875 L 3.078125 -5.25 L 0.984375 -2.296875 Z M 3.09375 0 L 3.09375 -1.59375 L 0.234375 -1.59375 L 0.234375 -2.390625 L 3.21875 -6.515625 L 3.90625 -6.515625 L 3.90625 -2.296875 L 4.859375 -2.296875 L 4.859375 -1.59375 L 3.90625 -1.59375 L 3.90625 0 Z \"/>\n",
       "</symbol>\n",
       "<symbol overflow=\"visible\" id=\"glyph0-2\">\n",
       "<path style=\"stroke:none;\" d=\"M 2.53125 -3.78125 C 2.882812 -3.78125 3.160156 -3.878906 3.359375 -4.078125 C 3.566406 -4.273438 3.671875 -4.515625 3.671875 -4.796875 C 3.671875 -5.035156 3.570312 -5.253906 3.375 -5.453125 C 3.1875 -5.660156 2.894531 -5.765625 2.5 -5.765625 C 2.101562 -5.765625 1.816406 -5.660156 1.640625 -5.453125 C 1.472656 -5.253906 1.390625 -5.019531 1.390625 -4.75 C 1.390625 -4.445312 1.5 -4.207031 1.71875 -4.03125 C 1.945312 -3.863281 2.21875 -3.78125 2.53125 -3.78125 Z M 2.578125 -0.5625 C 2.953125 -0.5625 3.265625 -0.660156 3.515625 -0.859375 C 3.765625 -1.066406 3.890625 -1.375 3.890625 -1.78125 C 3.890625 -2.195312 3.757812 -2.515625 3.5 -2.734375 C 3.25 -2.953125 2.921875 -3.0625 2.515625 -3.0625 C 2.128906 -3.0625 1.8125 -2.945312 1.5625 -2.71875 C 1.3125 -2.5 1.1875 -2.195312 1.1875 -1.8125 C 1.1875 -1.46875 1.300781 -1.171875 1.53125 -0.921875 C 1.757812 -0.679688 2.109375 -0.5625 2.578125 -0.5625 Z M 1.421875 -3.46875 C 1.191406 -3.5625 1.015625 -3.671875 0.890625 -3.796875 C 0.648438 -4.046875 0.53125 -4.363281 0.53125 -4.75 C 0.53125 -5.226562 0.703125 -5.640625 1.046875 -5.984375 C 1.398438 -6.335938 1.898438 -6.515625 2.546875 -6.515625 C 3.171875 -6.515625 3.660156 -6.347656 4.015625 -6.015625 C 4.367188 -5.691406 4.546875 -5.3125 4.546875 -4.875 C 4.546875 -4.46875 4.441406 -4.140625 4.234375 -3.890625 C 4.117188 -3.742188 3.941406 -3.601562 3.703125 -3.46875 C 3.972656 -3.34375 4.179688 -3.203125 4.328125 -3.046875 C 4.617188 -2.742188 4.765625 -2.347656 4.765625 -1.859375 C 4.765625 -1.285156 4.570312 -0.800781 4.1875 -0.40625 C 3.800781 -0.0078125 3.257812 0.1875 2.5625 0.1875 C 1.925781 0.1875 1.390625 0.015625 0.953125 -0.328125 C 0.515625 -0.671875 0.296875 -1.171875 0.296875 -1.828125 C 0.296875 -2.210938 0.390625 -2.539062 0.578125 -2.8125 C 0.765625 -3.09375 1.046875 -3.3125 1.421875 -3.46875 Z \"/>\n",
       "</symbol>\n",
       "<symbol overflow=\"visible\" id=\"glyph0-3\">\n",
       "<path style=\"stroke:none;\" d=\"M 0.890625 -4.609375 L 0.890625 -5.234375 C 1.484375 -5.285156 1.894531 -5.378906 2.125 -5.515625 C 2.351562 -5.648438 2.523438 -5.96875 2.640625 -6.46875 L 3.296875 -6.46875 L 3.296875 0 L 2.421875 0 L 2.421875 -4.609375 Z \"/>\n",
       "</symbol>\n",
       "<symbol overflow=\"visible\" id=\"glyph0-4\">\n",
       "<path style=\"stroke:none;\" d=\"M 0.296875 0 C 0.316406 -0.5625 0.425781 -1.046875 0.625 -1.453125 C 0.832031 -1.867188 1.226562 -2.25 1.8125 -2.59375 L 2.6875 -3.09375 C 3.070312 -3.320312 3.347656 -3.515625 3.515625 -3.671875 C 3.753906 -3.921875 3.875 -4.210938 3.875 -4.546875 C 3.875 -4.921875 3.757812 -5.21875 3.53125 -5.4375 C 3.3125 -5.664062 3.015625 -5.78125 2.640625 -5.78125 C 2.078125 -5.78125 1.6875 -5.566406 1.46875 -5.140625 C 1.351562 -4.910156 1.289062 -4.59375 1.28125 -4.1875 L 0.453125 -4.1875 C 0.460938 -4.757812 0.566406 -5.222656 0.765625 -5.578125 C 1.117188 -6.203125 1.742188 -6.515625 2.640625 -6.515625 C 3.378906 -6.515625 3.921875 -6.3125 4.265625 -5.90625 C 4.609375 -5.507812 4.78125 -5.066406 4.78125 -4.578125 C 4.78125 -4.054688 4.597656 -3.609375 4.234375 -3.234375 C 4.023438 -3.023438 3.644531 -2.765625 3.09375 -2.453125 L 2.46875 -2.109375 C 2.175781 -1.953125 1.945312 -1.796875 1.78125 -1.640625 C 1.476562 -1.378906 1.285156 -1.085938 1.203125 -0.765625 L 4.75 -0.765625 L 4.75 0 Z \"/>\n",
       "</symbol>\n",
       "<symbol overflow=\"visible\" id=\"glyph0-5\">\n",
       "<path style=\"stroke:none;\" d=\"M 4.859375 -6.390625 L 4.859375 -5.671875 C 4.648438 -5.472656 4.375 -5.125 4.03125 -4.625 C 3.6875 -4.125 3.378906 -3.582031 3.109375 -3 C 2.847656 -2.425781 2.648438 -1.910156 2.515625 -1.453125 C 2.421875 -1.148438 2.304688 -0.664062 2.171875 0 L 1.265625 0 C 1.472656 -1.238281 1.925781 -2.472656 2.625 -3.703125 C 3.039062 -4.421875 3.476562 -5.039062 3.9375 -5.5625 L 0.34375 -5.5625 L 0.34375 -6.390625 Z \"/>\n",
       "</symbol>\n",
       "<symbol overflow=\"visible\" id=\"glyph0-6\">\n",
       "<path style=\"stroke:none;\" d=\"M 1.234375 -1.578125 C 1.253906 -1.117188 1.425781 -0.804688 1.75 -0.640625 C 1.914062 -0.546875 2.101562 -0.5 2.3125 -0.5 C 2.707031 -0.5 3.039062 -0.660156 3.3125 -0.984375 C 3.59375 -1.304688 3.789062 -1.96875 3.90625 -2.96875 C 3.71875 -2.675781 3.488281 -2.472656 3.21875 -2.359375 C 2.957031 -2.242188 2.671875 -2.1875 2.359375 -2.1875 C 1.734375 -2.1875 1.238281 -2.378906 0.875 -2.765625 C 0.507812 -3.160156 0.328125 -3.664062 0.328125 -4.28125 C 0.328125 -4.875 0.503906 -5.394531 0.859375 -5.84375 C 1.222656 -6.289062 1.757812 -6.515625 2.46875 -6.515625 C 3.414062 -6.515625 4.066406 -6.085938 4.421875 -5.234375 C 4.617188 -4.765625 4.71875 -4.175781 4.71875 -3.46875 C 4.71875 -2.675781 4.597656 -1.972656 4.359375 -1.359375 C 3.960938 -0.328125 3.289062 0.1875 2.34375 0.1875 C 1.707031 0.1875 1.222656 0.0195312 0.890625 -0.3125 C 0.566406 -0.644531 0.40625 -1.066406 0.40625 -1.578125 Z M 2.46875 -2.90625 C 2.789062 -2.90625 3.085938 -3.007812 3.359375 -3.21875 C 3.628906 -3.4375 3.765625 -3.8125 3.765625 -4.34375 C 3.765625 -4.820312 3.644531 -5.175781 3.40625 -5.40625 C 3.164062 -5.644531 2.859375 -5.765625 2.484375 -5.765625 C 2.085938 -5.765625 1.769531 -5.628906 1.53125 -5.359375 C 1.300781 -5.097656 1.1875 -4.742188 1.1875 -4.296875 C 1.1875 -3.867188 1.285156 -3.53125 1.484375 -3.28125 C 1.691406 -3.03125 2.019531 -2.90625 2.46875 -2.90625 Z \"/>\n",
       "</symbol>\n",
       "<symbol overflow=\"visible\" id=\"glyph0-7\">\n",
       "<path style=\"stroke:none;\" d=\"M 2.515625 -6.5 C 3.359375 -6.5 3.96875 -6.15625 4.34375 -5.46875 C 4.632812 -4.925781 4.78125 -4.191406 4.78125 -3.265625 C 4.78125 -2.378906 4.644531 -1.644531 4.375 -1.0625 C 4 -0.238281 3.378906 0.171875 2.515625 0.171875 C 1.734375 0.171875 1.148438 -0.164062 0.765625 -0.84375 C 0.453125 -1.40625 0.296875 -2.164062 0.296875 -3.125 C 0.296875 -3.851562 0.390625 -4.484375 0.578125 -5.015625 C 0.929688 -6.003906 1.578125 -6.5 2.515625 -6.5 Z M 2.5 -0.5625 C 2.925781 -0.5625 3.265625 -0.75 3.515625 -1.125 C 3.765625 -1.5 3.890625 -2.203125 3.890625 -3.234375 C 3.890625 -3.960938 3.796875 -4.566406 3.609375 -5.046875 C 3.429688 -5.523438 3.082031 -5.765625 2.5625 -5.765625 C 2.082031 -5.765625 1.726562 -5.535156 1.5 -5.078125 C 1.28125 -4.628906 1.171875 -3.96875 1.171875 -3.09375 C 1.171875 -2.425781 1.242188 -1.890625 1.390625 -1.484375 C 1.609375 -0.867188 1.976562 -0.5625 2.5 -0.5625 Z \"/>\n",
       "</symbol>\n",
       "<symbol overflow=\"visible\" id=\"glyph0-8\">\n",
       "<path style=\"stroke:none;\" d=\"M 3.515625 -6.84375 C 4.359375 -6.84375 5.015625 -6.617188 5.484375 -6.171875 C 5.953125 -5.734375 6.210938 -5.234375 6.265625 -4.671875 L 5.375 -4.671875 C 5.28125 -5.097656 5.082031 -5.4375 4.78125 -5.6875 C 4.476562 -5.9375 4.0625 -6.0625 3.53125 -6.0625 C 2.875 -6.0625 2.34375 -5.832031 1.9375 -5.375 C 1.53125 -4.914062 1.328125 -4.207031 1.328125 -3.25 C 1.328125 -2.46875 1.507812 -1.832031 1.875 -1.34375 C 2.238281 -0.863281 2.785156 -0.625 3.515625 -0.625 C 4.171875 -0.625 4.675781 -0.878906 5.03125 -1.390625 C 5.21875 -1.660156 5.351562 -2.015625 5.4375 -2.453125 L 6.328125 -2.453125 C 6.242188 -1.742188 5.984375 -1.15625 5.546875 -0.6875 C 5.015625 -0.113281 4.300781 0.171875 3.40625 0.171875 C 2.625 0.171875 1.972656 -0.0625 1.453125 -0.53125 C 0.753906 -1.15625 0.40625 -2.113281 0.40625 -3.40625 C 0.40625 -4.382812 0.664062 -5.191406 1.1875 -5.828125 C 1.75 -6.503906 2.523438 -6.84375 3.515625 -6.84375 Z M 3.34375 -6.84375 Z \"/>\n",
       "</symbol>\n",
       "<symbol overflow=\"visible\" id=\"glyph0-9\">\n",
       "<path style=\"stroke:none;\" d=\"M 5.5625 -6.671875 L 5.5625 -5.875 L 3.3125 -5.875 L 3.3125 0 L 2.390625 0 L 2.390625 -5.875 L 0.15625 -5.875 L 0.15625 -6.671875 Z \"/>\n",
       "</symbol>\n",
       "<symbol overflow=\"visible\" id=\"glyph1-0\">\n",
       "<path style=\"stroke:none;\" d=\"M 0.375 0 L 0.375 -8.25 L 6.921875 -8.25 L 6.921875 0 Z M 5.890625 -1.03125 L 5.890625 -7.21875 L 1.40625 -7.21875 L 1.40625 -1.03125 Z \"/>\n",
       "</symbol>\n",
       "<symbol overflow=\"visible\" id=\"glyph1-1\">\n",
       "<path style=\"stroke:none;\" d=\"M 0.171875 -6.015625 L 1.484375 -6.015625 L 2.859375 -3.890625 L 4.25 -6.015625 L 5.484375 -5.984375 L 3.453125 -3.078125 L 5.578125 0 L 4.28125 0 L 2.796875 -2.25 L 1.34375 0 L 0.0625 0 L 2.171875 -3.078125 Z \"/>\n",
       "</symbol>\n",
       "<symbol overflow=\"visible\" id=\"glyph1-2\">\n",
       "<path style=\"stroke:none;\" d=\"M 1 -6.921875 C 1.007812 -7.347656 1.082031 -7.65625 1.21875 -7.84375 C 1.445312 -8.1875 1.898438 -8.359375 2.578125 -8.359375 C 2.640625 -8.359375 2.703125 -8.359375 2.765625 -8.359375 C 2.835938 -8.359375 2.914062 -8.351562 3 -8.34375 L 3 -7.421875 C 2.894531 -7.429688 2.816406 -7.4375 2.765625 -7.4375 C 2.722656 -7.4375 2.679688 -7.4375 2.640625 -7.4375 C 2.335938 -7.4375 2.15625 -7.359375 2.09375 -7.203125 C 2.03125 -7.046875 2 -6.640625 2 -5.984375 L 3 -5.984375 L 3 -5.1875 L 2 -5.1875 L 2 0 L 1 0 L 1 -5.1875 L 0.15625 -5.1875 L 0.15625 -5.984375 L 1 -5.984375 Z \"/>\n",
       "</symbol>\n",
       "<symbol overflow=\"visible\" id=\"glyph2-0\">\n",
       "<path style=\"stroke:none;\" d=\"M 0 -0.375 L -8.25 -0.375 L -8.25 -6.921875 L 0 -6.921875 Z M -1.03125 -5.890625 L -7.21875 -5.890625 L -7.21875 -1.40625 L -1.03125 -1.40625 Z \"/>\n",
       "</symbol>\n",
       "<symbol overflow=\"visible\" id=\"glyph2-1\">\n",
       "<path style=\"stroke:none;\" d=\"M -6.015625 -4.5 L -6.015625 -5.609375 C -5.628906 -5.472656 -4.75 -5.160156 -3.375 -4.671875 C -2.34375 -4.296875 -1.5 -3.988281 -0.84375 -3.75 C 0.6875 -3.164062 1.617188 -2.753906 1.953125 -2.515625 C 2.296875 -2.273438 2.46875 -1.863281 2.46875 -1.28125 C 2.46875 -1.132812 2.460938 -1.019531 2.453125 -0.9375 C 2.441406 -0.863281 2.421875 -0.769531 2.390625 -0.65625 L 1.46875 -0.65625 C 1.507812 -0.832031 1.535156 -0.957031 1.546875 -1.03125 C 1.566406 -1.113281 1.578125 -1.1875 1.578125 -1.25 C 1.578125 -1.4375 1.546875 -1.570312 1.484375 -1.65625 C 1.421875 -1.75 1.34375 -1.828125 1.25 -1.890625 C 1.21875 -1.910156 1.0625 -1.976562 0.78125 -2.09375 C 0.507812 -2.207031 0.304688 -2.289062 0.171875 -2.34375 L -6.015625 -0.125 L -6.015625 -1.265625 L -1.125 -2.875 Z M -6.15625 -2.875 Z \"/>\n",
       "</symbol>\n",
       "</g>\n",
       "<clipPath id=\"clip1\">\n",
       "  <path d=\"M 35.578125 5.480469 L 283 5.480469 L 283 257 L 35.578125 257 Z \"/>\n",
       "</clipPath>\n",
       "<clipPath id=\"clip2\">\n",
       "  <path d=\"M 35.578125 244 L 283 244 L 283 246 L 35.578125 246 Z \"/>\n",
       "</clipPath>\n",
       "<clipPath id=\"clip3\">\n",
       "  <path d=\"M 35.578125 174 L 283 174 L 283 175 L 35.578125 175 Z \"/>\n",
       "</clipPath>\n",
       "<clipPath id=\"clip4\">\n",
       "  <path d=\"M 35.578125 104 L 283 104 L 283 105 L 35.578125 105 Z \"/>\n",
       "</clipPath>\n",
       "<clipPath id=\"clip5\">\n",
       "  <path d=\"M 35.578125 34 L 283 34 L 283 35 L 35.578125 35 Z \"/>\n",
       "</clipPath>\n",
       "<clipPath id=\"clip6\">\n",
       "  <path d=\"M 59 5.480469 L 61 5.480469 L 61 257 L 59 257 Z \"/>\n",
       "</clipPath>\n",
       "<clipPath id=\"clip7\">\n",
       "  <path d=\"M 102 5.480469 L 104 5.480469 L 104 257 L 102 257 Z \"/>\n",
       "</clipPath>\n",
       "<clipPath id=\"clip8\">\n",
       "  <path d=\"M 145 5.480469 L 147 5.480469 L 147 257 L 145 257 Z \"/>\n",
       "</clipPath>\n",
       "<clipPath id=\"clip9\">\n",
       "  <path d=\"M 189 5.480469 L 190 5.480469 L 190 257 L 189 257 Z \"/>\n",
       "</clipPath>\n",
       "<clipPath id=\"clip10\">\n",
       "  <path d=\"M 232 5.480469 L 233 5.480469 L 233 257 L 232 257 Z \"/>\n",
       "</clipPath>\n",
       "<clipPath id=\"clip11\">\n",
       "  <path d=\"M 275 5.480469 L 276 5.480469 L 276 257 L 275 257 Z \"/>\n",
       "</clipPath>\n",
       "<clipPath id=\"clip12\">\n",
       "  <path d=\"M 35.578125 208 L 283.519531 208 L 283.519531 211 L 35.578125 211 Z \"/>\n",
       "</clipPath>\n",
       "<clipPath id=\"clip13\">\n",
       "  <path d=\"M 35.578125 138 L 283.519531 138 L 283.519531 141 L 35.578125 141 Z \"/>\n",
       "</clipPath>\n",
       "<clipPath id=\"clip14\">\n",
       "  <path d=\"M 35.578125 68 L 283.519531 68 L 283.519531 71 L 35.578125 71 Z \"/>\n",
       "</clipPath>\n",
       "<clipPath id=\"clip15\">\n",
       "  <path d=\"M 37 5.480469 L 40 5.480469 L 40 257 L 37 257 Z \"/>\n",
       "</clipPath>\n",
       "<clipPath id=\"clip16\">\n",
       "  <path d=\"M 80 5.480469 L 83 5.480469 L 83 257 L 80 257 Z \"/>\n",
       "</clipPath>\n",
       "<clipPath id=\"clip17\">\n",
       "  <path d=\"M 124 5.480469 L 126 5.480469 L 126 257 L 124 257 Z \"/>\n",
       "</clipPath>\n",
       "<clipPath id=\"clip18\">\n",
       "  <path d=\"M 167 5.480469 L 169 5.480469 L 169 257 L 167 257 Z \"/>\n",
       "</clipPath>\n",
       "<clipPath id=\"clip19\">\n",
       "  <path d=\"M 210 5.480469 L 212 5.480469 L 212 257 L 210 257 Z \"/>\n",
       "</clipPath>\n",
       "<clipPath id=\"clip20\">\n",
       "  <path d=\"M 253 5.480469 L 255 5.480469 L 255 257 L 253 257 Z \"/>\n",
       "</clipPath>\n",
       "</defs>\n",
       "<g id=\"surface111\">\n",
       "<rect x=\"0\" y=\"0\" width=\"288\" height=\"288\" style=\"fill:rgb(100%,100%,100%);fill-opacity:1;stroke:none;\"/>\n",
       "<rect x=\"0\" y=\"0\" width=\"288\" height=\"288\" style=\"fill:rgb(100%,100%,100%);fill-opacity:1;stroke:none;\"/>\n",
       "<path style=\"fill:none;stroke-width:1.422638;stroke-linecap:round;stroke-linejoin:round;stroke:rgb(100%,100%,100%);stroke-opacity:1;stroke-miterlimit:10;\" d=\"M 0 0 L 288 0 L 288 288 L 0 288 Z \"/>\n",
       "<g clip-path=\"url(#clip1)\" clip-rule=\"nonzero\">\n",
       "<path style=\" stroke:none;fill-rule:nonzero;fill:rgb(92.156863%,92.156863%,92.156863%);fill-opacity:1;\" d=\"M 35.578125 5.480469 L 282.519531 5.480469 L 282.519531 256.09375 L 35.578125 256.09375 Z \"/>\n",
       "</g>\n",
       "<g clip-path=\"url(#clip2)\" clip-rule=\"nonzero\">\n",
       "<path style=\"fill:none;stroke-width:0.711319;stroke-linecap:butt;stroke-linejoin:round;stroke:rgb(100%,100%,100%);stroke-opacity:1;stroke-miterlimit:10;\" d=\"M 35.578125 244.699219 L 282.519531 244.699219 \"/>\n",
       "</g>\n",
       "<g clip-path=\"url(#clip3)\" clip-rule=\"nonzero\">\n",
       "<path style=\"fill:none;stroke-width:0.711319;stroke-linecap:butt;stroke-linejoin:round;stroke:rgb(100%,100%,100%);stroke-opacity:1;stroke-miterlimit:10;\" d=\"M 35.578125 174.597656 L 282.519531 174.597656 \"/>\n",
       "</g>\n",
       "<g clip-path=\"url(#clip4)\" clip-rule=\"nonzero\">\n",
       "<path style=\"fill:none;stroke-width:0.711319;stroke-linecap:butt;stroke-linejoin:round;stroke:rgb(100%,100%,100%);stroke-opacity:1;stroke-miterlimit:10;\" d=\"M 35.578125 104.496094 L 282.519531 104.496094 \"/>\n",
       "</g>\n",
       "<g clip-path=\"url(#clip5)\" clip-rule=\"nonzero\">\n",
       "<path style=\"fill:none;stroke-width:0.711319;stroke-linecap:butt;stroke-linejoin:round;stroke:rgb(100%,100%,100%);stroke-opacity:1;stroke-miterlimit:10;\" d=\"M 35.578125 34.394531 L 282.519531 34.394531 \"/>\n",
       "</g>\n",
       "<g clip-path=\"url(#clip6)\" clip-rule=\"nonzero\">\n",
       "<path style=\"fill:none;stroke-width:0.711319;stroke-linecap:butt;stroke-linejoin:round;stroke:rgb(100%,100%,100%);stroke-opacity:1;stroke-miterlimit:10;\" d=\"M 60.160156 256.09375 L 60.160156 5.480469 \"/>\n",
       "</g>\n",
       "<g clip-path=\"url(#clip7)\" clip-rule=\"nonzero\">\n",
       "<path style=\"fill:none;stroke-width:0.711319;stroke-linecap:butt;stroke-linejoin:round;stroke:rgb(100%,100%,100%);stroke-opacity:1;stroke-miterlimit:10;\" d=\"M 103.25 256.09375 L 103.25 5.480469 \"/>\n",
       "</g>\n",
       "<g clip-path=\"url(#clip8)\" clip-rule=\"nonzero\">\n",
       "<path style=\"fill:none;stroke-width:0.711319;stroke-linecap:butt;stroke-linejoin:round;stroke:rgb(100%,100%,100%);stroke-opacity:1;stroke-miterlimit:10;\" d=\"M 146.335938 256.09375 L 146.335938 5.480469 \"/>\n",
       "</g>\n",
       "<g clip-path=\"url(#clip9)\" clip-rule=\"nonzero\">\n",
       "<path style=\"fill:none;stroke-width:0.711319;stroke-linecap:butt;stroke-linejoin:round;stroke:rgb(100%,100%,100%);stroke-opacity:1;stroke-miterlimit:10;\" d=\"M 189.425781 256.09375 L 189.425781 5.480469 \"/>\n",
       "</g>\n",
       "<g clip-path=\"url(#clip10)\" clip-rule=\"nonzero\">\n",
       "<path style=\"fill:none;stroke-width:0.711319;stroke-linecap:butt;stroke-linejoin:round;stroke:rgb(100%,100%,100%);stroke-opacity:1;stroke-miterlimit:10;\" d=\"M 232.515625 256.09375 L 232.515625 5.480469 \"/>\n",
       "</g>\n",
       "<g clip-path=\"url(#clip11)\" clip-rule=\"nonzero\">\n",
       "<path style=\"fill:none;stroke-width:0.711319;stroke-linecap:butt;stroke-linejoin:round;stroke:rgb(100%,100%,100%);stroke-opacity:1;stroke-miterlimit:10;\" d=\"M 275.605469 256.09375 L 275.605469 5.480469 \"/>\n",
       "</g>\n",
       "<g clip-path=\"url(#clip12)\" clip-rule=\"nonzero\">\n",
       "<path style=\"fill:none;stroke-width:1.422638;stroke-linecap:butt;stroke-linejoin:round;stroke:rgb(100%,100%,100%);stroke-opacity:1;stroke-miterlimit:10;\" d=\"M 35.578125 209.648438 L 282.519531 209.648438 \"/>\n",
       "</g>\n",
       "<g clip-path=\"url(#clip13)\" clip-rule=\"nonzero\">\n",
       "<path style=\"fill:none;stroke-width:1.422638;stroke-linecap:butt;stroke-linejoin:round;stroke:rgb(100%,100%,100%);stroke-opacity:1;stroke-miterlimit:10;\" d=\"M 35.578125 139.546875 L 282.519531 139.546875 \"/>\n",
       "</g>\n",
       "<g clip-path=\"url(#clip14)\" clip-rule=\"nonzero\">\n",
       "<path style=\"fill:none;stroke-width:1.422638;stroke-linecap:butt;stroke-linejoin:round;stroke:rgb(100%,100%,100%);stroke-opacity:1;stroke-miterlimit:10;\" d=\"M 35.578125 69.445312 L 282.519531 69.445312 \"/>\n",
       "</g>\n",
       "<g clip-path=\"url(#clip15)\" clip-rule=\"nonzero\">\n",
       "<path style=\"fill:none;stroke-width:1.422638;stroke-linecap:butt;stroke-linejoin:round;stroke:rgb(100%,100%,100%);stroke-opacity:1;stroke-miterlimit:10;\" d=\"M 38.613281 256.09375 L 38.613281 5.480469 \"/>\n",
       "</g>\n",
       "<g clip-path=\"url(#clip16)\" clip-rule=\"nonzero\">\n",
       "<path style=\"fill:none;stroke-width:1.422638;stroke-linecap:butt;stroke-linejoin:round;stroke:rgb(100%,100%,100%);stroke-opacity:1;stroke-miterlimit:10;\" d=\"M 81.703125 256.09375 L 81.703125 5.480469 \"/>\n",
       "</g>\n",
       "<g clip-path=\"url(#clip17)\" clip-rule=\"nonzero\">\n",
       "<path style=\"fill:none;stroke-width:1.422638;stroke-linecap:butt;stroke-linejoin:round;stroke:rgb(100%,100%,100%);stroke-opacity:1;stroke-miterlimit:10;\" d=\"M 124.792969 256.09375 L 124.792969 5.480469 \"/>\n",
       "</g>\n",
       "<g clip-path=\"url(#clip18)\" clip-rule=\"nonzero\">\n",
       "<path style=\"fill:none;stroke-width:1.422638;stroke-linecap:butt;stroke-linejoin:round;stroke:rgb(100%,100%,100%);stroke-opacity:1;stroke-miterlimit:10;\" d=\"M 167.882812 256.09375 L 167.882812 5.480469 \"/>\n",
       "</g>\n",
       "<g clip-path=\"url(#clip19)\" clip-rule=\"nonzero\">\n",
       "<path style=\"fill:none;stroke-width:1.422638;stroke-linecap:butt;stroke-linejoin:round;stroke:rgb(100%,100%,100%);stroke-opacity:1;stroke-miterlimit:10;\" d=\"M 210.972656 256.09375 L 210.972656 5.480469 \"/>\n",
       "</g>\n",
       "<g clip-path=\"url(#clip20)\" clip-rule=\"nonzero\">\n",
       "<path style=\"fill:none;stroke-width:1.422638;stroke-linecap:butt;stroke-linejoin:round;stroke:rgb(100%,100%,100%);stroke-opacity:1;stroke-miterlimit:10;\" d=\"M 254.058594 256.09375 L 254.058594 5.480469 \"/>\n",
       "</g>\n",
       "<path style=\"fill:none;stroke-width:0.944882;stroke-linecap:round;stroke-linejoin:round;stroke:rgb(0%,0%,0%);stroke-opacity:1;stroke-miterlimit:10;\" d=\"M 97.515625 174.597656 C 97.515625 177.871094 92.605469 177.871094 92.605469 174.597656 C 92.605469 171.324219 97.515625 171.324219 97.515625 174.597656 \"/>\n",
       "<path style=\"fill:none;stroke-width:0.944882;stroke-linecap:round;stroke-linejoin:round;stroke:rgb(0%,0%,0%);stroke-opacity:1;stroke-miterlimit:10;\" d=\"M 146.207031 174.597656 C 146.207031 177.871094 141.296875 177.871094 141.296875 174.597656 C 141.296875 171.324219 146.207031 171.324219 146.207031 174.597656 \"/>\n",
       "<path style=\"fill:none;stroke-width:0.944882;stroke-linecap:round;stroke-linejoin:round;stroke:rgb(0%,0%,0%);stroke-opacity:1;stroke-miterlimit:10;\" d=\"M 148.792969 174.597656 C 148.792969 177.871094 143.882812 177.871094 143.882812 174.597656 C 143.882812 171.324219 148.792969 171.324219 148.792969 174.597656 \"/>\n",
       "<path style=\"fill:none;stroke-width:0.944882;stroke-linecap:round;stroke-linejoin:round;stroke:rgb(0%,0%,0%);stroke-opacity:1;stroke-miterlimit:10;\" d=\"M 130.265625 69.445312 C 130.265625 72.71875 125.355469 72.71875 125.355469 69.445312 C 125.355469 66.175781 130.265625 66.175781 130.265625 69.445312 \"/>\n",
       "<path style=\"fill:none;stroke-width:0.944882;stroke-linecap:round;stroke-linejoin:round;stroke:rgb(0%,0%,0%);stroke-opacity:1;stroke-miterlimit:10;\" d=\"M 177.230469 104.496094 C 177.230469 107.769531 172.320312 107.769531 172.320312 104.496094 C 172.320312 101.222656 177.230469 101.222656 177.230469 104.496094 \"/>\n",
       "<path style=\"fill:none;stroke-width:0.944882;stroke-linecap:round;stroke-linejoin:round;stroke:rgb(0%,0%,0%);stroke-opacity:1;stroke-miterlimit:10;\" d=\"M 97.949219 209.648438 C 97.949219 212.921875 93.039062 212.921875 93.039062 209.648438 C 93.039062 206.375 97.949219 206.375 97.949219 209.648438 \"/>\n",
       "<path style=\"fill:none;stroke-width:0.944882;stroke-linecap:round;stroke-linejoin:round;stroke:rgb(0%,0%,0%);stroke-opacity:1;stroke-miterlimit:10;\" d=\"M 196.621094 122.023438 C 196.621094 125.296875 191.710938 125.296875 191.710938 122.023438 C 191.710938 118.75 196.621094 118.75 196.621094 122.023438 \"/>\n",
       "<path style=\"fill:none;stroke-width:0.944882;stroke-linecap:round;stroke-linejoin:round;stroke:rgb(0%,0%,0%);stroke-opacity:1;stroke-miterlimit:10;\" d=\"M 172.921875 122.023438 C 172.921875 125.296875 168.011719 125.296875 168.011719 122.023438 C 168.011719 118.75 172.921875 118.75 172.921875 122.023438 \"/>\n",
       "<path style=\"fill:none;stroke-width:0.944882;stroke-linecap:round;stroke-linejoin:round;stroke:rgb(0%,0%,0%);stroke-opacity:1;stroke-miterlimit:10;\" d=\"M 167.320312 122.023438 C 167.320312 125.296875 162.410156 125.296875 162.410156 122.023438 C 162.410156 118.75 167.320312 118.75 167.320312 122.023438 \"/>\n",
       "<path style=\"fill:none;stroke-width:0.944882;stroke-linecap:round;stroke-linejoin:round;stroke:rgb(0%,0%,0%);stroke-opacity:1;stroke-miterlimit:10;\" d=\"M 188.867188 86.972656 C 188.867188 90.246094 183.957031 90.246094 183.957031 86.972656 C 183.957031 83.699219 188.867188 83.699219 188.867188 86.972656 \"/>\n",
       "<path style=\"fill:none;stroke-width:0.944882;stroke-linecap:round;stroke-linejoin:round;stroke:rgb(0%,0%,0%);stroke-opacity:1;stroke-miterlimit:10;\" d=\"M 185.847656 174.597656 C 185.847656 177.871094 180.9375 177.871094 180.9375 174.597656 C 180.9375 171.324219 185.847656 171.324219 185.847656 174.597656 \"/>\n",
       "<path style=\"fill:none;stroke-width:0.944882;stroke-linecap:round;stroke-linejoin:round;stroke:rgb(0%,0%,0%);stroke-opacity:1;stroke-miterlimit:10;\" d=\"M 176.800781 104.496094 C 176.800781 107.769531 171.890625 107.769531 171.890625 104.496094 C 171.890625 101.222656 176.800781 101.222656 176.800781 104.496094 \"/>\n",
       "<path style=\"fill:none;stroke-width:0.944882;stroke-linecap:round;stroke-linejoin:round;stroke:rgb(0%,0%,0%);stroke-opacity:1;stroke-miterlimit:10;\" d=\"M 209.980469 174.597656 C 209.980469 177.871094 205.070312 177.871094 205.070312 174.597656 C 205.070312 171.324219 209.980469 171.324219 209.980469 174.597656 \"/>\n",
       "<path style=\"fill:none;stroke-width:0.944882;stroke-linecap:round;stroke-linejoin:round;stroke:rgb(0%,0%,0%);stroke-opacity:1;stroke-miterlimit:10;\" d=\"M 120.785156 104.496094 C 120.785156 107.769531 115.875 107.769531 115.875 104.496094 C 115.875 101.222656 120.785156 101.222656 120.785156 104.496094 \"/>\n",
       "<path style=\"fill:none;stroke-width:0.944882;stroke-linecap:round;stroke-linejoin:round;stroke:rgb(0%,0%,0%);stroke-opacity:1;stroke-miterlimit:10;\" d=\"M 145.34375 86.972656 C 145.34375 90.246094 140.4375 90.246094 140.4375 86.972656 C 140.4375 83.699219 145.34375 83.699219 145.34375 86.972656 \"/>\n",
       "<path style=\"fill:none;stroke-width:0.944882;stroke-linecap:round;stroke-linejoin:round;stroke:rgb(0%,0%,0%);stroke-opacity:1;stroke-miterlimit:10;\" d=\"M 218.164062 139.546875 C 218.164062 142.820312 213.257812 142.820312 213.257812 139.546875 C 213.257812 136.273438 218.164062 136.273438 218.164062 139.546875 \"/>\n",
       "<path style=\"fill:none;stroke-width:0.944882;stroke-linecap:round;stroke-linejoin:round;stroke:rgb(0%,0%,0%);stroke-opacity:1;stroke-miterlimit:10;\" d=\"M 85.019531 227.175781 C 85.019531 230.449219 80.109375 230.449219 80.109375 227.175781 C 80.109375 223.902344 85.019531 223.902344 85.019531 227.175781 \"/>\n",
       "<path style=\"fill:none;stroke-width:0.944882;stroke-linecap:round;stroke-linejoin:round;stroke:rgb(0%,0%,0%);stroke-opacity:1;stroke-miterlimit:10;\" d=\"M 253.5 139.546875 C 253.5 142.820312 248.589844 142.820312 248.589844 139.546875 C 248.589844 136.273438 253.5 136.273438 253.5 139.546875 \"/>\n",
       "<path style=\"fill:none;stroke-width:0.944882;stroke-linecap:round;stroke-linejoin:round;stroke:rgb(0%,0%,0%);stroke-opacity:1;stroke-miterlimit:10;\" d=\"M 107.859375 192.125 C 107.859375 195.398438 102.949219 195.398438 102.949219 192.125 C 102.949219 188.851562 107.859375 188.851562 107.859375 192.125 \"/>\n",
       "<path style=\"fill:none;stroke-width:0.944882;stroke-linecap:round;stroke-linejoin:round;stroke:rgb(0%,0%,0%);stroke-opacity:1;stroke-miterlimit:10;\" d=\"M 49.257812 192.125 C 49.257812 195.398438 44.347656 195.398438 44.347656 192.125 C 44.347656 188.851562 49.257812 188.851562 49.257812 192.125 \"/>\n",
       "<path style=\"fill:none;stroke-width:0.944882;stroke-linecap:round;stroke-linejoin:round;stroke:rgb(0%,0%,0%);stroke-opacity:1;stroke-miterlimit:10;\" d=\"M 163.011719 209.648438 C 163.011719 212.921875 158.101562 212.921875 158.101562 209.648438 C 158.101562 206.375 163.011719 206.375 163.011719 209.648438 \"/>\n",
       "<path style=\"fill:none;stroke-width:0.944882;stroke-linecap:round;stroke-linejoin:round;stroke:rgb(0%,0%,0%);stroke-opacity:1;stroke-miterlimit:10;\" d=\"M 204.378906 86.972656 C 204.378906 90.246094 199.46875 90.246094 199.46875 86.972656 C 199.46875 83.699219 204.378906 83.699219 204.378906 86.972656 \"/>\n",
       "<path style=\"fill:none;stroke-width:0.944882;stroke-linecap:round;stroke-linejoin:round;stroke:rgb(0%,0%,0%);stroke-opacity:1;stroke-miterlimit:10;\" d=\"M 122.507812 192.125 C 122.507812 195.398438 117.597656 195.398438 117.597656 192.125 C 117.597656 188.851562 122.507812 188.851562 122.507812 192.125 \"/>\n",
       "<path style=\"fill:none;stroke-width:0.944882;stroke-linecap:round;stroke-linejoin:round;stroke:rgb(0%,0%,0%);stroke-opacity:1;stroke-miterlimit:10;\" d=\"M 174.214844 104.496094 C 174.214844 107.769531 169.304688 107.769531 169.304688 104.496094 C 169.304688 101.222656 174.214844 101.222656 174.214844 104.496094 \"/>\n",
       "<path style=\"fill:none;stroke-width:0.944882;stroke-linecap:round;stroke-linejoin:round;stroke:rgb(0%,0%,0%);stroke-opacity:1;stroke-miterlimit:10;\" d=\"M 240.570312 174.597656 C 240.570312 177.871094 235.664062 177.871094 235.664062 174.597656 C 235.664062 171.324219 240.570312 171.324219 240.570312 174.597656 \"/>\n",
       "<path style=\"fill:none;stroke-width:0.944882;stroke-linecap:round;stroke-linejoin:round;stroke:rgb(0%,0%,0%);stroke-opacity:1;stroke-miterlimit:10;\" d=\"M 179.386719 174.597656 C 179.386719 177.871094 174.476562 177.871094 174.476562 174.597656 C 174.476562 171.324219 179.386719 171.324219 179.386719 174.597656 \"/>\n",
       "<path style=\"fill:none;stroke-width:0.944882;stroke-linecap:round;stroke-linejoin:round;stroke:rgb(0%,0%,0%);stroke-opacity:1;stroke-miterlimit:10;\" d=\"M 146.636719 157.074219 C 146.636719 160.347656 141.726562 160.347656 141.726562 157.074219 C 141.726562 153.800781 146.636719 153.800781 146.636719 157.074219 \"/>\n",
       "<path style=\"fill:none;stroke-width:0.944882;stroke-linecap:round;stroke-linejoin:round;stroke:rgb(0%,0%,0%);stroke-opacity:1;stroke-miterlimit:10;\" d=\"M 189.296875 122.023438 C 189.296875 125.296875 184.386719 125.296875 184.386719 122.023438 C 184.386719 118.75 189.296875 118.75 189.296875 122.023438 \"/>\n",
       "<path style=\"fill:none;stroke-width:0.944882;stroke-linecap:round;stroke-linejoin:round;stroke:rgb(0%,0%,0%);stroke-opacity:1;stroke-miterlimit:10;\" d=\"M 146.207031 227.175781 C 146.207031 230.449219 141.296875 230.449219 141.296875 227.175781 C 141.296875 223.902344 146.207031 223.902344 146.207031 227.175781 \"/>\n",
       "<path style=\"fill:none;stroke-width:0.944882;stroke-linecap:round;stroke-linejoin:round;stroke:rgb(0%,0%,0%);stroke-opacity:1;stroke-miterlimit:10;\" d=\"M 191.019531 104.496094 C 191.019531 107.769531 186.109375 107.769531 186.109375 104.496094 C 186.109375 101.222656 191.019531 101.222656 191.019531 104.496094 \"/>\n",
       "<path style=\"fill:none;stroke-width:0.944882;stroke-linecap:round;stroke-linejoin:round;stroke:rgb(0%,0%,0%);stroke-opacity:1;stroke-miterlimit:10;\" d=\"M 145.777344 244.699219 C 145.777344 247.972656 140.867188 247.972656 140.867188 244.699219 C 140.867188 241.425781 145.777344 241.425781 145.777344 244.699219 \"/>\n",
       "<path style=\"fill:none;stroke-width:0.944882;stroke-linecap:round;stroke-linejoin:round;stroke:rgb(0%,0%,0%);stroke-opacity:1;stroke-miterlimit:10;\" d=\"M 184.125 122.023438 C 184.125 125.296875 179.214844 125.296875 179.214844 122.023438 C 179.214844 118.75 184.125 118.75 184.125 122.023438 \"/>\n",
       "<path style=\"fill:none;stroke-width:0.944882;stroke-linecap:round;stroke-linejoin:round;stroke:rgb(0%,0%,0%);stroke-opacity:1;stroke-miterlimit:10;\" d=\"M 184.554688 104.496094 C 184.554688 107.769531 179.648438 107.769531 179.648438 104.496094 C 179.648438 101.222656 184.554688 101.222656 184.554688 104.496094 \"/>\n",
       "<path style=\"fill:none;stroke-width:0.944882;stroke-linecap:round;stroke-linejoin:round;stroke:rgb(0%,0%,0%);stroke-opacity:1;stroke-miterlimit:10;\" d=\"M 105.703125 192.125 C 105.703125 195.398438 100.792969 195.398438 100.792969 192.125 C 100.792969 188.851562 105.703125 188.851562 105.703125 192.125 \"/>\n",
       "<path style=\"fill:none;stroke-width:0.944882;stroke-linecap:round;stroke-linejoin:round;stroke:rgb(0%,0%,0%);stroke-opacity:1;stroke-miterlimit:10;\" d=\"M 144.914062 86.972656 C 144.914062 90.246094 140.003906 90.246094 140.003906 86.972656 C 140.003906 83.699219 144.914062 83.699219 144.914062 86.972656 \"/>\n",
       "<path style=\"fill:none;stroke-width:0.944882;stroke-linecap:round;stroke-linejoin:round;stroke:rgb(0%,0%,0%);stroke-opacity:1;stroke-miterlimit:10;\" d=\"M 125.523438 104.496094 C 125.523438 107.769531 120.613281 107.769531 120.613281 104.496094 C 120.613281 101.222656 125.523438 101.222656 125.523438 104.496094 \"/>\n",
       "<path style=\"fill:none;stroke-width:0.944882;stroke-linecap:round;stroke-linejoin:round;stroke:rgb(0%,0%,0%);stroke-opacity:1;stroke-miterlimit:10;\" d=\"M 156.117188 209.648438 C 156.117188 212.921875 151.207031 212.921875 151.207031 209.648438 C 151.207031 206.375 156.117188 206.375 156.117188 209.648438 \"/>\n",
       "<path style=\"fill:none;stroke-width:0.944882;stroke-linecap:round;stroke-linejoin:round;stroke:rgb(0%,0%,0%);stroke-opacity:1;stroke-miterlimit:10;\" d=\"M 181.539062 139.546875 C 181.539062 142.820312 176.628906 142.820312 176.628906 139.546875 C 176.628906 136.273438 181.539062 136.273438 181.539062 139.546875 \"/>\n",
       "<path style=\"fill:none;stroke-width:0.944882;stroke-linecap:round;stroke-linejoin:round;stroke:rgb(0%,0%,0%);stroke-opacity:1;stroke-miterlimit:10;\" d=\"M 185.847656 122.023438 C 185.847656 125.296875 180.9375 125.296875 180.9375 122.023438 C 180.9375 118.75 185.847656 118.75 185.847656 122.023438 \"/>\n",
       "<path style=\"fill:none;stroke-width:0.944882;stroke-linecap:round;stroke-linejoin:round;stroke:rgb(0%,0%,0%);stroke-opacity:1;stroke-miterlimit:10;\" d=\"M 247.898438 69.445312 C 247.898438 72.71875 242.988281 72.71875 242.988281 69.445312 C 242.988281 66.175781 247.898438 66.175781 247.898438 69.445312 \"/>\n",
       "<path style=\"fill:none;stroke-width:0.944882;stroke-linecap:round;stroke-linejoin:round;stroke:rgb(0%,0%,0%);stroke-opacity:1;stroke-miterlimit:10;\" d=\"M 210.839844 139.546875 C 210.839844 142.820312 205.929688 142.820312 205.929688 139.546875 C 205.929688 136.273438 210.839844 136.273438 210.839844 139.546875 \"/>\n",
       "<path style=\"fill:none;stroke-width:0.944882;stroke-linecap:round;stroke-linejoin:round;stroke:rgb(0%,0%,0%);stroke-opacity:1;stroke-miterlimit:10;\" d=\"M 181.109375 122.023438 C 181.109375 125.296875 176.199219 125.296875 176.199219 122.023438 C 176.199219 118.75 181.109375 118.75 181.109375 122.023438 \"/>\n",
       "<path style=\"fill:none;stroke-width:0.944882;stroke-linecap:round;stroke-linejoin:round;stroke:rgb(0%,0%,0%);stroke-opacity:1;stroke-miterlimit:10;\" d=\"M 116.042969 139.546875 C 116.042969 142.820312 111.136719 142.820312 111.136719 139.546875 C 111.136719 136.273438 116.042969 136.273438 116.042969 139.546875 \"/>\n",
       "<path style=\"fill:none;stroke-width:0.944882;stroke-linecap:round;stroke-linejoin:round;stroke:rgb(0%,0%,0%);stroke-opacity:1;stroke-miterlimit:10;\" d=\"M 190.15625 174.597656 C 190.15625 177.871094 185.25 177.871094 185.25 174.597656 C 185.25 171.324219 190.15625 171.324219 190.15625 174.597656 \"/>\n",
       "<path style=\"fill:none;stroke-width:0.944882;stroke-linecap:round;stroke-linejoin:round;stroke:rgb(0%,0%,0%);stroke-opacity:1;stroke-miterlimit:10;\" d=\"M 143.191406 174.597656 C 143.191406 177.871094 138.28125 177.871094 138.28125 174.597656 C 138.28125 171.324219 143.191406 171.324219 143.191406 174.597656 \"/>\n",
       "<path style=\"fill:none;stroke-width:0.944882;stroke-linecap:round;stroke-linejoin:round;stroke:rgb(0%,0%,0%);stroke-opacity:1;stroke-miterlimit:10;\" d=\"M 159.132812 104.496094 C 159.132812 107.769531 154.222656 107.769531 154.222656 104.496094 C 154.222656 101.222656 159.132812 101.222656 159.132812 104.496094 \"/>\n",
       "<path style=\"fill:none;stroke-width:0.944882;stroke-linecap:round;stroke-linejoin:round;stroke:rgb(0%,0%,0%);stroke-opacity:1;stroke-miterlimit:10;\" d=\"M 125.09375 104.496094 C 125.09375 107.769531 120.183594 107.769531 120.183594 104.496094 C 120.183594 101.222656 125.09375 101.222656 125.09375 104.496094 \"/>\n",
       "<path style=\"fill:none;stroke-width:0.944882;stroke-linecap:round;stroke-linejoin:round;stroke:rgb(0%,0%,0%);stroke-opacity:1;stroke-miterlimit:10;\" d=\"M 116.042969 122.023438 C 116.042969 125.296875 111.136719 125.296875 111.136719 122.023438 C 111.136719 118.75 116.042969 118.75 116.042969 122.023438 \"/>\n",
       "<path style=\"fill:none;stroke-width:0.944882;stroke-linecap:round;stroke-linejoin:round;stroke:rgb(0%,0%,0%);stroke-opacity:1;stroke-miterlimit:10;\" d=\"M 227.214844 69.445312 C 227.214844 72.71875 222.304688 72.71875 222.304688 69.445312 C 222.304688 66.175781 227.214844 66.175781 227.214844 69.445312 \"/>\n",
       "<path style=\"fill:none;stroke-width:0.944882;stroke-linecap:round;stroke-linejoin:round;stroke:rgb(0%,0%,0%);stroke-opacity:1;stroke-miterlimit:10;\" d=\"M 138.019531 174.597656 C 138.019531 177.871094 133.109375 177.871094 133.109375 174.597656 C 133.109375 171.324219 138.019531 171.324219 138.019531 174.597656 \"/>\n",
       "<path style=\"fill-rule:nonzero;fill:rgb(0%,0%,0%);fill-opacity:1;stroke-width:0.944882;stroke-linecap:round;stroke-linejoin:round;stroke:rgb(0%,0%,0%);stroke-opacity:1;stroke-miterlimit:10;\" d=\"M 176.371094 34.394531 C 176.371094 37.667969 171.460938 37.667969 171.460938 34.394531 C 171.460938 31.125 176.371094 31.125 176.371094 34.394531 \"/>\n",
       "<path style=\"fill-rule:nonzero;fill:rgb(0%,0%,0%);fill-opacity:1;stroke-width:0.944882;stroke-linecap:round;stroke-linejoin:round;stroke:rgb(0%,0%,0%);stroke-opacity:1;stroke-miterlimit:10;\" d=\"M 129.402344 174.597656 C 129.402344 177.871094 124.492188 177.871094 124.492188 174.597656 C 124.492188 171.324219 129.402344 171.324219 129.402344 174.597656 \"/>\n",
       "<path style=\"fill-rule:nonzero;fill:rgb(0%,0%,0%);fill-opacity:1;stroke-width:0.944882;stroke-linecap:round;stroke-linejoin:round;stroke:rgb(0%,0%,0%);stroke-opacity:1;stroke-miterlimit:10;\" d=\"M 165.597656 157.074219 C 165.597656 160.347656 160.6875 160.347656 160.6875 157.074219 C 160.6875 153.800781 165.597656 153.800781 165.597656 157.074219 \"/>\n",
       "<path style=\"fill-rule:nonzero;fill:rgb(0%,0%,0%);fill-opacity:1;stroke-width:0.944882;stroke-linecap:round;stroke-linejoin:round;stroke:rgb(0%,0%,0%);stroke-opacity:1;stroke-miterlimit:10;\" d=\"M 116.90625 122.023438 C 116.90625 125.296875 111.996094 125.296875 111.996094 122.023438 C 111.996094 118.75 116.90625 118.75 116.90625 122.023438 \"/>\n",
       "<path style=\"fill-rule:nonzero;fill:rgb(0%,0%,0%);fill-opacity:1;stroke-width:0.944882;stroke-linecap:round;stroke-linejoin:round;stroke:rgb(0%,0%,0%);stroke-opacity:1;stroke-miterlimit:10;\" d=\"M 258.238281 174.597656 C 258.238281 177.871094 253.328125 177.871094 253.328125 174.597656 C 253.328125 171.324219 258.238281 171.324219 258.238281 174.597656 \"/>\n",
       "<path style=\"fill-rule:nonzero;fill:rgb(0%,0%,0%);fill-opacity:1;stroke-width:0.944882;stroke-linecap:round;stroke-linejoin:round;stroke:rgb(0%,0%,0%);stroke-opacity:1;stroke-miterlimit:10;\" d=\"M 166.457031 157.074219 C 166.457031 160.347656 161.550781 160.347656 161.550781 157.074219 C 161.550781 153.800781 166.457031 153.800781 166.457031 157.074219 \"/>\n",
       "<path style=\"fill-rule:nonzero;fill:rgb(0%,0%,0%);fill-opacity:1;stroke-width:0.944882;stroke-linecap:round;stroke-linejoin:round;stroke:rgb(0%,0%,0%);stroke-opacity:1;stroke-miterlimit:10;\" d=\"M 163.441406 122.023438 C 163.441406 125.296875 158.53125 125.296875 158.53125 122.023438 C 158.53125 118.75 163.441406 118.75 163.441406 122.023438 \"/>\n",
       "<path style=\"fill-rule:nonzero;fill:rgb(0%,0%,0%);fill-opacity:1;stroke-width:0.944882;stroke-linecap:round;stroke-linejoin:round;stroke:rgb(0%,0%,0%);stroke-opacity:1;stroke-miterlimit:10;\" d=\"M 250.914062 51.921875 C 250.914062 55.195312 246.003906 55.195312 246.003906 51.921875 C 246.003906 48.648438 250.914062 48.648438 250.914062 51.921875 \"/>\n",
       "<path style=\"fill-rule:nonzero;fill:rgb(0%,0%,0%);fill-opacity:1;stroke-width:0.944882;stroke-linecap:round;stroke-linejoin:round;stroke:rgb(0%,0%,0%);stroke-opacity:1;stroke-miterlimit:10;\" d=\"M 177.230469 122.023438 C 177.230469 125.296875 172.320312 125.296875 172.320312 122.023438 C 172.320312 118.75 177.230469 118.75 177.230469 122.023438 \"/>\n",
       "<path style=\"fill-rule:nonzero;fill:rgb(0%,0%,0%);fill-opacity:1;stroke-width:0.944882;stroke-linecap:round;stroke-linejoin:round;stroke:rgb(0%,0%,0%);stroke-opacity:1;stroke-miterlimit:10;\" d=\"M 141.898438 51.921875 C 141.898438 55.195312 136.988281 55.195312 136.988281 51.921875 C 136.988281 48.648438 141.898438 48.648438 141.898438 51.921875 \"/>\n",
       "<path style=\"fill-rule:nonzero;fill:rgb(0%,0%,0%);fill-opacity:1;stroke-width:0.944882;stroke-linecap:round;stroke-linejoin:round;stroke:rgb(0%,0%,0%);stroke-opacity:1;stroke-miterlimit:10;\" d=\"M 177.660156 157.074219 C 177.660156 160.347656 172.753906 160.347656 172.753906 157.074219 C 172.753906 153.800781 177.660156 153.800781 177.660156 157.074219 \"/>\n",
       "<path style=\"fill-rule:nonzero;fill:rgb(0%,0%,0%);fill-opacity:1;stroke-width:0.944882;stroke-linecap:round;stroke-linejoin:round;stroke:rgb(0%,0%,0%);stroke-opacity:1;stroke-miterlimit:10;\" d=\"M 212.996094 139.546875 C 212.996094 142.820312 208.085938 142.820312 208.085938 139.546875 C 208.085938 136.273438 212.996094 136.273438 212.996094 139.546875 \"/>\n",
       "<path style=\"fill-rule:nonzero;fill:rgb(0%,0%,0%);fill-opacity:1;stroke-width:0.944882;stroke-linecap:round;stroke-linejoin:round;stroke:rgb(0%,0%,0%);stroke-opacity:1;stroke-miterlimit:10;\" d=\"M 135.433594 104.496094 C 135.433594 107.769531 130.523438 107.769531 130.523438 104.496094 C 130.523438 101.222656 135.433594 101.222656 135.433594 104.496094 \"/>\n",
       "<path style=\"fill-rule:nonzero;fill:rgb(0%,0%,0%);fill-opacity:1;stroke-width:0.944882;stroke-linecap:round;stroke-linejoin:round;stroke:rgb(0%,0%,0%);stroke-opacity:1;stroke-miterlimit:10;\" d=\"M 199.207031 157.074219 C 199.207031 160.347656 194.296875 160.347656 194.296875 157.074219 C 194.296875 153.800781 199.207031 153.800781 199.207031 157.074219 \"/>\n",
       "<path style=\"fill-rule:nonzero;fill:rgb(0%,0%,0%);fill-opacity:1;stroke-width:0.944882;stroke-linecap:round;stroke-linejoin:round;stroke:rgb(0%,0%,0%);stroke-opacity:1;stroke-miterlimit:10;\" d=\"M 211.703125 69.445312 C 211.703125 72.71875 206.792969 72.71875 206.792969 69.445312 C 206.792969 66.175781 211.703125 66.175781 211.703125 69.445312 \"/>\n",
       "<path style=\"fill-rule:nonzero;fill:rgb(0%,0%,0%);fill-opacity:1;stroke-width:0.944882;stroke-linecap:round;stroke-linejoin:round;stroke:rgb(0%,0%,0%);stroke-opacity:1;stroke-miterlimit:10;\" d=\"M 194.035156 174.597656 C 194.035156 177.871094 189.125 177.871094 189.125 174.597656 C 189.125 171.324219 194.035156 171.324219 194.035156 174.597656 \"/>\n",
       "<path style=\"fill-rule:nonzero;fill:rgb(0%,0%,0%);fill-opacity:1;stroke-width:0.944882;stroke-linecap:round;stroke-linejoin:round;stroke:rgb(0%,0%,0%);stroke-opacity:1;stroke-miterlimit:10;\" d=\"M 156.980469 16.871094 C 156.980469 20.144531 152.070312 20.144531 152.070312 16.871094 C 152.070312 13.597656 156.980469 13.597656 156.980469 16.871094 \"/>\n",
       "<path style=\"fill-rule:nonzero;fill:rgb(0%,0%,0%);fill-opacity:1;stroke-width:0.944882;stroke-linecap:round;stroke-linejoin:round;stroke:rgb(0%,0%,0%);stroke-opacity:1;stroke-miterlimit:10;\" d=\"M 209.546875 227.175781 C 209.546875 230.449219 204.636719 230.449219 204.636719 227.175781 C 204.636719 223.902344 209.546875 223.902344 209.546875 227.175781 \"/>\n",
       "<path style=\"fill-rule:nonzero;fill:rgb(0%,0%,0%);fill-opacity:1;stroke-width:0.944882;stroke-linecap:round;stroke-linejoin:round;stroke:rgb(0%,0%,0%);stroke-opacity:1;stroke-miterlimit:10;\" d=\"M 153.101562 209.648438 C 153.101562 212.921875 148.191406 212.921875 148.191406 209.648438 C 148.191406 206.375 153.101562 206.375 153.101562 209.648438 \"/>\n",
       "<path style=\"fill-rule:nonzero;fill:rgb(0%,0%,0%);fill-opacity:1;stroke-width:0.944882;stroke-linecap:round;stroke-linejoin:round;stroke:rgb(0%,0%,0%);stroke-opacity:1;stroke-miterlimit:10;\" d=\"M 272.457031 174.597656 C 272.457031 177.871094 267.546875 177.871094 267.546875 174.597656 C 267.546875 171.324219 272.457031 171.324219 272.457031 174.597656 \"/>\n",
       "<path style=\"fill-rule:nonzero;fill:rgb(0%,0%,0%);fill-opacity:1;stroke-width:0.944882;stroke-linecap:round;stroke-linejoin:round;stroke:rgb(0%,0%,0%);stroke-opacity:1;stroke-miterlimit:10;\" d=\"M 193.605469 104.496094 C 193.605469 107.769531 188.695312 107.769531 188.695312 104.496094 C 188.695312 101.222656 193.605469 101.222656 193.605469 104.496094 \"/>\n",
       "<path style=\"fill-rule:nonzero;fill:rgb(0%,0%,0%);fill-opacity:1;stroke-width:0.944882;stroke-linecap:round;stroke-linejoin:round;stroke:rgb(0%,0%,0%);stroke-opacity:1;stroke-miterlimit:10;\" d=\"M 226.351562 139.546875 C 226.351562 142.820312 221.441406 142.820312 221.441406 139.546875 C 221.441406 136.273438 226.351562 136.273438 226.351562 139.546875 \"/>\n",
       "<path style=\"fill-rule:nonzero;fill:rgb(0%,0%,0%);fill-opacity:1;stroke-width:0.944882;stroke-linecap:round;stroke-linejoin:round;stroke:rgb(0%,0%,0%);stroke-opacity:1;stroke-miterlimit:10;\" d=\"M 273.75 139.546875 C 273.75 142.820312 268.839844 142.820312 268.839844 139.546875 C 268.839844 136.273438 273.75 136.273438 273.75 139.546875 \"/>\n",
       "<path style=\"fill-rule:nonzero;fill:rgb(0%,0%,0%);fill-opacity:1;stroke-width:0.944882;stroke-linecap:round;stroke-linejoin:round;stroke:rgb(0%,0%,0%);stroke-opacity:1;stroke-miterlimit:10;\" d=\"M 178.09375 157.074219 C 178.09375 160.347656 173.183594 160.347656 173.183594 157.074219 C 173.183594 153.800781 178.09375 153.800781 178.09375 157.074219 \"/>\n",
       "<path style=\"fill-rule:nonzero;fill:rgb(0%,0%,0%);fill-opacity:1;stroke-width:0.944882;stroke-linecap:round;stroke-linejoin:round;stroke:rgb(0%,0%,0%);stroke-opacity:1;stroke-miterlimit:10;\" d=\"M 150.085938 192.125 C 150.085938 195.398438 145.175781 195.398438 145.175781 192.125 C 145.175781 188.851562 150.085938 188.851562 150.085938 192.125 \"/>\n",
       "<path style=\"fill-rule:nonzero;fill:rgb(0%,0%,0%);fill-opacity:1;stroke-width:0.944882;stroke-linecap:round;stroke-linejoin:round;stroke:rgb(0%,0%,0%);stroke-opacity:1;stroke-miterlimit:10;\" d=\"M 180.679688 174.597656 C 180.679688 177.871094 175.769531 177.871094 175.769531 174.597656 C 175.769531 171.324219 180.679688 171.324219 180.679688 174.597656 \"/>\n",
       "<path style=\"fill-rule:nonzero;fill:rgb(0%,0%,0%);fill-opacity:1;stroke-width:0.944882;stroke-linecap:round;stroke-linejoin:round;stroke:rgb(0%,0%,0%);stroke-opacity:1;stroke-miterlimit:10;\" d=\"M 246.171875 139.546875 C 246.171875 142.820312 241.265625 142.820312 241.265625 139.546875 C 241.265625 136.273438 246.171875 136.273438 246.171875 139.546875 \"/>\n",
       "<path style=\"fill-rule:nonzero;fill:rgb(0%,0%,0%);fill-opacity:1;stroke-width:0.944882;stroke-linecap:round;stroke-linejoin:round;stroke:rgb(0%,0%,0%);stroke-opacity:1;stroke-miterlimit:10;\" d=\"M 149.652344 122.023438 C 149.652344 125.296875 144.746094 125.296875 144.746094 122.023438 C 144.746094 118.75 149.652344 118.75 149.652344 122.023438 \"/>\n",
       "<path style=\"fill-rule:nonzero;fill:rgb(0%,0%,0%);fill-opacity:1;stroke-width:0.944882;stroke-linecap:round;stroke-linejoin:round;stroke:rgb(0%,0%,0%);stroke-opacity:1;stroke-miterlimit:10;\" d=\"M 187.574219 122.023438 C 187.574219 125.296875 182.664062 125.296875 182.664062 122.023438 C 182.664062 118.75 187.574219 118.75 187.574219 122.023438 \"/>\n",
       "<path style=\"fill-rule:nonzero;fill:rgb(0%,0%,0%);fill-opacity:1;stroke-width:0.944882;stroke-linecap:round;stroke-linejoin:round;stroke:rgb(0%,0%,0%);stroke-opacity:1;stroke-miterlimit:10;\" d=\"M 168.613281 174.597656 C 168.613281 177.871094 163.703125 177.871094 163.703125 174.597656 C 163.703125 171.324219 168.613281 171.324219 168.613281 174.597656 \"/>\n",
       "<path style=\"fill-rule:nonzero;fill:rgb(0%,0%,0%);fill-opacity:1;stroke-width:0.944882;stroke-linecap:round;stroke-linejoin:round;stroke:rgb(0%,0%,0%);stroke-opacity:1;stroke-miterlimit:10;\" d=\"M 183.265625 157.074219 C 183.265625 160.347656 178.355469 160.347656 178.355469 157.074219 C 178.355469 153.800781 183.265625 153.800781 183.265625 157.074219 \"/>\n",
       "<path style=\"fill-rule:nonzero;fill:rgb(0%,0%,0%);fill-opacity:1;stroke-width:0.944882;stroke-linecap:round;stroke-linejoin:round;stroke:rgb(0%,0%,0%);stroke-opacity:1;stroke-miterlimit:10;\" d=\"M 236.695312 104.496094 C 236.695312 107.769531 231.785156 107.769531 231.785156 104.496094 C 231.785156 101.222656 236.695312 101.222656 236.695312 104.496094 \"/>\n",
       "<path style=\"fill-rule:nonzero;fill:rgb(0%,0%,0%);fill-opacity:1;stroke-width:0.944882;stroke-linecap:round;stroke-linejoin:round;stroke:rgb(0%,0%,0%);stroke-opacity:1;stroke-miterlimit:10;\" d=\"M 145.34375 174.597656 C 145.34375 177.871094 140.4375 177.871094 140.4375 174.597656 C 140.4375 171.324219 145.34375 171.324219 145.34375 174.597656 \"/>\n",
       "<path style=\"fill-rule:nonzero;fill:rgb(0%,0%,0%);fill-opacity:1;stroke-width:0.944882;stroke-linecap:round;stroke-linejoin:round;stroke:rgb(0%,0%,0%);stroke-opacity:1;stroke-miterlimit:10;\" d=\"M 225.492188 86.972656 C 225.492188 90.246094 220.582031 90.246094 220.582031 86.972656 C 220.582031 83.699219 225.492188 83.699219 225.492188 86.972656 \"/>\n",
       "<path style=\"fill-rule:nonzero;fill:rgb(0%,0%,0%);fill-opacity:1;stroke-width:0.944882;stroke-linecap:round;stroke-linejoin:round;stroke:rgb(0%,0%,0%);stroke-opacity:1;stroke-miterlimit:10;\" d=\"M 158.703125 86.972656 C 158.703125 90.246094 153.792969 90.246094 153.792969 86.972656 C 153.792969 83.699219 158.703125 83.699219 158.703125 86.972656 \"/>\n",
       "<path style=\"fill-rule:nonzero;fill:rgb(0%,0%,0%);fill-opacity:1;stroke-width:0.944882;stroke-linecap:round;stroke-linejoin:round;stroke:rgb(0%,0%,0%);stroke-opacity:1;stroke-miterlimit:10;\" d=\"M 203.945312 86.972656 C 203.945312 90.246094 199.035156 90.246094 199.035156 86.972656 C 199.035156 83.699219 203.945312 83.699219 203.945312 86.972656 \"/>\n",
       "<path style=\"fill-rule:nonzero;fill:rgb(0%,0%,0%);fill-opacity:1;stroke-width:0.944882;stroke-linecap:round;stroke-linejoin:round;stroke:rgb(0%,0%,0%);stroke-opacity:1;stroke-miterlimit:10;\" d=\"M 179.386719 192.125 C 179.386719 195.398438 174.476562 195.398438 174.476562 192.125 C 174.476562 188.851562 179.386719 188.851562 179.386719 192.125 \"/>\n",
       "<path style=\"fill-rule:nonzero;fill:rgb(0%,0%,0%);fill-opacity:1;stroke-width:0.944882;stroke-linecap:round;stroke-linejoin:round;stroke:rgb(0%,0%,0%);stroke-opacity:1;stroke-miterlimit:10;\" d=\"M 192.3125 174.597656 C 192.3125 177.871094 187.402344 177.871094 187.402344 174.597656 C 187.402344 171.324219 192.3125 171.324219 192.3125 174.597656 \"/>\n",
       "<path style=\"fill-rule:nonzero;fill:rgb(0%,0%,0%);fill-opacity:1;stroke-width:0.944882;stroke-linecap:round;stroke-linejoin:round;stroke:rgb(0%,0%,0%);stroke-opacity:1;stroke-miterlimit:10;\" d=\"M 201.792969 209.648438 C 201.792969 212.921875 196.882812 212.921875 196.882812 209.648438 C 196.882812 206.375 201.792969 206.375 201.792969 209.648438 \"/>\n",
       "<path style=\"fill-rule:nonzero;fill:rgb(0%,0%,0%);fill-opacity:1;stroke-width:0.944882;stroke-linecap:round;stroke-linejoin:round;stroke:rgb(0%,0%,0%);stroke-opacity:1;stroke-miterlimit:10;\" d=\"M 120.785156 192.125 C 120.785156 195.398438 115.875 195.398438 115.875 192.125 C 115.875 188.851562 120.785156 188.851562 120.785156 192.125 \"/>\n",
       "<path style=\"fill-rule:nonzero;fill:rgb(0%,0%,0%);fill-opacity:1;stroke-width:0.944882;stroke-linecap:round;stroke-linejoin:round;stroke:rgb(0%,0%,0%);stroke-opacity:1;stroke-miterlimit:10;\" d=\"M 222.042969 174.597656 C 222.042969 177.871094 217.132812 177.871094 217.132812 174.597656 C 217.132812 171.324219 222.042969 171.324219 222.042969 174.597656 \"/>\n",
       "<path style=\"fill-rule:nonzero;fill:rgb(0%,0%,0%);fill-opacity:1;stroke-width:0.944882;stroke-linecap:round;stroke-linejoin:round;stroke:rgb(0%,0%,0%);stroke-opacity:1;stroke-miterlimit:10;\" d=\"M 164.304688 192.125 C 164.304688 195.398438 159.394531 195.398438 159.394531 192.125 C 159.394531 188.851562 164.304688 188.851562 164.304688 192.125 \"/>\n",
       "<path style=\"fill-rule:nonzero;fill:rgb(0%,0%,0%);fill-opacity:1;stroke-width:0.944882;stroke-linecap:round;stroke-linejoin:round;stroke:rgb(0%,0%,0%);stroke-opacity:1;stroke-miterlimit:10;\" d=\"M 236.695312 139.546875 C 236.695312 142.820312 231.785156 142.820312 231.785156 139.546875 C 231.785156 136.273438 236.695312 136.273438 236.695312 139.546875 \"/>\n",
       "<path style=\"fill-rule:nonzero;fill:rgb(0%,0%,0%);fill-opacity:1;stroke-width:0.944882;stroke-linecap:round;stroke-linejoin:round;stroke:rgb(0%,0%,0%);stroke-opacity:1;stroke-miterlimit:10;\" d=\"M 171.628906 192.125 C 171.628906 195.398438 166.71875 195.398438 166.71875 192.125 C 166.71875 188.851562 171.628906 188.851562 171.628906 192.125 \"/>\n",
       "<path style=\"fill-rule:nonzero;fill:rgb(0%,0%,0%);fill-opacity:1;stroke-width:0.944882;stroke-linecap:round;stroke-linejoin:round;stroke:rgb(0%,0%,0%);stroke-opacity:1;stroke-miterlimit:10;\" d=\"M 251.34375 122.023438 C 251.34375 125.296875 246.433594 125.296875 246.433594 122.023438 C 246.433594 118.75 251.34375 118.75 251.34375 122.023438 \"/>\n",
       "<path style=\"fill-rule:nonzero;fill:rgb(0%,0%,0%);fill-opacity:1;stroke-width:0.944882;stroke-linecap:round;stroke-linejoin:round;stroke:rgb(0%,0%,0%);stroke-opacity:1;stroke-miterlimit:10;\" d=\"M 133.710938 139.546875 C 133.710938 142.820312 128.800781 142.820312 128.800781 139.546875 C 128.800781 136.273438 133.710938 136.273438 133.710938 139.546875 \"/>\n",
       "<path style=\"fill-rule:nonzero;fill:rgb(0%,0%,0%);fill-opacity:1;stroke-width:0.944882;stroke-linecap:round;stroke-linejoin:round;stroke:rgb(0%,0%,0%);stroke-opacity:1;stroke-miterlimit:10;\" d=\"M 106.566406 174.597656 C 106.566406 177.871094 101.65625 177.871094 101.65625 174.597656 C 101.65625 171.324219 106.566406 171.324219 106.566406 174.597656 \"/>\n",
       "<path style=\"fill-rule:nonzero;fill:rgb(0%,0%,0%);fill-opacity:1;stroke-width:0.944882;stroke-linecap:round;stroke-linejoin:round;stroke:rgb(0%,0%,0%);stroke-opacity:1;stroke-miterlimit:10;\" d=\"M 180.679688 139.546875 C 180.679688 142.820312 175.769531 142.820312 175.769531 139.546875 C 175.769531 136.273438 180.679688 136.273438 180.679688 139.546875 \"/>\n",
       "<path style=\"fill-rule:nonzero;fill:rgb(0%,0%,0%);fill-opacity:1;stroke-width:0.944882;stroke-linecap:round;stroke-linejoin:round;stroke:rgb(0%,0%,0%);stroke-opacity:1;stroke-miterlimit:10;\" d=\"M 207.394531 157.074219 C 207.394531 160.347656 202.484375 160.347656 202.484375 157.074219 C 202.484375 153.800781 207.394531 153.800781 207.394531 157.074219 \"/>\n",
       "<path style=\"fill-rule:nonzero;fill:rgb(0%,0%,0%);fill-opacity:1;stroke-width:0.944882;stroke-linecap:round;stroke-linejoin:round;stroke:rgb(0%,0%,0%);stroke-opacity:1;stroke-miterlimit:10;\" d=\"M 169.042969 122.023438 C 169.042969 125.296875 164.132812 125.296875 164.132812 122.023438 C 164.132812 118.75 169.042969 118.75 169.042969 122.023438 \"/>\n",
       "<path style=\"fill:none;stroke-width:1.422638;stroke-linecap:butt;stroke-linejoin:round;stroke:rgb(0%,0%,0%);stroke-opacity:1;stroke-miterlimit:10;\" d=\"M 46.800781 169.871094 L 49.070312 169.433594 L 51.335938 168.992188 L 53.605469 168.550781 L 55.871094 168.109375 L 58.140625 167.664062 L 60.40625 167.214844 L 62.675781 166.765625 L 64.941406 166.316406 L 67.210938 165.863281 L 69.476562 165.410156 L 71.746094 164.953125 L 74.011719 164.496094 L 76.28125 164.035156 L 78.546875 163.574219 L 80.816406 163.109375 L 83.082031 162.644531 L 85.351562 162.175781 L 87.617188 161.707031 L 89.886719 161.238281 L 92.152344 160.765625 L 96.691406 159.8125 L 98.957031 159.335938 L 101.226562 158.855469 L 103.492188 158.371094 L 105.761719 157.886719 L 108.027344 157.402344 L 110.296875 156.914062 L 112.5625 156.421875 L 114.832031 155.929688 L 117.097656 155.4375 L 119.367188 154.941406 L 121.632812 154.441406 L 123.902344 153.941406 L 126.167969 153.441406 L 128.4375 152.9375 L 130.703125 152.429688 L 132.972656 151.921875 L 135.238281 151.414062 L 137.507812 150.902344 L 139.773438 150.386719 L 142.042969 149.871094 L 144.308594 149.351562 L 146.578125 148.832031 L 148.84375 148.308594 L 151.113281 147.785156 L 153.378906 147.257812 L 155.648438 146.730469 L 157.914062 146.199219 L 160.183594 145.667969 L 162.449219 145.132812 L 164.71875 144.59375 L 166.984375 144.054688 L 169.253906 143.515625 L 171.519531 142.96875 L 173.789062 142.425781 L 176.054688 141.878906 L 178.324219 141.328125 L 180.589844 140.773438 L 182.859375 140.21875 L 185.125 139.664062 L 187.394531 139.105469 L 189.660156 138.542969 L 191.929688 137.980469 L 194.195312 137.414062 L 196.464844 136.847656 L 198.730469 136.277344 L 201 135.703125 L 203.265625 135.128906 L 205.535156 134.550781 L 207.800781 133.972656 L 210.070312 133.390625 L 212.335938 132.808594 L 214.605469 132.222656 L 216.875 131.632812 L 219.140625 131.042969 L 221.410156 130.449219 L 223.675781 129.851562 L 225.945312 129.253906 L 228.210938 128.652344 L 230.480469 128.050781 L 232.746094 127.445312 L 235.015625 126.839844 L 237.28125 126.226562 L 239.550781 125.617188 L 241.816406 125 L 244.085938 124.382812 L 246.351562 123.761719 L 248.621094 123.140625 L 250.886719 122.515625 L 253.15625 121.890625 L 255.421875 121.257812 L 257.691406 120.625 L 259.957031 119.992188 L 262.226562 119.355469 L 264.492188 118.714844 L 266.761719 118.070312 L 269.027344 117.425781 L 271.296875 116.78125 \"/>\n",
       "<g style=\"fill:rgb(30.196078%,30.196078%,30.196078%);fill-opacity:1;\">\n",
       "  <use xlink:href=\"#glyph0-1\" x=\"25.472656\" y=\"212.984375\"/>\n",
       "</g>\n",
       "<g style=\"fill:rgb(30.196078%,30.196078%,30.196078%);fill-opacity:1;\">\n",
       "  <use xlink:href=\"#glyph0-2\" x=\"25.472656\" y=\"142.882812\"/>\n",
       "</g>\n",
       "<g style=\"fill:rgb(30.196078%,30.196078%,30.196078%);fill-opacity:1;\">\n",
       "  <use xlink:href=\"#glyph0-3\" x=\"20.304688\" y=\"72.78125\"/>\n",
       "  <use xlink:href=\"#glyph0-4\" x=\"25.475174\" y=\"72.78125\"/>\n",
       "</g>\n",
       "<path style=\"fill:none;stroke-width:1.422638;stroke-linecap:butt;stroke-linejoin:round;stroke:rgb(20%,20%,20%);stroke-opacity:1;stroke-miterlimit:10;\" d=\"M 32.835938 209.648438 L 35.578125 209.648438 \"/>\n",
       "<path style=\"fill:none;stroke-width:1.422638;stroke-linecap:butt;stroke-linejoin:round;stroke:rgb(20%,20%,20%);stroke-opacity:1;stroke-miterlimit:10;\" d=\"M 32.835938 139.546875 L 35.578125 139.546875 \"/>\n",
       "<path style=\"fill:none;stroke-width:1.422638;stroke-linecap:butt;stroke-linejoin:round;stroke:rgb(20%,20%,20%);stroke-opacity:1;stroke-miterlimit:10;\" d=\"M 32.835938 69.445312 L 35.578125 69.445312 \"/>\n",
       "<path style=\"fill:none;stroke-width:1.422638;stroke-linecap:butt;stroke-linejoin:round;stroke:rgb(20%,20%,20%);stroke-opacity:1;stroke-miterlimit:10;\" d=\"M 38.613281 258.832031 L 38.613281 256.09375 \"/>\n",
       "<path style=\"fill:none;stroke-width:1.422638;stroke-linecap:butt;stroke-linejoin:round;stroke:rgb(20%,20%,20%);stroke-opacity:1;stroke-miterlimit:10;\" d=\"M 81.703125 258.832031 L 81.703125 256.09375 \"/>\n",
       "<path style=\"fill:none;stroke-width:1.422638;stroke-linecap:butt;stroke-linejoin:round;stroke:rgb(20%,20%,20%);stroke-opacity:1;stroke-miterlimit:10;\" d=\"M 124.792969 258.832031 L 124.792969 256.09375 \"/>\n",
       "<path style=\"fill:none;stroke-width:1.422638;stroke-linecap:butt;stroke-linejoin:round;stroke:rgb(20%,20%,20%);stroke-opacity:1;stroke-miterlimit:10;\" d=\"M 167.882812 258.832031 L 167.882812 256.09375 \"/>\n",
       "<path style=\"fill:none;stroke-width:1.422638;stroke-linecap:butt;stroke-linejoin:round;stroke:rgb(20%,20%,20%);stroke-opacity:1;stroke-miterlimit:10;\" d=\"M 210.972656 258.832031 L 210.972656 256.09375 \"/>\n",
       "<path style=\"fill:none;stroke-width:1.422638;stroke-linecap:butt;stroke-linejoin:round;stroke:rgb(20%,20%,20%);stroke-opacity:1;stroke-miterlimit:10;\" d=\"M 254.058594 258.832031 L 254.058594 256.09375 \"/>\n",
       "<g style=\"fill:rgb(30.196078%,30.196078%,30.196078%);fill-opacity:1;\">\n",
       "  <use xlink:href=\"#glyph0-5\" x=\"36.027344\" y=\"267.695312\"/>\n",
       "</g>\n",
       "<g style=\"fill:rgb(30.196078%,30.196078%,30.196078%);fill-opacity:1;\">\n",
       "  <use xlink:href=\"#glyph0-2\" x=\"79.117188\" y=\"267.695312\"/>\n",
       "</g>\n",
       "<g style=\"fill:rgb(30.196078%,30.196078%,30.196078%);fill-opacity:1;\">\n",
       "  <use xlink:href=\"#glyph0-6\" x=\"122.207031\" y=\"267.695312\"/>\n",
       "</g>\n",
       "<g style=\"fill:rgb(30.196078%,30.196078%,30.196078%);fill-opacity:1;\">\n",
       "  <use xlink:href=\"#glyph0-3\" x=\"162.710938\" y=\"267.695312\"/>\n",
       "  <use xlink:href=\"#glyph0-7\" x=\"167.881424\" y=\"267.695312\"/>\n",
       "</g>\n",
       "<g style=\"fill:rgb(30.196078%,30.196078%,30.196078%);fill-opacity:1;\">\n",
       "  <use xlink:href=\"#glyph0-3\" x=\"205.800781\" y=\"267.695312\"/>\n",
       "  <use xlink:href=\"#glyph0-3\" x=\"210.971268\" y=\"267.695312\"/>\n",
       "</g>\n",
       "<g style=\"fill:rgb(30.196078%,30.196078%,30.196078%);fill-opacity:1;\">\n",
       "  <use xlink:href=\"#glyph0-3\" x=\"248.886719\" y=\"267.695312\"/>\n",
       "  <use xlink:href=\"#glyph0-4\" x=\"254.057205\" y=\"267.695312\"/>\n",
       "</g>\n",
       "<g style=\"fill:rgb(0%,0%,0%);fill-opacity:1;\">\n",
       "  <use xlink:href=\"#glyph1-1\" x=\"156.175781\" y=\"280.328125\"/>\n",
       "</g>\n",
       "<g style=\"fill:rgb(0%,0%,0%);fill-opacity:1;\">\n",
       "  <use xlink:href=\"#glyph2-1\" x=\"15.921875\" y=\"133.660156\"/>\n",
       "</g>\n",
       "<path style=\" stroke:none;fill-rule:nonzero;fill:rgb(100%,100%,100%);fill-opacity:1;\" d=\"M 43.050781 15.429688 L 77.492188 15.429688 L 77.492188 70.710938 L 43.050781 70.710938 Z \"/>\n",
       "<g style=\"fill:rgb(0%,0%,0%);fill-opacity:1;\">\n",
       "  <use xlink:href=\"#glyph1-2\" x=\"47.300781\" y=\"27.757812\"/>\n",
       "</g>\n",
       "<path style=\"fill-rule:nonzero;fill:rgb(94.901961%,94.901961%,94.901961%);fill-opacity:1;stroke-width:1.422638;stroke-linecap:round;stroke-linejoin:round;stroke:rgb(100%,100%,100%);stroke-opacity:1;stroke-miterlimit:10;\" d=\"M 47.300781 31.898438 L 64.582031 31.898438 L 64.582031 49.179688 L 47.300781 49.179688 Z \"/>\n",
       "<path style=\"fill:none;stroke-width:0.944882;stroke-linecap:round;stroke-linejoin:round;stroke:rgb(0%,0%,0%);stroke-opacity:1;stroke-miterlimit:10;\" d=\"M 58.398438 40.539062 C 58.398438 43.8125 53.488281 43.8125 53.488281 40.539062 C 53.488281 37.265625 58.398438 37.265625 58.398438 40.539062 \"/>\n",
       "<path style=\"fill-rule:nonzero;fill:rgb(94.901961%,94.901961%,94.901961%);fill-opacity:1;stroke-width:1.422638;stroke-linecap:round;stroke-linejoin:round;stroke:rgb(100%,100%,100%);stroke-opacity:1;stroke-miterlimit:10;\" d=\"M 47.300781 49.179688 L 64.582031 49.179688 L 64.582031 66.460938 L 47.300781 66.460938 Z \"/>\n",
       "<path style=\"fill-rule:nonzero;fill:rgb(0%,0%,0%);fill-opacity:1;stroke-width:0.944882;stroke-linecap:round;stroke-linejoin:round;stroke:rgb(0%,0%,0%);stroke-opacity:1;stroke-miterlimit:10;\" d=\"M 58.398438 57.820312 C 58.398438 61.09375 53.488281 61.09375 53.488281 57.820312 C 53.488281 54.546875 58.398438 54.546875 58.398438 57.820312 \"/>\n",
       "<g style=\"fill:rgb(0%,0%,0%);fill-opacity:1;\">\n",
       "  <use xlink:href=\"#glyph0-8\" x=\"66.742188\" y=\"43.875\"/>\n",
       "</g>\n",
       "<g style=\"fill:rgb(0%,0%,0%);fill-opacity:1;\">\n",
       "  <use xlink:href=\"#glyph0-9\" x=\"66.742188\" y=\"61.15625\"/>\n",
       "</g>\n",
       "</g>\n",
       "</svg>\n"
      ],
      "text/plain": [
       "plot without title"
      ]
     },
     "metadata": {
      "image/svg+xml": {
       "isolated": true
      }
     },
     "output_type": "display_data"
    }
   ],
   "source": [
    "xx <- seq(min(d$x), max(d$x), length = 100)\n",
    "d %>>% \n",
    "    mutate(xx = xx, fitted = exp(fit$coefficients[[\"(Intercept)\"]] + fit$coefficients[[\"x\"]] * xx)) %>>%\n",
    "    ggplot(aes(x = x, y = y, shape = f)) + \n",
    "        geom_point() + \n",
    "        geom_line(aes(x = xx, y = fitted), inherit.aes = FALSE) + \n",
    "        scale_shape_manual(values = c(21, 19)) + \n",
    "        theme(legend.position=c(.1, .85))"
   ]
  },
  {
   "cell_type": "markdown",
   "metadata": {},
   "source": [
    "## 3.5 説明変数が因子型\n",
    "\n",
    "$$\\lambda_i = \\exp(\\beta_1 + \\beta_3 d_i)$$\n",
    "\n",
    "$d_i$ は 0（$f_i$ = C） or 1 （$f_i$ = T）"
   ]
  },
  {
   "cell_type": "code",
   "execution_count": 18,
   "metadata": {
    "collapsed": true
   },
   "outputs": [],
   "source": [
    "fit.f <- glm(y ~ f, data = d, family = poisson(link = \"log\"))"
   ]
  },
  {
   "cell_type": "code",
   "execution_count": 19,
   "metadata": {
    "collapsed": false
   },
   "outputs": [
    {
     "data": {
      "text/plain": [
       "\n",
       "Call:  glm(formula = y ~ f, family = poisson(link = \"log\"), data = d)\n",
       "\n",
       "Coefficients:\n",
       "(Intercept)           fT  \n",
       "    2.05156      0.01277  \n",
       "\n",
       "Degrees of Freedom: 99 Total (i.e. Null);  98 Residual\n",
       "Null Deviance:\t    89.51 \n",
       "Residual Deviance: 89.48 \tAIC: 479.3"
      ]
     },
     "execution_count": 19,
     "metadata": {},
     "output_type": "execute_result"
    }
   ],
   "source": [
    "fit.f"
   ]
  },
  {
   "cell_type": "code",
   "execution_count": 20,
   "metadata": {
    "collapsed": false
   },
   "outputs": [
    {
     "data": {
      "text/plain": [
       "\n",
       "Call:\n",
       "glm(formula = y ~ f, family = poisson(link = \"log\"), data = d)\n",
       "\n",
       "Deviance Residuals: \n",
       "     Min        1Q    Median        3Q       Max  \n",
       "-2.47515  -0.69941   0.04264   0.72467   2.25204  \n",
       "\n",
       "Coefficients:\n",
       "            Estimate Std. Error z value Pr(>|z|)    \n",
       "(Intercept)  2.05156    0.05070  40.463   <2e-16 ***\n",
       "fT           0.01277    0.07148   0.179    0.858    \n",
       "---\n",
       "Signif. codes:  0 ‘***’ 0.001 ‘**’ 0.01 ‘*’ 0.05 ‘.’ 0.1 ‘ ’ 1\n",
       "\n",
       "(Dispersion parameter for poisson family taken to be 1)\n",
       "\n",
       "    Null deviance: 89.507  on 99  degrees of freedom\n",
       "Residual deviance: 89.475  on 98  degrees of freedom\n",
       "AIC: 479.25\n",
       "\n",
       "Number of Fisher Scoring iterations: 4\n"
      ]
     },
     "execution_count": 20,
     "metadata": {},
     "output_type": "execute_result"
    }
   ],
   "source": [
    "summary(fit.f)"
   ]
  },
  {
   "cell_type": "code",
   "execution_count": 21,
   "metadata": {
    "collapsed": false
   },
   "outputs": [
    {
     "data": {
      "text/html": [
       "7.78000000000794"
      ],
      "text/latex": [
       "7.78000000000794"
      ],
      "text/markdown": [
       "7.78000000000794"
      ],
      "text/plain": [
       "[1] 7.78"
      ]
     },
     "execution_count": 21,
     "metadata": {},
     "output_type": "execute_result"
    }
   ],
   "source": [
    "exp(fit.f$coefficients[[\"(Intercept)\"]])"
   ]
  },
  {
   "cell_type": "code",
   "execution_count": 22,
   "metadata": {
    "collapsed": false
   },
   "outputs": [
    {
     "data": {
      "text/html": [
       "7.88000000000344"
      ],
      "text/latex": [
       "7.88000000000344"
      ],
      "text/markdown": [
       "7.88000000000344"
      ],
      "text/plain": [
       "[1] 7.88"
      ]
     },
     "execution_count": 22,
     "metadata": {},
     "output_type": "execute_result"
    }
   ],
   "source": [
    "exp(fit.f$coefficients[[\"(Intercept)\"]] + fit.f$coefficients[[\"fT\"]])"
   ]
  },
  {
   "cell_type": "code",
   "execution_count": 23,
   "metadata": {
    "collapsed": false
   },
   "outputs": [
    {
     "data": {
      "text/plain": [
       "'log Lik.' -237.6273 (df=2)"
      ]
     },
     "execution_count": 23,
     "metadata": {},
     "output_type": "execute_result"
    }
   ],
   "source": [
    "logLik(fit.f)"
   ]
  },
  {
   "cell_type": "markdown",
   "metadata": {},
   "source": [
    "## 3.6 説明変数が数量型 + 因子型\n",
    "\n",
    "$$\\lambda_i = \\exp(\\beta_1 + \\beta_2 x_i + \\beta_3 d_i)$$\n"
   ]
  },
  {
   "cell_type": "code",
   "execution_count": 24,
   "metadata": {
    "collapsed": true
   },
   "outputs": [],
   "source": [
    "fit.all <- glm(y ~ x + f, data = d, family = poisson(link = \"log\"))"
   ]
  },
  {
   "cell_type": "code",
   "execution_count": 25,
   "metadata": {
    "collapsed": false
   },
   "outputs": [
    {
     "data": {
      "text/plain": [
       "\n",
       "Call:  glm(formula = y ~ x + f, family = poisson(link = \"log\"), data = d)\n",
       "\n",
       "Coefficients:\n",
       "(Intercept)            x           fT  \n",
       "    1.26311      0.08007     -0.03200  \n",
       "\n",
       "Degrees of Freedom: 99 Total (i.e. Null);  97 Residual\n",
       "Null Deviance:\t    89.51 \n",
       "Residual Deviance: 84.81 \tAIC: 476.6"
      ]
     },
     "execution_count": 25,
     "metadata": {},
     "output_type": "execute_result"
    }
   ],
   "source": [
    "fit.all"
   ]
  },
  {
   "cell_type": "code",
   "execution_count": 26,
   "metadata": {
    "collapsed": false
   },
   "outputs": [
    {
     "data": {
      "text/plain": [
       "\n",
       "Call:\n",
       "glm(formula = y ~ x + f, family = poisson(link = \"log\"), data = d)\n",
       "\n",
       "Deviance Residuals: \n",
       "    Min       1Q   Median       3Q      Max  \n",
       "-2.3977  -0.7337  -0.2023   0.6795   2.4317  \n",
       "\n",
       "Coefficients:\n",
       "            Estimate Std. Error z value Pr(>|z|)    \n",
       "(Intercept)  1.26311    0.36963   3.417 0.000633 ***\n",
       "x            0.08007    0.03704   2.162 0.030620 *  \n",
       "fT          -0.03200    0.07438  -0.430 0.667035    \n",
       "---\n",
       "Signif. codes:  0 ‘***’ 0.001 ‘**’ 0.01 ‘*’ 0.05 ‘.’ 0.1 ‘ ’ 1\n",
       "\n",
       "(Dispersion parameter for poisson family taken to be 1)\n",
       "\n",
       "    Null deviance: 89.507  on 99  degrees of freedom\n",
       "Residual deviance: 84.808  on 97  degrees of freedom\n",
       "AIC: 476.59\n",
       "\n",
       "Number of Fisher Scoring iterations: 4\n"
      ]
     },
     "execution_count": 26,
     "metadata": {},
     "output_type": "execute_result"
    }
   ],
   "source": [
    "summary(fit.all)"
   ]
  },
  {
   "cell_type": "code",
   "execution_count": 27,
   "metadata": {
    "collapsed": false
   },
   "outputs": [
    {
     "data": {
      "text/plain": [
       "'log Lik.' -235.2937 (df=3)"
      ]
     },
     "execution_count": 27,
     "metadata": {},
     "output_type": "execute_result"
    }
   ],
   "source": [
    "logLik(fit.all)"
   ]
  },
  {
   "cell_type": "markdown",
   "metadata": {},
   "source": [
    "施肥なし（C） なら，\n",
    "\n",
    "$\\lambda_i = \\exp(1.26 + 0.08 x_i)$\n",
    "\n",
    "施肥あり（T） なら，\n",
    "\n",
    "$ \\lambda_i = \\exp(1.26 + 0.08 x_i -0.032) $\n",
    "\n",
    "対数リンク関数なので積で効く\n",
    "\n",
    "$\\lambda_i$ = （定数）+（サイズ効果）+（施肥効果）"
   ]
  },
  {
   "cell_type": "code",
   "execution_count": 28,
   "metadata": {
    "collapsed": false
   },
   "outputs": [
    {
     "data": {
      "text/html": [
       "'Sun Jun 12 13:20:30 2016'"
      ],
      "text/latex": [
       "'Sun Jun 12 13:20:30 2016'"
      ],
      "text/markdown": [
       "'Sun Jun 12 13:20:30 2016'"
      ],
      "text/plain": [
       "[1] \"Sun Jun 12 13:20:30 2016\""
      ]
     },
     "execution_count": 28,
     "metadata": {},
     "output_type": "execute_result"
    }
   ],
   "source": [
    "date()"
   ]
  },
  {
   "cell_type": "code",
   "execution_count": 29,
   "metadata": {
    "collapsed": false
   },
   "outputs": [
    {
     "name": "stderr",
     "output_type": "stream",
     "text": [
      "Session info -------------------------------------------------------------------\n",
      "Packages -----------------------------------------------------------------------\n",
      "Session info -------------------------------------------------------------------\n",
      "Packages -----------------------------------------------------------------------\n"
     ]
    },
    {
     "data": {
      "text/plain": [
       " setting  value                       \n",
       " version  R version 3.2.3 (2015-12-10)\n",
       " system   x86_64, darwin13.4.0        \n",
       " ui       X11                         \n",
       " language (EN)                        \n",
       " collate  ja_JP.UTF-8                 \n",
       " tz       Asia/Tokyo                  \n",
       " date     2016-06-12                  \n",
       "\n",
       " package    * version date       source        \n",
       " assertthat   0.1     2013-12-06 CRAN (R 3.2.0)\n",
       " base64enc    0.1-3   2015-07-28 CRAN (R 3.2.0)\n",
       " Cairo        1.5-9   2015-09-26 CRAN (R 3.2.0)\n",
       " colorspace   1.2-6   2015-03-11 CRAN (R 3.2.0)\n",
       " DBI          0.4-1   2016-05-08 CRAN (R 3.2.5)\n",
       " devtools     1.11.1  2016-04-21 CRAN (R 3.2.5)\n",
       " digest       0.6.9   2016-01-08 CRAN (R 3.2.2)\n",
       " dplyr      * 0.4.3   2015-09-01 CRAN (R 3.2.0)\n",
       " evaluate     0.9     2016-04-29 CRAN (R 3.2.5)\n",
       " ggplot2    * 2.1.0   2016-03-01 CRAN (R 3.2.4)\n",
       " gtable       0.2.0   2016-02-26 CRAN (R 3.2.3)\n",
       " IRdisplay    0.3     2016-05-14 local         \n",
       " IRkernel     0.5     2016-05-14 local         \n",
       " jsonlite     0.9.20  2016-05-10 CRAN (R 3.2.5)\n",
       " labeling     0.3     2014-08-23 CRAN (R 3.2.0)\n",
       " lazyeval     0.1.10  2015-01-02 CRAN (R 3.2.0)\n",
       " magrittr     1.5     2014-11-22 CRAN (R 3.2.0)\n",
       " memoise      1.0.0   2016-01-29 CRAN (R 3.2.3)\n",
       " munsell      0.4.3   2016-02-13 CRAN (R 3.2.3)\n",
       " pipeR      * 0.6.1.3 2016-04-04 CRAN (R 3.2.4)\n",
       " plyr         1.8.3   2015-06-12 CRAN (R 3.2.0)\n",
       " R6           2.1.2   2016-01-26 CRAN (R 3.2.3)\n",
       " Rcpp         0.12.4  2016-03-26 CRAN (R 3.2.4)\n",
       " readr      * 0.2.2   2015-10-22 CRAN (R 3.2.0)\n",
       " repr         0.7     2016-05-13 CRAN (R 3.2.3)\n",
       " rzmq         0.7.7   2016-05-14 local         \n",
       " scales       0.4.0   2016-02-26 CRAN (R 3.2.3)\n",
       " stringi      1.0-1   2015-10-22 CRAN (R 3.2.0)\n",
       " stringr      1.0.0   2015-04-30 CRAN (R 3.2.0)\n",
       " tidyr      * 0.4.1   2016-02-05 CRAN (R 3.2.3)\n",
       " uuid         0.1-2   2015-07-28 CRAN (R 3.2.0)\n",
       " withr        1.0.1   2016-02-04 CRAN (R 3.2.3)"
      ]
     },
     "execution_count": 29,
     "metadata": {},
     "output_type": "execute_result"
    }
   ],
   "source": [
    "devtools::session_info()"
   ]
  }
 ],
 "metadata": {
  "kernelspec": {
   "display_name": "R",
   "language": "R",
   "name": "ir"
  },
  "language_info": {
   "codemirror_mode": "r",
   "file_extension": ".r",
   "mimetype": "text/x-r-source",
   "name": "R",
   "pygments_lexer": "r",
   "version": "3.2.3"
  }
 },
 "nbformat": 4,
 "nbformat_minor": 0
}
