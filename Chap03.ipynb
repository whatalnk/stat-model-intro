{
 "cells": [
  {
   "cell_type": "markdown",
   "metadata": {},
   "source": [
    "# 3章\n",
    "## 3.2"
   ]
  },
  {
   "cell_type": "code",
   "execution_count": 30,
   "metadata": {
    "collapsed": false
   },
   "outputs": [
    {
     "data": {
      "text/html": [
       "'Wed Oct 05 18:18:35 2016'"
      ],
      "text/latex": [
       "'Wed Oct 05 18:18:35 2016'"
      ],
      "text/markdown": [
       "'Wed Oct 05 18:18:35 2016'"
      ],
      "text/plain": [
       "[1] \"Wed Oct 05 18:18:35 2016\""
      ]
     },
     "metadata": {},
     "output_type": "display_data"
    }
   ],
   "source": [
    "date()"
   ]
  },
  {
   "cell_type": "code",
   "execution_count": 1,
   "metadata": {
    "collapsed": false
   },
   "outputs": [
    {
     "name": "stderr",
     "output_type": "stream",
     "text": [
      "Loading required package: pipeR\n",
      "Loading required package: ggplot2\n",
      "Loading required package: dplyr\n",
      "Warning message:\n",
      ": package 'dplyr' was built under R version 3.3.1\n",
      "Attaching package: 'dplyr'\n",
      "\n",
      "The following objects are masked from 'package:stats':\n",
      "\n",
      "    filter, lag\n",
      "\n",
      "The following objects are masked from 'package:base':\n",
      "\n",
      "    intersect, setdiff, setequal, union\n",
      "\n",
      "Loading required package: tidyr\n",
      "Warning message:\n",
      ": package 'tidyr' was built under R version 3.3.1Loading required package: readr\n",
      "Warning message:\n",
      ": package 'readr' was built under R version 3.3.1"
     ]
    },
    {
     "data": {
      "text/html": [
       "<dl class=dl-horizontal>\n",
       "\t<dt>pipeR</dt>\n",
       "\t\t<dd>TRUE</dd>\n",
       "\t<dt>ggplot2</dt>\n",
       "\t\t<dd>TRUE</dd>\n",
       "\t<dt>dplyr</dt>\n",
       "\t\t<dd>TRUE</dd>\n",
       "\t<dt>tidyr</dt>\n",
       "\t\t<dd>TRUE</dd>\n",
       "\t<dt>readr</dt>\n",
       "\t\t<dd>TRUE</dd>\n",
       "</dl>\n"
      ],
      "text/latex": [
       "\\begin{description*}\n",
       "\\item[pipeR] TRUE\n",
       "\\item[ggplot2] TRUE\n",
       "\\item[dplyr] TRUE\n",
       "\\item[tidyr] TRUE\n",
       "\\item[readr] TRUE\n",
       "\\end{description*}\n"
      ],
      "text/markdown": [
       "pipeR\n",
       ":   TRUEggplot2\n",
       ":   TRUEdplyr\n",
       ":   TRUEtidyr\n",
       ":   TRUEreadr\n",
       ":   TRUE\n",
       "\n"
      ],
      "text/plain": [
       "  pipeR ggplot2   dplyr   tidyr   readr \n",
       "   TRUE    TRUE    TRUE    TRUE    TRUE "
      ]
     },
     "metadata": {},
     "output_type": "display_data"
    }
   ],
   "source": [
    "sapply(c(\"pipeR\", \"ggplot2\", \"dplyr\", \"tidyr\", \"readr\"), require, character.only = TRUE)"
   ]
  },
  {
   "cell_type": "code",
   "execution_count": 10,
   "metadata": {
    "collapsed": true
   },
   "outputs": [],
   "source": [
    "options(repr.plot.width = 4, repr.plot.height = 4)"
   ]
  },
  {
   "cell_type": "code",
   "execution_count": 3,
   "metadata": {
    "collapsed": false
   },
   "outputs": [
    {
     "name": "stderr",
     "output_type": "stream",
     "text": [
      "Parsed with column specification:\n",
      "cols(\n",
      "  y = col_integer(),\n",
      "  x = col_double(),\n",
      "  f = col_character()\n",
      ")\n"
     ]
    }
   ],
   "source": [
    "d <- readr::read_csv(\"data/chap03/data3a.csv\")"
   ]
  },
  {
   "cell_type": "markdown",
   "metadata": {},
   "source": [
    "`readr` では`factor`ではなく`character`"
   ]
  },
  {
   "cell_type": "code",
   "execution_count": 4,
   "metadata": {
    "collapsed": false
   },
   "outputs": [
    {
     "name": "stdout",
     "output_type": "stream",
     "text": [
      "Classes 'tbl_df', 'tbl' and 'data.frame':\t100 obs. of  3 variables:\n",
      " $ y: int  6 6 6 12 10 4 9 9 9 11 ...\n",
      " $ x: num  8.31 9.44 9.5 9.07 10.16 ...\n",
      " $ f: chr  \"C\" \"C\" \"C\" \"C\" ...\n",
      " - attr(*, \"spec\")=List of 2\n",
      "  ..$ cols   :List of 3\n",
      "  .. ..$ y: list()\n",
      "  .. .. ..- attr(*, \"class\")= chr  \"collector_integer\" \"collector\"\n",
      "  .. ..$ x: list()\n",
      "  .. .. ..- attr(*, \"class\")= chr  \"collector_double\" \"collector\"\n",
      "  .. ..$ f: list()\n",
      "  .. .. ..- attr(*, \"class\")= chr  \"collector_character\" \"collector\"\n",
      "  ..$ default: list()\n",
      "  .. ..- attr(*, \"class\")= chr  \"collector_guess\" \"collector\"\n",
      "  ..- attr(*, \"class\")= chr \"col_spec\"\n"
     ]
    }
   ],
   "source": [
    "str(d)"
   ]
  },
  {
   "cell_type": "code",
   "execution_count": 5,
   "metadata": {
    "collapsed": false,
    "scrolled": true
   },
   "outputs": [
    {
     "data": {
      "text/plain": [
       "       y               x               f            \n",
       " Min.   : 2.00   Min.   : 7.190   Length:100        \n",
       " 1st Qu.: 6.00   1st Qu.: 9.428   Class :character  \n",
       " Median : 8.00   Median :10.155   Mode  :character  \n",
       " Mean   : 7.83   Mean   :10.089                     \n",
       " 3rd Qu.:10.00   3rd Qu.:10.685                     \n",
       " Max.   :15.00   Max.   :12.400                     "
      ]
     },
     "metadata": {},
     "output_type": "display_data"
    }
   ],
   "source": [
    "summary(d)"
   ]
  },
  {
   "cell_type": "markdown",
   "metadata": {},
   "source": [
    "`factor` にする"
   ]
  },
  {
   "cell_type": "code",
   "execution_count": 7,
   "metadata": {
    "collapsed": false
   },
   "outputs": [
    {
     "data": {
      "text/plain": [
       "       y               x          f     \n",
       " Min.   : 2.00   Min.   : 7.190   C:50  \n",
       " 1st Qu.: 6.00   1st Qu.: 9.428   T:50  \n",
       " Median : 8.00   Median :10.155         \n",
       " Mean   : 7.83   Mean   :10.089         \n",
       " 3rd Qu.:10.00   3rd Qu.:10.685         \n",
       " Max.   :15.00   Max.   :12.400         "
      ]
     },
     "metadata": {},
     "output_type": "display_data"
    }
   ],
   "source": [
    "d %>>% dplyr::mutate(f = as.factor(f)) -> d\n",
    "summary(d)"
   ]
  },
  {
   "cell_type": "code",
   "execution_count": 8,
   "metadata": {
    "collapsed": false
   },
   "outputs": [
    {
     "name": "stdout",
     "output_type": "stream",
     "text": [
      "Classes 'tbl_df', 'tbl' and 'data.frame':\t100 obs. of  3 variables:\n",
      " $ y: int  6 6 6 12 10 4 9 9 9 11 ...\n",
      " $ x: num  8.31 9.44 9.5 9.07 10.16 ...\n",
      " $ f: Factor w/ 2 levels \"C\",\"T\": 1 1 1 1 1 1 1 1 1 1 ...\n"
     ]
    }
   ],
   "source": [
    "str(d)"
   ]
  },
  {
   "cell_type": "code",
   "execution_count": 9,
   "metadata": {
    "collapsed": false,
    "scrolled": true
   },
   "outputs": [
    {
     "data": {
      "text/html": [
       "<ol class=list-inline>\n",
       "\t<li>'tbl_df'</li>\n",
       "\t<li>'tbl'</li>\n",
       "\t<li>'data.frame'</li>\n",
       "</ol>\n"
      ],
      "text/latex": [
       "\\begin{enumerate*}\n",
       "\\item 'tbl\\_df'\n",
       "\\item 'tbl'\n",
       "\\item 'data.frame'\n",
       "\\end{enumerate*}\n"
      ],
      "text/markdown": [
       "1. 'tbl_df'\n",
       "2. 'tbl'\n",
       "3. 'data.frame'\n",
       "\n",
       "\n"
      ],
      "text/plain": [
       "[1] \"tbl_df\"     \"tbl\"        \"data.frame\""
      ]
     },
     "metadata": {},
     "output_type": "display_data"
    }
   ],
   "source": [
    "class(d)"
   ]
  },
  {
   "cell_type": "markdown",
   "metadata": {},
   "source": [
    "## 3.3"
   ]
  },
  {
   "cell_type": "code",
   "execution_count": 11,
   "metadata": {
    "collapsed": false
   },
   "outputs": [
    {
     "data": {},
     "metadata": {},
     "output_type": "display_data"
    },
    {
     "data": {
      "image/png": "[encoded data removed]",
      "text/plain": [
       "plot without title"
      ]
     },
     "metadata": {},
     "output_type": "display_data"
    }
   ],
   "source": [
    "d %>>% \n",
    "    ggplot(aes(x = x, y = y, shape = f)) + \n",
    "    geom_point() + \n",
    "    scale_shape_manual(values = c(21, 19)) + \n",
    "    theme(legend.position=c(.1, .85))"
   ]
  },
  {
   "cell_type": "code",
   "execution_count": 12,
   "metadata": {
    "collapsed": false
   },
   "outputs": [
    {
     "data": {},
     "metadata": {},
     "output_type": "display_data"
    },
    {
     "data": {
      "image/png": "[encoded data removed]",
      "text/plain": [
       "plot without title"
      ]
     },
     "metadata": {},
     "output_type": "display_data"
    }
   ],
   "source": [
    "d %>>% \n",
    "    ggplot(aes(x = f, y = y)) + \n",
    "    geom_boxplot()"
   ]
  },
  {
   "cell_type": "markdown",
   "metadata": {},
   "source": [
    "## 3.4\n",
    "\n",
    "* ある個体$i$において種子数が$y_i$である確率$p(y_i | \\lambda_i)$ はポアソン分布に従うとする\n",
    "\n",
    "$$p(y_i | \\lambda_i) = \\frac{\\lambda^{y_i}_i \\exp(-\\lambda_i)}{y_i}$$"
   ]
  },
  {
   "cell_type": "markdown",
   "metadata": {},
   "source": [
    "### 3.4.1 線形予測子とリンク関数"
   ]
  },
  {
   "cell_type": "markdown",
   "metadata": {},
   "source": [
    "ある個体$i$の平均種子数$\\lambda_i$は以下の式で表されるとする．\n",
    "\n",
    "$$\\lambda_i = \\exp(\\beta_1 + \\beta_2 x_i)$$"
   ]
  },
  {
   "cell_type": "code",
   "execution_count": 13,
   "metadata": {
    "collapsed": false
   },
   "outputs": [
    {
     "data": {},
     "metadata": {},
     "output_type": "display_data"
    },
    {
     "data": {
      "image/png": "[encoded data removed]",
      "text/plain": [
       "plot without title"
      ]
     },
     "metadata": {},
     "output_type": "display_data"
    }
   ],
   "source": [
    "ggplot(data_frame(x = c(-4, 4)), aes(x)) + \n",
    "    stat_function(fun = function(x, beta1, beta2){exp(-1 + 0.4 * x)}) + \n",
    "    annotate(\"text\", x = -3, y = 3, label = 'atop(\"{\"*beta[1]*\", \"*beta[2]*\"}      \", \" = {-2, -0.8}\")', parse = TRUE, hjust = 0, vjust = 0) + \n",
    "    stat_function(fun = function(x, beta1, beta2){exp(-2 + -0.8 * x)}, linetype = 2) +\n",
    "    annotate(\"text\", x = 2, y = 2, label = 'atop(\"{\"*beta[1]*\", \"*beta[2]*\"}      \", \" = {-1, 0.4}\")', parse = TRUE, hjust = 0, vjust = 0)"
   ]
  },
  {
   "cell_type": "markdown",
   "metadata": {},
   "source": [
    "### 3.4.2\n",
    "\n",
    "対数尤度\n",
    "\n",
    "$$ \\log L(\\beta_1, \\beta_2) = \\sum_i \\log \\frac{\\lambda^{y_i}_i \\exp(-\\lambda_i)}{y_i!} $$"
   ]
  },
  {
   "cell_type": "code",
   "execution_count": 14,
   "metadata": {
    "collapsed": false
   },
   "outputs": [],
   "source": [
    "fit <- glm(y ~ x, data = d, family = poisson(link = \"log\"))"
   ]
  },
  {
   "cell_type": "code",
   "execution_count": 15,
   "metadata": {
    "collapsed": false
   },
   "outputs": [
    {
     "data": {
      "text/plain": [
       "\n",
       "Call:  glm(formula = y ~ x, family = poisson(link = \"log\"), data = d)\n",
       "\n",
       "Coefficients:\n",
       "(Intercept)            x  \n",
       "    1.29172      0.07566  \n",
       "\n",
       "Degrees of Freedom: 99 Total (i.e. Null);  98 Residual\n",
       "Null Deviance:\t    89.51 \n",
       "Residual Deviance: 84.99 \tAIC: 474.8"
      ]
     },
     "metadata": {},
     "output_type": "display_data"
    }
   ],
   "source": [
    "fit"
   ]
  },
  {
   "cell_type": "code",
   "execution_count": 16,
   "metadata": {
    "collapsed": false
   },
   "outputs": [
    {
     "data": {
      "text/plain": [
       "\n",
       "Call:\n",
       "glm(formula = y ~ x, family = poisson(link = \"log\"), data = d)\n",
       "\n",
       "Deviance Residuals: \n",
       "    Min       1Q   Median       3Q      Max  \n",
       "-2.3679  -0.7348  -0.1775   0.6987   2.3760  \n",
       "\n",
       "Coefficients:\n",
       "            Estimate Std. Error z value Pr(>|z|)    \n",
       "(Intercept)  1.29172    0.36369   3.552 0.000383 ***\n",
       "x            0.07566    0.03560   2.125 0.033580 *  \n",
       "---\n",
       "Signif. codes:  0 '***' 0.001 '**' 0.01 '*' 0.05 '.' 0.1 ' ' 1\n",
       "\n",
       "(Dispersion parameter for poisson family taken to be 1)\n",
       "\n",
       "    Null deviance: 89.507  on 99  degrees of freedom\n",
       "Residual deviance: 84.993  on 98  degrees of freedom\n",
       "AIC: 474.77\n",
       "\n",
       "Number of Fisher Scoring iterations: 4\n"
      ]
     },
     "metadata": {},
     "output_type": "display_data"
    }
   ],
   "source": [
    "summary(fit)"
   ]
  },
  {
   "cell_type": "code",
   "execution_count": 17,
   "metadata": {
    "collapsed": false
   },
   "outputs": [
    {
     "data": {
      "text/plain": [
       "'log Lik.' -235.3863 (df=2)"
      ]
     },
     "metadata": {},
     "output_type": "display_data"
    }
   ],
   "source": [
    "logLik(fit)"
   ]
  },
  {
   "cell_type": "markdown",
   "metadata": {},
   "source": [
    "### 3.4.3"
   ]
  },
  {
   "cell_type": "code",
   "execution_count": 18,
   "metadata": {
    "collapsed": false,
    "scrolled": true
   },
   "outputs": [
    {
     "data": {
      "text/html": [
       "1.2917208386552"
      ],
      "text/latex": [
       "1.2917208386552"
      ],
      "text/markdown": [
       "1.2917208386552"
      ],
      "text/plain": [
       "[1] 1.291721"
      ]
     },
     "metadata": {},
     "output_type": "display_data"
    }
   ],
   "source": [
    "fit$coefficients[[\"(Intercept)\"]]"
   ]
  },
  {
   "cell_type": "code",
   "execution_count": 19,
   "metadata": {
    "collapsed": false
   },
   "outputs": [
    {
     "data": {},
     "metadata": {},
     "output_type": "display_data"
    },
    {
     "data": {
      "image/png": "[encoded data removed]",
      "text/plain": [
       "plot without title"
      ]
     },
     "metadata": {},
     "output_type": "display_data"
    }
   ],
   "source": [
    "xx <- seq(min(d$x), max(d$x), length = 100)\n",
    "d %>>% \n",
    "    mutate(xx = xx, fitted = exp(fit$coefficients[[\"(Intercept)\"]] + fit$coefficients[[\"x\"]] * xx)) %>>%\n",
    "    ggplot(aes(x = x, y = y, shape = f)) + \n",
    "        geom_point() + \n",
    "        geom_line(aes(x = xx, y = fitted), inherit.aes = FALSE) + \n",
    "        scale_shape_manual(values = c(21, 19)) + \n",
    "        theme(legend.position=c(.1, .85))"
   ]
  },
  {
   "cell_type": "markdown",
   "metadata": {},
   "source": [
    "## 3.5 説明変数が因子型\n",
    "\n",
    "$$\\lambda_i = \\exp(\\beta_1 + \\beta_3 d_i)$$\n",
    "\n",
    "$d_i$ は 0（$f_i$ = C） or 1 （$f_i$ = T）"
   ]
  },
  {
   "cell_type": "code",
   "execution_count": 20,
   "metadata": {
    "collapsed": true
   },
   "outputs": [],
   "source": [
    "fit.f <- glm(y ~ f, data = d, family = poisson(link = \"log\"))"
   ]
  },
  {
   "cell_type": "code",
   "execution_count": 21,
   "metadata": {
    "collapsed": false
   },
   "outputs": [
    {
     "data": {
      "text/plain": [
       "\n",
       "Call:  glm(formula = y ~ f, family = poisson(link = \"log\"), data = d)\n",
       "\n",
       "Coefficients:\n",
       "(Intercept)           fT  \n",
       "    2.05156      0.01277  \n",
       "\n",
       "Degrees of Freedom: 99 Total (i.e. Null);  98 Residual\n",
       "Null Deviance:\t    89.51 \n",
       "Residual Deviance: 89.48 \tAIC: 479.3"
      ]
     },
     "metadata": {},
     "output_type": "display_data"
    }
   ],
   "source": [
    "fit.f"
   ]
  },
  {
   "cell_type": "code",
   "execution_count": 22,
   "metadata": {
    "collapsed": false
   },
   "outputs": [
    {
     "data": {
      "text/plain": [
       "\n",
       "Call:\n",
       "glm(formula = y ~ f, family = poisson(link = \"log\"), data = d)\n",
       "\n",
       "Deviance Residuals: \n",
       "     Min        1Q    Median        3Q       Max  \n",
       "-2.47515  -0.69941   0.04264   0.72467   2.25204  \n",
       "\n",
       "Coefficients:\n",
       "            Estimate Std. Error z value Pr(>|z|)    \n",
       "(Intercept)  2.05156    0.05070  40.463   <2e-16 ***\n",
       "fT           0.01277    0.07148   0.179    0.858    \n",
       "---\n",
       "Signif. codes:  0 '***' 0.001 '**' 0.01 '*' 0.05 '.' 0.1 ' ' 1\n",
       "\n",
       "(Dispersion parameter for poisson family taken to be 1)\n",
       "\n",
       "    Null deviance: 89.507  on 99  degrees of freedom\n",
       "Residual deviance: 89.475  on 98  degrees of freedom\n",
       "AIC: 479.25\n",
       "\n",
       "Number of Fisher Scoring iterations: 4\n"
      ]
     },
     "metadata": {},
     "output_type": "display_data"
    }
   ],
   "source": [
    "summary(fit.f)"
   ]
  },
  {
   "cell_type": "code",
   "execution_count": 23,
   "metadata": {
    "collapsed": false
   },
   "outputs": [
    {
     "data": {
      "text/html": [
       "7.78000000000794"
      ],
      "text/latex": [
       "7.78000000000794"
      ],
      "text/markdown": [
       "7.78000000000794"
      ],
      "text/plain": [
       "[1] 7.78"
      ]
     },
     "metadata": {},
     "output_type": "display_data"
    }
   ],
   "source": [
    "exp(fit.f$coefficients[[\"(Intercept)\"]])"
   ]
  },
  {
   "cell_type": "code",
   "execution_count": 24,
   "metadata": {
    "collapsed": false
   },
   "outputs": [
    {
     "data": {
      "text/html": [
       "7.88000000000344"
      ],
      "text/latex": [
       "7.88000000000344"
      ],
      "text/markdown": [
       "7.88000000000344"
      ],
      "text/plain": [
       "[1] 7.88"
      ]
     },
     "metadata": {},
     "output_type": "display_data"
    }
   ],
   "source": [
    "exp(fit.f$coefficients[[\"(Intercept)\"]] + fit.f$coefficients[[\"fT\"]])"
   ]
  },
  {
   "cell_type": "code",
   "execution_count": 25,
   "metadata": {
    "collapsed": false
   },
   "outputs": [
    {
     "data": {
      "text/plain": [
       "'log Lik.' -237.6273 (df=2)"
      ]
     },
     "metadata": {},
     "output_type": "display_data"
    }
   ],
   "source": [
    "logLik(fit.f)"
   ]
  },
  {
   "cell_type": "markdown",
   "metadata": {},
   "source": [
    "## 3.6 説明変数が数量型 + 因子型\n",
    "\n",
    "$$\\lambda_i = \\exp(\\beta_1 + \\beta_2 x_i + \\beta_3 d_i)$$\n"
   ]
  },
  {
   "cell_type": "code",
   "execution_count": 26,
   "metadata": {
    "collapsed": true
   },
   "outputs": [],
   "source": [
    "fit.all <- glm(y ~ x + f, data = d, family = poisson(link = \"log\"))"
   ]
  },
  {
   "cell_type": "code",
   "execution_count": 27,
   "metadata": {
    "collapsed": false
   },
   "outputs": [
    {
     "data": {
      "text/plain": [
       "\n",
       "Call:  glm(formula = y ~ x + f, family = poisson(link = \"log\"), data = d)\n",
       "\n",
       "Coefficients:\n",
       "(Intercept)            x           fT  \n",
       "    1.26311      0.08007     -0.03200  \n",
       "\n",
       "Degrees of Freedom: 99 Total (i.e. Null);  97 Residual\n",
       "Null Deviance:\t    89.51 \n",
       "Residual Deviance: 84.81 \tAIC: 476.6"
      ]
     },
     "metadata": {},
     "output_type": "display_data"
    }
   ],
   "source": [
    "fit.all"
   ]
  },
  {
   "cell_type": "code",
   "execution_count": 28,
   "metadata": {
    "collapsed": false
   },
   "outputs": [
    {
     "data": {
      "text/plain": [
       "\n",
       "Call:\n",
       "glm(formula = y ~ x + f, family = poisson(link = \"log\"), data = d)\n",
       "\n",
       "Deviance Residuals: \n",
       "    Min       1Q   Median       3Q      Max  \n",
       "-2.3977  -0.7337  -0.2023   0.6795   2.4317  \n",
       "\n",
       "Coefficients:\n",
       "            Estimate Std. Error z value Pr(>|z|)    \n",
       "(Intercept)  1.26311    0.36963   3.417 0.000633 ***\n",
       "x            0.08007    0.03704   2.162 0.030620 *  \n",
       "fT          -0.03200    0.07438  -0.430 0.667035    \n",
       "---\n",
       "Signif. codes:  0 '***' 0.001 '**' 0.01 '*' 0.05 '.' 0.1 ' ' 1\n",
       "\n",
       "(Dispersion parameter for poisson family taken to be 1)\n",
       "\n",
       "    Null deviance: 89.507  on 99  degrees of freedom\n",
       "Residual deviance: 84.808  on 97  degrees of freedom\n",
       "AIC: 476.59\n",
       "\n",
       "Number of Fisher Scoring iterations: 4\n"
      ]
     },
     "metadata": {},
     "output_type": "display_data"
    }
   ],
   "source": [
    "summary(fit.all)"
   ]
  },
  {
   "cell_type": "code",
   "execution_count": 29,
   "metadata": {
    "collapsed": false,
    "scrolled": true
   },
   "outputs": [
    {
     "data": {
      "text/plain": [
       "'log Lik.' -235.2937 (df=3)"
      ]
     },
     "metadata": {},
     "output_type": "display_data"
    }
   ],
   "source": [
    "logLik(fit.all)"
   ]
  },
  {
   "cell_type": "markdown",
   "metadata": {},
   "source": [
    "施肥なし（C） なら，\n",
    "\n",
    "$\\lambda_i = \\exp(1.26 + 0.08 x_i)$\n",
    "\n",
    "施肥あり（T） なら，\n",
    "\n",
    "$ \\lambda_i = \\exp(1.26 + 0.08 x_i -0.032) $\n",
    "\n",
    "対数リンク関数なので積で効く\n",
    "\n",
    "$\\lambda_i$ = （定数）+（サイズ効果）+（施肥効果）"
   ]
  },
  {
   "cell_type": "markdown",
   "metadata": {},
   "source": [
    "## 3.7"
   ]
  },
  {
   "cell_type": "markdown",
   "metadata": {},
   "source": [
    "## 3.8"
   ]
  },
  {
   "cell_type": "code",
   "execution_count": 31,
   "metadata": {
    "collapsed": false
   },
   "outputs": [
    {
     "name": "stderr",
     "output_type": "stream",
     "text": [
      "Session info -------------------------------------------------------------------\n",
      "Packages -----------------------------------------------------------------------\n"
     ]
    },
    {
     "data": {
      "text/plain": [
       " setting  value                       \n",
       " version  R version 3.3.0 (2016-05-03)\n",
       " system   x86_64, mingw32             \n",
       " ui       RTerm                       \n",
       " language (EN)                        \n",
       " collate  Japanese_Japan.932          \n",
       " tz       Asia/Tokyo                  \n",
       " date     2016-10-05                  \n",
       "\n",
       " package    * version    date       source                             \n",
       " assertthat   0.1        2013-12-06 CRAN (R 3.3.0)                     \n",
       " Cairo        1.5-9      2015-09-26 CRAN (R 3.3.0)                     \n",
       " colorspace   1.2-6      2015-03-11 CRAN (R 3.3.0)                     \n",
       " crayon       1.3.2      2016-06-28 CRAN (R 3.3.1)                     \n",
       " DBI          0.5        2016-08-11 CRAN (R 3.3.1)                     \n",
       " devtools     1.12.0     2016-06-24 CRAN (R 3.3.1)                     \n",
       " digest       0.6.10     2016-08-02 CRAN (R 3.3.1)                     \n",
       " dplyr      * 0.5.0      2016-06-24 CRAN (R 3.3.1)                     \n",
       " evaluate     0.9        2016-04-29 CRAN (R 3.3.0)                     \n",
       " ggplot2    * 2.1.0.9001 2016-10-02 Github (hadley/ggplot2@feb3ffd)    \n",
       " gtable       0.2.0      2016-02-26 CRAN (R 3.3.0)                     \n",
       " IRdisplay    0.4.9000   2016-08-12 Github (IRKernel/IRdisplay@6f27575)\n",
       " IRkernel     0.6        2016-08-12 Github (IRkernel/IRkernel@66e4fdd) \n",
       " jsonlite     1.0        2016-07-01 CRAN (R 3.3.1)                     \n",
       " labeling     0.3        2014-08-23 CRAN (R 3.3.0)                     \n",
       " lazyeval     0.2.0      2016-06-12 CRAN (R 3.3.0)                     \n",
       " magrittr     1.5        2014-11-22 CRAN (R 3.3.0)                     \n",
       " memoise      1.0.0      2016-01-29 CRAN (R 3.3.0)                     \n",
       " munsell      0.4.3      2016-02-13 CRAN (R 3.3.0)                     \n",
       " pbdZMQ       0.2-3      2016-05-20 CRAN (R 3.3.1)                     \n",
       " pipeR      * 0.6.1.3    2016-04-04 CRAN (R 3.3.0)                     \n",
       " plyr         1.8.4      2016-06-08 CRAN (R 3.3.0)                     \n",
       " R6           2.1.2      2016-01-26 CRAN (R 3.3.0)                     \n",
       " Rcpp         0.12.6     2016-07-19 CRAN (R 3.3.1)                     \n",
       " readr      * 1.0.0      2016-08-03 CRAN (R 3.3.1)                     \n",
       " repr         0.9        2016-07-24 CRAN (R 3.3.1)                     \n",
       " scales       0.4.0      2016-02-26 CRAN (R 3.3.0)                     \n",
       " stringi      1.1.1      2016-05-27 CRAN (R 3.3.0)                     \n",
       " stringr      1.0.0      2015-04-30 CRAN (R 3.3.0)                     \n",
       " tibble       1.2        2016-08-26 CRAN (R 3.3.1)                     \n",
       " tidyr      * 0.6.0      2016-08-12 CRAN (R 3.3.1)                     \n",
       " uuid         0.1-2      2015-07-28 CRAN (R 3.3.0)                     \n",
       " withr        1.0.2      2016-06-20 CRAN (R 3.3.1)                     "
      ]
     },
     "metadata": {},
     "output_type": "display_data"
    }
   ],
   "source": [
    "devtools::session_info()"
   ]
  }
 ],
 "metadata": {
  "kernelspec": {
   "display_name": "R 3.3",
   "language": "R",
   "name": "ir33"
  },
  "language_info": {
   "codemirror_mode": "r",
   "file_extension": ".r",
   "mimetype": "text/x-r-source",
   "name": "R",
   "pygments_lexer": "r",
   "version": "3.3.0"
  }
 },
 "nbformat": 4,
 "nbformat_minor": 0
}
